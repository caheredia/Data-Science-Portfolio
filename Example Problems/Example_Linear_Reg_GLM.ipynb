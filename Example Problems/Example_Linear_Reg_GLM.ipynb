{
 "cells": [
  {
   "cell_type": "markdown",
   "metadata": {},
   "source": [
    "## Make template for solving Bayes models. \n",
    "## It will include the four? questions every scientist should ask before starting a method like Bayes.\n",
    "## Each Distribution should have its own template. This will increase efficiency, when each file can be opned with proper questions ready to go. "
   ]
  },
  {
   "cell_type": "markdown",
   "metadata": {},
   "source": [
    "## Can you measure with a difference function how much noise random data adds to linear function. On what scale? "
   ]
  },
  {
   "cell_type": "markdown",
   "metadata": {},
   "source": [
    "## Linear Regression \n",
    " How a frequentist thinks about a linear regression model: Y=Xβ+ϵ"
   ]
  },
  {
   "cell_type": "markdown",
   "metadata": {},
   "source": [
    "## Probabilistic Reformulation Linear Regression \n",
    "Y∼N(Xβ,σ2)  You're fitting a normal ditribution with the posterior (independent) data. In frequency space linear noise translates into a histogram on the y-axis of a traditional xy plot. That's when priors become important, i.e. How much do I know about the data for sure? Do I know the spread of the data or is that something I'm trying to solve too? For example if you know nothing about the mean or the standard deviation then you should express that in your model. In other words be honest about what you don't know. For random data on a line the mean should be well known, however the noise will not. The random variations in sigma yield probabilities....I'm creating a random parameters that match the histogram of the original data. Then you could divide one histogram by another and determine the probability or percentage of data caputered by the generated histogram with randomized parameters. \n",
    "\n",
    "\n",
    "\n",
    "Draw your own probability tree with bayes blocks colored in. \n",
    "\n",
    "Gelman talk \n",
    "Photos"
   ]
  },
  {
   "cell_type": "code",
   "execution_count": null,
   "metadata": {
    "collapsed": true
   },
   "outputs": [],
   "source": []
  }
 ],
 "metadata": {
  "kernelspec": {
   "display_name": "Python 3",
   "language": "python",
   "name": "python3"
  },
  "language_info": {
   "codemirror_mode": {
    "name": "ipython",
    "version": 3
   },
   "file_extension": ".py",
   "mimetype": "text/x-python",
   "name": "python",
   "nbconvert_exporter": "python",
   "pygments_lexer": "ipython3",
   "version": "3.6.3"
  },
  "toc": {
   "nav_menu": {},
   "number_sections": true,
   "sideBar": true,
   "skip_h1_title": false,
   "toc_cell": false,
   "toc_position": {},
   "toc_section_display": "block",
   "toc_window_display": false
  }
 },
 "nbformat": 4,
 "nbformat_minor": 2
}

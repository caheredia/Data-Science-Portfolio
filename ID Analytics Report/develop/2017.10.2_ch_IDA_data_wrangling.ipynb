{
 "cells": [
  {
   "cell_type": "code",
   "execution_count": 1,
   "metadata": {
    "collapsed": true
   },
   "outputs": [],
   "source": [
    "import json_lines\n",
    "import pandas as pd\n",
    "import numpy as np\n",
    "import seaborn as sns"
   ]
  },
  {
   "cell_type": "code",
   "execution_count": 21,
   "metadata": {
    "collapsed": false
   },
   "outputs": [],
   "source": [
    "# Load data into list, and then load to dataframe\n",
    "with json_lines.open('../data/ida_wrangling_exercise_data.2017-02-13.jsonl.gz') as f:\n",
    "    data = [item for item in f]\n",
    "    df = pd.DataFrame(data)"
   ]
  },
  {
   "cell_type": "markdown",
   "metadata": {},
   "source": [
    "## Data exploration "
   ]
  },
  {
   "cell_type": "code",
   "execution_count": 22,
   "metadata": {
    "collapsed": false
   },
   "outputs": [
    {
     "data": {
      "text/html": [
       "<div>\n",
       "<table border=\"1\" class=\"dataframe\">\n",
       "  <thead>\n",
       "    <tr style=\"text-align: right;\">\n",
       "      <th></th>\n",
       "      <th>address</th>\n",
       "      <th>dob</th>\n",
       "      <th>email</th>\n",
       "      <th>id</th>\n",
       "      <th>name</th>\n",
       "      <th>phone</th>\n",
       "      <th>record_date</th>\n",
       "      <th>ssn</th>\n",
       "    </tr>\n",
       "  </thead>\n",
       "  <tbody>\n",
       "    <tr>\n",
       "      <th>0</th>\n",
       "      <td>{'street': '86314 David Pass Apt. 211', 'city'...</td>\n",
       "      <td>1971-06-30</td>\n",
       "      <td>opark@hotmail.com</td>\n",
       "      <td>01d68a4c598a45559c06f4df0b3d82cb</td>\n",
       "      <td>{'firstname': 'Cynthia', 'lastname': 'Dawson',...</td>\n",
       "      <td>624-869-4610</td>\n",
       "      <td>2006-07-08T09:02:13</td>\n",
       "      <td>xxx-xx-2412</td>\n",
       "    </tr>\n",
       "    <tr>\n",
       "      <th>1</th>\n",
       "      <td>20722 Coleman Villages\\nEast Rose, SC 71064-5894</td>\n",
       "      <td>1965-09-09</td>\n",
       "      <td>sperez@armstrong.com</td>\n",
       "      <td>876ff718291d4397bb1e0477ceee6ad9</td>\n",
       "      <td>{'firstname': 'Tamara', 'lastname': 'Myers'}</td>\n",
       "      <td>1-594-462-7759</td>\n",
       "      <td>2009-03-28T20:22:57</td>\n",
       "      <td>xxx-xx-8025</td>\n",
       "    </tr>\n",
       "    <tr>\n",
       "      <th>2</th>\n",
       "      <td>{'street': '6676 Young Square', 'city': 'New J...</td>\n",
       "      <td>1993-04-12</td>\n",
       "      <td>uortiz@gmail.com</td>\n",
       "      <td>81753097bf7e4e2085982f422bdb9cda</td>\n",
       "      <td>{'firstname': 'Jamie', 'lastname': 'Alexander'}</td>\n",
       "      <td>472.218.5065x389</td>\n",
       "      <td>2016-08-30T20:31:39</td>\n",
       "      <td>xxx-xx-0568</td>\n",
       "    </tr>\n",
       "    <tr>\n",
       "      <th>3</th>\n",
       "      <td>0932 Gomez Drives\\nLeefort, MD 46879-3166</td>\n",
       "      <td>1977-04-14</td>\n",
       "      <td>palmerdiane@yahoo.com</td>\n",
       "      <td>2c2f7154b80f40ca80d08c5adc54ea45</td>\n",
       "      <td>{'firstname': 'Angela', 'lastname': 'Garcia', ...</td>\n",
       "      <td>1-663-109-4460x1080</td>\n",
       "      <td>2001-02-15T18:50:35</td>\n",
       "      <td>xxx-xx-9825</td>\n",
       "    </tr>\n",
       "    <tr>\n",
       "      <th>4</th>\n",
       "      <td>{'street': '158 Smith Vista', 'city': 'East Sh...</td>\n",
       "      <td>1970-03-19</td>\n",
       "      <td>nancymaxwell@gmail.com</td>\n",
       "      <td>4f5263f339694d068e17ee7fdbb852b8</td>\n",
       "      <td>{'firstname': 'Jennifer', 'lastname': 'Rodrigu...</td>\n",
       "      <td>233-423-3823</td>\n",
       "      <td>2014-06-21T14:36:01</td>\n",
       "      <td>xxx-xx-9104</td>\n",
       "    </tr>\n",
       "  </tbody>\n",
       "</table>\n",
       "</div>"
      ],
      "text/plain": [
       "                                             address         dob  \\\n",
       "0  {'street': '86314 David Pass Apt. 211', 'city'...  1971-06-30   \n",
       "1   20722 Coleman Villages\\nEast Rose, SC 71064-5894  1965-09-09   \n",
       "2  {'street': '6676 Young Square', 'city': 'New J...  1993-04-12   \n",
       "3          0932 Gomez Drives\\nLeefort, MD 46879-3166  1977-04-14   \n",
       "4  {'street': '158 Smith Vista', 'city': 'East Sh...  1970-03-19   \n",
       "\n",
       "                    email                                id  \\\n",
       "0       opark@hotmail.com  01d68a4c598a45559c06f4df0b3d82cb   \n",
       "1    sperez@armstrong.com  876ff718291d4397bb1e0477ceee6ad9   \n",
       "2        uortiz@gmail.com  81753097bf7e4e2085982f422bdb9cda   \n",
       "3   palmerdiane@yahoo.com  2c2f7154b80f40ca80d08c5adc54ea45   \n",
       "4  nancymaxwell@gmail.com  4f5263f339694d068e17ee7fdbb852b8   \n",
       "\n",
       "                                                name                phone  \\\n",
       "0  {'firstname': 'Cynthia', 'lastname': 'Dawson',...         624-869-4610   \n",
       "1       {'firstname': 'Tamara', 'lastname': 'Myers'}       1-594-462-7759   \n",
       "2    {'firstname': 'Jamie', 'lastname': 'Alexander'}     472.218.5065x389   \n",
       "3  {'firstname': 'Angela', 'lastname': 'Garcia', ...  1-663-109-4460x1080   \n",
       "4  {'firstname': 'Jennifer', 'lastname': 'Rodrigu...         233-423-3823   \n",
       "\n",
       "           record_date          ssn  \n",
       "0  2006-07-08T09:02:13  xxx-xx-2412  \n",
       "1  2009-03-28T20:22:57  xxx-xx-8025  \n",
       "2  2016-08-30T20:31:39  xxx-xx-0568  \n",
       "3  2001-02-15T18:50:35  xxx-xx-9825  \n",
       "4  2014-06-21T14:36:01  xxx-xx-9104  "
      ]
     },
     "execution_count": 22,
     "metadata": {},
     "output_type": "execute_result"
    }
   ],
   "source": [
    "df.head()"
   ]
  },
  {
   "cell_type": "code",
   "execution_count": 23,
   "metadata": {
    "collapsed": false
   },
   "outputs": [
    {
     "data": {
      "text/plain": [
       "'Number of rows 150000 '"
      ]
     },
     "execution_count": 23,
     "metadata": {},
     "output_type": "execute_result"
    }
   ],
   "source": [
    "'Number of rows {} '.format(len(df))"
   ]
  },
  {
   "cell_type": "markdown",
   "metadata": {},
   "source": [
    "This initial dataframe let's us know we have 150,000 entries. Some of the fields (e.g. address and name) are recorded as dictionaries and strings. Let's start working with subset (first 100 entries ) of the data frame. In order to worry about the size of the dataframes, try to work with as few as dataframes as possible, be it the original or the subframe. "
   ]
  },
  {
   "cell_type": "code",
   "execution_count": 24,
   "metadata": {
    "collapsed": false
   },
   "outputs": [
    {
     "name": "stderr",
     "output_type": "stream",
     "text": [
      "/Users/cristian/anaconda/lib/python3.6/site-packages/pandas/indexes/api.py:37: RuntimeWarning: '>' not supported between instances of 'int' and 'str', sort order is undefined for incomparable objects\n",
      "  union = _union_indexes(indexes)\n",
      "/Users/cristian/anaconda/lib/python3.6/site-packages/pandas/indexes/api.py:71: RuntimeWarning: '>' not supported between instances of 'int' and 'str', sort order is undefined for incomparable objects\n",
      "  result = result.union(other)\n"
     ]
    },
    {
     "data": {
      "text/html": [
       "<div>\n",
       "<table border=\"1\" class=\"dataframe\">\n",
       "  <thead>\n",
       "    <tr style=\"text-align: right;\">\n",
       "      <th></th>\n",
       "      <th>address</th>\n",
       "      <th>dob</th>\n",
       "      <th>email</th>\n",
       "      <th>id</th>\n",
       "      <th>name</th>\n",
       "      <th>phone</th>\n",
       "      <th>record_date</th>\n",
       "      <th>ssn</th>\n",
       "      <th>address.city</th>\n",
       "      <th>address.state</th>\n",
       "      <th>address.street</th>\n",
       "      <th>address.zip</th>\n",
       "    </tr>\n",
       "  </thead>\n",
       "  <tbody>\n",
       "    <tr>\n",
       "      <th>0</th>\n",
       "      <td>{'street': '86314 David Pass Apt. 211', 'city'...</td>\n",
       "      <td>1971-06-30</td>\n",
       "      <td>opark@hotmail.com</td>\n",
       "      <td>01d68a4c598a45559c06f4df0b3d82cb</td>\n",
       "      <td>{'firstname': 'Cynthia', 'lastname': 'Dawson',...</td>\n",
       "      <td>624-869-4610</td>\n",
       "      <td>2006-07-08T09:02:13</td>\n",
       "      <td>xxx-xx-2412</td>\n",
       "      <td>Hoodburgh</td>\n",
       "      <td>RI</td>\n",
       "      <td>86314 David Pass Apt. 211</td>\n",
       "      <td>83973</td>\n",
       "    </tr>\n",
       "    <tr>\n",
       "      <th>1</th>\n",
       "      <td>20722 Coleman Villages\\nEast Rose, SC 71064-5894</td>\n",
       "      <td>1965-09-09</td>\n",
       "      <td>sperez@armstrong.com</td>\n",
       "      <td>876ff718291d4397bb1e0477ceee6ad9</td>\n",
       "      <td>{'firstname': 'Tamara', 'lastname': 'Myers'}</td>\n",
       "      <td>1-594-462-7759</td>\n",
       "      <td>2009-03-28T20:22:57</td>\n",
       "      <td>xxx-xx-8025</td>\n",
       "      <td>NaN</td>\n",
       "      <td>NaN</td>\n",
       "      <td>NaN</td>\n",
       "      <td>NaN</td>\n",
       "    </tr>\n",
       "    <tr>\n",
       "      <th>2</th>\n",
       "      <td>{'street': '6676 Young Square', 'city': 'New J...</td>\n",
       "      <td>1993-04-12</td>\n",
       "      <td>uortiz@gmail.com</td>\n",
       "      <td>81753097bf7e4e2085982f422bdb9cda</td>\n",
       "      <td>{'firstname': 'Jamie', 'lastname': 'Alexander'}</td>\n",
       "      <td>472.218.5065x389</td>\n",
       "      <td>2016-08-30T20:31:39</td>\n",
       "      <td>xxx-xx-0568</td>\n",
       "      <td>New Julie</td>\n",
       "      <td>UT</td>\n",
       "      <td>6676 Young Square</td>\n",
       "      <td>73125</td>\n",
       "    </tr>\n",
       "    <tr>\n",
       "      <th>3</th>\n",
       "      <td>0932 Gomez Drives\\nLeefort, MD 46879-3166</td>\n",
       "      <td>1977-04-14</td>\n",
       "      <td>palmerdiane@yahoo.com</td>\n",
       "      <td>2c2f7154b80f40ca80d08c5adc54ea45</td>\n",
       "      <td>{'firstname': 'Angela', 'lastname': 'Garcia', ...</td>\n",
       "      <td>1-663-109-4460x1080</td>\n",
       "      <td>2001-02-15T18:50:35</td>\n",
       "      <td>xxx-xx-9825</td>\n",
       "      <td>NaN</td>\n",
       "      <td>NaN</td>\n",
       "      <td>NaN</td>\n",
       "      <td>NaN</td>\n",
       "    </tr>\n",
       "    <tr>\n",
       "      <th>4</th>\n",
       "      <td>{'street': '158 Smith Vista', 'city': 'East Sh...</td>\n",
       "      <td>1970-03-19</td>\n",
       "      <td>nancymaxwell@gmail.com</td>\n",
       "      <td>4f5263f339694d068e17ee7fdbb852b8</td>\n",
       "      <td>{'firstname': 'Jennifer', 'lastname': 'Rodrigu...</td>\n",
       "      <td>233-423-3823</td>\n",
       "      <td>2014-06-21T14:36:01</td>\n",
       "      <td>xxx-xx-9104</td>\n",
       "      <td>East Sharonstad</td>\n",
       "      <td>ME</td>\n",
       "      <td>158 Smith Vista</td>\n",
       "      <td>42483</td>\n",
       "    </tr>\n",
       "  </tbody>\n",
       "</table>\n",
       "</div>"
      ],
      "text/plain": [
       "                                             address         dob  \\\n",
       "0  {'street': '86314 David Pass Apt. 211', 'city'...  1971-06-30   \n",
       "1   20722 Coleman Villages\\nEast Rose, SC 71064-5894  1965-09-09   \n",
       "2  {'street': '6676 Young Square', 'city': 'New J...  1993-04-12   \n",
       "3          0932 Gomez Drives\\nLeefort, MD 46879-3166  1977-04-14   \n",
       "4  {'street': '158 Smith Vista', 'city': 'East Sh...  1970-03-19   \n",
       "\n",
       "                    email                                id  \\\n",
       "0       opark@hotmail.com  01d68a4c598a45559c06f4df0b3d82cb   \n",
       "1    sperez@armstrong.com  876ff718291d4397bb1e0477ceee6ad9   \n",
       "2        uortiz@gmail.com  81753097bf7e4e2085982f422bdb9cda   \n",
       "3   palmerdiane@yahoo.com  2c2f7154b80f40ca80d08c5adc54ea45   \n",
       "4  nancymaxwell@gmail.com  4f5263f339694d068e17ee7fdbb852b8   \n",
       "\n",
       "                                                name                phone  \\\n",
       "0  {'firstname': 'Cynthia', 'lastname': 'Dawson',...         624-869-4610   \n",
       "1       {'firstname': 'Tamara', 'lastname': 'Myers'}       1-594-462-7759   \n",
       "2    {'firstname': 'Jamie', 'lastname': 'Alexander'}     472.218.5065x389   \n",
       "3  {'firstname': 'Angela', 'lastname': 'Garcia', ...  1-663-109-4460x1080   \n",
       "4  {'firstname': 'Jennifer', 'lastname': 'Rodrigu...         233-423-3823   \n",
       "\n",
       "           record_date          ssn     address.city address.state  \\\n",
       "0  2006-07-08T09:02:13  xxx-xx-2412        Hoodburgh            RI   \n",
       "1  2009-03-28T20:22:57  xxx-xx-8025              NaN           NaN   \n",
       "2  2016-08-30T20:31:39  xxx-xx-0568        New Julie            UT   \n",
       "3  2001-02-15T18:50:35  xxx-xx-9825              NaN           NaN   \n",
       "4  2014-06-21T14:36:01  xxx-xx-9104  East Sharonstad            ME   \n",
       "\n",
       "              address.street address.zip  \n",
       "0  86314 David Pass Apt. 211       83973  \n",
       "1                        NaN         NaN  \n",
       "2          6676 Young Square       73125  \n",
       "3                        NaN         NaN  \n",
       "4            158 Smith Vista       42483  "
      ]
     },
     "execution_count": 24,
     "metadata": {},
     "output_type": "execute_result"
    }
   ],
   "source": [
    "df = pd.concat([df, df['address'].apply(pd.Series).add_prefix('address.')], axis=1)\n",
    "df.drop('address.0', axis=1, inplace=True)\n",
    "df.head()"
   ]
  },
  {
   "cell_type": "code",
   "execution_count": 26,
   "metadata": {
    "collapsed": false
   },
   "outputs": [
    {
     "name": "stderr",
     "output_type": "stream",
     "text": [
      "/Users/cristian/anaconda/lib/python3.6/site-packages/pandas/indexes/api.py:71: RuntimeWarning: '>' not supported between instances of 'int' and 'str', sort order is undefined for incomparable objects\n",
      "  result = result.union(other)\n",
      "/Users/cristian/anaconda/lib/python3.6/site-packages/pandas/indexes/api.py:37: RuntimeWarning: '>' not supported between instances of 'int' and 'str', sort order is undefined for incomparable objects\n",
      "  union = _union_indexes(indexes)\n"
     ]
    },
    {
     "data": {
      "text/html": [
       "<div>\n",
       "<table border=\"1\" class=\"dataframe\">\n",
       "  <thead>\n",
       "    <tr style=\"text-align: right;\">\n",
       "      <th></th>\n",
       "      <th>address</th>\n",
       "      <th>dob</th>\n",
       "      <th>email</th>\n",
       "      <th>id</th>\n",
       "      <th>name</th>\n",
       "      <th>phone</th>\n",
       "      <th>record_date</th>\n",
       "      <th>ssn</th>\n",
       "      <th>address.city</th>\n",
       "      <th>address.state</th>\n",
       "      <th>address.street</th>\n",
       "      <th>address.zip</th>\n",
       "      <th>name.firstname</th>\n",
       "      <th>name.lastname</th>\n",
       "      <th>name.middlename</th>\n",
       "    </tr>\n",
       "  </thead>\n",
       "  <tbody>\n",
       "    <tr>\n",
       "      <th>0</th>\n",
       "      <td>{'street': '86314 David Pass Apt. 211', 'city'...</td>\n",
       "      <td>1971-06-30</td>\n",
       "      <td>opark@hotmail.com</td>\n",
       "      <td>01d68a4c598a45559c06f4df0b3d82cb</td>\n",
       "      <td>{'firstname': 'Cynthia', 'lastname': 'Dawson',...</td>\n",
       "      <td>624-869-4610</td>\n",
       "      <td>2006-07-08T09:02:13</td>\n",
       "      <td>xxx-xx-2412</td>\n",
       "      <td>Hoodburgh</td>\n",
       "      <td>RI</td>\n",
       "      <td>86314 David Pass Apt. 211</td>\n",
       "      <td>83973</td>\n",
       "      <td>Cynthia</td>\n",
       "      <td>Dawson</td>\n",
       "      <td>Claire</td>\n",
       "    </tr>\n",
       "    <tr>\n",
       "      <th>1</th>\n",
       "      <td>20722 Coleman Villages\\nEast Rose, SC 71064-5894</td>\n",
       "      <td>1965-09-09</td>\n",
       "      <td>sperez@armstrong.com</td>\n",
       "      <td>876ff718291d4397bb1e0477ceee6ad9</td>\n",
       "      <td>{'firstname': 'Tamara', 'lastname': 'Myers'}</td>\n",
       "      <td>1-594-462-7759</td>\n",
       "      <td>2009-03-28T20:22:57</td>\n",
       "      <td>xxx-xx-8025</td>\n",
       "      <td>NaN</td>\n",
       "      <td>NaN</td>\n",
       "      <td>NaN</td>\n",
       "      <td>NaN</td>\n",
       "      <td>Tamara</td>\n",
       "      <td>Myers</td>\n",
       "      <td>NaN</td>\n",
       "    </tr>\n",
       "    <tr>\n",
       "      <th>2</th>\n",
       "      <td>{'street': '6676 Young Square', 'city': 'New J...</td>\n",
       "      <td>1993-04-12</td>\n",
       "      <td>uortiz@gmail.com</td>\n",
       "      <td>81753097bf7e4e2085982f422bdb9cda</td>\n",
       "      <td>{'firstname': 'Jamie', 'lastname': 'Alexander'}</td>\n",
       "      <td>472.218.5065x389</td>\n",
       "      <td>2016-08-30T20:31:39</td>\n",
       "      <td>xxx-xx-0568</td>\n",
       "      <td>New Julie</td>\n",
       "      <td>UT</td>\n",
       "      <td>6676 Young Square</td>\n",
       "      <td>73125</td>\n",
       "      <td>Jamie</td>\n",
       "      <td>Alexander</td>\n",
       "      <td>NaN</td>\n",
       "    </tr>\n",
       "    <tr>\n",
       "      <th>3</th>\n",
       "      <td>0932 Gomez Drives\\nLeefort, MD 46879-3166</td>\n",
       "      <td>1977-04-14</td>\n",
       "      <td>palmerdiane@yahoo.com</td>\n",
       "      <td>2c2f7154b80f40ca80d08c5adc54ea45</td>\n",
       "      <td>{'firstname': 'Angela', 'lastname': 'Garcia', ...</td>\n",
       "      <td>1-663-109-4460x1080</td>\n",
       "      <td>2001-02-15T18:50:35</td>\n",
       "      <td>xxx-xx-9825</td>\n",
       "      <td>NaN</td>\n",
       "      <td>NaN</td>\n",
       "      <td>NaN</td>\n",
       "      <td>NaN</td>\n",
       "      <td>Angela</td>\n",
       "      <td>Garcia</td>\n",
       "      <td>Alexis</td>\n",
       "    </tr>\n",
       "    <tr>\n",
       "      <th>4</th>\n",
       "      <td>{'street': '158 Smith Vista', 'city': 'East Sh...</td>\n",
       "      <td>1970-03-19</td>\n",
       "      <td>nancymaxwell@gmail.com</td>\n",
       "      <td>4f5263f339694d068e17ee7fdbb852b8</td>\n",
       "      <td>{'firstname': 'Jennifer', 'lastname': 'Rodrigu...</td>\n",
       "      <td>233-423-3823</td>\n",
       "      <td>2014-06-21T14:36:01</td>\n",
       "      <td>xxx-xx-9104</td>\n",
       "      <td>East Sharonstad</td>\n",
       "      <td>ME</td>\n",
       "      <td>158 Smith Vista</td>\n",
       "      <td>42483</td>\n",
       "      <td>Jennifer</td>\n",
       "      <td>Rodriguez</td>\n",
       "      <td>NaN</td>\n",
       "    </tr>\n",
       "  </tbody>\n",
       "</table>\n",
       "</div>"
      ],
      "text/plain": [
       "                                             address         dob  \\\n",
       "0  {'street': '86314 David Pass Apt. 211', 'city'...  1971-06-30   \n",
       "1   20722 Coleman Villages\\nEast Rose, SC 71064-5894  1965-09-09   \n",
       "2  {'street': '6676 Young Square', 'city': 'New J...  1993-04-12   \n",
       "3          0932 Gomez Drives\\nLeefort, MD 46879-3166  1977-04-14   \n",
       "4  {'street': '158 Smith Vista', 'city': 'East Sh...  1970-03-19   \n",
       "\n",
       "                    email                                id  \\\n",
       "0       opark@hotmail.com  01d68a4c598a45559c06f4df0b3d82cb   \n",
       "1    sperez@armstrong.com  876ff718291d4397bb1e0477ceee6ad9   \n",
       "2        uortiz@gmail.com  81753097bf7e4e2085982f422bdb9cda   \n",
       "3   palmerdiane@yahoo.com  2c2f7154b80f40ca80d08c5adc54ea45   \n",
       "4  nancymaxwell@gmail.com  4f5263f339694d068e17ee7fdbb852b8   \n",
       "\n",
       "                                                name                phone  \\\n",
       "0  {'firstname': 'Cynthia', 'lastname': 'Dawson',...         624-869-4610   \n",
       "1       {'firstname': 'Tamara', 'lastname': 'Myers'}       1-594-462-7759   \n",
       "2    {'firstname': 'Jamie', 'lastname': 'Alexander'}     472.218.5065x389   \n",
       "3  {'firstname': 'Angela', 'lastname': 'Garcia', ...  1-663-109-4460x1080   \n",
       "4  {'firstname': 'Jennifer', 'lastname': 'Rodrigu...         233-423-3823   \n",
       "\n",
       "           record_date          ssn     address.city address.state  \\\n",
       "0  2006-07-08T09:02:13  xxx-xx-2412        Hoodburgh            RI   \n",
       "1  2009-03-28T20:22:57  xxx-xx-8025              NaN           NaN   \n",
       "2  2016-08-30T20:31:39  xxx-xx-0568        New Julie            UT   \n",
       "3  2001-02-15T18:50:35  xxx-xx-9825              NaN           NaN   \n",
       "4  2014-06-21T14:36:01  xxx-xx-9104  East Sharonstad            ME   \n",
       "\n",
       "              address.street address.zip name.firstname name.lastname  \\\n",
       "0  86314 David Pass Apt. 211       83973        Cynthia        Dawson   \n",
       "1                        NaN         NaN         Tamara         Myers   \n",
       "2          6676 Young Square       73125          Jamie     Alexander   \n",
       "3                        NaN         NaN         Angela        Garcia   \n",
       "4            158 Smith Vista       42483       Jennifer     Rodriguez   \n",
       "\n",
       "  name.middlename  \n",
       "0          Claire  \n",
       "1             NaN  \n",
       "2             NaN  \n",
       "3          Alexis  \n",
       "4             NaN  "
      ]
     },
     "execution_count": 26,
     "metadata": {},
     "output_type": "execute_result"
    }
   ],
   "source": [
    "df = pd.concat([df, df['name'].apply(pd.Series).add_prefix('name.')], axis=1)\n",
    "df.drop('name.0', axis=1, inplace=True)\n",
    "df.head()"
   ]
  },
  {
   "cell_type": "code",
   "execution_count": 15,
   "metadata": {
    "collapsed": false
   },
   "outputs": [],
   "source": [
    "df_sub = df[0:100].copy()"
   ]
  },
  {
   "cell_type": "code",
   "execution_count": null,
   "metadata": {
    "collapsed": true
   },
   "outputs": [],
   "source": [
    "#Need to add new columns to dataframe, then loop through rows and populate them"
   ]
  },
  {
   "cell_type": "code",
   "execution_count": null,
   "metadata": {
    "collapsed": false
   },
   "outputs": [],
   "source": [
    "#Need to add conditional that checks for string or dict. As well as add new columns to original data frame "
   ]
  },
  {
   "cell_type": "code",
   "execution_count": 7,
   "metadata": {
    "collapsed": false
   },
   "outputs": [],
   "source": [
    "# Function to create a list of concat name from a nested dictionary, e.g. address.street, address.city, or name.first\n",
    "def concat_list(dataf, dict_name):\n",
    "    keys = [dict_name + '.' + item for item in df[dict_name][0].keys()]\n",
    "\n",
    "    return pd.concat([dataf, pd.DataFrame(columns=keys)])"
   ]
  },
  {
   "cell_type": "code",
   "execution_count": 8,
   "metadata": {
    "collapsed": false
   },
   "outputs": [],
   "source": [
    "# adding nested address names as columns, and doing the same with 'name'\n",
    "df_sub = concat_list(df_sub, 'address')\n",
    "df_sub = concat_list(df_sub, 'name')"
   ]
  },
  {
   "cell_type": "code",
   "execution_count": 16,
   "metadata": {
    "collapsed": false
   },
   "outputs": [
    {
     "name": "stderr",
     "output_type": "stream",
     "text": [
      "/Users/cristian/anaconda/lib/python3.6/site-packages/pandas/indexes/api.py:37: RuntimeWarning: '>' not supported between instances of 'int' and 'str', sort order is undefined for incomparable objects\n",
      "  union = _union_indexes(indexes)\n",
      "/Users/cristian/anaconda/lib/python3.6/site-packages/pandas/indexes/api.py:71: RuntimeWarning: '>' not supported between instances of 'int' and 'str', sort order is undefined for incomparable objects\n",
      "  result = result.union(other)\n"
     ]
    },
    {
     "data": {
      "text/html": [
       "<div>\n",
       "<table border=\"1\" class=\"dataframe\">\n",
       "  <thead>\n",
       "    <tr style=\"text-align: right;\">\n",
       "      <th></th>\n",
       "      <th>address</th>\n",
       "      <th>dob</th>\n",
       "      <th>email</th>\n",
       "      <th>id</th>\n",
       "      <th>name</th>\n",
       "      <th>phone</th>\n",
       "      <th>record_date</th>\n",
       "      <th>ssn</th>\n",
       "      <th>address.city</th>\n",
       "      <th>address.state</th>\n",
       "      <th>address.street</th>\n",
       "      <th>address.zip</th>\n",
       "    </tr>\n",
       "  </thead>\n",
       "  <tbody>\n",
       "    <tr>\n",
       "      <th>0</th>\n",
       "      <td>{'street': '86314 David Pass Apt. 211', 'city'...</td>\n",
       "      <td>1971-06-30</td>\n",
       "      <td>opark@hotmail.com</td>\n",
       "      <td>01d68a4c598a45559c06f4df0b3d82cb</td>\n",
       "      <td>{'firstname': 'Cynthia', 'lastname': 'Dawson',...</td>\n",
       "      <td>624-869-4610</td>\n",
       "      <td>2006-07-08T09:02:13</td>\n",
       "      <td>xxx-xx-2412</td>\n",
       "      <td>Hoodburgh</td>\n",
       "      <td>RI</td>\n",
       "      <td>86314 David Pass Apt. 211</td>\n",
       "      <td>83973</td>\n",
       "    </tr>\n",
       "    <tr>\n",
       "      <th>1</th>\n",
       "      <td>20722 Coleman Villages\\nEast Rose, SC 71064-5894</td>\n",
       "      <td>1965-09-09</td>\n",
       "      <td>sperez@armstrong.com</td>\n",
       "      <td>876ff718291d4397bb1e0477ceee6ad9</td>\n",
       "      <td>{'firstname': 'Tamara', 'lastname': 'Myers'}</td>\n",
       "      <td>1-594-462-7759</td>\n",
       "      <td>2009-03-28T20:22:57</td>\n",
       "      <td>xxx-xx-8025</td>\n",
       "      <td>NaN</td>\n",
       "      <td>NaN</td>\n",
       "      <td>NaN</td>\n",
       "      <td>NaN</td>\n",
       "    </tr>\n",
       "    <tr>\n",
       "      <th>2</th>\n",
       "      <td>{'street': '6676 Young Square', 'city': 'New J...</td>\n",
       "      <td>1993-04-12</td>\n",
       "      <td>uortiz@gmail.com</td>\n",
       "      <td>81753097bf7e4e2085982f422bdb9cda</td>\n",
       "      <td>{'firstname': 'Jamie', 'lastname': 'Alexander'}</td>\n",
       "      <td>472.218.5065x389</td>\n",
       "      <td>2016-08-30T20:31:39</td>\n",
       "      <td>xxx-xx-0568</td>\n",
       "      <td>New Julie</td>\n",
       "      <td>UT</td>\n",
       "      <td>6676 Young Square</td>\n",
       "      <td>73125</td>\n",
       "    </tr>\n",
       "    <tr>\n",
       "      <th>3</th>\n",
       "      <td>0932 Gomez Drives\\nLeefort, MD 46879-3166</td>\n",
       "      <td>1977-04-14</td>\n",
       "      <td>palmerdiane@yahoo.com</td>\n",
       "      <td>2c2f7154b80f40ca80d08c5adc54ea45</td>\n",
       "      <td>{'firstname': 'Angela', 'lastname': 'Garcia', ...</td>\n",
       "      <td>1-663-109-4460x1080</td>\n",
       "      <td>2001-02-15T18:50:35</td>\n",
       "      <td>xxx-xx-9825</td>\n",
       "      <td>NaN</td>\n",
       "      <td>NaN</td>\n",
       "      <td>NaN</td>\n",
       "      <td>NaN</td>\n",
       "    </tr>\n",
       "    <tr>\n",
       "      <th>4</th>\n",
       "      <td>{'street': '158 Smith Vista', 'city': 'East Sh...</td>\n",
       "      <td>1970-03-19</td>\n",
       "      <td>nancymaxwell@gmail.com</td>\n",
       "      <td>4f5263f339694d068e17ee7fdbb852b8</td>\n",
       "      <td>{'firstname': 'Jennifer', 'lastname': 'Rodrigu...</td>\n",
       "      <td>233-423-3823</td>\n",
       "      <td>2014-06-21T14:36:01</td>\n",
       "      <td>xxx-xx-9104</td>\n",
       "      <td>East Sharonstad</td>\n",
       "      <td>ME</td>\n",
       "      <td>158 Smith Vista</td>\n",
       "      <td>42483</td>\n",
       "    </tr>\n",
       "  </tbody>\n",
       "</table>\n",
       "</div>"
      ],
      "text/plain": [
       "                                             address         dob  \\\n",
       "0  {'street': '86314 David Pass Apt. 211', 'city'...  1971-06-30   \n",
       "1   20722 Coleman Villages\\nEast Rose, SC 71064-5894  1965-09-09   \n",
       "2  {'street': '6676 Young Square', 'city': 'New J...  1993-04-12   \n",
       "3          0932 Gomez Drives\\nLeefort, MD 46879-3166  1977-04-14   \n",
       "4  {'street': '158 Smith Vista', 'city': 'East Sh...  1970-03-19   \n",
       "\n",
       "                    email                                id  \\\n",
       "0       opark@hotmail.com  01d68a4c598a45559c06f4df0b3d82cb   \n",
       "1    sperez@armstrong.com  876ff718291d4397bb1e0477ceee6ad9   \n",
       "2        uortiz@gmail.com  81753097bf7e4e2085982f422bdb9cda   \n",
       "3   palmerdiane@yahoo.com  2c2f7154b80f40ca80d08c5adc54ea45   \n",
       "4  nancymaxwell@gmail.com  4f5263f339694d068e17ee7fdbb852b8   \n",
       "\n",
       "                                                name                phone  \\\n",
       "0  {'firstname': 'Cynthia', 'lastname': 'Dawson',...         624-869-4610   \n",
       "1       {'firstname': 'Tamara', 'lastname': 'Myers'}       1-594-462-7759   \n",
       "2    {'firstname': 'Jamie', 'lastname': 'Alexander'}     472.218.5065x389   \n",
       "3  {'firstname': 'Angela', 'lastname': 'Garcia', ...  1-663-109-4460x1080   \n",
       "4  {'firstname': 'Jennifer', 'lastname': 'Rodrigu...         233-423-3823   \n",
       "\n",
       "           record_date          ssn     address.city address.state  \\\n",
       "0  2006-07-08T09:02:13  xxx-xx-2412        Hoodburgh            RI   \n",
       "1  2009-03-28T20:22:57  xxx-xx-8025              NaN           NaN   \n",
       "2  2016-08-30T20:31:39  xxx-xx-0568        New Julie            UT   \n",
       "3  2001-02-15T18:50:35  xxx-xx-9825              NaN           NaN   \n",
       "4  2014-06-21T14:36:01  xxx-xx-9104  East Sharonstad            ME   \n",
       "\n",
       "              address.street address.zip  \n",
       "0  86314 David Pass Apt. 211       83973  \n",
       "1                        NaN         NaN  \n",
       "2          6676 Young Square       73125  \n",
       "3                        NaN         NaN  \n",
       "4            158 Smith Vista       42483  "
      ]
     },
     "execution_count": 16,
     "metadata": {},
     "output_type": "execute_result"
    }
   ],
   "source": [
    "df_sub = pd.concat([df_sub, df_sub['address'].apply(pd.Series).add_prefix('address.')], axis=1)\n",
    "df_sub.drop('address.0', axis=1, inplace=True)\n",
    "df_sub.head()"
   ]
  },
  {
   "cell_type": "code",
   "execution_count": null,
   "metadata": {
    "collapsed": true
   },
   "outputs": [],
   "source": [
    "df = pd.concat([df, df['name'].apply(pd.Series).add_prefix('name.')], axis=1)\n",
    "df.drop('name.0', axis=1, inplace=True)\n",
    "df.head()"
   ]
  },
  {
   "cell_type": "code",
   "execution_count": 18,
   "metadata": {
    "collapsed": false
   },
   "outputs": [
    {
     "name": "stderr",
     "output_type": "stream",
     "text": [
      "/Users/cristian/anaconda/lib/python3.6/site-packages/pandas/indexes/api.py:71: RuntimeWarning: '>' not supported between instances of 'int' and 'str', sort order is undefined for incomparable objects\n",
      "  result = result.union(other)\n",
      "/Users/cristian/anaconda/lib/python3.6/site-packages/pandas/indexes/api.py:37: RuntimeWarning: '>' not supported between instances of 'int' and 'str', sort order is undefined for incomparable objects\n",
      "  union = _union_indexes(indexes)\n"
     ]
    },
    {
     "data": {
      "text/html": [
       "<div>\n",
       "<table border=\"1\" class=\"dataframe\">\n",
       "  <thead>\n",
       "    <tr style=\"text-align: right;\">\n",
       "      <th></th>\n",
       "      <th>address</th>\n",
       "      <th>dob</th>\n",
       "      <th>email</th>\n",
       "      <th>id</th>\n",
       "      <th>name</th>\n",
       "      <th>phone</th>\n",
       "      <th>record_date</th>\n",
       "      <th>ssn</th>\n",
       "      <th>address.city</th>\n",
       "      <th>address.state</th>\n",
       "      <th>address.street</th>\n",
       "      <th>address.zip</th>\n",
       "      <th>name.firstname</th>\n",
       "      <th>name.lastname</th>\n",
       "      <th>name.middlename</th>\n",
       "    </tr>\n",
       "  </thead>\n",
       "  <tbody>\n",
       "    <tr>\n",
       "      <th>0</th>\n",
       "      <td>{'street': '86314 David Pass Apt. 211', 'city'...</td>\n",
       "      <td>1971-06-30</td>\n",
       "      <td>opark@hotmail.com</td>\n",
       "      <td>01d68a4c598a45559c06f4df0b3d82cb</td>\n",
       "      <td>{'firstname': 'Cynthia', 'lastname': 'Dawson',...</td>\n",
       "      <td>624-869-4610</td>\n",
       "      <td>2006-07-08T09:02:13</td>\n",
       "      <td>xxx-xx-2412</td>\n",
       "      <td>Hoodburgh</td>\n",
       "      <td>RI</td>\n",
       "      <td>86314 David Pass Apt. 211</td>\n",
       "      <td>83973</td>\n",
       "      <td>Cynthia</td>\n",
       "      <td>Dawson</td>\n",
       "      <td>Claire</td>\n",
       "    </tr>\n",
       "    <tr>\n",
       "      <th>1</th>\n",
       "      <td>20722 Coleman Villages\\nEast Rose, SC 71064-5894</td>\n",
       "      <td>1965-09-09</td>\n",
       "      <td>sperez@armstrong.com</td>\n",
       "      <td>876ff718291d4397bb1e0477ceee6ad9</td>\n",
       "      <td>{'firstname': 'Tamara', 'lastname': 'Myers'}</td>\n",
       "      <td>1-594-462-7759</td>\n",
       "      <td>2009-03-28T20:22:57</td>\n",
       "      <td>xxx-xx-8025</td>\n",
       "      <td>NaN</td>\n",
       "      <td>NaN</td>\n",
       "      <td>NaN</td>\n",
       "      <td>NaN</td>\n",
       "      <td>Tamara</td>\n",
       "      <td>Myers</td>\n",
       "      <td>NaN</td>\n",
       "    </tr>\n",
       "    <tr>\n",
       "      <th>2</th>\n",
       "      <td>{'street': '6676 Young Square', 'city': 'New J...</td>\n",
       "      <td>1993-04-12</td>\n",
       "      <td>uortiz@gmail.com</td>\n",
       "      <td>81753097bf7e4e2085982f422bdb9cda</td>\n",
       "      <td>{'firstname': 'Jamie', 'lastname': 'Alexander'}</td>\n",
       "      <td>472.218.5065x389</td>\n",
       "      <td>2016-08-30T20:31:39</td>\n",
       "      <td>xxx-xx-0568</td>\n",
       "      <td>New Julie</td>\n",
       "      <td>UT</td>\n",
       "      <td>6676 Young Square</td>\n",
       "      <td>73125</td>\n",
       "      <td>Jamie</td>\n",
       "      <td>Alexander</td>\n",
       "      <td>NaN</td>\n",
       "    </tr>\n",
       "    <tr>\n",
       "      <th>3</th>\n",
       "      <td>0932 Gomez Drives\\nLeefort, MD 46879-3166</td>\n",
       "      <td>1977-04-14</td>\n",
       "      <td>palmerdiane@yahoo.com</td>\n",
       "      <td>2c2f7154b80f40ca80d08c5adc54ea45</td>\n",
       "      <td>{'firstname': 'Angela', 'lastname': 'Garcia', ...</td>\n",
       "      <td>1-663-109-4460x1080</td>\n",
       "      <td>2001-02-15T18:50:35</td>\n",
       "      <td>xxx-xx-9825</td>\n",
       "      <td>NaN</td>\n",
       "      <td>NaN</td>\n",
       "      <td>NaN</td>\n",
       "      <td>NaN</td>\n",
       "      <td>Angela</td>\n",
       "      <td>Garcia</td>\n",
       "      <td>Alexis</td>\n",
       "    </tr>\n",
       "    <tr>\n",
       "      <th>4</th>\n",
       "      <td>{'street': '158 Smith Vista', 'city': 'East Sh...</td>\n",
       "      <td>1970-03-19</td>\n",
       "      <td>nancymaxwell@gmail.com</td>\n",
       "      <td>4f5263f339694d068e17ee7fdbb852b8</td>\n",
       "      <td>{'firstname': 'Jennifer', 'lastname': 'Rodrigu...</td>\n",
       "      <td>233-423-3823</td>\n",
       "      <td>2014-06-21T14:36:01</td>\n",
       "      <td>xxx-xx-9104</td>\n",
       "      <td>East Sharonstad</td>\n",
       "      <td>ME</td>\n",
       "      <td>158 Smith Vista</td>\n",
       "      <td>42483</td>\n",
       "      <td>Jennifer</td>\n",
       "      <td>Rodriguez</td>\n",
       "      <td>NaN</td>\n",
       "    </tr>\n",
       "  </tbody>\n",
       "</table>\n",
       "</div>"
      ],
      "text/plain": [
       "                                             address         dob  \\\n",
       "0  {'street': '86314 David Pass Apt. 211', 'city'...  1971-06-30   \n",
       "1   20722 Coleman Villages\\nEast Rose, SC 71064-5894  1965-09-09   \n",
       "2  {'street': '6676 Young Square', 'city': 'New J...  1993-04-12   \n",
       "3          0932 Gomez Drives\\nLeefort, MD 46879-3166  1977-04-14   \n",
       "4  {'street': '158 Smith Vista', 'city': 'East Sh...  1970-03-19   \n",
       "\n",
       "                    email                                id  \\\n",
       "0       opark@hotmail.com  01d68a4c598a45559c06f4df0b3d82cb   \n",
       "1    sperez@armstrong.com  876ff718291d4397bb1e0477ceee6ad9   \n",
       "2        uortiz@gmail.com  81753097bf7e4e2085982f422bdb9cda   \n",
       "3   palmerdiane@yahoo.com  2c2f7154b80f40ca80d08c5adc54ea45   \n",
       "4  nancymaxwell@gmail.com  4f5263f339694d068e17ee7fdbb852b8   \n",
       "\n",
       "                                                name                phone  \\\n",
       "0  {'firstname': 'Cynthia', 'lastname': 'Dawson',...         624-869-4610   \n",
       "1       {'firstname': 'Tamara', 'lastname': 'Myers'}       1-594-462-7759   \n",
       "2    {'firstname': 'Jamie', 'lastname': 'Alexander'}     472.218.5065x389   \n",
       "3  {'firstname': 'Angela', 'lastname': 'Garcia', ...  1-663-109-4460x1080   \n",
       "4  {'firstname': 'Jennifer', 'lastname': 'Rodrigu...         233-423-3823   \n",
       "\n",
       "           record_date          ssn     address.city address.state  \\\n",
       "0  2006-07-08T09:02:13  xxx-xx-2412        Hoodburgh            RI   \n",
       "1  2009-03-28T20:22:57  xxx-xx-8025              NaN           NaN   \n",
       "2  2016-08-30T20:31:39  xxx-xx-0568        New Julie            UT   \n",
       "3  2001-02-15T18:50:35  xxx-xx-9825              NaN           NaN   \n",
       "4  2014-06-21T14:36:01  xxx-xx-9104  East Sharonstad            ME   \n",
       "\n",
       "              address.street address.zip name.firstname name.lastname  \\\n",
       "0  86314 David Pass Apt. 211       83973        Cynthia        Dawson   \n",
       "1                        NaN         NaN         Tamara         Myers   \n",
       "2          6676 Young Square       73125          Jamie     Alexander   \n",
       "3                        NaN         NaN         Angela        Garcia   \n",
       "4            158 Smith Vista       42483       Jennifer     Rodriguez   \n",
       "\n",
       "  name.middlename  \n",
       "0          Claire  \n",
       "1             NaN  \n",
       "2             NaN  \n",
       "3          Alexis  \n",
       "4             NaN  "
      ]
     },
     "execution_count": 18,
     "metadata": {},
     "output_type": "execute_result"
    }
   ],
   "source": [
    "df_sub = pd.concat([df_sub, df_sub['name'].apply(pd.Series).add_prefix('name.')], axis=1)\n",
    "df_sub.drop('name.0', axis=1, inplace=True)\n",
    "df_sub.head()"
   ]
  },
  {
   "cell_type": "code",
   "execution_count": 150,
   "metadata": {
    "collapsed": false
   },
   "outputs": [
    {
     "ename": "SyntaxError",
     "evalue": "invalid syntax (<ipython-input-150-5bc49d0849f7>, line 5)",
     "output_type": "error",
     "traceback": [
      "\u001b[0;36m  File \u001b[0;32m\"<ipython-input-150-5bc49d0849f7>\"\u001b[0;36m, line \u001b[0;32m5\u001b[0m\n\u001b[0;31m    )\u001b[0m\n\u001b[0m    ^\u001b[0m\n\u001b[0;31mSyntaxError\u001b[0m\u001b[0;31m:\u001b[0m invalid syntax\n"
     ]
    }
   ],
   "source": [
    "# Extrapolate dict values into nested columns \n",
    "from tqdm import tqdm\n",
    "for item in tqdm(df_sub.address):\n",
    "    if type(item) == dict:\n",
    "        df_sub['address.city'] = df.apply(lambda x :add(x[\"coverage\"], x[\"reports\"]), axis=1)\n",
    "        "
   ]
  },
  {
   "cell_type": "code",
   "execution_count": 32,
   "metadata": {
    "collapsed": false
   },
   "outputs": [
    {
     "ename": "KeyError",
     "evalue": "'city'",
     "output_type": "error",
     "traceback": [
      "\u001b[0;31m---------------------------------------------------------------------------\u001b[0m",
      "\u001b[0;31mTypeError\u001b[0m                                 Traceback (most recent call last)",
      "\u001b[0;32mpandas/index.pyx\u001b[0m in \u001b[0;36mpandas.index.IndexEngine.get_loc (pandas/index.c:4279)\u001b[0;34m()\u001b[0m\n",
      "\u001b[0;32mpandas/src/hashtable_class_helper.pxi\u001b[0m in \u001b[0;36mpandas.hashtable.Int64HashTable.get_item (pandas/hashtable.c:8543)\u001b[0;34m()\u001b[0m\n",
      "\u001b[0;31mTypeError\u001b[0m: an integer is required",
      "\nDuring handling of the above exception, another exception occurred:\n",
      "\u001b[0;31mKeyError\u001b[0m                                  Traceback (most recent call last)",
      "\u001b[0;32m<ipython-input-32-d0a105c9ba72>\u001b[0m in \u001b[0;36m<module>\u001b[0;34m()\u001b[0m\n\u001b[1;32m      1\u001b[0m \u001b[0;31m#Creating a vectorized solution\u001b[0m\u001b[0;34m\u001b[0m\u001b[0;34m\u001b[0m\u001b[0m\n\u001b[0;32m----> 2\u001b[0;31m \u001b[0mdf_sub\u001b[0m\u001b[0;34m[\u001b[0m\u001b[0;34m'address.city'\u001b[0m\u001b[0;34m]\u001b[0m \u001b[0;34m=\u001b[0m \u001b[0mdf_sub\u001b[0m\u001b[0;34m[\u001b[0m\u001b[0;34m'address'\u001b[0m\u001b[0;34m]\u001b[0m\u001b[0;34m.\u001b[0m\u001b[0mwhere\u001b[0m\u001b[0;34m(\u001b[0m \u001b[0mtype\u001b[0m\u001b[0;34m(\u001b[0m\u001b[0mdf_sub\u001b[0m\u001b[0;34m[\u001b[0m\u001b[0;34m'address'\u001b[0m\u001b[0;34m]\u001b[0m\u001b[0;34m)\u001b[0m \u001b[0;34m==\u001b[0m \u001b[0mdict\u001b[0m\u001b[0;34m,\u001b[0m \u001b[0mdf_sub\u001b[0m\u001b[0;34m.\u001b[0m\u001b[0maddress\u001b[0m\u001b[0;34m[\u001b[0m\u001b[0;34m'city'\u001b[0m\u001b[0;34m]\u001b[0m \u001b[0;34m)\u001b[0m\u001b[0;34m\u001b[0m\u001b[0m\n\u001b[0m",
      "\u001b[0;32m/Users/cristian/anaconda/lib/python3.6/site-packages/pandas/core/series.py\u001b[0m in \u001b[0;36m__getitem__\u001b[0;34m(self, key)\u001b[0m\n\u001b[1;32m    601\u001b[0m         \u001b[0mkey\u001b[0m \u001b[0;34m=\u001b[0m \u001b[0mcom\u001b[0m\u001b[0;34m.\u001b[0m\u001b[0m_apply_if_callable\u001b[0m\u001b[0;34m(\u001b[0m\u001b[0mkey\u001b[0m\u001b[0;34m,\u001b[0m \u001b[0mself\u001b[0m\u001b[0;34m)\u001b[0m\u001b[0;34m\u001b[0m\u001b[0m\n\u001b[1;32m    602\u001b[0m         \u001b[0;32mtry\u001b[0m\u001b[0;34m:\u001b[0m\u001b[0;34m\u001b[0m\u001b[0m\n\u001b[0;32m--> 603\u001b[0;31m             \u001b[0mresult\u001b[0m \u001b[0;34m=\u001b[0m \u001b[0mself\u001b[0m\u001b[0;34m.\u001b[0m\u001b[0mindex\u001b[0m\u001b[0;34m.\u001b[0m\u001b[0mget_value\u001b[0m\u001b[0;34m(\u001b[0m\u001b[0mself\u001b[0m\u001b[0;34m,\u001b[0m \u001b[0mkey\u001b[0m\u001b[0;34m)\u001b[0m\u001b[0;34m\u001b[0m\u001b[0m\n\u001b[0m\u001b[1;32m    604\u001b[0m \u001b[0;34m\u001b[0m\u001b[0m\n\u001b[1;32m    605\u001b[0m             \u001b[0;32mif\u001b[0m \u001b[0;32mnot\u001b[0m \u001b[0mis_scalar\u001b[0m\u001b[0;34m(\u001b[0m\u001b[0mresult\u001b[0m\u001b[0;34m)\u001b[0m\u001b[0;34m:\u001b[0m\u001b[0;34m\u001b[0m\u001b[0m\n",
      "\u001b[0;32m/Users/cristian/anaconda/lib/python3.6/site-packages/pandas/indexes/base.py\u001b[0m in \u001b[0;36mget_value\u001b[0;34m(self, series, key)\u001b[0m\n\u001b[1;32m   2167\u001b[0m         \u001b[0;32mtry\u001b[0m\u001b[0;34m:\u001b[0m\u001b[0;34m\u001b[0m\u001b[0m\n\u001b[1;32m   2168\u001b[0m             return self._engine.get_value(s, k,\n\u001b[0;32m-> 2169\u001b[0;31m                                           tz=getattr(series.dtype, 'tz', None))\n\u001b[0m\u001b[1;32m   2170\u001b[0m         \u001b[0;32mexcept\u001b[0m \u001b[0mKeyError\u001b[0m \u001b[0;32mas\u001b[0m \u001b[0me1\u001b[0m\u001b[0;34m:\u001b[0m\u001b[0;34m\u001b[0m\u001b[0m\n\u001b[1;32m   2171\u001b[0m             \u001b[0;32mif\u001b[0m \u001b[0mlen\u001b[0m\u001b[0;34m(\u001b[0m\u001b[0mself\u001b[0m\u001b[0;34m)\u001b[0m \u001b[0;34m>\u001b[0m \u001b[0;36m0\u001b[0m \u001b[0;32mand\u001b[0m \u001b[0mself\u001b[0m\u001b[0;34m.\u001b[0m\u001b[0minferred_type\u001b[0m \u001b[0;32min\u001b[0m \u001b[0;34m[\u001b[0m\u001b[0;34m'integer'\u001b[0m\u001b[0;34m,\u001b[0m \u001b[0;34m'boolean'\u001b[0m\u001b[0;34m]\u001b[0m\u001b[0;34m:\u001b[0m\u001b[0;34m\u001b[0m\u001b[0m\n",
      "\u001b[0;32mpandas/index.pyx\u001b[0m in \u001b[0;36mpandas.index.IndexEngine.get_value (pandas/index.c:3557)\u001b[0;34m()\u001b[0m\n",
      "\u001b[0;32mpandas/index.pyx\u001b[0m in \u001b[0;36mpandas.index.IndexEngine.get_value (pandas/index.c:3240)\u001b[0;34m()\u001b[0m\n",
      "\u001b[0;32mpandas/index.pyx\u001b[0m in \u001b[0;36mpandas.index.IndexEngine.get_loc (pandas/index.c:4363)\u001b[0;34m()\u001b[0m\n",
      "\u001b[0;31mKeyError\u001b[0m: 'city'"
     ]
    }
   ],
   "source": [
    "#Creating a vectorized solution \n",
    "df_sub['address.city'] = df_sub['address'].where( type(df_sub['address']) == dict, df_sub.address['city'] )"
   ]
  },
  {
   "cell_type": "code",
   "execution_count": null,
   "metadata": {
    "collapsed": false
   },
   "outputs": [],
   "source": [
    "# Now Combine all dataframes and sort in alphabetical order\n",
    "df_name.sort_index(axis=1).columns"
   ]
  },
  {
   "cell_type": "code",
   "execution_count": null,
   "metadata": {
    "collapsed": false
   },
   "outputs": [],
   "source": [
    "# Make a funciton to loop through columns and return the percentage\n",
    "for item in result:\n",
    "    print('{} = {:.1f}%'.format(item, 100 *\n",
    "                                result[item].count() / len(result)))"
   ]
  },
  {
   "cell_type": "markdown",
   "metadata": {
    "collapsed": true
   },
   "source": [
    "## 1. Start by making a list of all of the nested named fields that appear in any record. Concatenate nested field names using a period '.' to defind named fields for nested records. Present the list in alphabetical order.\n",
    "\n",
    "Now we can begin to work on the large data set"
   ]
  },
  {
   "cell_type": "code",
   "execution_count": null,
   "metadata": {
    "collapsed": true
   },
   "outputs": [],
   "source": [
    "# Create dataframe with concatenated nested field name for address"
   ]
  },
  {
   "cell_type": "markdown",
   "metadata": {},
   "source": [
    "This is way to slow. I need to anticipate from the beginning what the final data frame will look like and then continue to work on that frame instead building multiple large size dataframe that eat through ram! "
   ]
  }
 ],
 "metadata": {
  "kernelspec": {
   "display_name": "Python 3",
   "language": "python",
   "name": "python3"
  },
  "language_info": {
   "codemirror_mode": {
    "name": "ipython",
    "version": 3
   },
   "file_extension": ".py",
   "mimetype": "text/x-python",
   "name": "python",
   "nbconvert_exporter": "python",
   "pygments_lexer": "ipython3",
   "version": "3.6.0"
  }
 },
 "nbformat": 4,
 "nbformat_minor": 2
}

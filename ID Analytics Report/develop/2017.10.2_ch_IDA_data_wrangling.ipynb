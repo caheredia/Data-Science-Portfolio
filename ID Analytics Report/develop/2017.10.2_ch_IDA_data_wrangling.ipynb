{
 "cells": [
  {
   "cell_type": "code",
   "execution_count": 26,
   "metadata": {
    "collapsed": true
   },
   "outputs": [],
   "source": [
    "import json_lines\n",
    "import pandas as pd\n",
    "import numpy as np\n",
    "import seaborn as sns\n",
    "import warnings\n",
    "warnings.filterwarnings(\"ignore\")"
   ]
  },
  {
   "cell_type": "code",
   "execution_count": 27,
   "metadata": {},
   "outputs": [],
   "source": [
    "# Load data into list, and then load to dataframe\n",
    "with json_lines.open('../data/ida_wrangling_exercise_data.2017-02-13.jsonl.gz') as f:\n",
    "    data = [item for item in f]\n",
    "    df = pd.DataFrame(data)"
   ]
  },
  {
   "cell_type": "markdown",
   "metadata": {},
   "source": [
    "## Data exploration "
   ]
  },
  {
   "cell_type": "code",
   "execution_count": 8,
   "metadata": {},
   "outputs": [
    {
     "data": {
      "text/html": [
       "<div>\n",
       "<table border=\"1\" class=\"dataframe\">\n",
       "  <thead>\n",
       "    <tr style=\"text-align: right;\">\n",
       "      <th></th>\n",
       "      <th>address</th>\n",
       "      <th>dob</th>\n",
       "      <th>email</th>\n",
       "      <th>id</th>\n",
       "      <th>name</th>\n",
       "      <th>phone</th>\n",
       "      <th>record_date</th>\n",
       "      <th>ssn</th>\n",
       "    </tr>\n",
       "  </thead>\n",
       "  <tbody>\n",
       "    <tr>\n",
       "      <th>0</th>\n",
       "      <td>{'street': '86314 David Pass Apt. 211', 'city'...</td>\n",
       "      <td>1971-06-30</td>\n",
       "      <td>opark@hotmail.com</td>\n",
       "      <td>01d68a4c598a45559c06f4df0b3d82cb</td>\n",
       "      <td>{'firstname': 'Cynthia', 'lastname': 'Dawson',...</td>\n",
       "      <td>624-869-4610</td>\n",
       "      <td>2006-07-08T09:02:13</td>\n",
       "      <td>xxx-xx-2412</td>\n",
       "    </tr>\n",
       "    <tr>\n",
       "      <th>1</th>\n",
       "      <td>20722 Coleman Villages\\nEast Rose, SC 71064-5894</td>\n",
       "      <td>1965-09-09</td>\n",
       "      <td>sperez@armstrong.com</td>\n",
       "      <td>876ff718291d4397bb1e0477ceee6ad9</td>\n",
       "      <td>{'firstname': 'Tamara', 'lastname': 'Myers'}</td>\n",
       "      <td>1-594-462-7759</td>\n",
       "      <td>2009-03-28T20:22:57</td>\n",
       "      <td>xxx-xx-8025</td>\n",
       "    </tr>\n",
       "    <tr>\n",
       "      <th>2</th>\n",
       "      <td>{'street': '6676 Young Square', 'city': 'New J...</td>\n",
       "      <td>1993-04-12</td>\n",
       "      <td>uortiz@gmail.com</td>\n",
       "      <td>81753097bf7e4e2085982f422bdb9cda</td>\n",
       "      <td>{'firstname': 'Jamie', 'lastname': 'Alexander'}</td>\n",
       "      <td>472.218.5065x389</td>\n",
       "      <td>2016-08-30T20:31:39</td>\n",
       "      <td>xxx-xx-0568</td>\n",
       "    </tr>\n",
       "    <tr>\n",
       "      <th>3</th>\n",
       "      <td>0932 Gomez Drives\\nLeefort, MD 46879-3166</td>\n",
       "      <td>1977-04-14</td>\n",
       "      <td>palmerdiane@yahoo.com</td>\n",
       "      <td>2c2f7154b80f40ca80d08c5adc54ea45</td>\n",
       "      <td>{'firstname': 'Angela', 'lastname': 'Garcia', ...</td>\n",
       "      <td>1-663-109-4460x1080</td>\n",
       "      <td>2001-02-15T18:50:35</td>\n",
       "      <td>xxx-xx-9825</td>\n",
       "    </tr>\n",
       "    <tr>\n",
       "      <th>4</th>\n",
       "      <td>{'street': '158 Smith Vista', 'city': 'East Sh...</td>\n",
       "      <td>1970-03-19</td>\n",
       "      <td>nancymaxwell@gmail.com</td>\n",
       "      <td>4f5263f339694d068e17ee7fdbb852b8</td>\n",
       "      <td>{'firstname': 'Jennifer', 'lastname': 'Rodrigu...</td>\n",
       "      <td>233-423-3823</td>\n",
       "      <td>2014-06-21T14:36:01</td>\n",
       "      <td>xxx-xx-9104</td>\n",
       "    </tr>\n",
       "  </tbody>\n",
       "</table>\n",
       "</div>"
      ],
      "text/plain": [
       "                                             address         dob  \\\n",
       "0  {'street': '86314 David Pass Apt. 211', 'city'...  1971-06-30   \n",
       "1   20722 Coleman Villages\\nEast Rose, SC 71064-5894  1965-09-09   \n",
       "2  {'street': '6676 Young Square', 'city': 'New J...  1993-04-12   \n",
       "3          0932 Gomez Drives\\nLeefort, MD 46879-3166  1977-04-14   \n",
       "4  {'street': '158 Smith Vista', 'city': 'East Sh...  1970-03-19   \n",
       "\n",
       "                    email                                id  \\\n",
       "0       opark@hotmail.com  01d68a4c598a45559c06f4df0b3d82cb   \n",
       "1    sperez@armstrong.com  876ff718291d4397bb1e0477ceee6ad9   \n",
       "2        uortiz@gmail.com  81753097bf7e4e2085982f422bdb9cda   \n",
       "3   palmerdiane@yahoo.com  2c2f7154b80f40ca80d08c5adc54ea45   \n",
       "4  nancymaxwell@gmail.com  4f5263f339694d068e17ee7fdbb852b8   \n",
       "\n",
       "                                                name                phone  \\\n",
       "0  {'firstname': 'Cynthia', 'lastname': 'Dawson',...         624-869-4610   \n",
       "1       {'firstname': 'Tamara', 'lastname': 'Myers'}       1-594-462-7759   \n",
       "2    {'firstname': 'Jamie', 'lastname': 'Alexander'}     472.218.5065x389   \n",
       "3  {'firstname': 'Angela', 'lastname': 'Garcia', ...  1-663-109-4460x1080   \n",
       "4  {'firstname': 'Jennifer', 'lastname': 'Rodrigu...         233-423-3823   \n",
       "\n",
       "           record_date          ssn  \n",
       "0  2006-07-08T09:02:13  xxx-xx-2412  \n",
       "1  2009-03-28T20:22:57  xxx-xx-8025  \n",
       "2  2016-08-30T20:31:39  xxx-xx-0568  \n",
       "3  2001-02-15T18:50:35  xxx-xx-9825  \n",
       "4  2014-06-21T14:36:01  xxx-xx-9104  "
      ]
     },
     "execution_count": 8,
     "metadata": {},
     "output_type": "execute_result"
    }
   ],
   "source": [
    "df.head()"
   ]
  },
  {
   "cell_type": "code",
   "execution_count": 28,
   "metadata": {},
   "outputs": [
    {
     "data": {
      "text/plain": [
       "'Number of rows 150000 '"
      ]
     },
     "execution_count": 28,
     "metadata": {},
     "output_type": "execute_result"
    }
   ],
   "source": [
    "'Number of rows {} '.format(len(df))"
   ]
  },
  {
   "cell_type": "markdown",
   "metadata": {},
   "source": [
    "This initial dataframe has 150,000 entries. Some of the fields (e.g. address and name) are recorded as dictionaries and strings. Let's start working with a subset (first 100 entries ) of the data frame. Truncating the dataframe will speed up initial code experimentation. "
   ]
  },
  {
   "cell_type": "markdown",
   "metadata": {},
   "source": [
    "### Operating on subset of data "
   ]
  },
  {
   "cell_type": "code",
   "execution_count": 86,
   "metadata": {},
   "outputs": [],
   "source": [
    "# Subset wtih first 100 entries of dataframe\n",
    "df_sub = df[0:100].copy()"
   ]
  },
  {
   "cell_type": "markdown",
   "metadata": {
    "collapsed": true
   },
   "source": [
    "### 1. Start by making a list of all of the nested named fields that appear in any record. Concatenate nested field names using a period '.' to defind named fields for nested records. Present the list in alphabetical order."
   ]
  },
  {
   "cell_type": "code",
   "execution_count": 89,
   "metadata": {
    "collapsed": true
   },
   "outputs": [],
   "source": [
    "def expand_dict(dframe, dict_names):\n",
    "    \"\"\"This function will take a dataframe and dictionary list as inputs. \n",
    "    It will convert dictionary keys into seperate columns within the same dataframe by invoking the apply method.\n",
    "    It returns the original dataframe with concatenated columns in alphabetical order\"\"\"\n",
    "\n",
    "    # Iterate through list of dictionaries\n",
    "    for item in dict_names:\n",
    "        # Exand dictionary keys into columns\n",
    "        dframe = pd.concat([dframe, dframe[item].apply(pd.Series).add_prefix(\n",
    "            (item + '.'))], axis=1)\n",
    "\n",
    "        # Drops extra generated column from apply method\n",
    "        dframe.drop(item + '.0', axis=1, inplace=True)\n",
    "    return dframe"
   ]
  },
  {
   "cell_type": "code",
   "execution_count": 90,
   "metadata": {},
   "outputs": [
    {
     "data": {
      "text/html": [
       "<div>\n",
       "<table border=\"1\" class=\"dataframe\">\n",
       "  <thead>\n",
       "    <tr style=\"text-align: right;\">\n",
       "      <th></th>\n",
       "      <th>address</th>\n",
       "      <th>dob</th>\n",
       "      <th>email</th>\n",
       "      <th>id</th>\n",
       "      <th>name</th>\n",
       "      <th>phone</th>\n",
       "      <th>record_date</th>\n",
       "      <th>ssn</th>\n",
       "      <th>address.city</th>\n",
       "      <th>address.state</th>\n",
       "      <th>address.street</th>\n",
       "      <th>address.zip</th>\n",
       "      <th>name.firstname</th>\n",
       "      <th>name.lastname</th>\n",
       "      <th>name.middlename</th>\n",
       "    </tr>\n",
       "  </thead>\n",
       "  <tbody>\n",
       "    <tr>\n",
       "      <th>0</th>\n",
       "      <td>{'street': '86314 David Pass Apt. 211', 'city'...</td>\n",
       "      <td>1971-06-30</td>\n",
       "      <td>opark@hotmail.com</td>\n",
       "      <td>01d68a4c598a45559c06f4df0b3d82cb</td>\n",
       "      <td>{'firstname': 'Cynthia', 'lastname': 'Dawson',...</td>\n",
       "      <td>624-869-4610</td>\n",
       "      <td>2006-07-08T09:02:13</td>\n",
       "      <td>xxx-xx-2412</td>\n",
       "      <td>Hoodburgh</td>\n",
       "      <td>RI</td>\n",
       "      <td>86314 David Pass Apt. 211</td>\n",
       "      <td>83973</td>\n",
       "      <td>Cynthia</td>\n",
       "      <td>Dawson</td>\n",
       "      <td>Claire</td>\n",
       "    </tr>\n",
       "    <tr>\n",
       "      <th>1</th>\n",
       "      <td>20722 Coleman Villages\\nEast Rose, SC 71064-5894</td>\n",
       "      <td>1965-09-09</td>\n",
       "      <td>sperez@armstrong.com</td>\n",
       "      <td>876ff718291d4397bb1e0477ceee6ad9</td>\n",
       "      <td>{'firstname': 'Tamara', 'lastname': 'Myers'}</td>\n",
       "      <td>1-594-462-7759</td>\n",
       "      <td>2009-03-28T20:22:57</td>\n",
       "      <td>xxx-xx-8025</td>\n",
       "      <td>NaN</td>\n",
       "      <td>NaN</td>\n",
       "      <td>NaN</td>\n",
       "      <td>NaN</td>\n",
       "      <td>Tamara</td>\n",
       "      <td>Myers</td>\n",
       "      <td>NaN</td>\n",
       "    </tr>\n",
       "    <tr>\n",
       "      <th>2</th>\n",
       "      <td>{'street': '6676 Young Square', 'city': 'New J...</td>\n",
       "      <td>1993-04-12</td>\n",
       "      <td>uortiz@gmail.com</td>\n",
       "      <td>81753097bf7e4e2085982f422bdb9cda</td>\n",
       "      <td>{'firstname': 'Jamie', 'lastname': 'Alexander'}</td>\n",
       "      <td>472.218.5065x389</td>\n",
       "      <td>2016-08-30T20:31:39</td>\n",
       "      <td>xxx-xx-0568</td>\n",
       "      <td>New Julie</td>\n",
       "      <td>UT</td>\n",
       "      <td>6676 Young Square</td>\n",
       "      <td>73125</td>\n",
       "      <td>Jamie</td>\n",
       "      <td>Alexander</td>\n",
       "      <td>NaN</td>\n",
       "    </tr>\n",
       "    <tr>\n",
       "      <th>3</th>\n",
       "      <td>0932 Gomez Drives\\nLeefort, MD 46879-3166</td>\n",
       "      <td>1977-04-14</td>\n",
       "      <td>palmerdiane@yahoo.com</td>\n",
       "      <td>2c2f7154b80f40ca80d08c5adc54ea45</td>\n",
       "      <td>{'firstname': 'Angela', 'lastname': 'Garcia', ...</td>\n",
       "      <td>1-663-109-4460x1080</td>\n",
       "      <td>2001-02-15T18:50:35</td>\n",
       "      <td>xxx-xx-9825</td>\n",
       "      <td>NaN</td>\n",
       "      <td>NaN</td>\n",
       "      <td>NaN</td>\n",
       "      <td>NaN</td>\n",
       "      <td>Angela</td>\n",
       "      <td>Garcia</td>\n",
       "      <td>Alexis</td>\n",
       "    </tr>\n",
       "    <tr>\n",
       "      <th>4</th>\n",
       "      <td>{'street': '158 Smith Vista', 'city': 'East Sh...</td>\n",
       "      <td>1970-03-19</td>\n",
       "      <td>nancymaxwell@gmail.com</td>\n",
       "      <td>4f5263f339694d068e17ee7fdbb852b8</td>\n",
       "      <td>{'firstname': 'Jennifer', 'lastname': 'Rodrigu...</td>\n",
       "      <td>233-423-3823</td>\n",
       "      <td>2014-06-21T14:36:01</td>\n",
       "      <td>xxx-xx-9104</td>\n",
       "      <td>East Sharonstad</td>\n",
       "      <td>ME</td>\n",
       "      <td>158 Smith Vista</td>\n",
       "      <td>42483</td>\n",
       "      <td>Jennifer</td>\n",
       "      <td>Rodriguez</td>\n",
       "      <td>NaN</td>\n",
       "    </tr>\n",
       "  </tbody>\n",
       "</table>\n",
       "</div>"
      ],
      "text/plain": [
       "                                             address         dob  \\\n",
       "0  {'street': '86314 David Pass Apt. 211', 'city'...  1971-06-30   \n",
       "1   20722 Coleman Villages\\nEast Rose, SC 71064-5894  1965-09-09   \n",
       "2  {'street': '6676 Young Square', 'city': 'New J...  1993-04-12   \n",
       "3          0932 Gomez Drives\\nLeefort, MD 46879-3166  1977-04-14   \n",
       "4  {'street': '158 Smith Vista', 'city': 'East Sh...  1970-03-19   \n",
       "\n",
       "                    email                                id  \\\n",
       "0       opark@hotmail.com  01d68a4c598a45559c06f4df0b3d82cb   \n",
       "1    sperez@armstrong.com  876ff718291d4397bb1e0477ceee6ad9   \n",
       "2        uortiz@gmail.com  81753097bf7e4e2085982f422bdb9cda   \n",
       "3   palmerdiane@yahoo.com  2c2f7154b80f40ca80d08c5adc54ea45   \n",
       "4  nancymaxwell@gmail.com  4f5263f339694d068e17ee7fdbb852b8   \n",
       "\n",
       "                                                name                phone  \\\n",
       "0  {'firstname': 'Cynthia', 'lastname': 'Dawson',...         624-869-4610   \n",
       "1       {'firstname': 'Tamara', 'lastname': 'Myers'}       1-594-462-7759   \n",
       "2    {'firstname': 'Jamie', 'lastname': 'Alexander'}     472.218.5065x389   \n",
       "3  {'firstname': 'Angela', 'lastname': 'Garcia', ...  1-663-109-4460x1080   \n",
       "4  {'firstname': 'Jennifer', 'lastname': 'Rodrigu...         233-423-3823   \n",
       "\n",
       "           record_date          ssn     address.city address.state  \\\n",
       "0  2006-07-08T09:02:13  xxx-xx-2412        Hoodburgh            RI   \n",
       "1  2009-03-28T20:22:57  xxx-xx-8025              NaN           NaN   \n",
       "2  2016-08-30T20:31:39  xxx-xx-0568        New Julie            UT   \n",
       "3  2001-02-15T18:50:35  xxx-xx-9825              NaN           NaN   \n",
       "4  2014-06-21T14:36:01  xxx-xx-9104  East Sharonstad            ME   \n",
       "\n",
       "              address.street address.zip name.firstname name.lastname  \\\n",
       "0  86314 David Pass Apt. 211       83973        Cynthia        Dawson   \n",
       "1                        NaN         NaN         Tamara         Myers   \n",
       "2          6676 Young Square       73125          Jamie     Alexander   \n",
       "3                        NaN         NaN         Angela        Garcia   \n",
       "4            158 Smith Vista       42483       Jennifer     Rodriguez   \n",
       "\n",
       "  name.middlename  \n",
       "0          Claire  \n",
       "1             NaN  \n",
       "2             NaN  \n",
       "3          Alexis  \n",
       "4             NaN  "
      ]
     },
     "execution_count": 90,
     "metadata": {},
     "output_type": "execute_result"
    }
   ],
   "source": [
    "#Invoke the function above \n",
    "df_sub = expand_dict(df_sub, ['address', 'name'])\n",
    "df_sub.head()"
   ]
  },
  {
   "cell_type": "markdown",
   "metadata": {},
   "source": [
    "### 2. Answer the following questions for each field in your list from question 1.\n",
    "\n",
    "- What percentage of the records contain the field?\n",
    "- What are the five most common values of the field?"
   ]
  },
  {
   "cell_type": "code",
   "execution_count": 100,
   "metadata": {},
   "outputs": [],
   "source": [
    "\n",
    "def col_percent(dframe):\n",
    "    '''A funciton to loop through columns and return the percentage of populated items.'''\n",
    "    for item in dframe:\n",
    "        print('{} = {:.1f}%'.format(item, 100 *\n",
    "                                    dframe[item].count() / len(dframe)))"
   ]
  },
  {
   "cell_type": "code",
   "execution_count": 103,
   "metadata": {},
   "outputs": [
    {
     "name": "stdout",
     "output_type": "stream",
     "text": [
      "address = 93.0%\n",
      "dob = 99.0%\n",
      "email = 81.0%\n",
      "id = 100.0%\n",
      "name = 100.0%\n",
      "phone = 93.0%\n",
      "record_date = 100.0%\n",
      "ssn = 96.0%\n",
      "address.city = 41.0%\n",
      "address.state = 41.0%\n",
      "address.street = 41.0%\n",
      "address.zip = 41.0%\n",
      "name.firstname = 66.0%\n",
      "name.lastname = 66.0%\n",
      "name.middlename = 26.0%\n"
     ]
    }
   ],
   "source": [
    "# Invoke the function above \n",
    "col_percent(df_sub)"
   ]
  }
 ],
 "metadata": {
  "kernelspec": {
   "display_name": "Python 3",
   "language": "python",
   "name": "python3"
  },
  "language_info": {
   "codemirror_mode": {
    "name": "ipython",
    "version": 3
   },
   "file_extension": ".py",
   "mimetype": "text/x-python",
   "name": "python",
   "nbconvert_exporter": "python",
   "pygments_lexer": "ipython3",
   "version": "3.6.0"
  }
 },
 "nbformat": 4,
 "nbformat_minor": 2
}

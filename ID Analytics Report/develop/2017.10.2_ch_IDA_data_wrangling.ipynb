{
 "cells": [
  {
   "cell_type": "code",
   "execution_count": 57,
   "metadata": {
    "collapsed": true
   },
   "outputs": [],
   "source": [
    "import json_lines\n",
    "import pandas as pd\n",
    "import numpy as np\n",
    "import seaborn as sns\n",
    "import re\n",
    "import warnings\n",
    "warnings.filterwarnings(\"ignore\")\n",
    "from IPython.core import display as ICD"
   ]
  },
  {
   "cell_type": "markdown",
   "metadata": {},
   "source": [
    "# Introduction"
   ]
  },
  {
   "cell_type": "markdown",
   "metadata": {},
   "source": [
    "The following notebook manipulates a large 150,000 entry JSONL data file. It does so by first breaking out dictionaries in the name and address fields fields; it converts the dictionary keys into new dataframe columns. It then calculates metrics for the data frame, such as % of occupied fields and unique values within columns. I began by first proving all functions and metrics on a subset dataframe with 100 entries. After successfully completing  a set of tasks on the small dataframe, I'll scale up to the original dataframe. \n"
   ]
  },
  {
   "cell_type": "code",
   "execution_count": 2,
   "metadata": {
    "collapsed": true
   },
   "outputs": [],
   "source": [
    "# Load data into list, and then load to dataframe\n",
    "with json_lines.open('../data/ida_wrangling_exercise_data.2017-02-13.jsonl.gz') as f:\n",
    "    data = [item for item in f]\n",
    "    df = pd.DataFrame(data)"
   ]
  },
  {
   "cell_type": "markdown",
   "metadata": {},
   "source": [
    "### Data exploration "
   ]
  },
  {
   "cell_type": "code",
   "execution_count": 4,
   "metadata": {},
   "outputs": [
    {
     "data": {
      "text/html": [
       "<div>\n",
       "<table border=\"1\" class=\"dataframe\">\n",
       "  <thead>\n",
       "    <tr style=\"text-align: right;\">\n",
       "      <th></th>\n",
       "      <th>address</th>\n",
       "      <th>dob</th>\n",
       "      <th>email</th>\n",
       "      <th>id</th>\n",
       "      <th>name</th>\n",
       "      <th>phone</th>\n",
       "      <th>record_date</th>\n",
       "      <th>ssn</th>\n",
       "    </tr>\n",
       "  </thead>\n",
       "  <tbody>\n",
       "    <tr>\n",
       "      <th>0</th>\n",
       "      <td>{'street': '86314 David Pass Apt. 211', 'city'...</td>\n",
       "      <td>1971-06-30</td>\n",
       "      <td>opark@hotmail.com</td>\n",
       "      <td>01d68a4c598a45559c06f4df0b3d82cb</td>\n",
       "      <td>{'firstname': 'Cynthia', 'lastname': 'Dawson',...</td>\n",
       "      <td>624-869-4610</td>\n",
       "      <td>2006-07-08T09:02:13</td>\n",
       "      <td>xxx-xx-2412</td>\n",
       "    </tr>\n",
       "    <tr>\n",
       "      <th>1</th>\n",
       "      <td>20722 Coleman Villages\\nEast Rose, SC 71064-5894</td>\n",
       "      <td>1965-09-09</td>\n",
       "      <td>sperez@armstrong.com</td>\n",
       "      <td>876ff718291d4397bb1e0477ceee6ad9</td>\n",
       "      <td>{'firstname': 'Tamara', 'lastname': 'Myers'}</td>\n",
       "      <td>1-594-462-7759</td>\n",
       "      <td>2009-03-28T20:22:57</td>\n",
       "      <td>xxx-xx-8025</td>\n",
       "    </tr>\n",
       "    <tr>\n",
       "      <th>2</th>\n",
       "      <td>{'street': '6676 Young Square', 'city': 'New J...</td>\n",
       "      <td>1993-04-12</td>\n",
       "      <td>uortiz@gmail.com</td>\n",
       "      <td>81753097bf7e4e2085982f422bdb9cda</td>\n",
       "      <td>{'firstname': 'Jamie', 'lastname': 'Alexander'}</td>\n",
       "      <td>472.218.5065x389</td>\n",
       "      <td>2016-08-30T20:31:39</td>\n",
       "      <td>xxx-xx-0568</td>\n",
       "    </tr>\n",
       "    <tr>\n",
       "      <th>3</th>\n",
       "      <td>0932 Gomez Drives\\nLeefort, MD 46879-3166</td>\n",
       "      <td>1977-04-14</td>\n",
       "      <td>palmerdiane@yahoo.com</td>\n",
       "      <td>2c2f7154b80f40ca80d08c5adc54ea45</td>\n",
       "      <td>{'firstname': 'Angela', 'lastname': 'Garcia', ...</td>\n",
       "      <td>1-663-109-4460x1080</td>\n",
       "      <td>2001-02-15T18:50:35</td>\n",
       "      <td>xxx-xx-9825</td>\n",
       "    </tr>\n",
       "    <tr>\n",
       "      <th>4</th>\n",
       "      <td>{'street': '158 Smith Vista', 'city': 'East Sh...</td>\n",
       "      <td>1970-03-19</td>\n",
       "      <td>nancymaxwell@gmail.com</td>\n",
       "      <td>4f5263f339694d068e17ee7fdbb852b8</td>\n",
       "      <td>{'firstname': 'Jennifer', 'lastname': 'Rodrigu...</td>\n",
       "      <td>233-423-3823</td>\n",
       "      <td>2014-06-21T14:36:01</td>\n",
       "      <td>xxx-xx-9104</td>\n",
       "    </tr>\n",
       "  </tbody>\n",
       "</table>\n",
       "</div>"
      ],
      "text/plain": [
       "                                             address         dob  \\\n",
       "0  {'street': '86314 David Pass Apt. 211', 'city'...  1971-06-30   \n",
       "1   20722 Coleman Villages\\nEast Rose, SC 71064-5894  1965-09-09   \n",
       "2  {'street': '6676 Young Square', 'city': 'New J...  1993-04-12   \n",
       "3          0932 Gomez Drives\\nLeefort, MD 46879-3166  1977-04-14   \n",
       "4  {'street': '158 Smith Vista', 'city': 'East Sh...  1970-03-19   \n",
       "\n",
       "                    email                                id  \\\n",
       "0       opark@hotmail.com  01d68a4c598a45559c06f4df0b3d82cb   \n",
       "1    sperez@armstrong.com  876ff718291d4397bb1e0477ceee6ad9   \n",
       "2        uortiz@gmail.com  81753097bf7e4e2085982f422bdb9cda   \n",
       "3   palmerdiane@yahoo.com  2c2f7154b80f40ca80d08c5adc54ea45   \n",
       "4  nancymaxwell@gmail.com  4f5263f339694d068e17ee7fdbb852b8   \n",
       "\n",
       "                                                name                phone  \\\n",
       "0  {'firstname': 'Cynthia', 'lastname': 'Dawson',...         624-869-4610   \n",
       "1       {'firstname': 'Tamara', 'lastname': 'Myers'}       1-594-462-7759   \n",
       "2    {'firstname': 'Jamie', 'lastname': 'Alexander'}     472.218.5065x389   \n",
       "3  {'firstname': 'Angela', 'lastname': 'Garcia', ...  1-663-109-4460x1080   \n",
       "4  {'firstname': 'Jennifer', 'lastname': 'Rodrigu...         233-423-3823   \n",
       "\n",
       "           record_date          ssn  \n",
       "0  2006-07-08T09:02:13  xxx-xx-2412  \n",
       "1  2009-03-28T20:22:57  xxx-xx-8025  \n",
       "2  2016-08-30T20:31:39  xxx-xx-0568  \n",
       "3  2001-02-15T18:50:35  xxx-xx-9825  \n",
       "4  2014-06-21T14:36:01  xxx-xx-9104  "
      ]
     },
     "execution_count": 4,
     "metadata": {},
     "output_type": "execute_result"
    }
   ],
   "source": [
    "df.head()"
   ]
  },
  {
   "cell_type": "code",
   "execution_count": 5,
   "metadata": {},
   "outputs": [
    {
     "data": {
      "text/plain": [
       "'Number of rows 150000 '"
      ]
     },
     "execution_count": 5,
     "metadata": {},
     "output_type": "execute_result"
    }
   ],
   "source": [
    "'Number of rows {} '.format(len(df))"
   ]
  },
  {
   "cell_type": "markdown",
   "metadata": {},
   "source": [
    "This initial dataframe has 150,000 entries. Some of the fields (e.g. address and name) are recorded as dictionaries and strings. Let's start working with a subset (first 100 entries ) of the data frame. Truncating the dataframe will speed up initial code experimentation. "
   ]
  },
  {
   "cell_type": "markdown",
   "metadata": {},
   "source": [
    "### Operating on subset of data "
   ]
  },
  {
   "cell_type": "code",
   "execution_count": 6,
   "metadata": {
    "collapsed": true
   },
   "outputs": [],
   "source": [
    "# Subset wtih first 100 entries of dataframe\n",
    "df_sub = df[0:100].copy()"
   ]
  },
  {
   "cell_type": "markdown",
   "metadata": {
    "collapsed": true
   },
   "source": [
    "## 1. Make a list of all of the nested named fields that appear in any record. Concatenate nested field names using a period '.' to defind named fields for nested records. Present the list in alphabetical order."
   ]
  },
  {
   "cell_type": "code",
   "execution_count": 8,
   "metadata": {
    "collapsed": true
   },
   "outputs": [],
   "source": [
    "def expand_dict(dframe, dict_names):\n",
    "    \"\"\"This function will take a dataframe and dictionary list as inputs. \n",
    "    It will convert dictionary keys into seperate columns within the same dataframe by invoking the apply method.\n",
    "    It returns a dataframe with concatenated columns\"\"\"\n",
    "\n",
    "    # Creates an empty dataframe\n",
    "    df_nested = pd.DataFrame()\n",
    "\n",
    "    # Iterate through list of dictionaries\n",
    "    for item in dict_names:\n",
    "        # Expand dictionary keys into columns\n",
    "        df_nested = pd.concat([df_nested, dframe[item].apply(pd.Series).add_prefix(\n",
    "            (item + '.'))], axis=1)\n",
    "        # Drops extra generated column from apply method\n",
    "        df_nested.drop(item + '.0', axis=1, inplace=True)\n",
    "        # Add original nested column\n",
    "        df_nested[item] = dframe[item]\n",
    "        # Replace nested fields with NaN, otherwise leave string value\n",
    "        df_nested[item] = df_nested[item].apply(lambda x: np.nan if type(x) == dict else x)\n",
    "\n",
    "    return df_nested"
   ]
  },
  {
   "cell_type": "code",
   "execution_count": 9,
   "metadata": {},
   "outputs": [
    {
     "data": {
      "text/html": [
       "<div>\n",
       "<table border=\"1\" class=\"dataframe\">\n",
       "  <thead>\n",
       "    <tr style=\"text-align: right;\">\n",
       "      <th></th>\n",
       "      <th>address.city</th>\n",
       "      <th>address.state</th>\n",
       "      <th>address.street</th>\n",
       "      <th>address.zip</th>\n",
       "      <th>address</th>\n",
       "      <th>name.firstname</th>\n",
       "      <th>name.lastname</th>\n",
       "      <th>name.middlename</th>\n",
       "      <th>name</th>\n",
       "    </tr>\n",
       "  </thead>\n",
       "  <tbody>\n",
       "    <tr>\n",
       "      <th>0</th>\n",
       "      <td>Hoodburgh</td>\n",
       "      <td>RI</td>\n",
       "      <td>86314 David Pass Apt. 211</td>\n",
       "      <td>83973</td>\n",
       "      <td>NaN</td>\n",
       "      <td>Cynthia</td>\n",
       "      <td>Dawson</td>\n",
       "      <td>Claire</td>\n",
       "      <td>NaN</td>\n",
       "    </tr>\n",
       "    <tr>\n",
       "      <th>1</th>\n",
       "      <td>NaN</td>\n",
       "      <td>NaN</td>\n",
       "      <td>NaN</td>\n",
       "      <td>NaN</td>\n",
       "      <td>20722 Coleman Villages\\nEast Rose, SC 71064-5894</td>\n",
       "      <td>Tamara</td>\n",
       "      <td>Myers</td>\n",
       "      <td>NaN</td>\n",
       "      <td>NaN</td>\n",
       "    </tr>\n",
       "    <tr>\n",
       "      <th>2</th>\n",
       "      <td>New Julie</td>\n",
       "      <td>UT</td>\n",
       "      <td>6676 Young Square</td>\n",
       "      <td>73125</td>\n",
       "      <td>NaN</td>\n",
       "      <td>Jamie</td>\n",
       "      <td>Alexander</td>\n",
       "      <td>NaN</td>\n",
       "      <td>NaN</td>\n",
       "    </tr>\n",
       "    <tr>\n",
       "      <th>3</th>\n",
       "      <td>NaN</td>\n",
       "      <td>NaN</td>\n",
       "      <td>NaN</td>\n",
       "      <td>NaN</td>\n",
       "      <td>0932 Gomez Drives\\nLeefort, MD 46879-3166</td>\n",
       "      <td>Angela</td>\n",
       "      <td>Garcia</td>\n",
       "      <td>Alexis</td>\n",
       "      <td>NaN</td>\n",
       "    </tr>\n",
       "    <tr>\n",
       "      <th>4</th>\n",
       "      <td>East Sharonstad</td>\n",
       "      <td>ME</td>\n",
       "      <td>158 Smith Vista</td>\n",
       "      <td>42483</td>\n",
       "      <td>NaN</td>\n",
       "      <td>Jennifer</td>\n",
       "      <td>Rodriguez</td>\n",
       "      <td>NaN</td>\n",
       "      <td>NaN</td>\n",
       "    </tr>\n",
       "  </tbody>\n",
       "</table>\n",
       "</div>"
      ],
      "text/plain": [
       "      address.city address.state             address.street address.zip  \\\n",
       "0        Hoodburgh            RI  86314 David Pass Apt. 211       83973   \n",
       "1              NaN           NaN                        NaN         NaN   \n",
       "2        New Julie            UT          6676 Young Square       73125   \n",
       "3              NaN           NaN                        NaN         NaN   \n",
       "4  East Sharonstad            ME            158 Smith Vista       42483   \n",
       "\n",
       "                                            address name.firstname  \\\n",
       "0                                               NaN        Cynthia   \n",
       "1  20722 Coleman Villages\\nEast Rose, SC 71064-5894         Tamara   \n",
       "2                                               NaN          Jamie   \n",
       "3         0932 Gomez Drives\\nLeefort, MD 46879-3166         Angela   \n",
       "4                                               NaN       Jennifer   \n",
       "\n",
       "  name.lastname name.middlename name  \n",
       "0        Dawson          Claire  NaN  \n",
       "1         Myers             NaN  NaN  \n",
       "2     Alexander             NaN  NaN  \n",
       "3        Garcia          Alexis  NaN  \n",
       "4     Rodriguez             NaN  NaN  "
      ]
     },
     "execution_count": 9,
     "metadata": {},
     "output_type": "execute_result"
    }
   ],
   "source": [
    "#Invoke the function above \n",
    "df_sub = expand_dict(df_sub, ['address', 'name'])\n",
    "df_sub.head()"
   ]
  },
  {
   "cell_type": "code",
   "execution_count": 10,
   "metadata": {},
   "outputs": [
    {
     "data": {
      "text/plain": [
       "['address',\n",
       " 'address.city',\n",
       " 'address.state',\n",
       " 'address.street',\n",
       " 'address.zip',\n",
       " 'name',\n",
       " 'name.firstname',\n",
       " 'name.lastname',\n",
       " 'name.middlename']"
      ]
     },
     "execution_count": 10,
     "metadata": {},
     "output_type": "execute_result"
    }
   ],
   "source": [
    "# An alphabetical order list of the fields \n",
    "sorted(list(df_sub.columns))"
   ]
  },
  {
   "cell_type": "markdown",
   "metadata": {},
   "source": [
    "## 2. Answer the following questions for each field in your list from question 1.\n",
    "\n",
    "- What percentage of the records contain the field?\n",
    "- What are the five most common values of the field?"
   ]
  },
  {
   "cell_type": "markdown",
   "metadata": {},
   "source": [
    "#### What percentage of the records contain the field?"
   ]
  },
  {
   "cell_type": "code",
   "execution_count": 11,
   "metadata": {
    "collapsed": true
   },
   "outputs": [],
   "source": [
    "def col_percent(dframe):\n",
    "    '''A funciton to loop through columns and return the percentage of populated items.'''\n",
    "    for item in dframe:\n",
    "        print('{} = {:.1f}%'.format(item, 100 *\n",
    "                                    dframe[item].count() / len(dframe)))"
   ]
  },
  {
   "cell_type": "code",
   "execution_count": 12,
   "metadata": {},
   "outputs": [
    {
     "name": "stdout",
     "output_type": "stream",
     "text": [
      "address.city = 41.0%\n",
      "address.state = 41.0%\n",
      "address.street = 41.0%\n",
      "address.zip = 41.0%\n",
      "address = 52.0%\n",
      "name.firstname = 66.0%\n",
      "name.lastname = 66.0%\n",
      "name.middlename = 26.0%\n",
      "name = 34.0%\n"
     ]
    }
   ],
   "source": [
    "# Invoke the function above \n",
    "col_percent(df_sub)"
   ]
  },
  {
   "cell_type": "markdown",
   "metadata": {},
   "source": [
    "#### What are the five most common values of the field?"
   ]
  },
  {
   "cell_type": "code",
   "execution_count": 13,
   "metadata": {
    "collapsed": true
   },
   "outputs": [],
   "source": [
    "# Five most common values in a column\n",
    "def common_values(df, num):\n",
    "    '''Function takes a dataframe and int as input, returns int number of common values'''\n",
    "    for item in df:\n",
    "        # Prints common values as a dataframe\n",
    "        ICD.display(pd.DataFrame(df[item].value_counts().head(num)) )"
   ]
  },
  {
   "cell_type": "code",
   "execution_count": 14,
   "metadata": {},
   "outputs": [
    {
     "data": {
      "text/html": [
       "<div>\n",
       "<table border=\"1\" class=\"dataframe\">\n",
       "  <thead>\n",
       "    <tr style=\"text-align: right;\">\n",
       "      <th></th>\n",
       "      <th>address.city</th>\n",
       "    </tr>\n",
       "  </thead>\n",
       "  <tbody>\n",
       "    <tr>\n",
       "      <th>Natalieton</th>\n",
       "      <td>1</td>\n",
       "    </tr>\n",
       "    <tr>\n",
       "      <th>Michaelchester</th>\n",
       "      <td>1</td>\n",
       "    </tr>\n",
       "    <tr>\n",
       "      <th>West Annaside</th>\n",
       "      <td>1</td>\n",
       "    </tr>\n",
       "    <tr>\n",
       "      <th>Chrisview</th>\n",
       "      <td>1</td>\n",
       "    </tr>\n",
       "    <tr>\n",
       "      <th>Hoodburgh</th>\n",
       "      <td>1</td>\n",
       "    </tr>\n",
       "  </tbody>\n",
       "</table>\n",
       "</div>"
      ],
      "text/plain": [
       "                address.city\n",
       "Natalieton                 1\n",
       "Michaelchester             1\n",
       "West Annaside              1\n",
       "Chrisview                  1\n",
       "Hoodburgh                  1"
      ]
     },
     "metadata": {},
     "output_type": "display_data"
    },
    {
     "data": {
      "text/html": [
       "<div>\n",
       "<table border=\"1\" class=\"dataframe\">\n",
       "  <thead>\n",
       "    <tr style=\"text-align: right;\">\n",
       "      <th></th>\n",
       "      <th>address.state</th>\n",
       "    </tr>\n",
       "  </thead>\n",
       "  <tbody>\n",
       "    <tr>\n",
       "      <th>UT</th>\n",
       "      <td>4</td>\n",
       "    </tr>\n",
       "    <tr>\n",
       "      <th>RI</th>\n",
       "      <td>4</td>\n",
       "    </tr>\n",
       "    <tr>\n",
       "      <th>WY</th>\n",
       "      <td>3</td>\n",
       "    </tr>\n",
       "    <tr>\n",
       "      <th>HI</th>\n",
       "      <td>2</td>\n",
       "    </tr>\n",
       "    <tr>\n",
       "      <th>CT</th>\n",
       "      <td>2</td>\n",
       "    </tr>\n",
       "  </tbody>\n",
       "</table>\n",
       "</div>"
      ],
      "text/plain": [
       "    address.state\n",
       "UT              4\n",
       "RI              4\n",
       "WY              3\n",
       "HI              2\n",
       "CT              2"
      ]
     },
     "metadata": {},
     "output_type": "display_data"
    },
    {
     "data": {
      "text/html": [
       "<div>\n",
       "<table border=\"1\" class=\"dataframe\">\n",
       "  <thead>\n",
       "    <tr style=\"text-align: right;\">\n",
       "      <th></th>\n",
       "      <th>address.street</th>\n",
       "    </tr>\n",
       "  </thead>\n",
       "  <tbody>\n",
       "    <tr>\n",
       "      <th>119 Mullins Pines</th>\n",
       "      <td>1</td>\n",
       "    </tr>\n",
       "    <tr>\n",
       "      <th>280 Angela Turnpike Apt. 158</th>\n",
       "      <td>1</td>\n",
       "    </tr>\n",
       "    <tr>\n",
       "      <th>190 David Extension</th>\n",
       "      <td>1</td>\n",
       "    </tr>\n",
       "    <tr>\n",
       "      <th>561 Cynthia Cliffs Suite 453</th>\n",
       "      <td>1</td>\n",
       "    </tr>\n",
       "    <tr>\n",
       "      <th>01737 Hailey Drives Suite 056</th>\n",
       "      <td>1</td>\n",
       "    </tr>\n",
       "  </tbody>\n",
       "</table>\n",
       "</div>"
      ],
      "text/plain": [
       "                               address.street\n",
       "119 Mullins Pines                           1\n",
       "280 Angela Turnpike Apt. 158                1\n",
       "190 David Extension                         1\n",
       "561 Cynthia Cliffs Suite 453                1\n",
       "01737 Hailey Drives Suite 056               1"
      ]
     },
     "metadata": {},
     "output_type": "display_data"
    },
    {
     "data": {
      "text/html": [
       "<div>\n",
       "<table border=\"1\" class=\"dataframe\">\n",
       "  <thead>\n",
       "    <tr style=\"text-align: right;\">\n",
       "      <th></th>\n",
       "      <th>address.zip</th>\n",
       "    </tr>\n",
       "  </thead>\n",
       "  <tbody>\n",
       "    <tr>\n",
       "      <th>19394-0990</th>\n",
       "      <td>1</td>\n",
       "    </tr>\n",
       "    <tr>\n",
       "      <th>73890</th>\n",
       "      <td>1</td>\n",
       "    </tr>\n",
       "    <tr>\n",
       "      <th>04527</th>\n",
       "      <td>1</td>\n",
       "    </tr>\n",
       "    <tr>\n",
       "      <th>76763-1662</th>\n",
       "      <td>1</td>\n",
       "    </tr>\n",
       "    <tr>\n",
       "      <th>64603</th>\n",
       "      <td>1</td>\n",
       "    </tr>\n",
       "  </tbody>\n",
       "</table>\n",
       "</div>"
      ],
      "text/plain": [
       "            address.zip\n",
       "19394-0990            1\n",
       "73890                 1\n",
       "04527                 1\n",
       "76763-1662            1\n",
       "64603                 1"
      ]
     },
     "metadata": {},
     "output_type": "display_data"
    },
    {
     "data": {
      "text/html": [
       "<div>\n",
       "<table border=\"1\" class=\"dataframe\">\n",
       "  <thead>\n",
       "    <tr style=\"text-align: right;\">\n",
       "      <th></th>\n",
       "      <th>address</th>\n",
       "    </tr>\n",
       "  </thead>\n",
       "  <tbody>\n",
       "    <tr>\n",
       "      <th>9524 Danielle Burg Apt. 849\\nNorth Vickistad, NY 90135</th>\n",
       "      <td>1</td>\n",
       "    </tr>\n",
       "    <tr>\n",
       "      <th>967 White Shoals\\nGabriellechester, MN 17856-8053</th>\n",
       "      <td>1</td>\n",
       "    </tr>\n",
       "    <tr>\n",
       "      <th>353 Saunders Camp Suite 140\\nBryanttown, LA 05531-4786</th>\n",
       "      <td>1</td>\n",
       "    </tr>\n",
       "    <tr>\n",
       "      <th>02791 Vargas Gardens\\nSouth Victorborough, ND 43425</th>\n",
       "      <td>1</td>\n",
       "    </tr>\n",
       "    <tr>\n",
       "      <th>PSC 9738, Box 3367\\nAPO AE 85789</th>\n",
       "      <td>1</td>\n",
       "    </tr>\n",
       "  </tbody>\n",
       "</table>\n",
       "</div>"
      ],
      "text/plain": [
       "                                                    address\n",
       "9524 Danielle Burg Apt. 849\\nNorth Vickistad, N...        1\n",
       "967 White Shoals\\nGabriellechester, MN 17856-8053         1\n",
       "353 Saunders Camp Suite 140\\nBryanttown, LA 055...        1\n",
       "02791 Vargas Gardens\\nSouth Victorborough, ND 4...        1\n",
       "PSC 9738, Box 3367\\nAPO AE 85789                          1"
      ]
     },
     "metadata": {},
     "output_type": "display_data"
    },
    {
     "data": {
      "text/html": [
       "<div>\n",
       "<table border=\"1\" class=\"dataframe\">\n",
       "  <thead>\n",
       "    <tr style=\"text-align: right;\">\n",
       "      <th></th>\n",
       "      <th>name.firstname</th>\n",
       "    </tr>\n",
       "  </thead>\n",
       "  <tbody>\n",
       "    <tr>\n",
       "      <th>Robert</th>\n",
       "      <td>3</td>\n",
       "    </tr>\n",
       "    <tr>\n",
       "      <th>Kevin</th>\n",
       "      <td>2</td>\n",
       "    </tr>\n",
       "    <tr>\n",
       "      <th>Steven</th>\n",
       "      <td>2</td>\n",
       "    </tr>\n",
       "    <tr>\n",
       "      <th>Brandon</th>\n",
       "      <td>2</td>\n",
       "    </tr>\n",
       "    <tr>\n",
       "      <th>Eric</th>\n",
       "      <td>2</td>\n",
       "    </tr>\n",
       "  </tbody>\n",
       "</table>\n",
       "</div>"
      ],
      "text/plain": [
       "         name.firstname\n",
       "Robert                3\n",
       "Kevin                 2\n",
       "Steven                2\n",
       "Brandon               2\n",
       "Eric                  2"
      ]
     },
     "metadata": {},
     "output_type": "display_data"
    },
    {
     "data": {
      "text/html": [
       "<div>\n",
       "<table border=\"1\" class=\"dataframe\">\n",
       "  <thead>\n",
       "    <tr style=\"text-align: right;\">\n",
       "      <th></th>\n",
       "      <th>name.lastname</th>\n",
       "    </tr>\n",
       "  </thead>\n",
       "  <tbody>\n",
       "    <tr>\n",
       "      <th>Davis</th>\n",
       "      <td>3</td>\n",
       "    </tr>\n",
       "    <tr>\n",
       "      <th>Chapman</th>\n",
       "      <td>2</td>\n",
       "    </tr>\n",
       "    <tr>\n",
       "      <th>Garcia</th>\n",
       "      <td>2</td>\n",
       "    </tr>\n",
       "    <tr>\n",
       "      <th>Hall</th>\n",
       "      <td>2</td>\n",
       "    </tr>\n",
       "    <tr>\n",
       "      <th>Gonzalez</th>\n",
       "      <td>2</td>\n",
       "    </tr>\n",
       "  </tbody>\n",
       "</table>\n",
       "</div>"
      ],
      "text/plain": [
       "          name.lastname\n",
       "Davis                 3\n",
       "Chapman               2\n",
       "Garcia                2\n",
       "Hall                  2\n",
       "Gonzalez              2"
      ]
     },
     "metadata": {},
     "output_type": "display_data"
    },
    {
     "data": {
      "text/html": [
       "<div>\n",
       "<table border=\"1\" class=\"dataframe\">\n",
       "  <thead>\n",
       "    <tr style=\"text-align: right;\">\n",
       "      <th></th>\n",
       "      <th>name.middlename</th>\n",
       "    </tr>\n",
       "  </thead>\n",
       "  <tbody>\n",
       "    <tr>\n",
       "      <th>David</th>\n",
       "      <td>2</td>\n",
       "    </tr>\n",
       "    <tr>\n",
       "      <th>Gabrielle</th>\n",
       "      <td>1</td>\n",
       "    </tr>\n",
       "    <tr>\n",
       "      <th>Bryan</th>\n",
       "      <td>1</td>\n",
       "    </tr>\n",
       "    <tr>\n",
       "      <th>Dillon</th>\n",
       "      <td>1</td>\n",
       "    </tr>\n",
       "    <tr>\n",
       "      <th>Charles</th>\n",
       "      <td>1</td>\n",
       "    </tr>\n",
       "  </tbody>\n",
       "</table>\n",
       "</div>"
      ],
      "text/plain": [
       "           name.middlename\n",
       "David                    2\n",
       "Gabrielle                1\n",
       "Bryan                    1\n",
       "Dillon                   1\n",
       "Charles                  1"
      ]
     },
     "metadata": {},
     "output_type": "display_data"
    },
    {
     "data": {
      "text/html": [
       "<div>\n",
       "<table border=\"1\" class=\"dataframe\">\n",
       "  <thead>\n",
       "    <tr style=\"text-align: right;\">\n",
       "      <th></th>\n",
       "      <th>name</th>\n",
       "    </tr>\n",
       "  </thead>\n",
       "  <tbody>\n",
       "    <tr>\n",
       "      <th>Billy Carter</th>\n",
       "      <td>1</td>\n",
       "    </tr>\n",
       "    <tr>\n",
       "      <th>Mr. John Brock MD</th>\n",
       "      <td>1</td>\n",
       "    </tr>\n",
       "    <tr>\n",
       "      <th>Eric Cain</th>\n",
       "      <td>1</td>\n",
       "    </tr>\n",
       "    <tr>\n",
       "      <th>Barbara Harris</th>\n",
       "      <td>1</td>\n",
       "    </tr>\n",
       "    <tr>\n",
       "      <th>Alisha Murray</th>\n",
       "      <td>1</td>\n",
       "    </tr>\n",
       "  </tbody>\n",
       "</table>\n",
       "</div>"
      ],
      "text/plain": [
       "                   name\n",
       "Billy Carter          1\n",
       "Mr. John Brock MD     1\n",
       "Eric Cain             1\n",
       "Barbara Harris        1\n",
       "Alisha Murray         1"
      ]
     },
     "metadata": {},
     "output_type": "display_data"
    }
   ],
   "source": [
    "common_values(df_sub,5)"
   ]
  },
  {
   "cell_type": "markdown",
   "metadata": {
    "collapsed": true
   },
   "source": [
    "## 3. How many distinct first names appear in this data set? Explain your procedure for identifying distinct first names."
   ]
  },
  {
   "cell_type": "markdown",
   "metadata": {},
   "source": [
    "Used the unique() method on the 'name.namefirst' column. With more time I would have parsed out the first names strings in the 'name' column. "
   ]
  },
  {
   "cell_type": "code",
   "execution_count": 15,
   "metadata": {},
   "outputs": [
    {
     "data": {
      "text/plain": [
       "array(['Cynthia', 'Tamara', 'Jamie', 'Angela', 'Jennifer', 'Keith',\n",
       "       'Shane', 'Charles', nan, 'Amanda', 'Adrian', 'Tiffany', 'Peter',\n",
       "       'Steven', 'Lindsay', 'Sara', 'Amy', 'Christopher', 'Melissa',\n",
       "       'Crystal', 'Mallory', 'Elizabeth', 'Richard', 'Jonathan', 'Nicole',\n",
       "       'Michael', 'Robert', 'Ryan', 'Mary', 'Brooke', 'Daniel', 'Calvin',\n",
       "       'Brandon', 'Laurie', 'Ashley', 'Brent', 'Kevin', 'Eric', 'Deborah',\n",
       "       'Christine', 'Joseph', 'Donald', 'Jeff', 'Nathan', 'Martin', 'Lisa',\n",
       "       'Ricky', 'Casey', 'Stacy', 'Matthew', 'Cassidy', 'Jenna', 'Mark',\n",
       "       'Brad', 'Stephanie', 'John', 'Lauren', 'Veronica'], dtype=object)"
      ]
     },
     "execution_count": 15,
     "metadata": {},
     "output_type": "execute_result"
    }
   ],
   "source": [
    "df_sub['name.firstname'].unique()"
   ]
  },
  {
   "cell_type": "code",
   "execution_count": 144,
   "metadata": {},
   "outputs": [
    {
     "data": {
      "text/plain": [
       "58"
      ]
     },
     "execution_count": 144,
     "metadata": {},
     "output_type": "execute_result"
    }
   ],
   "source": [
    "len(df_sub['name.firstname'].unique())"
   ]
  },
  {
   "cell_type": "markdown",
   "metadata": {},
   "source": [
    "## 4. How many distinct street names appear in this data set? Explain your procedure for identifying distinct street names.\n"
   ]
  },
  {
   "cell_type": "code",
   "execution_count": 75,
   "metadata": {},
   "outputs": [
    {
     "data": {
      "text/html": [
       "<div>\n",
       "<table border=\"1\" class=\"dataframe\">\n",
       "  <thead>\n",
       "    <tr style=\"text-align: right;\">\n",
       "      <th></th>\n",
       "      <th>address.street</th>\n",
       "    </tr>\n",
       "  </thead>\n",
       "  <tbody>\n",
       "    <tr>\n",
       "      <th>0</th>\n",
       "      <td>86314 David Pass Apt. 211</td>\n",
       "    </tr>\n",
       "    <tr>\n",
       "      <th>2</th>\n",
       "      <td>6676 Young Square</td>\n",
       "    </tr>\n",
       "    <tr>\n",
       "      <th>4</th>\n",
       "      <td>158 Smith Vista</td>\n",
       "    </tr>\n",
       "    <tr>\n",
       "      <th>5</th>\n",
       "      <td>461 Knapp Unions</td>\n",
       "    </tr>\n",
       "    <tr>\n",
       "      <th>8</th>\n",
       "      <td>3697 Mills Estates Apt. 499</td>\n",
       "    </tr>\n",
       "  </tbody>\n",
       "</table>\n",
       "</div>"
      ],
      "text/plain": [
       "                address.street\n",
       "0    86314 David Pass Apt. 211\n",
       "2            6676 Young Square\n",
       "4              158 Smith Vista\n",
       "5             461 Knapp Unions\n",
       "8  3697 Mills Estates Apt. 499"
      ]
     },
     "execution_count": 75,
     "metadata": {},
     "output_type": "execute_result"
    }
   ],
   "source": [
    "# Copy the address.street column to capture street addresses.\n",
    "df_street = df_sub[['address.street']].copy()\n",
    "df_street.dropna(inplace=True)\n",
    "df_street.head()"
   ]
  },
  {
   "cell_type": "code",
   "execution_count": 72,
   "metadata": {},
   "outputs": [
    {
     "data": {
      "text/plain": [
       "' David Pass '"
      ]
     },
     "execution_count": 72,
     "metadata": {},
     "output_type": "execute_result"
    }
   ],
   "source": [
    "a = df_street['address.street'][0]\n",
    "re.sub(\"\\d+\", \"\", a.split('Apt', 1)[0])"
   ]
  },
  {
   "cell_type": "code",
   "execution_count": 76,
   "metadata": {
    "collapsed": true
   },
   "outputs": [],
   "source": [
    "# Remove Apt, Suite, numbers from street address column \n",
    "df_street['address.street'] = df_street['address.street'].apply(lambda x: re.sub(\"\\d+\", \"\", x.split('Apt', 1)[0]))"
   ]
  },
  {
   "cell_type": "code",
   "execution_count": 77,
   "metadata": {},
   "outputs": [
    {
     "data": {
      "text/plain": [
       "0                   David Pass \n",
       "2                  Young Square\n",
       "4                   Smith Vista\n",
       "5                  Knapp Unions\n",
       "8                Mills Estates \n",
       "10         Hailey Drives Suite \n",
       "12                 Baker Branch\n",
       "13      Bennett Motorway Suite \n",
       "14         Matthew Ports Suite \n",
       "16              Timothy Viaduct\n",
       "20     Dominguez Islands Suite \n",
       "21               Matthew Courts\n",
       "26                 Lloyd Canyon\n",
       "27                Garcia Rapids\n",
       "30                  Paul Plaza \n",
       "36           Barnes Loaf Suite \n",
       "41               Mccarthy Hill \n",
       "45                  Justin Spur\n",
       "49                Miller Street\n",
       "50       Osborne Village Suite \n",
       "53       Campbell Groves Suite \n",
       "54                Mullins Pines\n",
       "55               Graham Meadows\n",
       "56                  Solis Loop \n",
       "58                  Jason Lane \n",
       "60         Bender Common Suite \n",
       "64                    Ward Lake\n",
       "67          Kenneth Trafficway \n",
       "68               Elizabeth View\n",
       "69             Kimberly Plains \n",
       "71            Cook Parks Suite \n",
       "75              David Extension\n",
       "77      Stephanie Avenue Suite \n",
       "80        Cynthia Cliffs Suite \n",
       "82             Angela Turnpike \n",
       "84         Vargas Common Suite \n",
       "86                Barrett Camp \n",
       "91           Jordan Mall Suite \n",
       "97       Phillips Tunnel Suite \n",
       "98                    Fox Trace\n",
       "99           Mcclure Crossroad \n",
       "Name: address.street, dtype: object"
      ]
     },
     "execution_count": 77,
     "metadata": {},
     "output_type": "execute_result"
    }
   ],
   "source": [
    "df_street['address.street']"
   ]
  },
  {
   "cell_type": "code",
   "execution_count": 80,
   "metadata": {
    "collapsed": true
   },
   "outputs": [],
   "source": [
    "def street_names(df, suffix_list):\n",
    "    '''A function to return the distinct street names. It takes a dataframe column as input. It removes street, Apt., and Suite numbers '''\n",
    "    df_street['address.street'] = df_street['address.street'].apply(lambda x: re.sub(\"\\d+\", \"\", x.split('Apt', 1)[0]))\n",
    "    return [item for item in suffix_list]"
   ]
  },
  {
   "cell_type": "code",
   "execution_count": 81,
   "metadata": {},
   "outputs": [
    {
     "data": {
      "text/plain": [
       "['Apt', 'Suite']"
      ]
     },
     "execution_count": 81,
     "metadata": {},
     "output_type": "execute_result"
    }
   ],
   "source": [
    "street_names(df, ['Apt', 'Suite'])"
   ]
  },
  {
   "cell_type": "markdown",
   "metadata": {},
   "source": [
    "## 5. What are the 5 most common US area codes in the phone number field? Explain your approach to identify the US area codes in this data set.\n",
    "To do: remove special charectors. Remove extensions from end starting with x, then remove last 7 numbers, then last three will be area code. "
   ]
  },
  {
   "cell_type": "code",
   "execution_count": null,
   "metadata": {
    "collapsed": true
   },
   "outputs": [],
   "source": []
  }
 ],
 "metadata": {
  "kernelspec": {
   "display_name": "Python 3",
   "language": "python",
   "name": "python3"
  },
  "language_info": {
   "codemirror_mode": {
    "name": "ipython",
    "version": 3
   },
   "file_extension": ".py",
   "mimetype": "text/x-python",
   "name": "python",
   "nbconvert_exporter": "python",
   "pygments_lexer": "ipython3",
   "version": "3.6.3"
  }
 },
 "nbformat": 4,
 "nbformat_minor": 2
}

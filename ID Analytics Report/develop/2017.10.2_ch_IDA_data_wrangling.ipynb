{
 "cells": [
  {
   "cell_type": "code",
   "execution_count": 1,
   "metadata": {
    "collapsed": true
   },
   "outputs": [],
   "source": [
    "import json_lines\n",
    "import pandas as pd\n",
    "import numpy as np\n",
    "import seaborn as sns\n",
    "import warnings\n",
    "warnings.filterwarnings(\"ignore\")"
   ]
  },
  {
   "cell_type": "code",
   "execution_count": 2,
   "metadata": {
    "collapsed": true
   },
   "outputs": [],
   "source": [
    "# Load data into list, and then load to dataframe\n",
    "with json_lines.open('../data/ida_wrangling_exercise_data.2017-02-13.jsonl.gz') as f:\n",
    "    data = [item for item in f]\n",
    "    df = pd.DataFrame(data)"
   ]
  },
  {
   "cell_type": "markdown",
   "metadata": {},
   "source": [
    "## Data exploration "
   ]
  },
  {
   "cell_type": "code",
   "execution_count": 3,
   "metadata": {},
   "outputs": [
    {
     "data": {
      "text/html": [
       "<div>\n",
       "<table border=\"1\" class=\"dataframe\">\n",
       "  <thead>\n",
       "    <tr style=\"text-align: right;\">\n",
       "      <th></th>\n",
       "      <th>address</th>\n",
       "      <th>dob</th>\n",
       "      <th>email</th>\n",
       "      <th>id</th>\n",
       "      <th>name</th>\n",
       "      <th>phone</th>\n",
       "      <th>record_date</th>\n",
       "      <th>ssn</th>\n",
       "    </tr>\n",
       "  </thead>\n",
       "  <tbody>\n",
       "    <tr>\n",
       "      <th>0</th>\n",
       "      <td>{'street': '86314 David Pass Apt. 211', 'city'...</td>\n",
       "      <td>1971-06-30</td>\n",
       "      <td>opark@hotmail.com</td>\n",
       "      <td>01d68a4c598a45559c06f4df0b3d82cb</td>\n",
       "      <td>{'firstname': 'Cynthia', 'lastname': 'Dawson',...</td>\n",
       "      <td>624-869-4610</td>\n",
       "      <td>2006-07-08T09:02:13</td>\n",
       "      <td>xxx-xx-2412</td>\n",
       "    </tr>\n",
       "    <tr>\n",
       "      <th>1</th>\n",
       "      <td>20722 Coleman Villages\\nEast Rose, SC 71064-5894</td>\n",
       "      <td>1965-09-09</td>\n",
       "      <td>sperez@armstrong.com</td>\n",
       "      <td>876ff718291d4397bb1e0477ceee6ad9</td>\n",
       "      <td>{'firstname': 'Tamara', 'lastname': 'Myers'}</td>\n",
       "      <td>1-594-462-7759</td>\n",
       "      <td>2009-03-28T20:22:57</td>\n",
       "      <td>xxx-xx-8025</td>\n",
       "    </tr>\n",
       "    <tr>\n",
       "      <th>2</th>\n",
       "      <td>{'street': '6676 Young Square', 'city': 'New J...</td>\n",
       "      <td>1993-04-12</td>\n",
       "      <td>uortiz@gmail.com</td>\n",
       "      <td>81753097bf7e4e2085982f422bdb9cda</td>\n",
       "      <td>{'firstname': 'Jamie', 'lastname': 'Alexander'}</td>\n",
       "      <td>472.218.5065x389</td>\n",
       "      <td>2016-08-30T20:31:39</td>\n",
       "      <td>xxx-xx-0568</td>\n",
       "    </tr>\n",
       "    <tr>\n",
       "      <th>3</th>\n",
       "      <td>0932 Gomez Drives\\nLeefort, MD 46879-3166</td>\n",
       "      <td>1977-04-14</td>\n",
       "      <td>palmerdiane@yahoo.com</td>\n",
       "      <td>2c2f7154b80f40ca80d08c5adc54ea45</td>\n",
       "      <td>{'firstname': 'Angela', 'lastname': 'Garcia', ...</td>\n",
       "      <td>1-663-109-4460x1080</td>\n",
       "      <td>2001-02-15T18:50:35</td>\n",
       "      <td>xxx-xx-9825</td>\n",
       "    </tr>\n",
       "    <tr>\n",
       "      <th>4</th>\n",
       "      <td>{'street': '158 Smith Vista', 'city': 'East Sh...</td>\n",
       "      <td>1970-03-19</td>\n",
       "      <td>nancymaxwell@gmail.com</td>\n",
       "      <td>4f5263f339694d068e17ee7fdbb852b8</td>\n",
       "      <td>{'firstname': 'Jennifer', 'lastname': 'Rodrigu...</td>\n",
       "      <td>233-423-3823</td>\n",
       "      <td>2014-06-21T14:36:01</td>\n",
       "      <td>xxx-xx-9104</td>\n",
       "    </tr>\n",
       "  </tbody>\n",
       "</table>\n",
       "</div>"
      ],
      "text/plain": [
       "                                             address         dob  \\\n",
       "0  {'street': '86314 David Pass Apt. 211', 'city'...  1971-06-30   \n",
       "1   20722 Coleman Villages\\nEast Rose, SC 71064-5894  1965-09-09   \n",
       "2  {'street': '6676 Young Square', 'city': 'New J...  1993-04-12   \n",
       "3          0932 Gomez Drives\\nLeefort, MD 46879-3166  1977-04-14   \n",
       "4  {'street': '158 Smith Vista', 'city': 'East Sh...  1970-03-19   \n",
       "\n",
       "                    email                                id  \\\n",
       "0       opark@hotmail.com  01d68a4c598a45559c06f4df0b3d82cb   \n",
       "1    sperez@armstrong.com  876ff718291d4397bb1e0477ceee6ad9   \n",
       "2        uortiz@gmail.com  81753097bf7e4e2085982f422bdb9cda   \n",
       "3   palmerdiane@yahoo.com  2c2f7154b80f40ca80d08c5adc54ea45   \n",
       "4  nancymaxwell@gmail.com  4f5263f339694d068e17ee7fdbb852b8   \n",
       "\n",
       "                                                name                phone  \\\n",
       "0  {'firstname': 'Cynthia', 'lastname': 'Dawson',...         624-869-4610   \n",
       "1       {'firstname': 'Tamara', 'lastname': 'Myers'}       1-594-462-7759   \n",
       "2    {'firstname': 'Jamie', 'lastname': 'Alexander'}     472.218.5065x389   \n",
       "3  {'firstname': 'Angela', 'lastname': 'Garcia', ...  1-663-109-4460x1080   \n",
       "4  {'firstname': 'Jennifer', 'lastname': 'Rodrigu...         233-423-3823   \n",
       "\n",
       "           record_date          ssn  \n",
       "0  2006-07-08T09:02:13  xxx-xx-2412  \n",
       "1  2009-03-28T20:22:57  xxx-xx-8025  \n",
       "2  2016-08-30T20:31:39  xxx-xx-0568  \n",
       "3  2001-02-15T18:50:35  xxx-xx-9825  \n",
       "4  2014-06-21T14:36:01  xxx-xx-9104  "
      ]
     },
     "execution_count": 3,
     "metadata": {},
     "output_type": "execute_result"
    }
   ],
   "source": [
    "df.head()"
   ]
  },
  {
   "cell_type": "code",
   "execution_count": 4,
   "metadata": {},
   "outputs": [
    {
     "data": {
      "text/plain": [
       "'Number of rows 150000 '"
      ]
     },
     "execution_count": 4,
     "metadata": {},
     "output_type": "execute_result"
    }
   ],
   "source": [
    "'Number of rows {} '.format(len(df))"
   ]
  },
  {
   "cell_type": "markdown",
   "metadata": {},
   "source": [
    "This initial dataframe has 150,000 entries. Some of the fields (e.g. address and name) are recorded as dictionaries and strings. Let's start working with a subset (first 100 entries ) of the data frame. Truncating the dataframe will speed up initial code experimentation. "
   ]
  },
  {
   "cell_type": "markdown",
   "metadata": {},
   "source": [
    "### Operating on subset of data "
   ]
  },
  {
   "cell_type": "code",
   "execution_count": 5,
   "metadata": {
    "collapsed": true
   },
   "outputs": [],
   "source": [
    "# Subset wtih first 100 entries of dataframe\n",
    "df_sub = df[0:100].copy()"
   ]
  },
  {
   "cell_type": "markdown",
   "metadata": {
    "collapsed": true
   },
   "source": [
    "### 1. Start by making a list of all of the nested named fields that appear in any record. Concatenate nested field names using a period '.' to defind named fields for nested records. Present the list in alphabetical order."
   ]
  },
  {
   "cell_type": "code",
   "execution_count": 6,
   "metadata": {
    "collapsed": true
   },
   "outputs": [],
   "source": [
    "def expand_dict(dframe, dict_names):\n",
    "    \"\"\"This function will take a dataframe and dictionary list as inputs. \n",
    "    It will convert dictionary keys into seperate columns within the same dataframe by invoking the apply method.\n",
    "    It returns the original dataframe with concatenated columns in alphabetical order\"\"\"\n",
    "\n",
    "    # Iterate through list of dictionaries\n",
    "    for item in dict_names:\n",
    "        # Exand dictionary keys into columns\n",
    "        dframe = pd.concat([dframe, dframe[item].apply(pd.Series).add_prefix(\n",
    "            (item + '.'))], axis=1)\n",
    "\n",
    "        # Drops extra generated column from apply method\n",
    "        dframe.drop(item + '.0', axis=1, inplace=True)\n",
    "    return dframe"
   ]
  },
  {
   "cell_type": "code",
   "execution_count": 7,
   "metadata": {},
   "outputs": [
    {
     "data": {
      "text/html": [
       "<div>\n",
       "<table border=\"1\" class=\"dataframe\">\n",
       "  <thead>\n",
       "    <tr style=\"text-align: right;\">\n",
       "      <th></th>\n",
       "      <th>address</th>\n",
       "      <th>dob</th>\n",
       "      <th>email</th>\n",
       "      <th>id</th>\n",
       "      <th>name</th>\n",
       "      <th>phone</th>\n",
       "      <th>record_date</th>\n",
       "      <th>ssn</th>\n",
       "      <th>address.city</th>\n",
       "      <th>address.state</th>\n",
       "      <th>address.street</th>\n",
       "      <th>address.zip</th>\n",
       "      <th>name.firstname</th>\n",
       "      <th>name.lastname</th>\n",
       "      <th>name.middlename</th>\n",
       "    </tr>\n",
       "  </thead>\n",
       "  <tbody>\n",
       "    <tr>\n",
       "      <th>0</th>\n",
       "      <td>{'street': '86314 David Pass Apt. 211', 'city'...</td>\n",
       "      <td>1971-06-30</td>\n",
       "      <td>opark@hotmail.com</td>\n",
       "      <td>01d68a4c598a45559c06f4df0b3d82cb</td>\n",
       "      <td>{'firstname': 'Cynthia', 'lastname': 'Dawson',...</td>\n",
       "      <td>624-869-4610</td>\n",
       "      <td>2006-07-08T09:02:13</td>\n",
       "      <td>xxx-xx-2412</td>\n",
       "      <td>Hoodburgh</td>\n",
       "      <td>RI</td>\n",
       "      <td>86314 David Pass Apt. 211</td>\n",
       "      <td>83973</td>\n",
       "      <td>Cynthia</td>\n",
       "      <td>Dawson</td>\n",
       "      <td>Claire</td>\n",
       "    </tr>\n",
       "    <tr>\n",
       "      <th>1</th>\n",
       "      <td>20722 Coleman Villages\\nEast Rose, SC 71064-5894</td>\n",
       "      <td>1965-09-09</td>\n",
       "      <td>sperez@armstrong.com</td>\n",
       "      <td>876ff718291d4397bb1e0477ceee6ad9</td>\n",
       "      <td>{'firstname': 'Tamara', 'lastname': 'Myers'}</td>\n",
       "      <td>1-594-462-7759</td>\n",
       "      <td>2009-03-28T20:22:57</td>\n",
       "      <td>xxx-xx-8025</td>\n",
       "      <td>NaN</td>\n",
       "      <td>NaN</td>\n",
       "      <td>NaN</td>\n",
       "      <td>NaN</td>\n",
       "      <td>Tamara</td>\n",
       "      <td>Myers</td>\n",
       "      <td>NaN</td>\n",
       "    </tr>\n",
       "    <tr>\n",
       "      <th>2</th>\n",
       "      <td>{'street': '6676 Young Square', 'city': 'New J...</td>\n",
       "      <td>1993-04-12</td>\n",
       "      <td>uortiz@gmail.com</td>\n",
       "      <td>81753097bf7e4e2085982f422bdb9cda</td>\n",
       "      <td>{'firstname': 'Jamie', 'lastname': 'Alexander'}</td>\n",
       "      <td>472.218.5065x389</td>\n",
       "      <td>2016-08-30T20:31:39</td>\n",
       "      <td>xxx-xx-0568</td>\n",
       "      <td>New Julie</td>\n",
       "      <td>UT</td>\n",
       "      <td>6676 Young Square</td>\n",
       "      <td>73125</td>\n",
       "      <td>Jamie</td>\n",
       "      <td>Alexander</td>\n",
       "      <td>NaN</td>\n",
       "    </tr>\n",
       "    <tr>\n",
       "      <th>3</th>\n",
       "      <td>0932 Gomez Drives\\nLeefort, MD 46879-3166</td>\n",
       "      <td>1977-04-14</td>\n",
       "      <td>palmerdiane@yahoo.com</td>\n",
       "      <td>2c2f7154b80f40ca80d08c5adc54ea45</td>\n",
       "      <td>{'firstname': 'Angela', 'lastname': 'Garcia', ...</td>\n",
       "      <td>1-663-109-4460x1080</td>\n",
       "      <td>2001-02-15T18:50:35</td>\n",
       "      <td>xxx-xx-9825</td>\n",
       "      <td>NaN</td>\n",
       "      <td>NaN</td>\n",
       "      <td>NaN</td>\n",
       "      <td>NaN</td>\n",
       "      <td>Angela</td>\n",
       "      <td>Garcia</td>\n",
       "      <td>Alexis</td>\n",
       "    </tr>\n",
       "    <tr>\n",
       "      <th>4</th>\n",
       "      <td>{'street': '158 Smith Vista', 'city': 'East Sh...</td>\n",
       "      <td>1970-03-19</td>\n",
       "      <td>nancymaxwell@gmail.com</td>\n",
       "      <td>4f5263f339694d068e17ee7fdbb852b8</td>\n",
       "      <td>{'firstname': 'Jennifer', 'lastname': 'Rodrigu...</td>\n",
       "      <td>233-423-3823</td>\n",
       "      <td>2014-06-21T14:36:01</td>\n",
       "      <td>xxx-xx-9104</td>\n",
       "      <td>East Sharonstad</td>\n",
       "      <td>ME</td>\n",
       "      <td>158 Smith Vista</td>\n",
       "      <td>42483</td>\n",
       "      <td>Jennifer</td>\n",
       "      <td>Rodriguez</td>\n",
       "      <td>NaN</td>\n",
       "    </tr>\n",
       "  </tbody>\n",
       "</table>\n",
       "</div>"
      ],
      "text/plain": [
       "                                             address         dob  \\\n",
       "0  {'street': '86314 David Pass Apt. 211', 'city'...  1971-06-30   \n",
       "1   20722 Coleman Villages\\nEast Rose, SC 71064-5894  1965-09-09   \n",
       "2  {'street': '6676 Young Square', 'city': 'New J...  1993-04-12   \n",
       "3          0932 Gomez Drives\\nLeefort, MD 46879-3166  1977-04-14   \n",
       "4  {'street': '158 Smith Vista', 'city': 'East Sh...  1970-03-19   \n",
       "\n",
       "                    email                                id  \\\n",
       "0       opark@hotmail.com  01d68a4c598a45559c06f4df0b3d82cb   \n",
       "1    sperez@armstrong.com  876ff718291d4397bb1e0477ceee6ad9   \n",
       "2        uortiz@gmail.com  81753097bf7e4e2085982f422bdb9cda   \n",
       "3   palmerdiane@yahoo.com  2c2f7154b80f40ca80d08c5adc54ea45   \n",
       "4  nancymaxwell@gmail.com  4f5263f339694d068e17ee7fdbb852b8   \n",
       "\n",
       "                                                name                phone  \\\n",
       "0  {'firstname': 'Cynthia', 'lastname': 'Dawson',...         624-869-4610   \n",
       "1       {'firstname': 'Tamara', 'lastname': 'Myers'}       1-594-462-7759   \n",
       "2    {'firstname': 'Jamie', 'lastname': 'Alexander'}     472.218.5065x389   \n",
       "3  {'firstname': 'Angela', 'lastname': 'Garcia', ...  1-663-109-4460x1080   \n",
       "4  {'firstname': 'Jennifer', 'lastname': 'Rodrigu...         233-423-3823   \n",
       "\n",
       "           record_date          ssn     address.city address.state  \\\n",
       "0  2006-07-08T09:02:13  xxx-xx-2412        Hoodburgh            RI   \n",
       "1  2009-03-28T20:22:57  xxx-xx-8025              NaN           NaN   \n",
       "2  2016-08-30T20:31:39  xxx-xx-0568        New Julie            UT   \n",
       "3  2001-02-15T18:50:35  xxx-xx-9825              NaN           NaN   \n",
       "4  2014-06-21T14:36:01  xxx-xx-9104  East Sharonstad            ME   \n",
       "\n",
       "              address.street address.zip name.firstname name.lastname  \\\n",
       "0  86314 David Pass Apt. 211       83973        Cynthia        Dawson   \n",
       "1                        NaN         NaN         Tamara         Myers   \n",
       "2          6676 Young Square       73125          Jamie     Alexander   \n",
       "3                        NaN         NaN         Angela        Garcia   \n",
       "4            158 Smith Vista       42483       Jennifer     Rodriguez   \n",
       "\n",
       "  name.middlename  \n",
       "0          Claire  \n",
       "1             NaN  \n",
       "2             NaN  \n",
       "3          Alexis  \n",
       "4             NaN  "
      ]
     },
     "execution_count": 7,
     "metadata": {},
     "output_type": "execute_result"
    }
   ],
   "source": [
    "#Invoke the function above \n",
    "df_sub = expand_dict(df_sub, ['address', 'name'])\n",
    "df_sub.head()"
   ]
  },
  {
   "cell_type": "markdown",
   "metadata": {},
   "source": [
    "### 2. Answer the following questions for each field in your list from question 1.\n",
    "\n",
    "- What percentage of the records contain the field?\n",
    "- What are the five most common values of the field?"
   ]
  },
  {
   "cell_type": "code",
   "execution_count": 8,
   "metadata": {
    "collapsed": true
   },
   "outputs": [],
   "source": [
    "\n",
    "def col_percent(dframe):\n",
    "    '''A funciton to loop through columns and return the percentage of populated items.'''\n",
    "    for item in dframe:\n",
    "        print('{} = {:.1f}%'.format(item, 100 *\n",
    "                                    dframe[item].count() / len(dframe)))"
   ]
  },
  {
   "cell_type": "code",
   "execution_count": 9,
   "metadata": {},
   "outputs": [
    {
     "name": "stdout",
     "output_type": "stream",
     "text": [
      "address = 93.0%\n",
      "dob = 99.0%\n",
      "email = 81.0%\n",
      "id = 100.0%\n",
      "name = 100.0%\n",
      "phone = 93.0%\n",
      "record_date = 100.0%\n",
      "ssn = 96.0%\n",
      "address.city = 41.0%\n",
      "address.state = 41.0%\n",
      "address.street = 41.0%\n",
      "address.zip = 41.0%\n",
      "name.firstname = 66.0%\n",
      "name.lastname = 66.0%\n",
      "name.middlename = 26.0%\n"
     ]
    }
   ],
   "source": [
    "# Invoke the function above \n",
    "col_percent(df_sub)"
   ]
  },
  {
   "cell_type": "code",
   "execution_count": 29,
   "metadata": {},
   "outputs": [
    {
     "data": {
      "text/plain": [
       "UT    4\n",
       "RI    4\n",
       "WY    3\n",
       "CT    2\n",
       "LA    2\n",
       "Name: address.state, dtype: int64"
      ]
     },
     "execution_count": 29,
     "metadata": {},
     "output_type": "execute_result"
    }
   ],
   "source": [
    "#Five most common values in a column\n",
    "df_sub['address.state'].value_counts().head(5)"
   ]
  },
  {
   "cell_type": "code",
   "execution_count": 26,
   "metadata": {},
   "outputs": [
    {
     "data": {
      "text/html": [
       "<div>\n",
       "<table border=\"1\" class=\"dataframe\">\n",
       "  <thead>\n",
       "    <tr style=\"text-align: right;\">\n",
       "      <th></th>\n",
       "      <th>address.state</th>\n",
       "      <th>name.firstname</th>\n",
       "    </tr>\n",
       "  </thead>\n",
       "  <tbody>\n",
       "    <tr>\n",
       "      <th>0</th>\n",
       "      <td>RI</td>\n",
       "      <td>Robert</td>\n",
       "    </tr>\n",
       "    <tr>\n",
       "      <th>1</th>\n",
       "      <td>UT</td>\n",
       "      <td>NaN</td>\n",
       "    </tr>\n",
       "  </tbody>\n",
       "</table>\n",
       "</div>"
      ],
      "text/plain": [
       "  address.state name.firstname\n",
       "0            RI         Robert\n",
       "1            UT            NaN"
      ]
     },
     "execution_count": 26,
     "metadata": {},
     "output_type": "execute_result"
    }
   ],
   "source": [
    "df_sub[['address.state', 'name.firstname']].mode()"
   ]
  },
  {
   "cell_type": "code",
   "execution_count": 57,
   "metadata": {},
   "outputs": [
    {
     "ename": "SyntaxError",
     "evalue": "unexpected EOF while parsing (<ipython-input-57-1695a81cecf8>, line 4)",
     "output_type": "error",
     "traceback": [
      "\u001b[0;36m  File \u001b[0;32m\"<ipython-input-57-1695a81cecf8>\"\u001b[0;36m, line \u001b[0;32m4\u001b[0m\n\u001b[0;31m    #data\u001b[0m\n\u001b[0m         ^\u001b[0m\n\u001b[0;31mSyntaxError\u001b[0m\u001b[0;31m:\u001b[0m unexpected EOF while parsing\n"
     ]
    }
   ],
   "source": [
    "# Create list comprehension to calculate top 5 of each column\n",
    "#data = {item: df_sub[item].value_counts().head(5) for item in df_sub[['address.state', 'name.firstname']]}\n",
    "pd.DataFrame((df_sub[item].value_counts().head(5) for item in df_sub[['address.state', 'name.firstname']])\n",
    "#data"
   ]
  },
  {
   "cell_type": "code",
   "execution_count": 63,
   "metadata": {},
   "outputs": [
    {
     "data": {
      "text/plain": [
       "list"
      ]
     },
     "execution_count": 63,
     "metadata": {},
     "output_type": "execute_result"
    }
   ],
   "source": [
    "type([df_sub[item].value_counts().head(5) for item in df_sub[['address.state', 'name.firstname']]])"
   ]
  },
  {
   "cell_type": "code",
   "execution_count": 89,
   "metadata": {},
   "outputs": [
    {
     "data": {
      "text/html": [
       "<div>\n",
       "<table border=\"1\" class=\"dataframe\">\n",
       "  <thead>\n",
       "    <tr style=\"text-align: right;\">\n",
       "      <th></th>\n",
       "      <th>UT</th>\n",
       "      <th>RI</th>\n",
       "      <th>WY</th>\n",
       "      <th>CT</th>\n",
       "      <th>LA</th>\n",
       "    </tr>\n",
       "  </thead>\n",
       "  <tbody>\n",
       "    <tr>\n",
       "      <th>address.state</th>\n",
       "      <td>4</td>\n",
       "      <td>4</td>\n",
       "      <td>3</td>\n",
       "      <td>2</td>\n",
       "      <td>2</td>\n",
       "    </tr>\n",
       "  </tbody>\n",
       "</table>\n",
       "</div>"
      ],
      "text/plain": [
       "               UT  RI  WY  CT  LA\n",
       "address.state   4   4   3   2   2"
      ]
     },
     "execution_count": 89,
     "metadata": {},
     "output_type": "execute_result"
    }
   ],
   "source": [
    "pd.DataFrame(df_sub['address.state'].value_counts().head(5) ).transpose()"
   ]
  },
  {
   "cell_type": "code",
   "execution_count": 93,
   "metadata": {},
   "outputs": [
    {
     "data": {
      "text/html": [
       "<div>\n",
       "<table border=\"1\" class=\"dataframe\">\n",
       "  <thead>\n",
       "    <tr style=\"text-align: right;\">\n",
       "      <th></th>\n",
       "      <th>address.state</th>\n",
       "    </tr>\n",
       "  </thead>\n",
       "  <tbody>\n",
       "    <tr>\n",
       "      <th>UT</th>\n",
       "      <td>4</td>\n",
       "    </tr>\n",
       "    <tr>\n",
       "      <th>RI</th>\n",
       "      <td>4</td>\n",
       "    </tr>\n",
       "    <tr>\n",
       "      <th>WY</th>\n",
       "      <td>3</td>\n",
       "    </tr>\n",
       "    <tr>\n",
       "      <th>CT</th>\n",
       "      <td>2</td>\n",
       "    </tr>\n",
       "    <tr>\n",
       "      <th>LA</th>\n",
       "      <td>2</td>\n",
       "    </tr>\n",
       "  </tbody>\n",
       "</table>\n",
       "</div>"
      ],
      "text/plain": [
       "    address.state\n",
       "UT              4\n",
       "RI              4\n",
       "WY              3\n",
       "CT              2\n",
       "LA              2"
      ]
     },
     "execution_count": 93,
     "metadata": {},
     "output_type": "execute_result"
    }
   ],
   "source": [
    "pd.DataFrame(df_sub['address.state'].value_counts().head(5) )"
   ]
  },
  {
   "cell_type": "code",
   "execution_count": 78,
   "metadata": {},
   "outputs": [
    {
     "data": {
      "text/plain": [
       "UT    4\n",
       "RI    4\n",
       "WY    3\n",
       "CT    2\n",
       "LA    2\n",
       "Name: address.state, dtype: int64"
      ]
     },
     "execution_count": 78,
     "metadata": {},
     "output_type": "execute_result"
    }
   ],
   "source": [
    "df_sub['address.state'].value_counts().head(5)"
   ]
  },
  {
   "cell_type": "code",
   "execution_count": 70,
   "metadata": {},
   "outputs": [
    {
     "data": {
      "text/html": [
       "<div>\n",
       "<table border=\"1\" class=\"dataframe\">\n",
       "  <thead>\n",
       "    <tr style=\"text-align: right;\">\n",
       "      <th></th>\n",
       "      <th>address.state</th>\n",
       "      <th>address.city</th>\n",
       "    </tr>\n",
       "  </thead>\n",
       "  <tbody>\n",
       "    <tr>\n",
       "      <th>CT</th>\n",
       "      <td>2.0</td>\n",
       "      <td>NaN</td>\n",
       "    </tr>\n",
       "    <tr>\n",
       "      <th>Courtneyport</th>\n",
       "      <td>NaN</td>\n",
       "      <td>1.0</td>\n",
       "    </tr>\n",
       "    <tr>\n",
       "      <th>East Stephaniefurt</th>\n",
       "      <td>NaN</td>\n",
       "      <td>1.0</td>\n",
       "    </tr>\n",
       "    <tr>\n",
       "      <th>LA</th>\n",
       "      <td>2.0</td>\n",
       "      <td>NaN</td>\n",
       "    </tr>\n",
       "    <tr>\n",
       "      <th>Lake Laura</th>\n",
       "      <td>NaN</td>\n",
       "      <td>1.0</td>\n",
       "    </tr>\n",
       "    <tr>\n",
       "      <th>RI</th>\n",
       "      <td>4.0</td>\n",
       "      <td>NaN</td>\n",
       "    </tr>\n",
       "    <tr>\n",
       "      <th>Rodriguezland</th>\n",
       "      <td>NaN</td>\n",
       "      <td>1.0</td>\n",
       "    </tr>\n",
       "    <tr>\n",
       "      <th>UT</th>\n",
       "      <td>4.0</td>\n",
       "      <td>NaN</td>\n",
       "    </tr>\n",
       "    <tr>\n",
       "      <th>WY</th>\n",
       "      <td>3.0</td>\n",
       "      <td>NaN</td>\n",
       "    </tr>\n",
       "    <tr>\n",
       "      <th>West Annaside</th>\n",
       "      <td>NaN</td>\n",
       "      <td>1.0</td>\n",
       "    </tr>\n",
       "  </tbody>\n",
       "</table>\n",
       "</div>"
      ],
      "text/plain": [
       "                    address.state  address.city\n",
       "CT                            2.0           NaN\n",
       "Courtneyport                  NaN           1.0\n",
       "East Stephaniefurt            NaN           1.0\n",
       "LA                            2.0           NaN\n",
       "Lake Laura                    NaN           1.0\n",
       "RI                            4.0           NaN\n",
       "Rodriguezland                 NaN           1.0\n",
       "UT                            4.0           NaN\n",
       "WY                            3.0           NaN\n",
       "West Annaside                 NaN           1.0"
      ]
     },
     "execution_count": 70,
     "metadata": {},
     "output_type": "execute_result"
    }
   ],
   "source": [
    "pd.concat([df_sub['address.state'].value_counts().head(5) ,df_sub['address.city'].value_counts().head(5)  ], axis = 0)"
   ]
  },
  {
   "cell_type": "code",
   "execution_count": null,
   "metadata": {
    "collapsed": true
   },
   "outputs": [],
   "source": []
  }
 ],
 "metadata": {
  "kernelspec": {
   "display_name": "Python 3",
   "language": "python",
   "name": "python3"
  },
  "language_info": {
   "codemirror_mode": {
    "name": "ipython",
    "version": 3
   },
   "file_extension": ".py",
   "mimetype": "text/x-python",
   "name": "python",
   "nbconvert_exporter": "python",
   "pygments_lexer": "ipython3",
   "version": "3.6.0"
  }
 },
 "nbformat": 4,
 "nbformat_minor": 2
}

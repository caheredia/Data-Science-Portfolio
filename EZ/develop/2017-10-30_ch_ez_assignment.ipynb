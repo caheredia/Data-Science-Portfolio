{
 "cells": [
  {
   "cell_type": "code",
   "execution_count": 1,
   "metadata": {
    "collapsed": true
   },
   "outputs": [],
   "source": [
    "import pandas as pd\n",
    "import matplotlib.pyplot as plt\n",
    "import seaborn as sns\n",
    "import numpy as np\n",
    "from uszipcode import ZipcodeSearchEngine\n",
    "search = ZipcodeSearchEngine()\n",
    "%matplotlib inline\n",
    "import os\n",
    "import gmaps\n",
    "\n",
    "gmaps.configure(api_key=os.environ[\"GOOGLE_API_KEY\"])"
   ]
  },
  {
   "cell_type": "code",
   "execution_count": 2,
   "metadata": {},
   "outputs": [
    {
     "data": {
      "text/html": [
       "<div>\n",
       "<table border=\"1\" class=\"dataframe\">\n",
       "  <thead>\n",
       "    <tr style=\"text-align: right;\">\n",
       "      <th></th>\n",
       "      <th>orderid</th>\n",
       "      <th>latitude</th>\n",
       "      <th>longitude</th>\n",
       "      <th>estimateddeliverytime</th>\n",
       "    </tr>\n",
       "  </thead>\n",
       "  <tbody>\n",
       "    <tr>\n",
       "      <th>0</th>\n",
       "      <td>1552679</td>\n",
       "      <td>37.697073</td>\n",
       "      <td>-122.485903</td>\n",
       "      <td>259.0</td>\n",
       "    </tr>\n",
       "    <tr>\n",
       "      <th>1</th>\n",
       "      <td>1552697</td>\n",
       "      <td>37.782185</td>\n",
       "      <td>-122.454544</td>\n",
       "      <td>54.0</td>\n",
       "    </tr>\n",
       "    <tr>\n",
       "      <th>2</th>\n",
       "      <td>1552675</td>\n",
       "      <td>37.780840</td>\n",
       "      <td>-122.395820</td>\n",
       "      <td>228.0</td>\n",
       "    </tr>\n",
       "    <tr>\n",
       "      <th>3</th>\n",
       "      <td>1552934</td>\n",
       "      <td>37.783131</td>\n",
       "      <td>-122.388962</td>\n",
       "      <td>209.0</td>\n",
       "    </tr>\n",
       "    <tr>\n",
       "      <th>4</th>\n",
       "      <td>1552983</td>\n",
       "      <td>37.323786</td>\n",
       "      <td>-121.878904</td>\n",
       "      <td>345.0</td>\n",
       "    </tr>\n",
       "  </tbody>\n",
       "</table>\n",
       "</div>"
      ],
      "text/plain": [
       "   orderid   latitude   longitude  estimateddeliverytime\n",
       "0  1552679  37.697073 -122.485903                  259.0\n",
       "1  1552697  37.782185 -122.454544                   54.0\n",
       "2  1552675  37.780840 -122.395820                  228.0\n",
       "3  1552934  37.783131 -122.388962                  209.0\n",
       "4  1552983  37.323786 -121.878904                  345.0"
      ]
     },
     "execution_count": 2,
     "metadata": {},
     "output_type": "execute_result"
    }
   ],
   "source": [
    "df_delivery = pd.read_csv('../data/delivery_geography.csv')\n",
    "df_delivery.head()"
   ]
  },
  {
   "cell_type": "code",
   "execution_count": 3,
   "metadata": {},
   "outputs": [
    {
     "data": {
      "text/plain": [
       "'Number of rows in df_delivery: 3780'"
      ]
     },
     "execution_count": 3,
     "metadata": {},
     "output_type": "execute_result"
    }
   ],
   "source": [
    "'Number of rows in df_delivery: {}'.format(len(df_delivery))"
   ]
  },
  {
   "cell_type": "code",
   "execution_count": 4,
   "metadata": {},
   "outputs": [
    {
     "data": {
      "text/plain": [
       "'Average estimated delivery time: 227 s with a median of 150 s'"
      ]
     },
     "execution_count": 4,
     "metadata": {},
     "output_type": "execute_result"
    },
    {
     "data": {
      "image/png": "[encoded data removed]",
      "text/plain": [
       "<matplotlib.figure.Figure at 0x10f8b9c88>"
      ]
     },
     "metadata": {},
     "output_type": "display_data"
    }
   ],
   "source": [
    "df_delivery.estimateddeliverytime.plot.hist(\n",
    "    alpha=.5, color='orange', bins=100,  figsize=(16, 8),title ='Estimated Devlivery Time')\n",
    "'Average estimated delivery time: {} s with a median of {} s'.format(\n",
    "    \"%.0f\" % df_delivery['estimateddeliverytime'].mean(), \"%.0f\" % df_delivery['estimateddeliverytime'].median())"
   ]
  },
  {
   "cell_type": "code",
   "execution_count": 5,
   "metadata": {},
   "outputs": [
    {
     "data": {
      "text/html": [
       "<div>\n",
       "<table border=\"1\" class=\"dataframe\">\n",
       "  <thead>\n",
       "    <tr style=\"text-align: right;\">\n",
       "      <th></th>\n",
       "      <th>orderid</th>\n",
       "      <th>deliveredat</th>\n",
       "      <th>totalprice</th>\n",
       "    </tr>\n",
       "  </thead>\n",
       "  <tbody>\n",
       "    <tr>\n",
       "      <th>0</th>\n",
       "      <td>1552553</td>\n",
       "      <td>2017-08-08T00:02:29.980+00:00</td>\n",
       "      <td>176.11</td>\n",
       "    </tr>\n",
       "    <tr>\n",
       "      <th>1</th>\n",
       "      <td>1552559</td>\n",
       "      <td>2017-08-08T00:09:06.077+00:00</td>\n",
       "      <td>71.03</td>\n",
       "    </tr>\n",
       "    <tr>\n",
       "      <th>2</th>\n",
       "      <td>1552499</td>\n",
       "      <td>2017-08-08T00:15:03.847+00:00</td>\n",
       "      <td>61.95</td>\n",
       "    </tr>\n",
       "    <tr>\n",
       "      <th>3</th>\n",
       "      <td>1552617</td>\n",
       "      <td>2017-08-08T00:16:40.820+00:00</td>\n",
       "      <td>62.40</td>\n",
       "    </tr>\n",
       "    <tr>\n",
       "      <th>4</th>\n",
       "      <td>1552632</td>\n",
       "      <td>2017-08-08T00:31:27.957+00:00</td>\n",
       "      <td>64.16</td>\n",
       "    </tr>\n",
       "  </tbody>\n",
       "</table>\n",
       "</div>"
      ],
      "text/plain": [
       "   orderid                    deliveredat  totalprice\n",
       "0  1552553  2017-08-08T00:02:29.980+00:00      176.11\n",
       "1  1552559  2017-08-08T00:09:06.077+00:00       71.03\n",
       "2  1552499  2017-08-08T00:15:03.847+00:00       61.95\n",
       "3  1552617  2017-08-08T00:16:40.820+00:00       62.40\n",
       "4  1552632  2017-08-08T00:31:27.957+00:00       64.16"
      ]
     },
     "execution_count": 5,
     "metadata": {},
     "output_type": "execute_result"
    }
   ],
   "source": [
    "df_prices = pd.read_csv('../data/delivery_prices.csv')\n",
    "df_prices.head()"
   ]
  },
  {
   "cell_type": "code",
   "execution_count": 6,
   "metadata": {},
   "outputs": [
    {
     "data": {
      "text/plain": [
       "'Number of rows in df_prices: 3352'"
      ]
     },
     "execution_count": 6,
     "metadata": {},
     "output_type": "execute_result"
    }
   ],
   "source": [
    "'Number of rows in df_prices: {}'.format(len(df_prices))"
   ]
  },
  {
   "cell_type": "code",
   "execution_count": 7,
   "metadata": {},
   "outputs": [
    {
     "data": {
      "text/plain": [
       "'Average total price $69 with a median of $55'"
      ]
     },
     "execution_count": 7,
     "metadata": {},
     "output_type": "execute_result"
    },
    {
     "data": {
      "image/png": "[encoded data removed]",
      "text/plain": [
       "<matplotlib.figure.Figure at 0x10f9635c0>"
      ]
     },
     "metadata": {},
     "output_type": "display_data"
    }
   ],
   "source": [
    "df_prices.totalprice.plot.hist(\n",
    "    alpha=.5, color='orange', bins=100,  figsize=(16, 8), title ='Total Price')\n",
    "'Average total price ${} with a median of ${}'.format(\n",
    "    \"%.0f\" % df_prices.totalprice.mean(), \"%.0f\" % df_prices.totalprice.median())"
   ]
  },
  {
   "cell_type": "markdown",
   "metadata": {},
   "source": [
    "Since the tables are not of equal length we know there will be 428 rows with missing values, calculated below"
   ]
  },
  {
   "cell_type": "code",
   "execution_count": 8,
   "metadata": {},
   "outputs": [
    {
     "data": {
      "text/plain": [
       "'Number of incomplete rows: 428'"
      ]
     },
     "execution_count": 8,
     "metadata": {},
     "output_type": "execute_result"
    }
   ],
   "source": [
    "'Number of incomplete rows: {}'.format(len(df_delivery) - len(df_prices))"
   ]
  },
  {
   "cell_type": "markdown",
   "metadata": {},
   "source": [
    "# 1. Join these tables in a meaningful way \n",
    "Below I'll join the tables with merge on order id. It should be noted that the tables are not of equal size, thus some of the features (columns) will have missing values\n"
   ]
  },
  {
   "cell_type": "code",
   "execution_count": 9,
   "metadata": {
    "collapsed": true
   },
   "outputs": [],
   "source": [
    "# Change the index to 'orderid' column\n",
    "df_prices = df_prices.set_index('orderid')\n",
    "df_delivery = df_delivery.set_index('orderid')"
   ]
  },
  {
   "cell_type": "code",
   "execution_count": 10,
   "metadata": {},
   "outputs": [
    {
     "data": {
      "text/html": [
       "<div>\n",
       "<table border=\"1\" class=\"dataframe\">\n",
       "  <thead>\n",
       "    <tr style=\"text-align: right;\">\n",
       "      <th></th>\n",
       "      <th>date</th>\n",
       "      <th>price</th>\n",
       "      <th>lat</th>\n",
       "      <th>lon</th>\n",
       "      <th>delivery time</th>\n",
       "    </tr>\n",
       "    <tr>\n",
       "      <th>orderid</th>\n",
       "      <th></th>\n",
       "      <th></th>\n",
       "      <th></th>\n",
       "      <th></th>\n",
       "      <th></th>\n",
       "    </tr>\n",
       "  </thead>\n",
       "  <tbody>\n",
       "    <tr>\n",
       "      <th>1553535</th>\n",
       "      <td>NaN</td>\n",
       "      <td>NaN</td>\n",
       "      <td>34.012453</td>\n",
       "      <td>-118.457838</td>\n",
       "      <td>1077.0</td>\n",
       "    </tr>\n",
       "    <tr>\n",
       "      <th>1553536</th>\n",
       "      <td>2017-08-08T02:26:01.213+00:00</td>\n",
       "      <td>43.73</td>\n",
       "      <td>37.779351</td>\n",
       "      <td>-122.497121</td>\n",
       "      <td>235.0</td>\n",
       "    </tr>\n",
       "    <tr>\n",
       "      <th>1553537</th>\n",
       "      <td>2017-08-08T02:30:57.383+00:00</td>\n",
       "      <td>137.47</td>\n",
       "      <td>37.807403</td>\n",
       "      <td>-122.301621</td>\n",
       "      <td>172.0</td>\n",
       "    </tr>\n",
       "    <tr>\n",
       "      <th>1553538</th>\n",
       "      <td>2017-08-08T02:38:09.680+00:00</td>\n",
       "      <td>56.94</td>\n",
       "      <td>37.748804</td>\n",
       "      <td>-122.423628</td>\n",
       "      <td>20.0</td>\n",
       "    </tr>\n",
       "    <tr>\n",
       "      <th>1553539</th>\n",
       "      <td>2017-08-08T03:30:50.513+00:00</td>\n",
       "      <td>65.22</td>\n",
       "      <td>37.485039</td>\n",
       "      <td>-122.192457</td>\n",
       "      <td>119.0</td>\n",
       "    </tr>\n",
       "  </tbody>\n",
       "</table>\n",
       "</div>"
      ],
      "text/plain": [
       "                                  date   price        lat         lon  \\\n",
       "orderid                                                                 \n",
       "1553535                            NaN     NaN  34.012453 -118.457838   \n",
       "1553536  2017-08-08T02:26:01.213+00:00   43.73  37.779351 -122.497121   \n",
       "1553537  2017-08-08T02:30:57.383+00:00  137.47  37.807403 -122.301621   \n",
       "1553538  2017-08-08T02:38:09.680+00:00   56.94  37.748804 -122.423628   \n",
       "1553539  2017-08-08T03:30:50.513+00:00   65.22  37.485039 -122.192457   \n",
       "\n",
       "         delivery time  \n",
       "orderid                 \n",
       "1553535         1077.0  \n",
       "1553536          235.0  \n",
       "1553537          172.0  \n",
       "1553538           20.0  \n",
       "1553539          119.0  "
      ]
     },
     "execution_count": 10,
     "metadata": {},
     "output_type": "execute_result"
    }
   ],
   "source": [
    "# Merge on 'oderid' column\n",
    "df_join = pd.merge(df_prices,df_delivery, how='outer', left_index=True, right_index=True)\n",
    "df_join.columns =['date','price','lat','lon','delivery time'] #rename columns\n",
    "df_join[1020:1025]  #sample of table values "
   ]
  },
  {
   "cell_type": "markdown",
   "metadata": {},
   "source": [
    "# 2. Find at least one source of external information that you think would augment this table well and add it into the joined table.\n",
    "\n",
    "- Using the uszipcode 0.1.3 python package I can look up the zipcode, city, and average income for each latitude, longitude entry\n",
    "- Using the Date Functionality in Pandas will allow the unpacking of the time stamp into days and time, which will give a more granular view of when purchases occur. \n",
    "\n",
    "Even thought the sample data did not vary in weekdays this information would be a good metric to know for market exploration purposes.\n"
   ]
  },
  {
   "cell_type": "code",
   "execution_count": 11,
   "metadata": {
    "collapsed": true
   },
   "outputs": [],
   "source": [
    "def geo_data(df, lat, lon):\n",
    "    '''This function takes a dataframe as input as well the column names as strings for latitude and longitude data.\n",
    "    It returns the dataframe with zipcode, Average income, and city as columns'''\n",
    "    # Average income\n",
    "    df['avg income'] = df.apply(lambda x: search.by_coordinate(x[lat], x[lon], radius=4, returns=1)[\n",
    "        0]['Wealthy'] if (x[lat] > 0) else None, axis=1).round(0)\n",
    "    # Zipcode\n",
    "    df['zipcode'] = df.apply(lambda x:  search.by_coordinate(\n",
    "        x[lat], x[lon], radius=4, returns=1)[0]['Zipcode'] if (x[lat] > 0) else None, axis=1)\n",
    "    # city\n",
    "    df['city'] = df.apply(lambda x:  search.by_coordinate(\n",
    "        x[lat], x[lon], radius=4, returns=1)[0]['City'] if (x[lat] > 0) else None, axis=1)"
   ]
  },
  {
   "cell_type": "code",
   "execution_count": 12,
   "metadata": {},
   "outputs": [
    {
     "data": {
      "text/html": [
       "<div>\n",
       "<table border=\"1\" class=\"dataframe\">\n",
       "  <thead>\n",
       "    <tr style=\"text-align: right;\">\n",
       "      <th></th>\n",
       "      <th>date</th>\n",
       "      <th>price</th>\n",
       "      <th>lat</th>\n",
       "      <th>lon</th>\n",
       "      <th>delivery time</th>\n",
       "      <th>avg income</th>\n",
       "      <th>zipcode</th>\n",
       "      <th>city</th>\n",
       "    </tr>\n",
       "    <tr>\n",
       "      <th>orderid</th>\n",
       "      <th></th>\n",
       "      <th></th>\n",
       "      <th></th>\n",
       "      <th></th>\n",
       "      <th></th>\n",
       "      <th></th>\n",
       "      <th></th>\n",
       "      <th></th>\n",
       "    </tr>\n",
       "  </thead>\n",
       "  <tbody>\n",
       "    <tr>\n",
       "      <th>1553535</th>\n",
       "      <td>NaN</td>\n",
       "      <td>NaN</td>\n",
       "      <td>34.012453</td>\n",
       "      <td>-118.457838</td>\n",
       "      <td>1077.0</td>\n",
       "      <td>39765.0</td>\n",
       "      <td>90405</td>\n",
       "      <td>Santa Monica</td>\n",
       "    </tr>\n",
       "    <tr>\n",
       "      <th>1553536</th>\n",
       "      <td>2017-08-08T02:26:01.213+00:00</td>\n",
       "      <td>43.73</td>\n",
       "      <td>37.779351</td>\n",
       "      <td>-122.497121</td>\n",
       "      <td>235.0</td>\n",
       "      <td>29058.0</td>\n",
       "      <td>94121</td>\n",
       "      <td>San Francisco</td>\n",
       "    </tr>\n",
       "    <tr>\n",
       "      <th>1553537</th>\n",
       "      <td>2017-08-08T02:30:57.383+00:00</td>\n",
       "      <td>137.47</td>\n",
       "      <td>37.807403</td>\n",
       "      <td>-122.301621</td>\n",
       "      <td>172.0</td>\n",
       "      <td>14127.0</td>\n",
       "      <td>94607</td>\n",
       "      <td>Oakland</td>\n",
       "    </tr>\n",
       "    <tr>\n",
       "      <th>1553538</th>\n",
       "      <td>2017-08-08T02:38:09.680+00:00</td>\n",
       "      <td>56.94</td>\n",
       "      <td>37.748804</td>\n",
       "      <td>-122.423628</td>\n",
       "      <td>20.0</td>\n",
       "      <td>27502.0</td>\n",
       "      <td>94110</td>\n",
       "      <td>San Francisco</td>\n",
       "    </tr>\n",
       "    <tr>\n",
       "      <th>1553539</th>\n",
       "      <td>2017-08-08T03:30:50.513+00:00</td>\n",
       "      <td>65.22</td>\n",
       "      <td>37.485039</td>\n",
       "      <td>-122.192457</td>\n",
       "      <td>119.0</td>\n",
       "      <td>14781.0</td>\n",
       "      <td>94063</td>\n",
       "      <td>Redwood City</td>\n",
       "    </tr>\n",
       "  </tbody>\n",
       "</table>\n",
       "</div>"
      ],
      "text/plain": [
       "                                  date   price        lat         lon  \\\n",
       "orderid                                                                 \n",
       "1553535                            NaN     NaN  34.012453 -118.457838   \n",
       "1553536  2017-08-08T02:26:01.213+00:00   43.73  37.779351 -122.497121   \n",
       "1553537  2017-08-08T02:30:57.383+00:00  137.47  37.807403 -122.301621   \n",
       "1553538  2017-08-08T02:38:09.680+00:00   56.94  37.748804 -122.423628   \n",
       "1553539  2017-08-08T03:30:50.513+00:00   65.22  37.485039 -122.192457   \n",
       "\n",
       "         delivery time  avg income zipcode           city  \n",
       "orderid                                                    \n",
       "1553535         1077.0     39765.0   90405   Santa Monica  \n",
       "1553536          235.0     29058.0   94121  San Francisco  \n",
       "1553537          172.0     14127.0   94607        Oakland  \n",
       "1553538           20.0     27502.0   94110  San Francisco  \n",
       "1553539          119.0     14781.0   94063   Redwood City  "
      ]
     },
     "execution_count": 12,
     "metadata": {},
     "output_type": "execute_result"
    }
   ],
   "source": [
    "geo_data(df_join, 'lat', 'lon')\n",
    "df_join[1020:1025]  #sample of table values "
   ]
  },
  {
   "cell_type": "code",
   "execution_count": 13,
   "metadata": {
    "collapsed": true
   },
   "outputs": [],
   "source": [
    "def df_day(df, timestamp):\n",
    "    '''This functions converts a string timestamp into pandas datetime structure. \n",
    "    It then makes a new column by extacting the weekday.'''\n",
    "    # Convert string timestamp to pandas datetime\n",
    "    df[timestamp] = pd.to_datetime(df_join[timestamp])\n",
    "    # Make new column with weekday\n",
    "    df['day'] = df[timestamp].dt.weekday_name"
   ]
  },
  {
   "cell_type": "code",
   "execution_count": 14,
   "metadata": {},
   "outputs": [
    {
     "data": {
      "text/html": [
       "<div>\n",
       "<table border=\"1\" class=\"dataframe\">\n",
       "  <thead>\n",
       "    <tr style=\"text-align: right;\">\n",
       "      <th></th>\n",
       "      <th>date</th>\n",
       "      <th>price</th>\n",
       "      <th>lat</th>\n",
       "      <th>lon</th>\n",
       "      <th>delivery time</th>\n",
       "      <th>avg income</th>\n",
       "      <th>zipcode</th>\n",
       "      <th>city</th>\n",
       "      <th>day</th>\n",
       "    </tr>\n",
       "    <tr>\n",
       "      <th>orderid</th>\n",
       "      <th></th>\n",
       "      <th></th>\n",
       "      <th></th>\n",
       "      <th></th>\n",
       "      <th></th>\n",
       "      <th></th>\n",
       "      <th></th>\n",
       "      <th></th>\n",
       "      <th></th>\n",
       "    </tr>\n",
       "  </thead>\n",
       "  <tbody>\n",
       "    <tr>\n",
       "      <th>1553535</th>\n",
       "      <td>NaT</td>\n",
       "      <td>NaN</td>\n",
       "      <td>34.012453</td>\n",
       "      <td>-118.457838</td>\n",
       "      <td>1077.0</td>\n",
       "      <td>39765.0</td>\n",
       "      <td>90405</td>\n",
       "      <td>Santa Monica</td>\n",
       "      <td>NaN</td>\n",
       "    </tr>\n",
       "    <tr>\n",
       "      <th>1553536</th>\n",
       "      <td>2017-08-08 02:26:01.213</td>\n",
       "      <td>43.73</td>\n",
       "      <td>37.779351</td>\n",
       "      <td>-122.497121</td>\n",
       "      <td>235.0</td>\n",
       "      <td>29058.0</td>\n",
       "      <td>94121</td>\n",
       "      <td>San Francisco</td>\n",
       "      <td>Tuesday</td>\n",
       "    </tr>\n",
       "    <tr>\n",
       "      <th>1553537</th>\n",
       "      <td>2017-08-08 02:30:57.383</td>\n",
       "      <td>137.47</td>\n",
       "      <td>37.807403</td>\n",
       "      <td>-122.301621</td>\n",
       "      <td>172.0</td>\n",
       "      <td>14127.0</td>\n",
       "      <td>94607</td>\n",
       "      <td>Oakland</td>\n",
       "      <td>Tuesday</td>\n",
       "    </tr>\n",
       "    <tr>\n",
       "      <th>1553538</th>\n",
       "      <td>2017-08-08 02:38:09.680</td>\n",
       "      <td>56.94</td>\n",
       "      <td>37.748804</td>\n",
       "      <td>-122.423628</td>\n",
       "      <td>20.0</td>\n",
       "      <td>27502.0</td>\n",
       "      <td>94110</td>\n",
       "      <td>San Francisco</td>\n",
       "      <td>Tuesday</td>\n",
       "    </tr>\n",
       "    <tr>\n",
       "      <th>1553539</th>\n",
       "      <td>2017-08-08 03:30:50.513</td>\n",
       "      <td>65.22</td>\n",
       "      <td>37.485039</td>\n",
       "      <td>-122.192457</td>\n",
       "      <td>119.0</td>\n",
       "      <td>14781.0</td>\n",
       "      <td>94063</td>\n",
       "      <td>Redwood City</td>\n",
       "      <td>Tuesday</td>\n",
       "    </tr>\n",
       "  </tbody>\n",
       "</table>\n",
       "</div>"
      ],
      "text/plain": [
       "                           date   price        lat         lon  delivery time  \\\n",
       "orderid                                                                         \n",
       "1553535                     NaT     NaN  34.012453 -118.457838         1077.0   \n",
       "1553536 2017-08-08 02:26:01.213   43.73  37.779351 -122.497121          235.0   \n",
       "1553537 2017-08-08 02:30:57.383  137.47  37.807403 -122.301621          172.0   \n",
       "1553538 2017-08-08 02:38:09.680   56.94  37.748804 -122.423628           20.0   \n",
       "1553539 2017-08-08 03:30:50.513   65.22  37.485039 -122.192457          119.0   \n",
       "\n",
       "         avg income zipcode           city      day  \n",
       "orderid                                              \n",
       "1553535     39765.0   90405   Santa Monica      NaN  \n",
       "1553536     29058.0   94121  San Francisco  Tuesday  \n",
       "1553537     14127.0   94607        Oakland  Tuesday  \n",
       "1553538     27502.0   94110  San Francisco  Tuesday  \n",
       "1553539     14781.0   94063   Redwood City  Tuesday  "
      ]
     },
     "execution_count": 14,
     "metadata": {},
     "output_type": "execute_result"
    }
   ],
   "source": [
    "df_day(df_join, 'date')\n",
    "df_join[1020:1025]  #sample of table values "
   ]
  },
  {
   "cell_type": "code",
   "execution_count": 15,
   "metadata": {},
   "outputs": [
    {
     "data": {
      "text/plain": [
       "Tuesday    3352\n",
       "Name: day, dtype: int64"
      ]
     },
     "execution_count": 15,
     "metadata": {},
     "output_type": "execute_result"
    }
   ],
   "source": [
    "# Count the instances for each weekday\n",
    "df_join.day.value_counts()"
   ]
  },
  {
   "cell_type": "markdown",
   "metadata": {},
   "source": [
    "# 3. Explain (at a high level) how you would perform this join on a live data pipeline in a performant way.\n",
    "\n",
    "To perform this join on a pipeline I would implement with the join SQL command, e.g, FULL OUTER JOIN. Or design the data capture to record to a single table instead of two. \n"
   ]
  },
  {
   "cell_type": "markdown",
   "metadata": {},
   "source": [
    "# 4. Use any clustering/classification technique to divide the data into at least 3 and at most 20 groups. Annotate your joined table with this classification.\n",
    "\n",
    "Break off pivot tables using the cities group and aggregate income.  \n"
   ]
  },
  {
   "cell_type": "code",
   "execution_count": 16,
   "metadata": {
    "collapsed": true
   },
   "outputs": [],
   "source": [
    "df_city_group = (df_join.set_index('city').groupby(level=0)['price']\n",
    "                 .agg({'avg purchase': np.mean, 'sum': np.sum, 'avg time': np.mean})\n",
    "                 .astype(int))"
   ]
  },
  {
   "cell_type": "code",
   "execution_count": 17,
   "metadata": {},
   "outputs": [
    {
     "data": {
      "text/html": [
       "<div>\n",
       "<table border=\"1\" class=\"dataframe\">\n",
       "  <thead>\n",
       "    <tr style=\"text-align: right;\">\n",
       "      <th></th>\n",
       "      <th>avg purchase</th>\n",
       "      <th>sum</th>\n",
       "      <th>avg time</th>\n",
       "    </tr>\n",
       "    <tr>\n",
       "      <th>city</th>\n",
       "      <th></th>\n",
       "      <th></th>\n",
       "      <th></th>\n",
       "    </tr>\n",
       "  </thead>\n",
       "  <tbody>\n",
       "    <tr>\n",
       "      <th>Laguna Hills</th>\n",
       "      <td>126</td>\n",
       "      <td>252</td>\n",
       "      <td>126</td>\n",
       "    </tr>\n",
       "    <tr>\n",
       "      <th>Aptos</th>\n",
       "      <td>126</td>\n",
       "      <td>3548</td>\n",
       "      <td>126</td>\n",
       "    </tr>\n",
       "    <tr>\n",
       "      <th>Santa Ana</th>\n",
       "      <td>113</td>\n",
       "      <td>226</td>\n",
       "      <td>113</td>\n",
       "    </tr>\n",
       "    <tr>\n",
       "      <th>Costa Mesa</th>\n",
       "      <td>113</td>\n",
       "      <td>1021</td>\n",
       "      <td>113</td>\n",
       "    </tr>\n",
       "    <tr>\n",
       "      <th>San Ysidro</th>\n",
       "      <td>106</td>\n",
       "      <td>106</td>\n",
       "      <td>106</td>\n",
       "    </tr>\n",
       "  </tbody>\n",
       "</table>\n",
       "</div>"
      ],
      "text/plain": [
       "              avg purchase   sum  avg time\n",
       "city                                      \n",
       "Laguna Hills           126   252       126\n",
       "Aptos                  126  3548       126\n",
       "Santa Ana              113   226       113\n",
       "Costa Mesa             113  1021       113\n",
       "San Ysidro             106   106       106"
      ]
     },
     "execution_count": 17,
     "metadata": {},
     "output_type": "execute_result"
    }
   ],
   "source": [
    "# Sort by avg purchase \n",
    "df_city_group.sort_values(by='avg purchase', ascending=False).head()"
   ]
  },
  {
   "cell_type": "code",
   "execution_count": 18,
   "metadata": {},
   "outputs": [
    {
     "data": {
      "text/html": [
       "<div>\n",
       "<table border=\"1\" class=\"dataframe\">\n",
       "  <thead>\n",
       "    <tr style=\"text-align: right;\">\n",
       "      <th></th>\n",
       "      <th>avg purchase</th>\n",
       "      <th>sum</th>\n",
       "      <th>avg time</th>\n",
       "    </tr>\n",
       "    <tr>\n",
       "      <th>city</th>\n",
       "      <th></th>\n",
       "      <th></th>\n",
       "      <th></th>\n",
       "    </tr>\n",
       "  </thead>\n",
       "  <tbody>\n",
       "    <tr>\n",
       "      <th>San Francisco</th>\n",
       "      <td>71</td>\n",
       "      <td>72295</td>\n",
       "      <td>71</td>\n",
       "    </tr>\n",
       "    <tr>\n",
       "      <th>Oakland</th>\n",
       "      <td>63</td>\n",
       "      <td>21071</td>\n",
       "      <td>63</td>\n",
       "    </tr>\n",
       "    <tr>\n",
       "      <th>San Diego</th>\n",
       "      <td>70</td>\n",
       "      <td>16746</td>\n",
       "      <td>70</td>\n",
       "    </tr>\n",
       "    <tr>\n",
       "      <th>San Mateo</th>\n",
       "      <td>69</td>\n",
       "      <td>10443</td>\n",
       "      <td>69</td>\n",
       "    </tr>\n",
       "    <tr>\n",
       "      <th>Santa Cruz</th>\n",
       "      <td>85</td>\n",
       "      <td>8987</td>\n",
       "      <td>85</td>\n",
       "    </tr>\n",
       "  </tbody>\n",
       "</table>\n",
       "</div>"
      ],
      "text/plain": [
       "               avg purchase    sum  avg time\n",
       "city                                        \n",
       "San Francisco            71  72295        71\n",
       "Oakland                  63  21071        63\n",
       "San Diego                70  16746        70\n",
       "San Mateo                69  10443        69\n",
       "Santa Cruz               85   8987        85"
      ]
     },
     "execution_count": 18,
     "metadata": {},
     "output_type": "execute_result"
    }
   ],
   "source": [
    "# Sort by sum of purchases \n",
    "df_city_group.sort_values(by='sum', ascending=False).head()"
   ]
  },
  {
   "cell_type": "code",
   "execution_count": 19,
   "metadata": {},
   "outputs": [
    {
     "data": {
      "text/html": [
       "<div>\n",
       "<table border=\"1\" class=\"dataframe\">\n",
       "  <thead>\n",
       "    <tr style=\"text-align: right;\">\n",
       "      <th></th>\n",
       "      <th>avg purchase</th>\n",
       "      <th>sum</th>\n",
       "      <th>avg time</th>\n",
       "    </tr>\n",
       "    <tr>\n",
       "      <th>city</th>\n",
       "      <th></th>\n",
       "      <th></th>\n",
       "      <th></th>\n",
       "    </tr>\n",
       "  </thead>\n",
       "  <tbody>\n",
       "    <tr>\n",
       "      <th>Laguna Hills</th>\n",
       "      <td>126</td>\n",
       "      <td>252</td>\n",
       "      <td>126</td>\n",
       "    </tr>\n",
       "    <tr>\n",
       "      <th>Aptos</th>\n",
       "      <td>126</td>\n",
       "      <td>3548</td>\n",
       "      <td>126</td>\n",
       "    </tr>\n",
       "    <tr>\n",
       "      <th>Santa Ana</th>\n",
       "      <td>113</td>\n",
       "      <td>226</td>\n",
       "      <td>113</td>\n",
       "    </tr>\n",
       "    <tr>\n",
       "      <th>Costa Mesa</th>\n",
       "      <td>113</td>\n",
       "      <td>1021</td>\n",
       "      <td>113</td>\n",
       "    </tr>\n",
       "    <tr>\n",
       "      <th>San Ysidro</th>\n",
       "      <td>106</td>\n",
       "      <td>106</td>\n",
       "      <td>106</td>\n",
       "    </tr>\n",
       "  </tbody>\n",
       "</table>\n",
       "</div>"
      ],
      "text/plain": [
       "              avg purchase   sum  avg time\n",
       "city                                      \n",
       "Laguna Hills           126   252       126\n",
       "Aptos                  126  3548       126\n",
       "Santa Ana              113   226       113\n",
       "Costa Mesa             113  1021       113\n",
       "San Ysidro             106   106       106"
      ]
     },
     "execution_count": 19,
     "metadata": {},
     "output_type": "execute_result"
    }
   ],
   "source": [
    "# Sort by avg delivery time\n",
    "df_city_group.sort_values(by='avg time', ascending=False).head()"
   ]
  },
  {
   "cell_type": "markdown",
   "metadata": {
    "collapsed": true
   },
   "source": [
    "# 5. Create any visualization of the data that you think would display meaningful insight.\n",
    "\n",
    "Make historgrams of cities, prices, days. \n"
   ]
  },
  {
   "cell_type": "code",
   "execution_count": 20,
   "metadata": {},
   "outputs": [
    {
     "data": {
      "image/png": "[encoded data removed]",
      "text/plain": [
       "<matplotlib.figure.Figure at 0x11d64cf98>"
      ]
     },
     "metadata": {},
     "output_type": "display_data"
    }
   ],
   "source": [
    "df_join.city.value_counts().plot(kind='bar', alpha=.5, color='orange',  figsize=(16, 8), title ='Histogram of purchases by City'); "
   ]
  },
  {
   "cell_type": "markdown",
   "metadata": {},
   "source": [
    "# 6. Explain (at a high level) how you could use any insights derived above to advance the company financially.\n"
   ]
  },
  {
   "cell_type": "code",
   "execution_count": 42,
   "metadata": {
    "scrolled": true
   },
   "outputs": [
    {
     "data": {
      "application/vnd.jupyter.widget-view+json": {
       "model_id": "2da8818dfef44ba39a696e0f0d5de848",
       "version_major": 2,
       "version_minor": 0
      },
      "text/html": [
       "<p>Failed to display Jupyter Widget of type <code>Figure</code>.</p>\n",
       "<p>\n",
       "  If you're reading this message in Jupyter Notebook or JupyterLab, it may mean\n",
       "  that the widgets JavaScript is still loading. If this message persists, it\n",
       "  likely means that the widgets JavaScript library is either not installed or\n",
       "  not enabled. See the <a href=\"https://ipywidgets.readthedocs.io/en/stable/user_install.html\">Jupyter\n",
       "  Widgets Documentation</a> for setup instructions.\n",
       "</p>\n",
       "<p>\n",
       "  If you're reading this message in another notebook frontend (for example, a static\n",
       "  rendering on GitHub or <a href=\"https://nbviewer.jupyter.org/\">NBViewer</a>),\n",
       "  it may mean that your frontend doesn't currently support widgets.\n",
       "</p>\n"
      ],
      "text/plain": [
       "Figure()"
      ]
     },
     "metadata": {},
     "output_type": "display_data"
    }
   ],
   "source": [
    "# load a Numpy array of (latitude, longitude) pairs from dataframe \n",
    "locations =  df_join[[\"lat\", \"lon\"]].dropna()\n",
    "# Center map on bakersfield\n",
    "bakersfield_coord= (35.376175, -119.022102)\n",
    "fig = gmaps.figure(center=bakersfield_coord, zoom_level=6)\n",
    "# Generate heatmap for locations \n",
    "fig.add_layer(gmaps.heatmap_layer(locations))\n",
    "fig"
   ]
  },
  {
   "cell_type": "markdown",
   "metadata": {},
   "source": [
    "Tools used to plot google maps \n",
    "http://jupyter-gmaps.readthedocs.io/en/latest/gmaps.html#heatmaps\n",
    "http://colorbrewer2.org/#type=sequential&scheme=YlOrRd&n=3\n",
    "https://github.com/pbugnion/gmaps"
   ]
  }
 ],
 "metadata": {
  "kernelspec": {
   "display_name": "Python 3",
   "language": "python",
   "name": "python3"
  },
  "language_info": {
   "codemirror_mode": {
    "name": "ipython",
    "version": 3
   },
   "file_extension": ".py",
   "mimetype": "text/x-python",
   "name": "python",
   "nbconvert_exporter": "python",
   "pygments_lexer": "ipython3",
   "version": "3.6.3"
  }
 },
 "nbformat": 4,
 "nbformat_minor": 2
}

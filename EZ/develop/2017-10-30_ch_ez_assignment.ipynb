{
 "cells": [
  {
   "cell_type": "code",
   "execution_count": 98,
   "metadata": {
    "collapsed": true
   },
   "outputs": [],
   "source": [
    "import pandas as pd\n",
    "import seaborn as sns\n",
    "from uszipcode import ZipcodeSearchEngine\n",
    "search = ZipcodeSearchEngine()\n",
    "%matplotlib inline"
   ]
  },
  {
   "cell_type": "code",
   "execution_count": 65,
   "metadata": {},
   "outputs": [
    {
     "data": {
      "text/html": [
       "<div>\n",
       "<table border=\"1\" class=\"dataframe\">\n",
       "  <thead>\n",
       "    <tr style=\"text-align: right;\">\n",
       "      <th></th>\n",
       "      <th>orderid</th>\n",
       "      <th>latitude</th>\n",
       "      <th>longitude</th>\n",
       "      <th>estimateddeliverytime</th>\n",
       "    </tr>\n",
       "  </thead>\n",
       "  <tbody>\n",
       "    <tr>\n",
       "      <th>0</th>\n",
       "      <td>1552679</td>\n",
       "      <td>37.697073</td>\n",
       "      <td>-122.485903</td>\n",
       "      <td>259.0</td>\n",
       "    </tr>\n",
       "    <tr>\n",
       "      <th>1</th>\n",
       "      <td>1552697</td>\n",
       "      <td>37.782185</td>\n",
       "      <td>-122.454544</td>\n",
       "      <td>54.0</td>\n",
       "    </tr>\n",
       "    <tr>\n",
       "      <th>2</th>\n",
       "      <td>1552675</td>\n",
       "      <td>37.780840</td>\n",
       "      <td>-122.395820</td>\n",
       "      <td>228.0</td>\n",
       "    </tr>\n",
       "    <tr>\n",
       "      <th>3</th>\n",
       "      <td>1552934</td>\n",
       "      <td>37.783131</td>\n",
       "      <td>-122.388962</td>\n",
       "      <td>209.0</td>\n",
       "    </tr>\n",
       "    <tr>\n",
       "      <th>4</th>\n",
       "      <td>1552983</td>\n",
       "      <td>37.323786</td>\n",
       "      <td>-121.878904</td>\n",
       "      <td>345.0</td>\n",
       "    </tr>\n",
       "  </tbody>\n",
       "</table>\n",
       "</div>"
      ],
      "text/plain": [
       "   orderid   latitude   longitude  estimateddeliverytime\n",
       "0  1552679  37.697073 -122.485903                  259.0\n",
       "1  1552697  37.782185 -122.454544                   54.0\n",
       "2  1552675  37.780840 -122.395820                  228.0\n",
       "3  1552934  37.783131 -122.388962                  209.0\n",
       "4  1552983  37.323786 -121.878904                  345.0"
      ]
     },
     "execution_count": 65,
     "metadata": {},
     "output_type": "execute_result"
    }
   ],
   "source": [
    "df_delivery = pd.read_csv('../data/delivery_geography.csv')\n",
    "df_delivery.head()"
   ]
  },
  {
   "cell_type": "code",
   "execution_count": 66,
   "metadata": {},
   "outputs": [
    {
     "data": {
      "text/plain": [
       "'Number of rows in df_delivery: 3780'"
      ]
     },
     "execution_count": 66,
     "metadata": {},
     "output_type": "execute_result"
    }
   ],
   "source": [
    "'Number of rows in df_delivery: {}'.format(len(df_delivery))"
   ]
  },
  {
   "cell_type": "code",
   "execution_count": 67,
   "metadata": {},
   "outputs": [
    {
     "data": {
      "text/plain": [
       "'Average estimated delivery time: 227 s with a median of 150 s'"
      ]
     },
     "execution_count": 67,
     "metadata": {},
     "output_type": "execute_result"
    },
    {
     "data": {
      "image/png": "[encoded data removed]",
      "text/plain": [
       "<matplotlib.figure.Figure at 0x1179a98d0>"
      ]
     },
     "metadata": {},
     "output_type": "display_data"
    }
   ],
   "source": [
    "df_delivery.estimateddeliverytime.plot.hist(\n",
    "    alpha=.5, color='orange', bins=100,  figsize=(16, 8),title ='Estimated Devlivery Time')\n",
    "'Average estimated delivery time: {} s with a median of {} s'.format(\n",
    "    \"%.0f\" % df_delivery['estimateddeliverytime'].mean(), \"%.0f\" % df_delivery['estimateddeliverytime'].median())"
   ]
  },
  {
   "cell_type": "code",
   "execution_count": 68,
   "metadata": {},
   "outputs": [
    {
     "data": {
      "text/html": [
       "<div>\n",
       "<table border=\"1\" class=\"dataframe\">\n",
       "  <thead>\n",
       "    <tr style=\"text-align: right;\">\n",
       "      <th></th>\n",
       "      <th>orderid</th>\n",
       "      <th>deliveredat</th>\n",
       "      <th>totalprice</th>\n",
       "    </tr>\n",
       "  </thead>\n",
       "  <tbody>\n",
       "    <tr>\n",
       "      <th>0</th>\n",
       "      <td>1552553</td>\n",
       "      <td>2017-08-08T00:02:29.980+00:00</td>\n",
       "      <td>176.11</td>\n",
       "    </tr>\n",
       "    <tr>\n",
       "      <th>1</th>\n",
       "      <td>1552559</td>\n",
       "      <td>2017-08-08T00:09:06.077+00:00</td>\n",
       "      <td>71.03</td>\n",
       "    </tr>\n",
       "    <tr>\n",
       "      <th>2</th>\n",
       "      <td>1552499</td>\n",
       "      <td>2017-08-08T00:15:03.847+00:00</td>\n",
       "      <td>61.95</td>\n",
       "    </tr>\n",
       "    <tr>\n",
       "      <th>3</th>\n",
       "      <td>1552617</td>\n",
       "      <td>2017-08-08T00:16:40.820+00:00</td>\n",
       "      <td>62.40</td>\n",
       "    </tr>\n",
       "    <tr>\n",
       "      <th>4</th>\n",
       "      <td>1552632</td>\n",
       "      <td>2017-08-08T00:31:27.957+00:00</td>\n",
       "      <td>64.16</td>\n",
       "    </tr>\n",
       "  </tbody>\n",
       "</table>\n",
       "</div>"
      ],
      "text/plain": [
       "   orderid                    deliveredat  totalprice\n",
       "0  1552553  2017-08-08T00:02:29.980+00:00      176.11\n",
       "1  1552559  2017-08-08T00:09:06.077+00:00       71.03\n",
       "2  1552499  2017-08-08T00:15:03.847+00:00       61.95\n",
       "3  1552617  2017-08-08T00:16:40.820+00:00       62.40\n",
       "4  1552632  2017-08-08T00:31:27.957+00:00       64.16"
      ]
     },
     "execution_count": 68,
     "metadata": {},
     "output_type": "execute_result"
    }
   ],
   "source": [
    "df_prices = pd.read_csv('../data/delivery_prices.csv')\n",
    "df_prices.head()"
   ]
  },
  {
   "cell_type": "code",
   "execution_count": 69,
   "metadata": {},
   "outputs": [
    {
     "data": {
      "text/plain": [
       "'Number of rows in df_prices: 3352'"
      ]
     },
     "execution_count": 69,
     "metadata": {},
     "output_type": "execute_result"
    }
   ],
   "source": [
    "'Number of rows in df_prices: {}'.format(len(df_prices))"
   ]
  },
  {
   "cell_type": "code",
   "execution_count": 70,
   "metadata": {},
   "outputs": [
    {
     "data": {
      "text/plain": [
       "'Average total price $69 with a median of $55'"
      ]
     },
     "execution_count": 70,
     "metadata": {},
     "output_type": "execute_result"
    },
    {
     "data": {
      "image/png": "[encoded data removed]",
      "text/plain": [
       "<matplotlib.figure.Figure at 0x11a68a390>"
      ]
     },
     "metadata": {},
     "output_type": "display_data"
    }
   ],
   "source": [
    "df_prices.totalprice.plot.hist(\n",
    "    alpha=.5, color='orange', bins=100,  figsize=(16, 8), title ='Total Price')\n",
    "'Average total price ${} with a median of ${}'.format(\n",
    "    \"%.0f\" % df_prices.totalprice.mean(), \"%.0f\" % df_prices.totalprice.median())"
   ]
  },
  {
   "cell_type": "markdown",
   "metadata": {},
   "source": [
    "## 1. Join these tables in a meaningful way \n",
    "Below I'll join the tables with merge on order id. It should be noted that the tables are not of equal size, thus some of the features (columns) will have missing values\n"
   ]
  },
  {
   "cell_type": "markdown",
   "metadata": {},
   "source": [
    "Since the tables are not of equal length we know there will be 428 rows with missing values, calculated below"
   ]
  },
  {
   "cell_type": "code",
   "execution_count": 71,
   "metadata": {},
   "outputs": [
    {
     "data": {
      "text/plain": [
       "'Number of incomplete rows: 428'"
      ]
     },
     "execution_count": 71,
     "metadata": {},
     "output_type": "execute_result"
    }
   ],
   "source": [
    "'Number of incomplete rows: {}'.format(len(df_delivery) - len(df_prices))"
   ]
  },
  {
   "cell_type": "code",
   "execution_count": 72,
   "metadata": {},
   "outputs": [],
   "source": [
    "# Change the index to 'orderid' column\n",
    "df_prices = df_prices.set_index('orderid')\n",
    "df_delivery = df_delivery.set_index('orderid')"
   ]
  },
  {
   "cell_type": "code",
   "execution_count": 97,
   "metadata": {},
   "outputs": [
    {
     "data": {
      "text/html": [
       "<div>\n",
       "<table border=\"1\" class=\"dataframe\">\n",
       "  <thead>\n",
       "    <tr style=\"text-align: right;\">\n",
       "      <th></th>\n",
       "      <th>date</th>\n",
       "      <th>price</th>\n",
       "      <th>lat</th>\n",
       "      <th>lon</th>\n",
       "      <th>delivery time</th>\n",
       "    </tr>\n",
       "    <tr>\n",
       "      <th>orderid</th>\n",
       "      <th></th>\n",
       "      <th></th>\n",
       "      <th></th>\n",
       "      <th></th>\n",
       "      <th></th>\n",
       "    </tr>\n",
       "  </thead>\n",
       "  <tbody>\n",
       "    <tr>\n",
       "      <th>1553535</th>\n",
       "      <td>NaN</td>\n",
       "      <td>NaN</td>\n",
       "      <td>34.012453</td>\n",
       "      <td>-118.457838</td>\n",
       "      <td>1077.0</td>\n",
       "    </tr>\n",
       "    <tr>\n",
       "      <th>1553536</th>\n",
       "      <td>2017-08-08T02:26:01.213+00:00</td>\n",
       "      <td>43.73</td>\n",
       "      <td>37.779351</td>\n",
       "      <td>-122.497121</td>\n",
       "      <td>235.0</td>\n",
       "    </tr>\n",
       "    <tr>\n",
       "      <th>1553537</th>\n",
       "      <td>2017-08-08T02:30:57.383+00:00</td>\n",
       "      <td>137.47</td>\n",
       "      <td>37.807403</td>\n",
       "      <td>-122.301621</td>\n",
       "      <td>172.0</td>\n",
       "    </tr>\n",
       "    <tr>\n",
       "      <th>1553538</th>\n",
       "      <td>2017-08-08T02:38:09.680+00:00</td>\n",
       "      <td>56.94</td>\n",
       "      <td>37.748804</td>\n",
       "      <td>-122.423628</td>\n",
       "      <td>20.0</td>\n",
       "    </tr>\n",
       "    <tr>\n",
       "      <th>1553539</th>\n",
       "      <td>2017-08-08T03:30:50.513+00:00</td>\n",
       "      <td>65.22</td>\n",
       "      <td>37.485039</td>\n",
       "      <td>-122.192457</td>\n",
       "      <td>119.0</td>\n",
       "    </tr>\n",
       "  </tbody>\n",
       "</table>\n",
       "</div>"
      ],
      "text/plain": [
       "                                  date   price        lat         lon  \\\n",
       "orderid                                                                 \n",
       "1553535                            NaN     NaN  34.012453 -118.457838   \n",
       "1553536  2017-08-08T02:26:01.213+00:00   43.73  37.779351 -122.497121   \n",
       "1553537  2017-08-08T02:30:57.383+00:00  137.47  37.807403 -122.301621   \n",
       "1553538  2017-08-08T02:38:09.680+00:00   56.94  37.748804 -122.423628   \n",
       "1553539  2017-08-08T03:30:50.513+00:00   65.22  37.485039 -122.192457   \n",
       "\n",
       "         delivery time  \n",
       "orderid                 \n",
       "1553535         1077.0  \n",
       "1553536          235.0  \n",
       "1553537          172.0  \n",
       "1553538           20.0  \n",
       "1553539          119.0  "
      ]
     },
     "execution_count": 97,
     "metadata": {},
     "output_type": "execute_result"
    }
   ],
   "source": [
    "# Merge on 'oderid' column\n",
    "df_join = pd.merge(df_prices,df_delivery, how='outer', left_index=True, right_index=True)\n",
    "df_join.columns =['date','price','lat','lon','delivery time'] #rename columns\n",
    "df_join[1020:1025]  #sample of table values "
   ]
  },
  {
   "cell_type": "markdown",
   "metadata": {},
   "source": [
    "# 2. Find at least one source of external information that you think would augment this table well and add it into the joined table.\n",
    "\n",
    "- Using the uszipcode 0.1.3 python package I can look up the zipcode, city, and average income for each latitude, longitude entry\n",
    "\n",
    "Note: I'm not sure how accurate the aveage income values are. Regardless, this information would be a good metric to know for market exploration purposes.\n"
   ]
  },
  {
   "cell_type": "code",
   "execution_count": 110,
   "metadata": {},
   "outputs": [],
   "source": [
    "res = search.by_coordinate(37.807403, -122.301621, radius=1, returns=1)"
   ]
  },
  {
   "cell_type": "code",
   "execution_count": 111,
   "metadata": {},
   "outputs": [
    {
     "data": {
      "text/plain": [
       "'94607'"
      ]
     },
     "execution_count": 111,
     "metadata": {},
     "output_type": "execute_result"
    }
   ],
   "source": [
    "res[0]['Zipcode']"
   ]
  },
  {
   "cell_type": "code",
   "execution_count": 112,
   "metadata": {},
   "outputs": [
    {
     "data": {
      "text/plain": [
       "14127.218352149892"
      ]
     },
     "execution_count": 112,
     "metadata": {},
     "output_type": "execute_result"
    }
   ],
   "source": [
    "res[0]['Wealthy']"
   ]
  },
  {
   "cell_type": "code",
   "execution_count": 113,
   "metadata": {},
   "outputs": [
    {
     "data": {
      "text/plain": [
       "'Oakland'"
      ]
     },
     "execution_count": 113,
     "metadata": {},
     "output_type": "execute_result"
    }
   ],
   "source": [
    "res[0]['City']"
   ]
  },
  {
   "cell_type": "code",
   "execution_count": 143,
   "metadata": {},
   "outputs": [
    {
     "data": {
      "text/plain": [
       "orderid\n",
       "1553155    94607\n",
       "1553212    94607\n",
       "1553370    94607\n",
       "1553357    94607\n",
       "1553156    94607\n",
       "1553374    94607\n",
       "1553407    94607\n",
       "1553438    94607\n",
       "1553415    94607\n",
       "1553348    94607\n",
       "1553617    94607\n",
       "1553605    94607\n",
       "1553695    94607\n",
       "1553572    94607\n",
       "1553520    94607\n",
       "1553484    94607\n",
       "1553682    94607\n",
       "1553639    94607\n",
       "1553782    94607\n",
       "1553759    94607\n",
       "1553640    94607\n",
       "1553697    94607\n",
       "1553845    94607\n",
       "1553953    94607\n",
       "1554053    94607\n",
       "1553903    94607\n",
       "1554075    94607\n",
       "1554097    94607\n",
       "1554268    94607\n",
       "1554160    94607\n",
       "1554354    94607\n",
       "1554311    94607\n",
       "1554528    94607\n",
       "1554531    94607\n",
       "1554532    94607\n",
       "1554640    94607\n",
       "1554582    94607\n",
       "1554815    94607\n",
       "1554710    94607\n",
       "1554857    94607\n",
       "1554511    94607\n",
       "1554809    94607\n",
       "1554839    94607\n",
       "1554899    94607\n",
       "1554852    94607\n",
       "1554962    94607\n",
       "1555025    94607\n",
       "1555143    94607\n",
       "1555058    94607\n",
       "1555138    94607\n",
       "dtype: object"
      ]
     },
     "execution_count": 143,
     "metadata": {},
     "output_type": "execute_result"
    }
   ],
   "source": [
    "df_delivery[10:60].apply(lambda x: search.by_coordinate( 37.807403,  -122.301621, radius=1, returns=1)[0]['Zipcode'],axis=1)"
   ]
  },
  {
   "cell_type": "code",
   "execution_count": 126,
   "metadata": {},
   "outputs": [
    {
     "data": {
      "text/html": [
       "<div>\n",
       "<table border=\"1\" class=\"dataframe\">\n",
       "  <thead>\n",
       "    <tr style=\"text-align: right;\">\n",
       "      <th></th>\n",
       "      <th>latitude</th>\n",
       "      <th>longitude</th>\n",
       "      <th>estimateddeliverytime</th>\n",
       "    </tr>\n",
       "    <tr>\n",
       "      <th>orderid</th>\n",
       "      <th></th>\n",
       "      <th></th>\n",
       "      <th></th>\n",
       "    </tr>\n",
       "  </thead>\n",
       "  <tbody>\n",
       "    <tr>\n",
       "      <th>1552679</th>\n",
       "      <td>37.697073</td>\n",
       "      <td>-122.485903</td>\n",
       "      <td>259.0</td>\n",
       "    </tr>\n",
       "    <tr>\n",
       "      <th>1552697</th>\n",
       "      <td>37.782185</td>\n",
       "      <td>-122.454544</td>\n",
       "      <td>54.0</td>\n",
       "    </tr>\n",
       "    <tr>\n",
       "      <th>1552675</th>\n",
       "      <td>37.780840</td>\n",
       "      <td>-122.395820</td>\n",
       "      <td>228.0</td>\n",
       "    </tr>\n",
       "    <tr>\n",
       "      <th>1552934</th>\n",
       "      <td>37.783131</td>\n",
       "      <td>-122.388962</td>\n",
       "      <td>209.0</td>\n",
       "    </tr>\n",
       "    <tr>\n",
       "      <th>1552983</th>\n",
       "      <td>37.323786</td>\n",
       "      <td>-121.878904</td>\n",
       "      <td>345.0</td>\n",
       "    </tr>\n",
       "    <tr>\n",
       "      <th>1552998</th>\n",
       "      <td>37.773666</td>\n",
       "      <td>-122.278450</td>\n",
       "      <td>0.0</td>\n",
       "    </tr>\n",
       "    <tr>\n",
       "      <th>1553031</th>\n",
       "      <td>37.754259</td>\n",
       "      <td>-122.398962</td>\n",
       "      <td>18.0</td>\n",
       "    </tr>\n",
       "    <tr>\n",
       "      <th>1552980</th>\n",
       "      <td>37.378558</td>\n",
       "      <td>-122.125420</td>\n",
       "      <td>105.0</td>\n",
       "    </tr>\n",
       "    <tr>\n",
       "      <th>1553119</th>\n",
       "      <td>36.963017</td>\n",
       "      <td>-121.881974</td>\n",
       "      <td>2327.0</td>\n",
       "    </tr>\n",
       "    <tr>\n",
       "      <th>1553228</th>\n",
       "      <td>37.795776</td>\n",
       "      <td>-122.216076</td>\n",
       "      <td>126.0</td>\n",
       "    </tr>\n",
       "  </tbody>\n",
       "</table>\n",
       "</div>"
      ],
      "text/plain": [
       "          latitude   longitude  estimateddeliverytime\n",
       "orderid                                              \n",
       "1552679  37.697073 -122.485903                  259.0\n",
       "1552697  37.782185 -122.454544                   54.0\n",
       "1552675  37.780840 -122.395820                  228.0\n",
       "1552934  37.783131 -122.388962                  209.0\n",
       "1552983  37.323786 -121.878904                  345.0\n",
       "1552998  37.773666 -122.278450                    0.0\n",
       "1553031  37.754259 -122.398962                   18.0\n",
       "1552980  37.378558 -122.125420                  105.0\n",
       "1553119  36.963017 -121.881974                 2327.0\n",
       "1553228  37.795776 -122.216076                  126.0"
      ]
     },
     "execution_count": 126,
     "metadata": {},
     "output_type": "execute_result"
    }
   ],
   "source": [
    "df_delivery[0:10]"
   ]
  },
  {
   "cell_type": "code",
   "execution_count": 120,
   "metadata": {},
   "outputs": [
    {
     "data": {
      "text/plain": [
       "'94110'"
      ]
     },
     "execution_count": 120,
     "metadata": {},
     "output_type": "execute_result"
    }
   ],
   "source": [
    "search.by_coordinate(37.747289, -122.419485, radius=1, returns=1)[0]['Zipcode']"
   ]
  },
  {
   "cell_type": "code",
   "execution_count": null,
   "metadata": {
    "collapsed": true
   },
   "outputs": [],
   "source": []
  }
 ],
 "metadata": {
  "kernelspec": {
   "display_name": "Python 3",
   "language": "python",
   "name": "python3"
  },
  "language_info": {
   "codemirror_mode": {
    "name": "ipython",
    "version": 3
   },
   "file_extension": ".py",
   "mimetype": "text/x-python",
   "name": "python",
   "nbconvert_exporter": "python",
   "pygments_lexer": "ipython3",
   "version": "3.6.3"
  }
 },
 "nbformat": 4,
 "nbformat_minor": 2
}

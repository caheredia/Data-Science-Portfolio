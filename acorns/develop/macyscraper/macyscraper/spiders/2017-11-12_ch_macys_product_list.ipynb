{
 "cells": [
  {
   "cell_type": "markdown",
   "metadata": {},
   "source": [
    "**Instructions:**       Please   read   all   of   the   instructions   and   the   entire   prompt   below.      Please   return   to us   any   code   you   write   and   any   files   that   your   code   outputs.      If   you   write   any   code,   Python   is   the preferred   language   but   you   may   use   any   language   you   like.      Feel   free   to   use   any   tools,   data sources,   or   references   but   do   document   anything   you   use.      This   exercise   is   representative   of the   kind   of   work   you   will   be   doing   here   at   Acorns.      Please   return   your   response   to   this   exercise within   72   hours   of   receiving   it.\n",
    "\n",
    "**Prompt:**    What   are   all   the   items   that   Macy's   sells   online?   Please   make   a   list   of   items   you   would be   able   to   buy   at   www.macys.com.   Explain   how   your   approach   could   be   generalized   to   other merchants.   How   would   you   assess   how   accurate   you   are?\n",
    "Please   submit   a   Jupyter   notebook   and   include   any   third   party   data   you   have   used   with references   to   substantiate   your   methodology.\n",
    "Preferences   are   given   to   the   simplest   answers   based   on   sound   principles   that   is   most   scalable in   its   implementation."
   ]
  },
  {
   "cell_type": "markdown",
   "metadata": {},
   "source": [
    "**Two different approaches:** \n",
    "    1. Build a webscraper with a framework like [scrapy](https://scrapy.org)  $[**Online dating stats:**](https://nbviewer.jupyter.org/github/caheredia/Data_Science_Portfolio/blob/master/Responses/deliver/2017-8-21_ch_okc_response_data_bayes.ipynb)$\n",
    "    2. Directly access the application programming interface (API). This would be the most accurate and fastest to implement, assuming API access. "
   ]
  },
  {
   "cell_type": "markdown",
   "metadata": {},
   "source": [
    "In terminal, I rant the folowing commands following commands to gather a list of urls to search inside the scrapy spider \n",
    "- scrapy shell\n",
    "- fetch('https://www.macys.com')\n",
    "- url_list = response.xpath('//a/@href').extract()\n",
    "- url_list = [response.urljoin(x) for x in url_list if 'www' not in x]\n",
    "- test_urls = open('test_urls.txt', 'w')\n",
    "- for item in url_list: <br>\n",
    "    ...:       test_urls.write(\"%s\\n\" % item)\n",
    "- test_urls.close()\n",
    "\n"
   ]
  },
  {
   "cell_type": "code",
   "execution_count": 1,
   "metadata": {},
   "outputs": [
    {
     "data": {
      "text/plain": [
       "'https://www.macys.com/shop/womens-clothing/womens-activewear?id=29891&cm_sp=us_hdr-_-women-_-29891_activewear_COL1'"
      ]
     },
     "execution_count": 1,
     "metadata": {},
     "output_type": "execute_result"
    }
   ],
   "source": [
    "with open('test_urls.txt') as f:\n",
    "    urls = f.read().splitlines()\n",
    "urls[21]"
   ]
  },
  {
   "cell_type": "code",
   "execution_count": null,
   "metadata": {
    "collapsed": true
   },
   "outputs": [],
   "source": []
  }
 ],
 "metadata": {
  "kernelspec": {
   "display_name": "Python 3",
   "language": "python",
   "name": "python3"
  },
  "language_info": {
   "codemirror_mode": {
    "name": "ipython",
    "version": 3
   },
   "file_extension": ".py",
   "mimetype": "text/x-python",
   "name": "python",
   "nbconvert_exporter": "python",
   "pygments_lexer": "ipython3",
   "version": "3.6.3"
  }
 },
 "nbformat": 4,
 "nbformat_minor": 2
}

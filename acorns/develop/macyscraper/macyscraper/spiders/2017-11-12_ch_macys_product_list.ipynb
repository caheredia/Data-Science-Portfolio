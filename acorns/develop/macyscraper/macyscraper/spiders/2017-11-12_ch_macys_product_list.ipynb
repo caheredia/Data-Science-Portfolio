{
 "cells": [
  {
   "cell_type": "markdown",
   "metadata": {
    "toc": true
   },
   "source": [
    "<h1>Table of Contents<span class=\"tocSkip\"></span></h1>\n",
    "<div class=\"toc\" style=\"margin-top: 1em;\"><ul class=\"toc-item\"><li><span><a href=\"#Introduction\" data-toc-modified-id=\"Introduction-1\"><span class=\"toc-item-num\">1&nbsp;&nbsp;</span>Introduction</a></span></li><li><span><a href=\"#Data-Collection-Methods\" data-toc-modified-id=\"Data-Collection-Methods-2\"><span class=\"toc-item-num\">2&nbsp;&nbsp;</span>Data Collection Methods</a></span></li><li><span><a href=\"#Data-Exploration\" data-toc-modified-id=\"Data-Exploration-3\"><span class=\"toc-item-num\">3&nbsp;&nbsp;</span>Data Exploration</a></span><ul class=\"toc-item\"><li><span><a href=\"#What-are-all-the-items-that-Macy's-sells-online?\" data-toc-modified-id=\"What-are-all-the-items-that-Macy's-sells-online?-3.1\"><span class=\"toc-item-num\">3.1&nbsp;&nbsp;</span>What are all the items that Macy's sells online?</a></span></li><li><span><a href=\"#Data-Visualization\" data-toc-modified-id=\"Data-Visualization-3.2\"><span class=\"toc-item-num\">3.2&nbsp;&nbsp;</span>Data Visualization</a></span></li></ul></li><li><span><a href=\"#Data-Analysis\" data-toc-modified-id=\"Data-Analysis-4\"><span class=\"toc-item-num\">4&nbsp;&nbsp;</span>Data Analysis</a></span><ul class=\"toc-item\"><li><span><a href=\"#Generalizing-to-difference-merchants\" data-toc-modified-id=\"Generalizing-to-difference-merchants-4.1\"><span class=\"toc-item-num\">4.1&nbsp;&nbsp;</span>Generalizing to difference merchants</a></span></li></ul></li></ul></div>"
   ]
  },
  {
   "cell_type": "markdown",
   "metadata": {},
   "source": [
    "# Introduction\n",
    "Often data is not presented or available in convenient forms. For example, there is no convenient way to determine the number of items sold by the retailer Macy's. One convenient method for acquiring product information is by using retailers application programming interface (API). But, after contacting Macy's developer site (http://developer.macys.com/) I learned they don't provide a public API. Therefore, I programmed a web crawler to scrape product information. This notebook presents the code necessary to run a web spider with python. After crawling through www.macys.com pages, the web spider found a total of **135,342** items for sale. The median product price was \\$80, with an average of \\$392. The web spider proved to be an effective method for gathering, otherwise, unavailable data. Should you have a need to aggregate dispersed data, this code could easily be modified to gather relevant data. "
   ]
  },
  {
   "cell_type": "markdown",
   "metadata": {},
   "source": [
    "# Data Collection Methods\n",
    "**Two different approaches:** \n",
    "    1. Directly access the application programming interface (API). This would be the most accurate and fastest to implement, assuming API access. \n",
    "    2. Build a web scraper with scrapy 1.4 framework (https://scrapy.org/). \n",
    "    \n",
    "I didn't have API access. So, in the terminal, I ran the following commands to gather a list of target URLs. The URL list would later be served to scrapy for crawling.  \n",
    "\n",
    "- scrapy shell\n",
    "- fetch('https://www.macys.com')\n",
    "- url_list = response.xpath('//a/@href').extract()\n",
    "- url_list = [response.urljoin(x) for x in url_list if 'www' not in x]\n",
    "- test_urls = open('test_urls.txt', 'w')\n",
    "- for item in url_list: <br>\n",
    "    ...:       test_urls.write(\"%s\\n\" % item)\n",
    "- test_urls.close()\n",
    "\n",
    "The above commands harvest links from the Macy's landing page. Then, the list is saved in a text file. test_urls.txt. Below is a sample url. \n"
   ]
  },
  {
   "cell_type": "code",
   "execution_count": 1,
   "metadata": {},
   "outputs": [
    {
     "data": {
      "text/plain": [
       "'https://www.macys.com/shop/womens-clothing/womens-activewear?id=29891&cm_sp=us_hdr-_-women-_-29891_activewear_COL1'"
      ]
     },
     "execution_count": 1,
     "metadata": {},
     "output_type": "execute_result"
    }
   ],
   "source": [
    "with open('test_urls.txt') as f:\n",
    "    urls = f.read().splitlines()\n",
    "urls[21]"
   ]
  },
  {
   "cell_type": "markdown",
   "metadata": {},
   "source": [
    "The code, macybot.py, used in the spider is displayed below, and the file can be found here: https://github.com/caheredia/Data_Science_Portfolio/blob/master/acorns/develop/macyscraper/macyscraper/spiders/macybot.py The first part of the file reads in the list of urls. Then a function is defined to extract the titles of items in each url. The title extraction is done with this line of code\n",
    "> titles = response.css(\".productDescLink::attr(title)\").extract()\n",
    "\n",
    "A similar method is used for prices. The next section in macybot.py zips the *titles* and *prices* into a dictionary, later saved into a csv file. The csv save commands take place in settings.py, https://github.com/caheredia/Data_Science_Portfolio/blob/master/acorns/develop/macyscraper/macyscraper/settings.py The dictionary is saved to the file macys.csv. Finally, the last section of macybot.py instructs the spider on how to proceed through urls with pagination. "
   ]
  },
  {
   "cell_type": "code",
   "execution_count": null,
   "metadata": {
    "collapsed": true
   },
   "outputs": [],
   "source": [
    "# -*- coding: utf-8 -*-\n",
    "import scrapy\n",
    "\n",
    "# Read in previously saved urls from macys.com\n",
    "with open('test_urls.txt') as f:\n",
    "    urls = f.read().splitlines()\n",
    "    \n",
    "class macySpider(scrapy.Spider):\n",
    "    name = 'macybot'\n",
    "    allowed_domains = ['www.macys.com']\n",
    "    start_urls = urls\n",
    "\n",
    "    def parse(self, response):\n",
    "        #Extracting the content using css selectors\n",
    "        titles = response.css(\".productDescLink::attr(title)\").extract()\n",
    "        #url = response.css(\".productDescLink::attr(href)\").extract()\n",
    "        price = response.css(\".regular::text\").extract()\n",
    "  \n",
    "\n",
    "        #Give the extracted content row wise\n",
    "        for item in zip(titles,price):\n",
    "            #create a dictionary to store the scraped info\n",
    "            scraped_data = {\n",
    "            'title' : item[0],\n",
    "            'price' : item[1].strip(),\n",
    "            #'url' : response.urljoin(item[2]),\n",
    "            }\n",
    "\n",
    "            #yield or give the scraped info to scrapy\n",
    "            yield scraped_data\n",
    "            \n",
    "        # follow pagination link \n",
    "        next_page_url = response.css(\".nextPage > a::attr(href)\").extract_first()\n",
    "        # Check to see if next page exists\n",
    "        if next_page_url:\n",
    "            next_page_url = response.urljoin(next_page_url)\n",
    "            yield scrapy.Request(url = next_page_url, callback = self.parse)"
   ]
  },
  {
   "cell_type": "markdown",
   "metadata": {},
   "source": [
    "# Data Exploration"
   ]
  },
  {
   "cell_type": "markdown",
   "metadata": {},
   "source": [
    "## What are all the items that Macy's sells online?\n",
    "Below is a table with all the available items for sale, with prices included."
   ]
  },
  {
   "cell_type": "code",
   "execution_count": 158,
   "metadata": {
    "collapsed": true
   },
   "outputs": [],
   "source": [
    "import pandas as pd\n",
    "import seaborn as sns\n",
    "import numpy as np\n",
    "import matplotlib\n",
    "%matplotlib inline"
   ]
  },
  {
   "cell_type": "code",
   "execution_count": 223,
   "metadata": {},
   "outputs": [
    {
     "data": {
      "text/html": [
       "<div>\n",
       "<table border=\"1\" class=\"dataframe\">\n",
       "  <thead>\n",
       "    <tr style=\"text-align: right;\">\n",
       "      <th></th>\n",
       "      <th>title</th>\n",
       "      <th>price</th>\n",
       "    </tr>\n",
       "  </thead>\n",
       "  <tbody>\n",
       "    <tr>\n",
       "      <th>0</th>\n",
       "      <td>INC International Concepts Velvet Blazer, Cre...</td>\n",
       "      <td>$99.50</td>\n",
       "    </tr>\n",
       "    <tr>\n",
       "      <th>1</th>\n",
       "      <td>Style &amp; Co Camisole with Built-In Bra, Create...</td>\n",
       "      <td>$7.98</td>\n",
       "    </tr>\n",
       "    <tr>\n",
       "      <th>2</th>\n",
       "      <td>Calvin Klein Tweed Bouclé Topper Jacket</td>\n",
       "      <td>$169.00</td>\n",
       "    </tr>\n",
       "    <tr>\n",
       "      <th>3</th>\n",
       "      <td>Tommy Hilfiger Pinstriped Peplum Blazer</td>\n",
       "      <td>$139.00</td>\n",
       "    </tr>\n",
       "    <tr>\n",
       "      <th>4</th>\n",
       "      <td>Kasper Metallic Jacquard Jacket, Regular &amp; Pe...</td>\n",
       "      <td>$129.00</td>\n",
       "    </tr>\n",
       "  </tbody>\n",
       "</table>\n",
       "</div>"
      ],
      "text/plain": [
       "                                               title    price\n",
       "0   INC International Concepts Velvet Blazer, Cre...   $99.50\n",
       "1   Style & Co Camisole with Built-In Bra, Create...    $7.98\n",
       "2            Calvin Klein Tweed Bouclé Topper Jacket  $169.00\n",
       "3            Tommy Hilfiger Pinstriped Peplum Blazer  $139.00\n",
       "4   Kasper Metallic Jacquard Jacket, Regular & Pe...  $129.00"
      ]
     },
     "execution_count": 223,
     "metadata": {},
     "output_type": "execute_result"
    }
   ],
   "source": [
    "# Read in csv file and display first 5 items\n",
    "df = pd.read_csv( 'macys.csv')\n",
    "df.head()"
   ]
  },
  {
   "cell_type": "code",
   "execution_count": 236,
   "metadata": {},
   "outputs": [
    {
     "data": {
      "text/plain": [
       "'Total number of items for sale on www.macys.com: 135342'"
      ]
     },
     "execution_count": 236,
     "metadata": {},
     "output_type": "execute_result"
    }
   ],
   "source": [
    "'Total number of items for sale on www.macys.com: {}'.format(len(df))"
   ]
  },
  {
   "cell_type": "markdown",
   "metadata": {},
   "source": [
    "## Data Visualization"
   ]
  },
  {
   "cell_type": "code",
   "execution_count": 237,
   "metadata": {
    "collapsed": true
   },
   "outputs": [],
   "source": [
    "# Strips price column of extra chars and converts to float\n",
    "df['price'] = df['price'].astype(str).map(lambda x: x.lstrip('$').rstrip(\n",
    "    'aAbBcC').replace(',', '')).apply(pd.to_numeric, errors='coerce')"
   ]
  },
  {
   "cell_type": "code",
   "execution_count": 245,
   "metadata": {},
   "outputs": [
    {
     "data": {
      "image/png": "[encoded data removed]",
      "text/plain": [
       "<matplotlib.figure.Figure at 0x13b50ff98>"
      ]
     },
     "metadata": {},
     "output_type": "display_data"
    }
   ],
   "source": [
    "# Plot a histrogram of product prices.\n",
    "df['price'].plot.hist(alpha = .5, color = 'orange', bins=1000, figsize=(16,8), xlim=(0,4000), title='Product price histogram');"
   ]
  },
  {
   "cell_type": "code",
   "execution_count": 219,
   "metadata": {},
   "outputs": [
    {
     "name": "stdout",
     "output_type": "stream",
     "text": [
      "Average product price:\t $392\n",
      "Median product price:\t $80\n",
      "Minimum product price:\t $2\n",
      "Maximum product price:\t $38000\n"
     ]
    }
   ],
   "source": [
    "print('Average product price:\\t ${:.0f}'.format(df.price.mean()))\n",
    "print('Median product price:\\t ${:.0f}'.format(df.price.median()))\n",
    "print('Minimum product price:\\t ${:.0f}'.format(df.price.min()))\n",
    "print('Maximum product price:\\t ${:.0f}'.format(df.price.max()))"
   ]
  },
  {
   "cell_type": "code",
   "execution_count": 243,
   "metadata": {},
   "outputs": [
    {
     "data": {
      "text/plain": [
       "' Diamond Graduated Three-Row Collar Necklace (12 ct. t.w.) in 14k White Gold'"
      ]
     },
     "execution_count": 243,
     "metadata": {},
     "output_type": "execute_result"
    }
   ],
   "source": [
    "# Most expensive product\n",
    "df.title[df[df.price==df.price.max()].index[0]]"
   ]
  },
  {
   "cell_type": "markdown",
   "metadata": {},
   "source": [
    "# Data Analysis "
   ]
  },
  {
   "cell_type": "markdown",
   "metadata": {},
   "source": [
    "##  Generalizing to difference merchants\n",
    "This web crawler method is fairly versatile. With small changes made to the recorded parameters, i.e. *titles* and *prices* through xpath links, this crawler could be generalized to any website--assuming access was granted.\n",
    "\n",
    "Because it could be run through a cloud service, e.g Scrapy Cloud, this method is extensible and scalable. "
   ]
  }
 ],
 "metadata": {
  "kernelspec": {
   "display_name": "Python 3",
   "language": "python",
   "name": "python3"
  },
  "language_info": {
   "codemirror_mode": {
    "name": "ipython",
    "version": 3
   },
   "file_extension": ".py",
   "mimetype": "text/x-python",
   "name": "python",
   "nbconvert_exporter": "python",
   "pygments_lexer": "ipython3",
   "version": "3.6.3"
  },
  "toc": {
   "nav_menu": {},
   "number_sections": true,
   "sideBar": true,
   "skip_h1_title": false,
   "toc_cell": true,
   "toc_position": {},
   "toc_section_display": "block",
   "toc_window_display": false
  }
 },
 "nbformat": 4,
 "nbformat_minor": 2
}

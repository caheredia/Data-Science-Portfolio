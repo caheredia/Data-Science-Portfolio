{
 "cells": [
  {
   "cell_type": "markdown",
   "metadata": {},
   "source": [
    "**Instructions:**       Please   read   all   of   the   instructions   and   the   entire   prompt   below.      Please   return   to us   any   code   you   write   and   any   files   that   your   code   outputs.      If   you   write   any   code,   Python   is   the preferred   language   but   you   may   use   any   language   you   like.      Feel   free   to   use   any   tools,   data sources,   or   references   but   do   document   anything   you   use.      This   exercise   is   representative   of the   kind   of   work   you   will   be   doing   here   at   Acorns.      Please   return   your   response   to   this   exercise within   72   hours   of   receiving   it.\n",
    "\n",
    "**Prompt:**    What   are   all   the   items   that   Macy's   sells   online?   Please   make   a   list   of   items   you   would be   able   to   buy   at   www.macys.com.   Explain   how   your   approach   could   be   generalized   to   other merchants.   How   would   you   assess   how   accurate   you   are?\n",
    "Please   submit   a   Jupyter   notebook   and   include   any   third   party   data   you   have   used   with references   to   substantiate   your   methodology.\n",
    "Preferences   are   given   to   the   simplest   answers   based   on   sound   principles   that   is   most   scalable in   its   implementation."
   ]
  },
  {
   "cell_type": "markdown",
   "metadata": {
    "collapsed": true
   },
   "source": [
    "**Two different approaches:** \n",
    "    1. Build a webscraper with a library like Beautiful Soup 4. \n",
    "    2. Directly access the application programming interface (API). This would be the most accurate and fastest to implement, assuming API access. "
   ]
  },
  {
   "cell_type": "markdown",
   "metadata": {},
   "source": [
    "## Macys API Available Methods \n",
    "This is a subset of availabe methods\n",
    " - **Category Index v4** This service provides a list of all the active categories (or whichever categories are specified) in a hierarchical tree that can be navigated in either direction.\n",
    " - **Category Brand Index v4** This API allows users to specify Category(s) and retrieve the complete list of Brands for that Category(s).  This is called the Brand Index.\n",
    " - **Product Detail (Using Product ID) v4** \n",
    "\tThe V4 Product service can retrieve highly customizable detailed descriptions of a particular product by using Product IDs. The URL and response have changed greatly from V3 to V4 in that it follows a nested object logical pattern."
   ]
  },
  {
   "cell_type": "markdown",
   "metadata": {},
   "source": [
    "The following will download the catalog \n",
    "curl -X GET -H \"x-macys-webservice-client-id: xxxxxxxxxxx\" -H \"Accept: application/json\" \"http://api.macys.com/v3/catalog/category/index\""
   ]
  },
  {
   "cell_type": "code",
   "execution_count": 27,
   "metadata": {},
   "outputs": [],
   "source": [
    "import pandas as pd\n",
    "from bs4 import BeautifulSoup as soup\n",
    "from urllib.request import urlopen as uReq\n",
    "import os\n",
    "# Loads private Macys API key \n",
    "api_key=os.environ[\"MACYS_API_KEY\"]"
   ]
  },
  {
   "cell_type": "code",
   "execution_count": 28,
   "metadata": {
    "collapsed": true
   },
   "outputs": [],
   "source": [
    "my_url ='https://www.newegg.com/Desktop-Graphics-Cards/SubCategory/ID-48?Tid=7709'"
   ]
  },
  {
   "cell_type": "code",
   "execution_count": 29,
   "metadata": {
    "collapsed": true
   },
   "outputs": [],
   "source": [
    "# Open connection, grab page \n",
    "uClient = uReq(my_url)"
   ]
  },
  {
   "cell_type": "code",
   "execution_count": 30,
   "metadata": {},
   "outputs": [],
   "source": [
    "# Save code to variable and close the client \n",
    "page_html = uClient.read()\n",
    "uClient.close()"
   ]
  },
  {
   "cell_type": "code",
   "execution_count": 31,
   "metadata": {},
   "outputs": [],
   "source": [
    "# Call soup function, html parsing \n",
    "page_soup = soup(page_html, 'html.parser')"
   ]
  },
  {
   "cell_type": "code",
   "execution_count": 32,
   "metadata": {},
   "outputs": [
    {
     "data": {
      "text/plain": [
       "<h1 class=\"page-title-text\">Desktop Graphics Cards</h1>"
      ]
     },
     "execution_count": 32,
     "metadata": {},
     "output_type": "execute_result"
    }
   ],
   "source": [
    "# Call header \n",
    "page_soup.h1"
   ]
  },
  {
   "cell_type": "code",
   "execution_count": 33,
   "metadata": {},
   "outputs": [
    {
     "data": {
      "text/plain": [
       "<p>Newegg.com - A great place to buy computers, computer parts, electronics, software, accessories, and DVDs online. With great prices, fast shipping, and top-rated customer service - once you know, you Newegg.</p>"
      ]
     },
     "execution_count": 33,
     "metadata": {},
     "output_type": "execute_result"
    }
   ],
   "source": [
    "# Call p tag\n",
    "page_soup.p"
   ]
  },
  {
   "cell_type": "code",
   "execution_count": 34,
   "metadata": {},
   "outputs": [
    {
     "data": {
      "text/plain": [
       "<span class=\"noCSS\">Skip to:</span>"
      ]
     },
     "execution_count": 34,
     "metadata": {},
     "output_type": "execute_result"
    }
   ],
   "source": [
    "page_soup.body.span"
   ]
  },
  {
   "cell_type": "code",
   "execution_count": 41,
   "metadata": {},
   "outputs": [],
   "source": [
    "# Find all item-container div items, grabs each product\n",
    "containers = page_soup('div', {'class':'item-container'})"
   ]
  },
  {
   "cell_type": "code",
   "execution_count": 42,
   "metadata": {},
   "outputs": [
    {
     "data": {
      "text/plain": [
       "37"
      ]
     },
     "execution_count": 42,
     "metadata": {},
     "output_type": "execute_result"
    }
   ],
   "source": [
    "len(containers)"
   ]
  },
  {
   "cell_type": "code",
   "execution_count": 43,
   "metadata": {},
   "outputs": [
    {
     "data": {
      "text/plain": [
       "<div class=\"item-container is-feature-item \">\n",
       "<!--product image-->\n",
       "<a class=\"item-img\" href=\"https://www.newegg.com/Product/Product.aspx?Item=N82E16814126186\">\n",
       "<img alt=\"ASUS ROG GeForce GTX 1080 Ti DirectX 12 STRIX-GTX1080TI-O11G-GAMING 11GB 352-Bit GDDR5X PCI Express 3.0 HDCP Ready Video Card\" src=\"//images10.newegg.com/NeweggImage/ProductImageCompressAll300/14-126-186-V01.jpg\" title=\"ASUS ROG GeForce GTX 1080 Ti DirectX 12 STRIX-GTX1080TI-O11G-GAMING 11GB 352-Bit GDDR5X PCI Express 3.0 HDCP Ready Video Card\"/>\n",
       "</a>\n",
       "<div class=\"item-info\">\n",
       "<!--brand info-->\n",
       "<div class=\"item-branding\">\n",
       "<a class=\"item-brand\" href=\"https://www.newegg.com/ASUS/BrandStore/ID-1315\">\n",
       "<img alt=\"ASUS\" src=\"//images10.newegg.com/brandimage//Brand1315.gif\" title=\"ASUS\"/>\n",
       "</a>\n",
       "<!--rating info-->\n",
       "<a class=\"item-rating\" href=\"https://www.newegg.com/Product/Product.aspx?Item=N82E16814126186&amp;SortField=0&amp;SummaryType=0&amp;PageSize=10&amp;SelectedRating=-1&amp;VideoOnlyMark=False&amp;ignorebbr=1&amp;IsFeedbackTab=true#scrollFullInfo\" title=\"Rating + 5\"><i class=\"rating rating-5\"></i><span class=\"item-rating-num\">(128)</span></a>\n",
       "</div>\n",
       "<!--description info-->\n",
       "<a class=\"item-title\" href=\"https://www.newegg.com/Product/Product.aspx?Item=N82E16814126186\" title=\"View Details\"><i class=\"icon-premier icon-premier-xsm\"></i>ASUS ROG GeForce GTX 1080 Ti DirectX 12 STRIX-GTX1080TI-O11G-GAMING 11GB 352-Bit GDDR5X PCI Express 3.0 HDCP Ready Video Card</a>\n",
       "<!--promption info-->\n",
       "<p class=\"item-promo\"><i class=\"item-promo-icon\"></i>Includes Destiny 2 PC game with purchase, limited offer</p>\n",
       "<!--feature-->\n",
       "<ul class=\"item-features\">\n",
       "<li><strong>Core Clock:</strong> 1594 MHz (OC mode)\n",
       "1569 MHz (Gaming mode)</li><li><strong>Max Resolution:</strong> 7680 x 4320</li><li><strong>DisplayPort:</strong> 2 x DisplayPort 1.4</li><li><strong>DVI:</strong> 1 x Dual-Link DVI-D</li>\n",
       "<li><strong>Model #: </strong>STRIX-GTX1080TI-O11G-GAMING</li>\n",
       "<li><strong>Item #: </strong>N82E16814126186</li>\n",
       "<li><strong>Return Policy: </strong><a href=\"https://kb.newegg.com/Article/Index/12/3?id=1167#54\" target=\"_blank\" title=\"Extended Holiday Replacement-Only Return Policy(New Window)\">Extended Holiday Replacement-Only Return Policy</a></li>\n",
       "</ul>\n",
       "<div class=\"item-action\">\n",
       "<!--price-->\n",
       "<ul class=\"price has-label-membership \">\n",
       "<li class=\"price-was\">\n",
       "</li>\n",
       "<li class=\"price-map\">\n",
       "</li>\n",
       "<li class=\"price-current\">\n",
       "<span class=\"price-current-label\">\n",
       "<a class=\"membership-info membership-popup\" data-neg-popid=\"MembershipPopup\" href=\"javascript:void(0);\" name=\"membership\" style=\"display: inline\"><span class=\"membership-icon\"></span><span style=\"display: none\">|</span></a>\n",
       "</span>$<strong>799</strong><sup>.99</sup> \n",
       "            <span class=\"price-current-range\">\n",
       "<abbr title=\"to\">–</abbr>\n",
       "</span>\n",
       "</li>\n",
       "<li class=\"price-save \">\n",
       "<span class=\"price-save-endtime price-save-endtime-current\"></span>\n",
       "<span class=\"price-save-endtime price-save-endtime-another\" style=\"display:none;\"></span>\n",
       "</li>\n",
       "<li class=\"price-note\">\n",
       "</li>\n",
       "<li class=\"price-ship\">\n",
       "        $4.99 Shipping\n",
       "    </li>\n",
       "</ul>\n",
       "<!--egg point-->\n",
       "<!--financing-->\n",
       "<!--button-->\n",
       "<div class=\"item-operate \">\n",
       "<div class=\"item-button-area\">\n",
       "<button class=\"btn btn-mini \" onclick=\"Javascript:Biz.ProductList.Item.add('https://www.newegg.com/Product/Product.aspx?Item=N82E16814126186');\" title=\"View Details\" type=\"button\">View Details <i class=\"fa fa-caret-right\"></i></button>\n",
       "</div>\n",
       "<!--compare-->\n",
       "<div class=\"item-compare-box\">\n",
       "<label class=\"form-checkbox\">\n",
       "<input autocomplete=\"off\" id=\"CompareItem_14-126-186\" name=\"CompareItem\" neg-itemnumber=\"14-126-186\" type=\"checkbox\" value=\"CompareItem_14-126-186\">\n",
       "<span class=\"form-checkbox-title\">Compare</span>\n",
       "</input></label>\n",
       "</div>\n",
       "<script type=\"text/javascript\">\n",
       "                        Biz.Product.CompareConfig.compareItems.push(\"14-126-186\");\n",
       "                        var itemThumbs = new Object();\n",
       "                        itemThumbs.itemNumber = \"14-126-186\";\n",
       "                        itemThumbs.imageUrl = \"//images10.newegg.com/ProductImageCompressAll35/14-126-186-V01.jpg\";\n",
       "                        Biz.Product.CompareConfig.Thumbs.push(itemThumbs);\n",
       "                    </script>\n",
       "</div>\n",
       "</div>\n",
       "</div>\n",
       "</div>"
      ]
     },
     "execution_count": 43,
     "metadata": {},
     "output_type": "execute_result"
    }
   ],
   "source": [
    "# Copy to jsbeautifer. \n",
    "# The 'title' contains the brand name\n",
    "# All of the items seem to have product name and brand\n",
    "containers[0]"
   ]
  },
  {
   "cell_type": "code",
   "execution_count": 44,
   "metadata": {
    "collapsed": true
   },
   "outputs": [],
   "source": [
    "container = containers[0]"
   ]
  },
  {
   "cell_type": "code",
   "execution_count": 48,
   "metadata": {},
   "outputs": [
    {
     "data": {
      "text/plain": [
       "<div class=\"item-branding\">\n",
       "<a class=\"item-brand\" href=\"https://www.newegg.com/ASUS/BrandStore/ID-1315\">\n",
       "<img alt=\"ASUS\" src=\"//images10.newegg.com/brandimage//Brand1315.gif\" title=\"ASUS\"/>\n",
       "</a>\n",
       "<!--rating info-->\n",
       "<a class=\"item-rating\" href=\"https://www.newegg.com/Product/Product.aspx?Item=N82E16814126186&amp;SortField=0&amp;SummaryType=0&amp;PageSize=10&amp;SelectedRating=-1&amp;VideoOnlyMark=False&amp;ignorebbr=1&amp;IsFeedbackTab=true#scrollFullInfo\" title=\"Rating + 5\"><i class=\"rating rating-5\"></i><span class=\"item-rating-num\">(128)</span></a>\n",
       "</div>"
      ]
     },
     "execution_count": 48,
     "metadata": {},
     "output_type": "execute_result"
    }
   ],
   "source": [
    "# .a grabs 'item-img' not very useful, div grabs \n",
    "container.div.div"
   ]
  },
  {
   "cell_type": "code",
   "execution_count": 49,
   "metadata": {},
   "outputs": [
    {
     "data": {
      "text/plain": [
       "'ASUS'"
      ]
     },
     "execution_count": 49,
     "metadata": {},
     "output_type": "execute_result"
    }
   ],
   "source": [
    "container.div.div.a.img['title']"
   ]
  },
  {
   "cell_type": "code",
   "execution_count": 57,
   "metadata": {},
   "outputs": [
    {
     "data": {
      "text/plain": [
       "'$4.99 Shipping'"
      ]
     },
     "execution_count": 57,
     "metadata": {},
     "output_type": "execute_result"
    }
   ],
   "source": [
    "container.findAll('li', {'class': 'price-ship'})[0].text.strip()\n"
   ]
  },
  {
   "cell_type": "code",
   "execution_count": 62,
   "metadata": {},
   "outputs": [
    {
     "data": {
      "text/plain": [
       "29"
      ]
     },
     "execution_count": 62,
     "metadata": {},
     "output_type": "execute_result"
    }
   ],
   "source": [
    "filename = 'products.csv'\n",
    "headers = 'brand, product_name, shipping'\n",
    "f = open(filename, 'w')\n",
    "f.write(headers)"
   ]
  },
  {
   "cell_type": "code",
   "execution_count": 64,
   "metadata": {},
   "outputs": [
    {
     "name": "stdout",
     "output_type": "stream",
     "text": [
      "brand: ASUS\n",
      "product_name: ASUS ROG GeForce GTX 1080 Ti DirectX 12 STRIX-GTX1080TI-O11G-GAMING 11GB 352-Bit GDDR5X PCI Express 3.0 HDCP Ready Video Card\n",
      "shipping_container: $4.99 Shipping\n",
      "brand: GIGABYTE\n",
      "product_name: GIGABYTE GeForce GTX 1060 DirectX 12 GV-N1060G1 GAMING-6GD REV 2.0 6GB 192-Bit GDDR5 PCI Express 3.0 x16 ATX Video Card\n",
      "shipping_container: $4.99 Shipping\n",
      "brand: ASUS\n",
      "product_name: ASUS GeForce GTX 1070 Ti TURBO-GTX1070TI-8G 8GB 256-Bit GDDR5 PCI Express 3.0 HDCP Ready SLI Support Video Card\n",
      "shipping_container: $4.99 Shipping\n",
      "brand: Sapphire Tech\n",
      "product_name: Sapphire Radeon NITRO+ RX 580 4GB GDDR5 PCI-E Dual HDMI / DVI-D / Dual DP w/ Backplate (UEFI)\n",
      "shipping_container: Free Shipping\n",
      "brand: EVGA\n",
      "product_name: EVGA GeForce GTX 1080 Ti SC2 GAMING, 11G-P4-6593-KR, 11GB GDDR5X, iCX Technology - 9 Thermal Sensors & RGB LED G/P/M\n",
      "shipping_container: Free Shipping\n",
      "brand: ASUS\n",
      "product_name: ASUS GeForce GTX 1080 TURBO-GTX1080-8G 8GB 256-Bit GDDR5X PCI Express 3.0 HDCP Ready SLI Support Video Card\n",
      "shipping_container: $4.99 Shipping\n",
      "brand: EVGA\n",
      "product_name: EVGA GeForce GTX 1060 3GB SSC GAMING ACX 3.0, 03G-P4-6167-KR, 3GB GDDR5, LED, DX12 OSD Support (PXOC)\n",
      "shipping_container: $4.99 Shipping\n",
      "brand: EVGA\n",
      "product_name: EVGA GeForce GTX 1080 Ti FTW3 ELITE GAMING WHITE, 11G-P4-6797-K1, 11GB 12 GHz GDDR5X, iCX Technology - 9 Thermal Sensors & RGB LED G/P/M\n",
      "shipping_container: $4.99 Shipping\n",
      "brand: GIGABYTE\n",
      "product_name: GIGABYTE GeForce GTX 1080 Ti Turbo 11GD, GV-N108TTURBO-11GD\n",
      "shipping_container: $4.99 Shipping\n",
      "brand: MSI\n",
      "product_name: MSI Radeon RX 580 DirectX 12 Radeon RX 580 8G V1 8GB 256-Bit GDDR5 PCI Express x16 HDCP Ready CrossFireX Support Video Card\n",
      "shipping_container: $4.99 Shipping\n",
      "brand: EVGA\n",
      "product_name: EVGA GeForce GTX 1070 FTW2 GAMING iCX, 08G-P4-6676-KR, 8GB GDDR5, RGB LED, 9 Thermal Sensors, Asynchronous Fan Control, Thermal Display LED System, Optimized Airflow Fin Design\n",
      "shipping_container: $4.99 Shipping\n",
      "brand: MSI\n",
      "product_name: MSI GeForce GTX 1080 DirectX 12 GTX 1080 DUKE 8G OC 8GB 256-Bit GDDR5X PCI Express 3.0 x16 HDCP Ready SLI Support Video Cards\n",
      "shipping_container: $4.99 Shipping\n",
      "brand: MSI\n",
      "product_name: MSI GeForce GTX 1060 DirectX 12 GTX 1060 GAMING X 6G 6GB 192-Bit GDDR5 PCI Express 3.0 x16 HDCP Ready ATX Video Card\n",
      "shipping_container: $4.99 Shipping\n",
      "brand: PowerColor\n",
      "product_name: PowerColor RED DEVIL Radeon RX 570 DirectX 12 AXRX 570 4GBD5-3DH/OC 4GB 256-Bit GDDR5 PCI Express 3.0 CrossFireX Support ATX Video Card\n",
      "shipping_container: $4.99 Shipping\n",
      "brand: GIGABYTE\n",
      "product_name: GIGABYTE AORUS Radeon RX 580 DirectX 12 GV-RX580AORUS-4GD 4GB 256-Bit GDDR5 PCI Express 3.0 x16 ATX Video Card\n",
      "shipping_container: Free Shipping\n",
      "brand: EVGA\n",
      "product_name: EVGA GeForce GTX 1070 SC GAMING ACX 3.0, 08G-P4-6173-KR, 8GB GDDR5, LED, DX12 OSD Support (PXOC)\n",
      "shipping_container: Free Shipping\n",
      "brand: Sapphire Tech\n",
      "product_name: Sapphire Radeon NITRO+ RX 580 8GB GDDR5 PCI-E Dual HDMI / DVI-D / Dual DP w/ Backplate SPECIAL EDITION (UEFI), 100411NT+8GSEL\n",
      "shipping_container: $4.99 Shipping\n",
      "brand: ASUS\n",
      "product_name: ASUS ROG GeForce GTX 1060 STRIX-GTX1060-O6G-GAMING 6GB 192-Bit GDDR5 PCI Express 3.0 HDCP Ready Video Card\n",
      "shipping_container: Free Shipping\n",
      "brand: MSI\n",
      "product_name: MSI Radeon RX 570 DirectX 12 RX 570 ARMOR 8G OC 8GB 256-Bit GDDR5 PCI Express x16 HDCP Ready CrossFireX Support ATX Video Card\n",
      "shipping_container: $3.99 Shipping\n",
      "brand: EVGA\n",
      "product_name: EVGA GeForce GTX 1060 6GB SSC GAMING ACX 3.0, 6GB GDDR5, LED, DX12 OSD Support (PXOC), 06G-P4-6267-KR\n",
      "shipping_container: $4.99 Shipping\n",
      "brand: ASUS\n",
      "product_name: ASUS ROG GeForce GTX 1070 Ti STRIX-GTX1070TI-A8G-GAMING 8GB 256-Bit GDDR5 PCI Express 3.0 HDCP Ready Video Card\n",
      "shipping_container: $4.99 Shipping\n",
      "brand: PowerColor\n",
      "product_name: PowerColor RED DRAGON Radeon RX 560 DirectX 12 AXRX 560 4GBD5-DHAM 4GB 128-Bit GDDR5 PCI Express 3.0 CrossFireX Support ATX Video Card - Brown Box - OEM\n",
      "shipping_container: $3.99 Shipping\n",
      "brand: EVGA\n",
      "product_name: EVGA GeForce GTX 1080 Ti FTW3 ELITE GAMING BLACK, 11G-P4-6797-K2, 11GB 12 GHz GDDR5X, iCX Technology - 9 Thermal Sensors & RGB LED G/P/M\n",
      "shipping_container: $4.99 Shipping\n",
      "brand: GIGABYTE\n",
      "product_name: GIGABYTE Radeon RX 550 DirectX 12 GV-RX550D5-2GD 2GB 128-Bit GDDR5 PCI Express 3.0 x16 ATX Video Card\n",
      "shipping_container: $3.99 Shipping\n",
      "brand: GIGABYTE\n",
      "product_name: GIGABYTE GeForce GTX 1050 Ti DirectX 12 GV-N105TWF2OC-4GD 4GB 128-Bit GDDR5 PCI Express 3.0 x16 ATX Video Card\n",
      "shipping_container: Free Shipping\n",
      "brand: EVGA\n",
      "product_name: EVGA GeForce GTX 1060 GAMING, ACX 2.0 (Single Fan), 03G-P4-6160-KR, 3GB GDDR5, DX12 OSD Support (PXOC), Only 6.8 Inches\n",
      "shipping_container: $4.99 Shipping\n",
      "brand: MSI\n",
      "product_name: MSI GeForce GTX 1070 DirectX 12 GTX 1070 GAMING 8G 8GB 256-Bit GDDR5 PCI Express 3.0 x16 HDCP Ready SLI Support ATX Video Card\n",
      "shipping_container: $3.99 Shipping\n",
      "brand: MSI\n",
      "product_name: MSI GeForce GTX 1070 Ti DirectX 12 GTX 1070 Ti Titanium 8G 8GB 256-Bit GDDR5 PCI Express 3.0 x16 HDCP Ready SLI Support ATX Video Card\n",
      "shipping_container: $4.99 Shipping\n",
      "brand: GIGABYTE\n",
      "product_name: GIGABYTE AORUS GeForce GTX 1080 Ti DirectX 12 GV-N108TAORUS-11GD 11GB 352-Bit GDDR5X PCI Express 3.0 x16 SLI Support ATX Video Card\n",
      "shipping_container: $4.99 Shipping\n",
      "brand: GIGABYTE\n",
      "product_name: GIGABYTE GeForce GTX 1080 AORUS 8GB DirectX 12 GV-N1080AORUS-8GD R2 256-Bit GDDR5X PCI Express 3.0 x16 Video Card, GV-N1080AORUS-8GD R2\n",
      "shipping_container: Free Shipping\n",
      "brand: MSI\n",
      "product_name: MSI GeForce GTX 1080 DirectX 12 GTX 1080 SEA HAWK EK X 8GB 256-Bit GDDR5X PCI Express 3.0 x16 HDCP Ready SLI Support ATX Video Card\n",
      "shipping_container: Free Shipping\n",
      "brand: ZOTAC\n",
      "product_name: ZOTAC GeForce GTX 1050 Ti DirectX 12 ZT-P10510E-10L 4GB 128-Bit GDDR5 PCI Express 3.0 HDCP Ready Low Profile Video Card\n",
      "shipping_container: $3.99 Shipping\n",
      "brand: Sapphire Tech\n",
      "product_name: SAPPHIRE DirectX 12 100414P4GLP 4GB 128-Bit GDDR5 PCI Express 3.0 CrossFireX Support Low Profile Video Card\n",
      "shipping_container: $3.99 Shipping\n",
      "brand: GIGABYTE\n",
      "product_name: GIGABYTE GeForce GTX 1070 DirectX 12 GV-N1070G1 GAMING-8GD R2 256-Bit GDDR5 PCI Express 3.0 x16 SLI Support ATX Video Card\n",
      "shipping_container: $4.99 Shipping\n",
      "brand: EVGA\n",
      "product_name: EVGA GeForce GTX 1070 SC2 GAMING iCX, 08G-P4-6573-KR, 8GB GDDR5, 9 Thermal Sensors, Asynchronous Fan Control, Thermal Display LED System, Optimized Airflow Fin Design, Die Cast/Form Fitted Baseplate\n",
      "shipping_container: $4.99 Shipping\n",
      "brand: MSI\n",
      "product_name: MSI GeForce GTX 1080 Ti DirectX 12 GTX 1080 Ti GAMING X TRIO 11GB 352-Bit GDDR5X PCI Express 3.0 x16 HDCP Ready SLI Support ATX Video Card\n",
      "shipping_container: $4.99 Shipping\n",
      "brand: EVGA\n",
      "product_name: EVGA GeForce GTX 1080 Ti FTW3 DT DirectX 12 11G-P4-6694-KR 11GB 352-Bit GDDR5X PCI Express 3.0 HDCP Ready SLI Support Video Card\n",
      "shipping_container: $4.99 Shipping\n"
     ]
    }
   ],
   "source": [
    "for container in containers:\n",
    "    brand = container.div.div.a.img['title']\n",
    "    title_container = container.findAll('a', {'class': 'item-title'})\n",
    "    product_name = title_container[0].text\n",
    "    shipping_container = container.findAll('li', {'class': 'price-ship'})[0].text.strip()\n",
    "    \n",
    "    print(\"brand: \" + brand)\n",
    "    print(\"product_name: \" + product_name)\n",
    "    print(\"shipping_container: \" + shipping_container)\n",
    "    f.write(brand + ',' + product_name.replace(',', '|') + ',' + shipping_container + \"\\n\")\n",
    "    \n",
    "f.close()    \n",
    "    "
   ]
  },
  {
   "cell_type": "code",
   "execution_count": null,
   "metadata": {
    "collapsed": true
   },
   "outputs": [],
   "source": []
  }
 ],
 "metadata": {
  "kernelspec": {
   "display_name": "Python 3",
   "language": "python",
   "name": "python3"
  },
  "language_info": {
   "codemirror_mode": {
    "name": "ipython",
    "version": 3
   },
   "file_extension": ".py",
   "mimetype": "text/x-python",
   "name": "python",
   "nbconvert_exporter": "python",
   "pygments_lexer": "ipython3",
   "version": "3.6.3"
  }
 },
 "nbformat": 4,
 "nbformat_minor": 2
}

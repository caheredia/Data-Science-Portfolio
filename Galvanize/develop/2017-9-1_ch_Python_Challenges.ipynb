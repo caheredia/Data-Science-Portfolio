{
 "cells": [
  {
   "cell_type": "code",
   "execution_count": 235,
   "metadata": {
    "collapsed": true
   },
   "outputs": [],
   "source": [
    "import pandas as pd\n",
    "import numpy as np\n",
    "from collections import Counter"
   ]
  },
  {
   "cell_type": "markdown",
   "metadata": {},
   "source": [
    "# A collection of simple Python functions "
   ]
  },
  {
   "cell_type": "markdown",
   "metadata": {},
   "source": [
    "### 1. Write a function that looks at the number of times given letters appear in a document. The output should be in a dictionary."
   ]
  },
  {
   "cell_type": "code",
   "execution_count": 2,
   "metadata": {
    "collapsed": false
   },
   "outputs": [
    {
     "data": {
      "text/plain": [
       "\" Returns the number of times specified letters appear in a file\\n    Parameters\\n    -----------\\n    path_to_file: str\\n        Relative or absolute path to file of interest\\n    letters_to_count: str\\n        String containing the letters to count in the text\\n    Returns\\n    --------\\n    letter_dict: dict\\n- key: letter\\n        - value: the count of that letter in the file\\n    The counting is case insensitive\\n    Example\\n    --------\\n    ```file.txt\\n    This is the file of interest. Count my vowels!\\n    ```\\n>>> letter_counter('file.txt', 'aeiou') {'i': 4, 'e':4, 'o':2, 'u':1}\\n\""
      ]
     },
     "execution_count": 2,
     "metadata": {},
     "output_type": "execute_result"
    }
   ],
   "source": [
    "''' Returns the number of times specified letters appear in a file\n",
    "    Parameters\n",
    "    -----------\n",
    "    path_to_file: str\n",
    "        Relative or absolute path to file of interest\n",
    "    letters_to_count: str\n",
    "        String containing the letters to count in the text\n",
    "    Returns\n",
    "    --------\n",
    "    letter_dict: dict\n",
    "- key: letter\n",
    "        - value: the count of that letter in the file\n",
    "    The counting is case insensitive\n",
    "    Example\n",
    "    --------\n",
    "    ```file.txt\n",
    "    This is the file of interest. Count my vowels!\n",
    "    ```\n",
    ">>> letter_counter('file.txt', 'aeiou') {'i': 4, 'e':4, 'o':2, 'u':1}\n",
    "'''"
   ]
  },
  {
   "cell_type": "markdown",
   "metadata": {},
   "source": [
    "#### To do \n",
    "1. Load text file  \n",
    "2. Convert to lower case \n",
    "3. Method to count desired letters \n",
    "4. Output dictionary with counts "
   ]
  },
  {
   "cell_type": "code",
   "execution_count": 6,
   "metadata": {
    "collapsed": false
   },
   "outputs": [],
   "source": [
    "# Load the data. \n",
    "path_to_file = '../data/file.txt'\n",
    "file = open(path_to_file, 'r')\n",
    "string = file.read().lower() #convert to lowercase string "
   ]
  },
  {
   "cell_type": "code",
   "execution_count": 7,
   "metadata": {
    "collapsed": false
   },
   "outputs": [],
   "source": [
    "#Load string into Counter \n",
    "string = Counter(string) "
   ]
  },
  {
   "cell_type": "code",
   "execution_count": 8,
   "metadata": {
    "collapsed": false
   },
   "outputs": [
    {
     "data": {
      "text/plain": [
       "{'a': 0, 'e': 5, 'i': 4, 'o': 3, 'u': 1}"
      ]
     },
     "execution_count": 8,
     "metadata": {},
     "output_type": "execute_result"
    }
   ],
   "source": [
    "letters_to_count = 'aeiou'\n",
    "letter_dic = { let : string[let] for let in letters_to_count }\n",
    "letter_dic"
   ]
  },
  {
   "cell_type": "code",
   "execution_count": 9,
   "metadata": {
    "collapsed": false
   },
   "outputs": [],
   "source": [
    "def letter_counter(path_to_file, letters_to_count):\n",
    "    # Load the data. \n",
    "    file = open(path_to_file, 'r')\n",
    "    string = file.read().lower() #convert to lowercase string \n",
    "    \n",
    "    #Load string into Counter \n",
    "    string = Counter(string) \n",
    "    \n",
    "    #List comprehension to generate list of letters and count \n",
    "    letter_dic = { let : string[let] for let in letters_to_count }  \n",
    "    return letter_dic"
   ]
  },
  {
   "cell_type": "code",
   "execution_count": 12,
   "metadata": {
    "collapsed": false
   },
   "outputs": [
    {
     "data": {
      "text/plain": [
       "{'a': 0, 'e': 5, 'i': 4, 'o': 3, 'u': 1}"
      ]
     },
     "execution_count": 12,
     "metadata": {},
     "output_type": "execute_result"
    }
   ],
   "source": [
    "letter_counter('../data/file.txt', 'aeiou')"
   ]
  },
  {
   "cell_type": "markdown",
   "metadata": {
    "collapsed": true
   },
   "source": [
    "\n",
    "### 2. Write a function that removes one occurrence of a given item from a list. Do not use methods .pop() or .remove()! If the item is not present in the list, output should be ‘The item is not in the list’."
   ]
  },
  {
   "cell_type": "markdown",
   "metadata": {},
   "source": [
    "Remove first occurrence of item from list\n",
    "#### Parameters\n",
    "- list_items: list\n",
    "- item_to_remove: object. The object to be removed form list_items\n",
    "#### Returns\n",
    "- if the item is in the list: list, list with first occurrence of item removed\n",
    "- if the item is not in the list: str, 'The item is not in the list'\n",
    "#### Example\n",
    "> list_items = [1,3,7,8,0]  >>> remove_item(list_items, 7) [1,3,8,0]\n"
   ]
  },
  {
   "cell_type": "code",
   "execution_count": 41,
   "metadata": {
    "collapsed": false
   },
   "outputs": [],
   "source": [
    "list_items = [1,3,7,8,0]"
   ]
  },
  {
   "cell_type": "code",
   "execution_count": 12,
   "metadata": {
    "collapsed": false
   },
   "outputs": [
    {
     "name": "stdout",
     "output_type": "stream",
     "text": [
      "False\n"
     ]
    }
   ],
   "source": [
    "item_to_remove = 4\n",
    "#If statement to reference items in list, otherwise kickout false statement\n",
    "if item_to_remove in list_items:\n",
    "    print(\"True\")\n",
    "else: \n",
    "    print('False')"
   ]
  },
  {
   "cell_type": "code",
   "execution_count": 46,
   "metadata": {
    "collapsed": false
   },
   "outputs": [
    {
     "data": {
      "text/plain": [
       "[1, 3, 7, 0]"
      ]
     },
     "execution_count": 46,
     "metadata": {},
     "output_type": "execute_result"
    }
   ],
   "source": [
    "#write a for loop to rebuild list \n",
    "new_list = []\n",
    "item_to_remove = 8\n",
    "\n",
    "for item in list_items:\n",
    "    if item != item_to_remove:\n",
    "        new_list.append(item)\n",
    "\n",
    "new_list"
   ]
  },
  {
   "cell_type": "code",
   "execution_count": 47,
   "metadata": {
    "collapsed": false
   },
   "outputs": [],
   "source": [
    "def remove_item(list_items, item_to_remove):\n",
    "    if item_to_remove in list_items:   #If statement to reference items in list, otherwise kickout false statement\n",
    "        \n",
    "        new_list = []               #write a for loop to rebuild list, not using item_to_remove\n",
    "        for item in list_items:\n",
    "             if item != item_to_remove:\n",
    "                new_list.append(item)\n",
    "        return new_list\n",
    "    \n",
    "    \n",
    "    else: \n",
    "        print('The item is not in the list')\n",
    "\n",
    "    pass"
   ]
  },
  {
   "cell_type": "code",
   "execution_count": 51,
   "metadata": {
    "collapsed": false
   },
   "outputs": [
    {
     "data": {
      "text/plain": [
       "[1, 3, 8, 0]"
      ]
     },
     "execution_count": 51,
     "metadata": {},
     "output_type": "execute_result"
    }
   ],
   "source": [
    "remove_item(list_items, 7)"
   ]
  },
  {
   "cell_type": "markdown",
   "metadata": {
    "collapsed": true
   },
   "source": [
    "# 3. \n",
    "The simple substitution cipher basically consists of substituting every plaintext character for a different ciphertext character. The following is an example of one possible cipher from http://practicalcryptography.com/ciphers/simple-substitution-cipher/:\n",
    "- Plain alphabet : abcdefghijklmnopqrstuvwxyz \n",
    "- cipher alphabet: phqgiumeaylnofdxjkrcvstzwb"
   ]
  },
  {
   "cell_type": "markdown",
   "metadata": {},
   "source": [
    "Run text through a particular cipher alphabet\n",
    "#### Parameters\n",
    " - text: str, Either the plain text to encipher, or the cipher text to decrypt\n",
    " - cipher_alphabet: dict, Dictionary specifying {'original_letter': 'cipher_letter'}\n",
    " - option: str (default 'encipher'), 'encipher' (accept plain text and output cipher text), 'decipher' (accept cipher text and output plain text)\n",
    " \n",
    "#### Returns\n",
    "- cipher text by default,\n",
    "- plain text if option is set to decipher\n",
    "\n",
    "d = dict(zip('abcdefghijklmnopqrstuvwxyz',\n",
    "                     'phqgiumeaylnofdxjkrcvstzwb'))\n",
    "> cipher('defend the east wall of the castle', d) \n",
    "\n",
    "    'giuifg cei iprc tpnn du cei qprcni'\n",
    "> cipher('giuifg cei iprc tpnn du cei qprcni',d, option='decipher')\n",
    "\n",
    "    'defend the east wall of the castle'\n"
   ]
  },
  {
   "cell_type": "code",
   "execution_count": 14,
   "metadata": {
    "collapsed": false
   },
   "outputs": [],
   "source": [
    "#load dictionary \n",
    "d = dict(zip('abcdefghijklmnopqrstuvwxyz',     #zip retuns a list of tuples, dict converts to dictionary \n",
    "                     'phqgiumeaylnofdxjkrcvstzwb'))"
   ]
  },
  {
   "cell_type": "code",
   "execution_count": 30,
   "metadata": {
    "collapsed": false
   },
   "outputs": [
    {
     "data": {
      "text/plain": [
       "('p', 'a')"
      ]
     },
     "execution_count": 30,
     "metadata": {},
     "output_type": "execute_result"
    }
   ],
   "source": [
    "#create algorithm to pick off of correct letters. \n",
    "d['a'], list(d.keys())[list(d.values()).index('p')]"
   ]
  },
  {
   "cell_type": "code",
   "execution_count": 141,
   "metadata": {
    "collapsed": false
   },
   "outputs": [
    {
     "data": {
      "text/plain": [
       "'giuifg cei iprc tpnn du cei qprcni'"
      ]
     },
     "execution_count": 141,
     "metadata": {},
     "output_type": "execute_result"
    }
   ],
   "source": [
    "#encode \n",
    "text = 'defend the east wall of the castle'\n",
    "ciphered = ''\n",
    "\n",
    "for letter in text:\n",
    "    if letter == ' ':       #this handles spaces in text \n",
    "        ciphered  += ' '\n",
    "    else: \n",
    "        ciphered  += d[letter]   #encryption happens here \n",
    "    \n",
    "ciphered    "
   ]
  },
  {
   "cell_type": "code",
   "execution_count": 46,
   "metadata": {
    "collapsed": false
   },
   "outputs": [
    {
     "data": {
      "text/plain": [
       "'defend the east wall of the castle'"
      ]
     },
     "execution_count": 46,
     "metadata": {},
     "output_type": "execute_result"
    }
   ],
   "source": [
    "#decode \n",
    "text = 'giuifg cei iprc tpnn du cei qprcni'\n",
    "deciphered = ''\n",
    "\n",
    "for letter in text:\n",
    "    if letter == ' ':       #this handles spaces in text \n",
    "        deciphered += ' '\n",
    "    else: \n",
    "        deciphered += list(d.keys())[list(d.values()).index( letter )]  #decryption happens here \n",
    "    \n",
    "deciphered  "
   ]
  },
  {
   "cell_type": "code",
   "execution_count": null,
   "metadata": {
    "collapsed": true
   },
   "outputs": [],
   "source": [
    "#If statement will handle option, last else could be used as default state for no option given"
   ]
  },
  {
   "cell_type": "code",
   "execution_count": 115,
   "metadata": {
    "collapsed": false
   },
   "outputs": [],
   "source": [
    "def cipher(text, **cipher_alphabet): \n",
    "    if option is None:\n",
    "    option = 'encipher'  #default to encipher \n",
    "        \n",
    "    if option == 'encipher': \n",
    "        ciphered = ''\n",
    "        for letter in text:\n",
    "            if letter == ' ':       #this handles spaces in text \n",
    "                ciphered  += ' '\n",
    "            else: \n",
    "                ciphered  += cipher_alphabet[letter]   #encryption happens here \n",
    "        return ciphered\n",
    "        \n",
    "        \n",
    "    \n",
    "     \n",
    "pass"
   ]
  },
  {
   "cell_type": "code",
   "execution_count": 116,
   "metadata": {
    "collapsed": false
   },
   "outputs": [
    {
     "ename": "SyntaxError",
     "evalue": "invalid syntax (<ipython-input-116-73e376fb2dcc>, line 1)",
     "output_type": "error",
     "traceback": [
      "\u001b[0;36m  File \u001b[0;32m\"<ipython-input-116-73e376fb2dcc>\"\u001b[0;36m, line \u001b[0;32m1\u001b[0m\n\u001b[0;31m    cipher('the', d):\u001b[0m\n\u001b[0m                      ^\u001b[0m\n\u001b[0;31mSyntaxError\u001b[0m\u001b[0;31m:\u001b[0m invalid syntax\n"
     ]
    }
   ],
   "source": [
    "cipher('the', d): "
   ]
  },
  {
   "cell_type": "code",
   "execution_count": 193,
   "metadata": {
    "collapsed": false
   },
   "outputs": [],
   "source": [
    "def cipher(text, cipher_alphabet, option = None): \n",
    "    if option == 'encipher':\n",
    "        option = None  #default to encipher \n",
    "    \n",
    "    if option is None:  \n",
    "        ciphered = ''\n",
    "        for letter in text:\n",
    "            if letter == ' ':       #this handles spaces in text \n",
    "                ciphered  += ' '\n",
    "            else: \n",
    "                ciphered  += d[letter]   #encryption happens here     \n",
    "        return ciphered  \n",
    "\n",
    "    if option == 'decipher':\n",
    "        deciphered = ''\n",
    "        for letter in text:\n",
    "            if letter == ' ':       #this handles spaces in text \n",
    "                deciphered += ' '\n",
    "            else: \n",
    "                deciphered += list(d.keys())[list(d.values()).index( letter )]  #decryption happens here      \n",
    "        return deciphered \n",
    "        \n",
    "     \n",
    "    pass"
   ]
  },
  {
   "cell_type": "code",
   "execution_count": 194,
   "metadata": {
    "collapsed": false
   },
   "outputs": [
    {
     "data": {
      "text/plain": [
       "'defend the east wall of the castle'"
      ]
     },
     "execution_count": 194,
     "metadata": {},
     "output_type": "execute_result"
    }
   ],
   "source": [
    "cipher('giuifg cei iprc tpnn du cei qprcni', d, option='decipher' )"
   ]
  },
  {
   "cell_type": "code",
   "execution_count": 195,
   "metadata": {
    "collapsed": false
   },
   "outputs": [
    {
     "data": {
      "text/plain": [
       "'cei'"
      ]
     },
     "execution_count": 195,
     "metadata": {},
     "output_type": "execute_result"
    }
   ],
   "source": [
    "cipher('the', d)"
   ]
  },
  {
   "cell_type": "markdown",
   "metadata": {},
   "source": [
    "# 4.\n",
    "Implement a function that counts the number of isograms in a list of strings.\n",
    "• An isogram is a word that has no repeating letters, consecutive or non-consecutive.\n",
    "• Assume the empty string is an isogram and that the function should be case insensitive."
   ]
  },
  {
   "cell_type": "markdown",
   "metadata": {},
   "source": [
    "'Count the number of strings without repeating characters in a list\n",
    "#### Parameters\n",
    "- list_of_words: list of strings\n",
    "\n",
    "#### Returns\n",
    "- count of isograms (as integer)\n",
    ">count_isograms(['conduct', letter', 'contract', 'hours', 'interview']) 1"
   ]
  },
  {
   "cell_type": "code",
   "execution_count": 211,
   "metadata": {
    "collapsed": false
   },
   "outputs": [],
   "source": [
    "#use count to determine the value of occurences for letters \n",
    "\n",
    "#Load string into Counter \n",
    "string = 'conduct'\n",
    "string = Counter(string) "
   ]
  },
  {
   "cell_type": "code",
   "execution_count": 213,
   "metadata": {
    "collapsed": false
   },
   "outputs": [
    {
     "ename": "SyntaxError",
     "evalue": "invalid syntax (<ipython-input-213-b2a23983fc59>, line 2)",
     "output_type": "error",
     "traceback": [
      "\u001b[0;36m  File \u001b[0;32m\"<ipython-input-213-b2a23983fc59>\"\u001b[0;36m, line \u001b[0;32m2\u001b[0m\n\u001b[0;31m    for letter in string\u001b[0m\n\u001b[0m                        ^\u001b[0m\n\u001b[0;31mSyntaxError\u001b[0m\u001b[0;31m:\u001b[0m invalid syntax\n"
     ]
    }
   ],
   "source": [
    "#Write for loop to iterate through word\n",
    "for letter in string\n",
    "    \n",
    "    if string[letter] > 1"
   ]
  },
  {
   "cell_type": "code",
   "execution_count": 221,
   "metadata": {
    "collapsed": false
   },
   "outputs": [
    {
     "data": {
      "text/plain": [
       "1"
      ]
     },
     "execution_count": 221,
     "metadata": {},
     "output_type": "execute_result"
    }
   ],
   "source": [
    "#Reference count of letter in string \n",
    "string = 'dod'\n",
    "Counter(string).values()\n",
    "\n",
    "count_iso = 0 \n",
    "for num in Counter(string).values(): \n",
    "    if num > 1: \n",
    "        count_iso += 1\n",
    "count_iso"
   ]
  },
  {
   "cell_type": "code",
   "execution_count": 226,
   "metadata": {
    "collapsed": false
   },
   "outputs": [
    {
     "data": {
      "text/plain": [
       "2"
      ]
     },
     "execution_count": 226,
     "metadata": {},
     "output_type": "execute_result"
    }
   ],
   "source": [
    "word_list  = ['conduct', 'letter', 'contract', 'hours', 'interview'] \n",
    "for word in word_list:\n",
    "    count_iso = 0 \n",
    "    for num in Counter(word).values(): \n",
    "        if num > 1: \n",
    "            count_iso += 1\n",
    "count_iso"
   ]
  },
  {
   "cell_type": "code",
   "execution_count": 246,
   "metadata": {
    "collapsed": false
   },
   "outputs": [],
   "source": [
    "def count_isograms(list_of_words): \n",
    "    count_iso = 0\n",
    "    for word in list_of_words:  #iterates through words \n",
    "        if max(Counter(word).values()) < 2:  #checks if individual letters counts are less than 2\n",
    "                count_iso += 1    #adds to total count \n",
    "    return count_iso\n",
    "\n",
    "    pass"
   ]
  },
  {
   "cell_type": "code",
   "execution_count": 247,
   "metadata": {
    "collapsed": false
   },
   "outputs": [
    {
     "data": {
      "text/plain": [
       "1"
      ]
     },
     "execution_count": 247,
     "metadata": {},
     "output_type": "execute_result"
    }
   ],
   "source": [
    "count_isograms(['conduct', 'letter', 'contract', 'hours', 'interview']) "
   ]
  },
  {
   "cell_type": "markdown",
   "metadata": {},
   "source": [
    "# 5.  \n",
    "Write a function that returns a list of matching items. Items are defined by a tuple with a letter and a number and we consider item 1 to match item 2 if:\n",
    "- Both their letters are vowels (aeiou), or both are consonnants and, \n",
    "- The sum of their numbers is a multiple of 3\n",
    "\n",
    "(1,2) contains the same information as (2,1), the output list should only contain one of them."
   ]
  },
  {
   "cell_type": "markdown",
   "metadata": {},
   "source": [
    "#### Parameters\n",
    "- data_list: as list of tuples (letter, number)\n",
    "\n",
    "#### Returns\n",
    "A list of the matching pair referenced by their index (index_A, index_B).\n",
    "Each pair should appear only once. (A,B) is the same as (B,A)\n",
    "\n",
    "> data = [('a', 4), ('b', 5), ('c', 1), ('d', 3), ('e', 2), ('f',6)]\n",
    "\n",
    "> matching_pairs(data)\n",
    "\n",
    "> [(0,4), (1,2), (3,5)]\n",
    "    "
   ]
  },
  {
   "cell_type": "code",
   "execution_count": null,
   "metadata": {
    "collapsed": true
   },
   "outputs": [],
   "source": [
    "def matching_pairs(data_list): \n",
    "   \n",
    "pass"
   ]
  },
  {
   "cell_type": "code",
   "execution_count": 383,
   "metadata": {
    "collapsed": false
   },
   "outputs": [],
   "source": [
    "#load data \n",
    "data = [('a', 4), ('b', 5), ('c', 1), ('d', 3), ('e', 2), ('f',6)]"
   ]
  },
  {
   "cell_type": "code",
   "execution_count": 276,
   "metadata": {
    "collapsed": false
   },
   "outputs": [
    {
     "data": {
      "text/plain": [
       "[('a', 4), ('b', 5), ('c', 1), ('d', 3), ('e', 2), ('f', 6)]"
      ]
     },
     "execution_count": 276,
     "metadata": {},
     "output_type": "execute_result"
    }
   ],
   "source": [
    "# pick out tuple \n",
    "empty_list = []\n",
    "for i in range(len(data)):\n",
    "    empty_list.append(data[i])\n",
    "empty_list    "
   ]
  },
  {
   "cell_type": "code",
   "execution_count": 283,
   "metadata": {
    "collapsed": false
   },
   "outputs": [
    {
     "data": {
      "text/plain": [
       "[('a', 4), ('e', 2)]"
      ]
     },
     "execution_count": 283,
     "metadata": {},
     "output_type": "execute_result"
    }
   ],
   "source": [
    "#check to see if vowel\n",
    "\n",
    "empty_list = []\n",
    "for i in range(len(data)):\n",
    "    if data[i][0] in 'aeiou':\n",
    "        empty_list.append(data[i])\n",
    "empty_list   "
   ]
  },
  {
   "cell_type": "code",
   "execution_count": 291,
   "metadata": {
    "collapsed": false
   },
   "outputs": [
    {
     "data": {
      "text/plain": [
       "True"
      ]
     },
     "execution_count": 291,
     "metadata": {},
     "output_type": "execute_result"
    }
   ],
   "source": [
    "data[3][1] % 3 == 0"
   ]
  },
  {
   "cell_type": "code",
   "execution_count": 309,
   "metadata": {
    "collapsed": false
   },
   "outputs": [
    {
     "data": {
      "text/plain": [
       "[]"
      ]
     },
     "execution_count": 309,
     "metadata": {},
     "output_type": "execute_result"
    }
   ],
   "source": [
    "#check to see if divisible by 3\n",
    "\n",
    "empty_list = []\n",
    "for i,j in zip(range(len(data)),range(len(data))):\n",
    "    if data[i][1] + data[j][1] % 3 == 0:\n",
    "        empty_list.append(data[i])\n",
    "        empty_list.append(data[j])\n",
    "empty_list   "
   ]
  },
  {
   "cell_type": "code",
   "execution_count": 299,
   "metadata": {
    "collapsed": false
   },
   "outputs": [
    {
     "data": {
      "text/plain": [
       "False"
      ]
     },
     "execution_count": 299,
     "metadata": {},
     "output_type": "execute_result"
    }
   ],
   "source": [
    "data[3][1] + data[3][1] % 3 == 0"
   ]
  },
  {
   "cell_type": "code",
   "execution_count": 320,
   "metadata": {
    "collapsed": true
   },
   "outputs": [],
   "source": [
    "t1 = [1,2,3,4,2]\n",
    "t2 = [1,4,1,5,2]\n",
    "def equal_elements(t1, t2):\n",
    "    return [x for x, y in zip(t1, t2) if x == y]"
   ]
  },
  {
   "cell_type": "code",
   "execution_count": 328,
   "metadata": {
    "collapsed": false
   },
   "outputs": [
    {
     "data": {
      "text/plain": [
       "[1, 2]"
      ]
     },
     "execution_count": 328,
     "metadata": {},
     "output_type": "execute_result"
    }
   ],
   "source": [
    "equal_elements(t1, t2)"
   ]
  },
  {
   "cell_type": "code",
   "execution_count": 341,
   "metadata": {
    "collapsed": false,
    "scrolled": true
   },
   "outputs": [
    {
     "data": {
      "text/plain": [
       "[(0, 3),\n",
       " (0, 4),\n",
       " (1, 0),\n",
       " (1, 1),\n",
       " (1, 2),\n",
       " (3, 3),\n",
       " (3, 4),\n",
       " (4, 0),\n",
       " (4, 1),\n",
       " (4, 2)]"
      ]
     },
     "execution_count": 341,
     "metadata": {},
     "output_type": "execute_result"
    }
   ],
   "source": [
    "[(i,j) for i in range(len(t1)) for j in range(len(t2)) if  (( t1[i] + t2[j] ) % 3 == 0) ]"
   ]
  },
  {
   "cell_type": "code",
   "execution_count": 339,
   "metadata": {
    "collapsed": false
   },
   "outputs": [
    {
     "data": {
      "text/plain": [
       "True"
      ]
     },
     "execution_count": 339,
     "metadata": {},
     "output_type": "execute_result"
    }
   ],
   "source": [
    "(t1[1]  + t2[0]) % 3 ==0"
   ]
  },
  {
   "cell_type": "code",
   "execution_count": 362,
   "metadata": {
    "collapsed": false
   },
   "outputs": [
    {
     "data": {
      "text/plain": [
       "[(0, 4), (4, 0)]"
      ]
     },
     "execution_count": 362,
     "metadata": {},
     "output_type": "execute_result"
    }
   ],
   "source": [
    "[(i,j) for i in range(len(data)) for j in range(len(data)) \n",
    " if  (( data[i][1] + data[j][1] ) % 3 == 0) and (( data[i][0] in 'aeiou' ) and ( data[j][0] in 'aeiou' )) ]"
   ]
  },
  {
   "cell_type": "code",
   "execution_count": 384,
   "metadata": {
    "collapsed": false
   },
   "outputs": [
    {
     "data": {
      "text/plain": [
       "[]"
      ]
     },
     "execution_count": 384,
     "metadata": {},
     "output_type": "execute_result"
    }
   ],
   "source": [
    "[(i,j) for i in range(len(data)) for j in range(len(data)) \n",
    " if  (( data[i][1] + data[j][1] ) % 3 == 0) and ( 'aeiou' in (data[i][0], data[j][0]) )]"
   ]
  },
  {
   "cell_type": "code",
   "execution_count": 398,
   "metadata": {
    "collapsed": false
   },
   "outputs": [
    {
     "data": {
      "text/plain": [
       "[(0, 1),\n",
       " (0, 4),\n",
       " (1, 0),\n",
       " (1, 2),\n",
       " (2, 1),\n",
       " (2, 4),\n",
       " (3, 5),\n",
       " (4, 0),\n",
       " (4, 2),\n",
       " (5, 3)]"
      ]
     },
     "execution_count": 398,
     "metadata": {},
     "output_type": "execute_result"
    }
   ],
   "source": [
    "[(i,j) for i in range(len(data)) for j in range(len(data)) \n",
    " if  (( data[i][1] + data[j][1] ) % 3 == 0) and (i !=j) ]"
   ]
  },
  {
   "cell_type": "code",
   "execution_count": 428,
   "metadata": {
    "collapsed": false
   },
   "outputs": [
    {
     "data": {
      "text/plain": [
       "[(0, 4), (1, 2), (2, 1), (3, 5), (4, 0), (5, 3)]"
      ]
     },
     "execution_count": 428,
     "metadata": {},
     "output_type": "execute_result"
    }
   ],
   "source": [
    "[(i,j) for i in range(len(data)) for j in range(len(data)) \n",
    " if (( data[i][0] in 'aeiou' and data[j][0] in 'aeiou' ) or ( data[i][0] not in 'aeiou' and data[j][0] not in 'aeiou' ) ) \n",
    " and (i != j) and (( data[i][1] + data[j][1] ) % 3 == 0) ]"
   ]
  },
  {
   "cell_type": "code",
   "execution_count": 429,
   "metadata": {
    "collapsed": true
   },
   "outputs": [],
   "source": [
    "L1 = [(0, 4), (1, 2), (2, 1), (3, 5), (4, 0), (5, 3)]"
   ]
  },
  {
   "cell_type": "code",
   "execution_count": 430,
   "metadata": {
    "collapsed": false
   },
   "outputs": [
    {
     "data": {
      "text/plain": [
       "[(0, 4), (1, 2), (2, 1), (3, 5), (4, 0), (5, 3)]"
      ]
     },
     "execution_count": 430,
     "metadata": {},
     "output_type": "execute_result"
    }
   ],
   "source": [
    "L1"
   ]
  },
  {
   "cell_type": "code",
   "execution_count": 412,
   "metadata": {
    "collapsed": false
   },
   "outputs": [
    {
     "data": {
      "text/plain": [
       "'b'"
      ]
     },
     "execution_count": 412,
     "metadata": {},
     "output_type": "execute_result"
    }
   ],
   "source": [
    " set(tuple(sorted(l)) for l in a)  #sort tuples \n",
    "    set([(1, 2), (1, 3), (1, 4)])"
   ]
  },
  {
   "cell_type": "code",
   "execution_count": 446,
   "metadata": {
    "collapsed": false
   },
   "outputs": [
    {
     "data": {
      "text/plain": [
       "{(0, 4), (1, 2), (3, 5)}"
      ]
     },
     "execution_count": 446,
     "metadata": {},
     "output_type": "execute_result"
    }
   ],
   "source": [
    "set(tuple(sorted(l)) for l in L1) #sort tuples remove permutations "
   ]
  },
  {
   "cell_type": "code",
   "execution_count": 452,
   "metadata": {
    "collapsed": false
   },
   "outputs": [],
   "source": [
    "def matching_pairs(data): \n",
    "    permutations =  [(i,j) for i in range(len(data)) for j in range(len(data))   #doulbe index, below applies cond. statements. \n",
    "                                 if (( data[i][0] in 'aeiou' and data[j][0] in 'aeiou' ) or ( data[i][0] not in 'aeiou' and data[j][0] not in 'aeiou' ) ) \n",
    "                                 and (i != j) and (( data[i][1] + data[j][1] ) % 3 == 0) ]\n",
    "    \n",
    "    return list(set(tuple(sorted(l)) for l in permutations)) #sort tuples remove permutations "
   ]
  },
  {
   "cell_type": "code",
   "execution_count": 454,
   "metadata": {
    "collapsed": false
   },
   "outputs": [
    {
     "data": {
      "text/plain": [
       "[(1, 2), (3, 5), (0, 4)]"
      ]
     },
     "execution_count": 454,
     "metadata": {},
     "output_type": "execute_result"
    }
   ],
   "source": [
    "matching_pairs(data)"
   ]
  },
  {
   "cell_type": "code",
   "execution_count": null,
   "metadata": {
    "collapsed": true
   },
   "outputs": [],
   "source": []
  }
 ],
 "metadata": {
  "kernelspec": {
   "display_name": "Python 3",
   "language": "python",
   "name": "python3"
  },
  "language_info": {
   "codemirror_mode": {
    "name": "ipython",
    "version": 3
   },
   "file_extension": ".py",
   "mimetype": "text/x-python",
   "name": "python",
   "nbconvert_exporter": "python",
   "pygments_lexer": "ipython3",
   "version": "3.6.0"
  }
 },
 "nbformat": 4,
 "nbformat_minor": 2
}

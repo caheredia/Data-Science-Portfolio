{
 "cells": [
  {
   "cell_type": "code",
   "execution_count": 4,
   "metadata": {
    "collapsed": true
   },
   "outputs": [],
   "source": [
    "import pandas as pd\n",
    "import numpy as np"
   ]
  },
  {
   "cell_type": "code",
   "execution_count": 13,
   "metadata": {
    "collapsed": false
   },
   "outputs": [
    {
     "name": "stdout",
     "output_type": "stream",
     "text": [
      "Enter text file, with no quotes (e.g. sample.txt): mono.txt\n",
      "1. The total word count:  239\n",
      "2. The count of unique words:  124\n",
      "3. The number of sentences:  9\n",
      "Brownie points\n",
      "3. A list of words used, in order of descending frequency: \n",
      " the              37\n",
      "of               16\n",
      "and              10\n",
      "to                9\n",
      "a                 8\n",
      "is                7\n",
      "into              5\n",
      "world             4\n",
      "threshold         3\n",
      "passage           3\n",
      "be                3\n",
      "temple            3\n",
      "he                3\n",
      "whale             3\n",
      "that              3\n",
      "are               3\n",
      "belly             2\n",
      "instead           2\n",
      "passing           2\n",
      "have              2\n",
      "confines          2\n",
      "died              2\n",
      "womb              2\n",
      "by                2\n",
      "in                2\n",
      "beyond            2\n",
      "hero              2\n",
      "act               1\n",
      "above             1\n",
      "language          1\n",
      "                 ..\n",
      "immortal          1\n",
      "lesson            1\n",
      "unless            1\n",
      "metamorphosis     1\n",
      "jaws              1\n",
      "again             1\n",
      "swallowed         1\n",
      "entrances         1\n",
      "motif             1\n",
      "paradise          1\n",
      "may               1\n",
      "identical         1\n",
      "liferenewing      1\n",
      "dwarfs            1\n",
      "approaches        1\n",
      "herodive          1\n",
      "devotee           1\n",
      "rebirth           1\n",
      "why               1\n",
      "one               1\n",
      "colossal          1\n",
      "heavenly          1\n",
      "entry             1\n",
      "who               1\n",
      "once              1\n",
      "image             1\n",
      "visible           1\n",
      "worshipper        1\n",
      "sphere            1\n",
      "with              1\n",
      "Name: words, dtype: int64\n"
     ]
    }
   ],
   "source": [
    "def main():\n",
    "    \n",
    "    text_file  = input(\"Enter text file, with no quotes (e.g. sample.txt): \")   #name of file to read \n",
    "    \n",
    "    df = pd.read_csv(text_file, delim_whitespace=True, header = None).T #load into dataframe to utilize pandas operations \n",
    "    df.columns = ['words'] #rename column\n",
    "    df.words = df.words.str.replace('[^\\w\\s]','') #remove special charectors\n",
    "    df.words = df.words.str.lower(); #convert to lower case \n",
    "    \n",
    "    word_count = len(df)\n",
    "    unique_words = len(df.words.unique()) \n",
    "    word_counts = df.words.value_counts() \n",
    "    \n",
    "    sentences = open(text_file, 'r').read().count('.') #counts the number of periods to determine number of sentences\n",
    "\n",
    "    \n",
    "    print('1. The total word count: ', word_count )\n",
    "    print('2. The count of unique words: ', unique_words)\n",
    "    print('3. The number of sentences: ', sentences)\n",
    "    print ( 'Brownie points' )\n",
    "    print('3. A list of words used, in order of descending frequency: \\n', word_counts)\n",
    "\n",
    "main()"
   ]
  },
  {
   "cell_type": "code",
   "execution_count": null,
   "metadata": {
    "collapsed": true
   },
   "outputs": [],
   "source": []
  }
 ],
 "metadata": {
  "kernelspec": {
   "display_name": "Python 3",
   "language": "python",
   "name": "python3"
  },
  "language_info": {
   "codemirror_mode": {
    "name": "ipython",
    "version": 3
   },
   "file_extension": ".py",
   "mimetype": "text/x-python",
   "name": "python",
   "nbconvert_exporter": "python",
   "pygments_lexer": "ipython3",
   "version": "3.6.0"
  }
 },
 "nbformat": 4,
 "nbformat_minor": 2
}

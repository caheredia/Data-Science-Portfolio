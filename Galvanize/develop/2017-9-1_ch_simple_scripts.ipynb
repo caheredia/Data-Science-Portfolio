{
 "cells": [
  {
   "cell_type": "code",
   "execution_count": 3,
   "metadata": {
    "collapsed": false
   },
   "outputs": [
    {
     "name": "stdout",
     "output_type": "stream",
     "text": [
      "3\n"
     ]
    }
   ],
   "source": [
    "list_num = [1,2,3] \n",
    "for num in list_num:\n",
    "    total = 0 \n",
    "    total += num \n",
    "print (total)"
   ]
  },
  {
   "cell_type": "code",
   "execution_count": 5,
   "metadata": {
    "collapsed": false
   },
   "outputs": [
    {
     "name": "stdout",
     "output_type": "stream",
     "text": [
      "6\n"
     ]
    }
   ],
   "source": [
    "list_num = [1,2,3]\n",
    "total = 0\n",
    "for num in list_num: \n",
    "    total += num\n",
    "print (total)"
   ]
  },
  {
   "cell_type": "code",
   "execution_count": 7,
   "metadata": {
    "collapsed": false
   },
   "outputs": [
    {
     "data": {
      "text/plain": [
       "6"
      ]
     },
     "execution_count": 7,
     "metadata": {},
     "output_type": "execute_result"
    }
   ],
   "source": [
    "list_num = [1,2,3]\n",
    "total = 0\n",
    "for num in list_num: \n",
    "     total += num\n",
    "total"
   ]
  },
  {
   "cell_type": "code",
   "execution_count": 11,
   "metadata": {
    "collapsed": false
   },
   "outputs": [
    {
     "data": {
      "text/plain": [
       "['cat', 'bad', 'dad']"
      ]
     },
     "execution_count": 11,
     "metadata": {},
     "output_type": "execute_result"
    }
   ],
   "source": [
    "def my_function2(my_list): \n",
    "    output = []\n",
    "    for item in my_list: \n",
    "        output.append(item) \n",
    "    return output\n",
    "\n",
    "my_function2(['cat', 'bad', 'dad'])"
   ]
  },
  {
   "cell_type": "code",
   "execution_count": 13,
   "metadata": {
    "collapsed": false
   },
   "outputs": [
    {
     "data": {
      "text/plain": [
       "['cat', 'bad', 'dad']"
      ]
     },
     "execution_count": 13,
     "metadata": {},
     "output_type": "execute_result"
    }
   ],
   "source": [
    "output = []\n",
    "\n",
    "def my_function6(my_list): \n",
    "    for item in my_list:\n",
    "        output.append(item) \n",
    "    return output\n",
    "\n",
    "my_function6(['cat', 'bad', 'dad'])"
   ]
  },
  {
   "cell_type": "code",
   "execution_count": 15,
   "metadata": {
    "collapsed": false
   },
   "outputs": [
    {
     "data": {
      "text/plain": [
       "[11, 12, 13]"
      ]
     },
     "execution_count": 15,
     "metadata": {},
     "output_type": "execute_result"
    }
   ],
   "source": [
    "#We want a function that takes a list of numbers and returns that list where 10 was added to each number\n",
    "\n",
    "list_num = [1,2,3]\n",
    "list_add_10 = []\n",
    "for num in list_num:\n",
    "    list_add_10.append(num + 10) \n",
    "    \n",
    "list_add_10"
   ]
  },
  {
   "cell_type": "code",
   "execution_count": 16,
   "metadata": {
    "collapsed": false
   },
   "outputs": [
    {
     "data": {
      "text/plain": [
       "[5, 3, 2, 3]"
      ]
     },
     "execution_count": 16,
     "metadata": {},
     "output_type": "execute_result"
    }
   ],
   "source": [
    "# 2. We want a function that takes in a list of strings and returns the list with the length of the words.\n",
    "\n",
    "list_words = ['great', 'job', 'so', 'far'] \n",
    "list_length_words = []\n",
    "for word in list_words:\n",
    "    list_length_words.append(len(word)) \n",
    "    \n",
    "list_length_words"
   ]
  },
  {
   "cell_type": "code",
   "execution_count": null,
   "metadata": {
    "collapsed": true
   },
   "outputs": [],
   "source": []
  }
 ],
 "metadata": {
  "kernelspec": {
   "display_name": "Python 3",
   "language": "python",
   "name": "python3"
  },
  "language_info": {
   "codemirror_mode": {
    "name": "ipython",
    "version": 3
   },
   "file_extension": ".py",
   "mimetype": "text/x-python",
   "name": "python",
   "nbconvert_exporter": "python",
   "pygments_lexer": "ipython3",
   "version": "3.6.0"
  }
 },
 "nbformat": 4,
 "nbformat_minor": 2
}

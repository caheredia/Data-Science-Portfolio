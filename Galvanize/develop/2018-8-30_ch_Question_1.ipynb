{
 "cells": [
  {
   "cell_type": "code",
   "execution_count": 44,
   "metadata": {
    "collapsed": true
   },
   "outputs": [],
   "source": [
    "import pandas as pd\n",
    "import numpy as np\n",
    "import matplotlib.pyplot as plt"
   ]
  },
  {
   "cell_type": "markdown",
   "metadata": {},
   "source": [
    "# Question 1:\n",
    "\n",
    "Create a text content analyzer. This is a tool used by writers to find statistics such as word and sentence count on essays or articles they are writing.\n",
    "\n",
    "Write a Python program that analyzes input from a file and compiles statistics on it.\n",
    "\n",
    "The program should output:\n",
    "\n",
    "1. The total word count\n",
    "\n",
    "2. The count of unique words\n",
    "\n",
    "3. The number of sentences\n",
    "\n",
    "Example output:\n",
    "\n",
    "\n",
    "Total word count: 468\n",
    "Unique words: 223\n",
    "Sentences: 38\n",
    "\n",
    "Brownie points will be awarded for the following extras:\n",
    "\n",
    "1. The ability to calculate the average sentence length in words\n",
    "\n",
    "2. The ability to find often used phrases (a phrase of 3 or more words used over 3 times)\n",
    "\n",
    "3. A list of words used, in order of descending frequency\n",
    "\n",
    "4. The ability to accept input from STDIN, or from a file specified on the command line.\n",
    "\n",
    "This question should be written in Python"
   ]
  },
  {
   "cell_type": "code",
   "execution_count": 22,
   "metadata": {
    "collapsed": false
   },
   "outputs": [],
   "source": [
    "df = pd.read_csv('sample.txt', delim_whitespace=True, header = None).T #load into data frame to utilize pandas operations "
   ]
  },
  {
   "cell_type": "code",
   "execution_count": 23,
   "metadata": {
    "collapsed": false
   },
   "outputs": [],
   "source": [
    "df.columns = ['words']"
   ]
  },
  {
   "cell_type": "code",
   "execution_count": 24,
   "metadata": {
    "collapsed": true
   },
   "outputs": [],
   "source": [
    "df.words = df.words.str.replace('[^\\w\\s]','') #remove special charectors"
   ]
  },
  {
   "cell_type": "code",
   "execution_count": 25,
   "metadata": {
    "collapsed": false
   },
   "outputs": [],
   "source": [
    "df.words = df.words.str.lower(); #convert to lower case "
   ]
  },
  {
   "cell_type": "code",
   "execution_count": 26,
   "metadata": {
    "collapsed": false
   },
   "outputs": [
    {
     "data": {
      "text/html": [
       "<div>\n",
       "<table border=\"1\" class=\"dataframe\">\n",
       "  <thead>\n",
       "    <tr style=\"text-align: right;\">\n",
       "      <th></th>\n",
       "      <th>words</th>\n",
       "    </tr>\n",
       "  </thead>\n",
       "  <tbody>\n",
       "    <tr>\n",
       "      <th>0</th>\n",
       "      <td>create</td>\n",
       "    </tr>\n",
       "    <tr>\n",
       "      <th>1</th>\n",
       "      <td>a</td>\n",
       "    </tr>\n",
       "    <tr>\n",
       "      <th>2</th>\n",
       "      <td>text</td>\n",
       "    </tr>\n",
       "    <tr>\n",
       "      <th>3</th>\n",
       "      <td>content</td>\n",
       "    </tr>\n",
       "    <tr>\n",
       "      <th>4</th>\n",
       "      <td>analyzer</td>\n",
       "    </tr>\n",
       "  </tbody>\n",
       "</table>\n",
       "</div>"
      ],
      "text/plain": [
       "      words\n",
       "0    create\n",
       "1         a\n",
       "2      text\n",
       "3   content\n",
       "4  analyzer"
      ]
     },
     "execution_count": 26,
     "metadata": {},
     "output_type": "execute_result"
    }
   ],
   "source": [
    "df.head()"
   ]
  },
  {
   "cell_type": "code",
   "execution_count": 27,
   "metadata": {
    "collapsed": false
   },
   "outputs": [
    {
     "data": {
      "text/plain": [
       "43"
      ]
     },
     "execution_count": 27,
     "metadata": {},
     "output_type": "execute_result"
    }
   ],
   "source": [
    "len(df) #word count"
   ]
  },
  {
   "cell_type": "code",
   "execution_count": 28,
   "metadata": {
    "collapsed": false
   },
   "outputs": [
    {
     "data": {
      "text/plain": [
       "37"
      ]
     },
     "execution_count": 28,
     "metadata": {},
     "output_type": "execute_result"
    }
   ],
   "source": [
    "len(df.words.unique()) # Length of Unique Values "
   ]
  },
  {
   "cell_type": "code",
   "execution_count": 29,
   "metadata": {
    "collapsed": false
   },
   "outputs": [
    {
     "data": {
      "text/plain": [
       "3"
      ]
     },
     "execution_count": 29,
     "metadata": {},
     "output_type": "execute_result"
    }
   ],
   "source": [
    "open('sample.txt', 'r').read().count('.') #counts the number of periods to determine number of sentences"
   ]
  },
  {
   "cell_type": "code",
   "execution_count": 57,
   "metadata": {
    "collapsed": false
   },
   "outputs": [
    {
     "data": {
      "text/plain": [
       "a             4\n",
       "and           2\n",
       "on            2\n",
       "statistics    2\n",
       "analyzer      1\n",
       "such          1\n",
       "as            1\n",
       "it            1\n",
       "from          1\n",
       "program       1\n",
       "text          1\n",
       "essays        1\n",
       "sentence      1\n",
       "they          1\n",
       "tool          1\n",
       "that          1\n",
       "writers       1\n",
       "create        1\n",
       "count         1\n",
       "python        1\n",
       "file          1\n",
       "to            1\n",
       "word          1\n",
       "compiles      1\n",
       "this          1\n",
       "input         1\n",
       "are           1\n",
       "used          1\n",
       "or            1\n",
       "content       1\n",
       "write         1\n",
       "by            1\n",
       "articles      1\n",
       "analyzes      1\n",
       "find          1\n",
       "writing       1\n",
       "is            1\n",
       "Name: words, dtype: int64"
      ]
     },
     "execution_count": 57,
     "metadata": {},
     "output_type": "execute_result"
    }
   ],
   "source": [
    "word_counts = df.words.value_counts()\n",
    "word_counts"
   ]
  },
  {
   "cell_type": "code",
   "execution_count": null,
   "metadata": {
    "collapsed": false
   },
   "outputs": [],
   "source": []
  },
  {
   "cell_type": "code",
   "execution_count": null,
   "metadata": {
    "collapsed": true
   },
   "outputs": [],
   "source": []
  }
 ],
 "metadata": {
  "kernelspec": {
   "display_name": "Python 3",
   "language": "python",
   "name": "python3"
  },
  "language_info": {
   "codemirror_mode": {
    "name": "ipython",
    "version": 3
   },
   "file_extension": ".py",
   "mimetype": "text/x-python",
   "name": "python",
   "nbconvert_exporter": "python",
   "pygments_lexer": "ipython3",
   "version": "3.6.0"
  }
 },
 "nbformat": 4,
 "nbformat_minor": 2
}

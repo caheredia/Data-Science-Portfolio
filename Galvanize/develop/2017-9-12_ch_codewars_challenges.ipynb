{
 "cells": [
  {
   "cell_type": "markdown",
   "metadata": {},
   "source": [
    "If you would like to continue the application process, rescheduling the Python interview is the next step. In order to schedule the reinterview, please review the below documents and submit your results for the self assessment. Additionally, we ask that you complete 3 challenges on level 6 on Codewars, each within 45 minutes. \n",
    "\n",
    "Once you complete the Codewars challenges and submit your answers to the self-assessment to me by email, we can schedule your reinterview! "
   ]
  },
  {
   "cell_type": "markdown",
   "metadata": {},
   "source": [
    "# 1. Take a Ten Minute Walk\n",
    "You live in the city of Cartesia where all roads are laid out in a perfect grid. You arrived ten minutes too early to an appointment, so you decided to take the opportunity to go for a short walk. The city provides its citizens with a Walk Generating App on their phones -- everytime you press the button it sends you an array of one-letter strings representing directions to walk (eg. ['n', 's', 'w', 'e']). You know it takes you one minute to traverse one city block, so create a function that will return true if the walk the app gives you will take you exactly ten minutes (you don't want to be early or late!) and will, of course, return you to your starting point. Return false otherwise.\n"
   ]
  },
  {
   "cell_type": "code",
   "execution_count": null,
   "metadata": {
    "collapsed": false
   },
   "outputs": [],
   "source": [
    "def isValidWalk(walk):\n",
    "    #determine if walk is valid\n",
    "    #assign numerical values to directions that should sum to zero, otherwise different than starting point \n",
    "    sum_x = 0\n",
    "    sum_y = 0\n",
    "    for item in walk: \n",
    "        if item == 'n':\n",
    "            sum_y += 1\n",
    "        if item == 's':\n",
    "            sum_y += -1\n",
    "        if item == 'w':\n",
    "            sum_x += -1\n",
    "        if item == 'e':\n",
    "            sum_x += 1\n",
    "    if (sum_y == 0) and (sum_x == 0) and ( len(walk) == 10 ):\n",
    "        return True\n",
    "    else:\n",
    "        return False\n",
    "    \n",
    "            \n",
    "pass"
   ]
  },
  {
   "cell_type": "code",
   "execution_count": null,
   "metadata": {
    "collapsed": false
   },
   "outputs": [],
   "source": [
    "sample = ['n', 's', 'w', 'e']\n",
    "isValidWalk(sample)"
   ]
  },
  {
   "cell_type": "code",
   "execution_count": null,
   "metadata": {
    "collapsed": false
   },
   "outputs": [],
   "source": [
    "isValidWalk(['n', 's', 'w', 'e','n', 's', 'w', 'e', 'n','s'])"
   ]
  },
  {
   "cell_type": "markdown",
   "metadata": {},
   "source": [
    "# 2. Consecutive strings\n",
    "\n",
    "You are given an array strarr of strings and an integer k. Your task is to return the first longest string consisting of k consecutive strings taken in the array.\n",
    "\n",
    "#Example: longest_consec([\"zone\", \"abigail\", \"theta\", \"form\", \"libe\", \"zas\", \"theta\", \"abigail\"], 2) --> \"abigailtheta\"\n",
    "\n",
    "n being the length of the string array, if n = 0 or k > n or k <= 0 return \"\""
   ]
  },
  {
   "cell_type": "code",
   "execution_count": null,
   "metadata": {
    "collapsed": false
   },
   "outputs": [],
   "source": [
    "def longest_consec(strarr, k):\n",
    "    # your code\n",
    "    if ( len(strarr) == 0 ) or ( k >  len(strarr) ) or ( k <= 0):\n",
    "        return \"\"\n",
    "    else: \n",
    "        long = max(strarr, key=len) #find longest string\n",
    "        strarr.index(long)  #index of longest string \n",
    "        return  long + strarr[  strarr.index(long) + 1 ] #add strings \n",
    "    pass\n"
   ]
  },
  {
   "cell_type": "code",
   "execution_count": null,
   "metadata": {
    "collapsed": false
   },
   "outputs": [],
   "source": [
    "sample = [\"zone\", \"theta\", \"form\", \"libe\", \"zas\", \"theta\", \"abigail\"]\n",
    "longest_consec(sample, 2)"
   ]
  },
  {
   "cell_type": "markdown",
   "metadata": {},
   "source": [
    "# 3. \n",
    "Return the number (count) of vowels in the given string.\n",
    "\n",
    "We will consider a, e, i, o, and u as vowels for this Kata.\n"
   ]
  },
  {
   "cell_type": "code",
   "execution_count": null,
   "metadata": {
    "collapsed": true
   },
   "outputs": [],
   "source": [
    "def getCount(inputStr):\n",
    "    num_vowels = 0\n",
    "    for item in inputStr: \n",
    "        if item in 'aeiou':\n",
    "            num_vowels += 1\n",
    "    # your code here\n",
    "    \n",
    "    return num_vowels"
   ]
  },
  {
   "cell_type": "code",
   "execution_count": null,
   "metadata": {
    "collapsed": false
   },
   "outputs": [],
   "source": [
    "getCount(\"abracadabra\")"
   ]
  },
  {
   "cell_type": "markdown",
   "metadata": {},
   "source": [
    "Write a function, persistence, that takes in a positive parameter num and returns its multiplicative persistence, which is the number of times you must multiply the digits in num until you reach a single digit.\n",
    "\n",
    "For example: persistence(39) => 3  # Because 3*9 = 27, 2*7 = 14, 1*4=4\n",
    "                       # and 4 has only one digi"
   ]
  },
  {
   "cell_type": "code",
   "execution_count": null,
   "metadata": {
    "collapsed": false
   },
   "outputs": [],
   "source": [
    "def persistence(n):\n",
    "    num = str(n)\n",
    "    if len(num) == 1:\n",
    "        return 0\n",
    "    else: \n",
    "        pers = 0\n",
    "        while len(num) > 1:\n",
    "            result = 1\n",
    "            for x in num:\n",
    "                result = result*int(x)\n",
    "            pers += 1\n",
    "            num = str(result)\n",
    "        \n",
    "        else: \n",
    "            return pers\n",
    "    pass\n"
   ]
  },
  {
   "cell_type": "code",
   "execution_count": null,
   "metadata": {
    "collapsed": false
   },
   "outputs": [],
   "source": [
    "persistence(39)"
   ]
  },
  {
   "cell_type": "code",
   "execution_count": null,
   "metadata": {
    "collapsed": false
   },
   "outputs": [],
   "source": [
    "persistence(0)"
   ]
  },
  {
   "cell_type": "code",
   "execution_count": null,
   "metadata": {
    "collapsed": false
   },
   "outputs": [],
   "source": [
    "persistence(25)"
   ]
  },
  {
   "cell_type": "code",
   "execution_count": null,
   "metadata": {
    "collapsed": false
   },
   "outputs": [],
   "source": [
    "persistence(999)"
   ]
  },
  {
   "cell_type": "markdown",
   "metadata": {
    "collapsed": true
   },
   "source": [
    "The museum of incredible dull things\n",
    "\n",
    "The museum of incredible dull things wants to get rid of some exhibitions. Miriam, the interior architect, comes up with a plan to remove the most boring exhibitions. She gives them a rating, and then removes the one with the lowest rating.\n",
    "\n",
    "However, just as she finished rating all exhibitions, she's off to an important fair, so she asks you to write a program that tells her the ratings of the items after one removed the lowest one. Fair enough.\n",
    "Task\n",
    "\n",
    "Given an array of integers, remove the smallest value. Do not mutate the original array/list. If there are multiple elements with the same value, remove the one with a lower index. If you get an empty array/list, return an empty array/list.\n",
    "\n",
    "Don't change the order of the elements that are left.\n",
    "\n",
    "remove_smallest([2,2,1,2,1]) = [2,2,2,1]"
   ]
  },
  {
   "cell_type": "code",
   "execution_count": null,
   "metadata": {
    "collapsed": true
   },
   "outputs": [],
   "source": [
    "def remove_smallest(numbers):\n",
    "    if numbers == []: \n",
    "        return []\n",
    "    else: \n",
    "        #remove min value\n",
    "        numbers.remove(min(numbers)) \n",
    "        return numbers  \n"
   ]
  },
  {
   "cell_type": "code",
   "execution_count": null,
   "metadata": {
    "collapsed": false
   },
   "outputs": [],
   "source": [
    "remove_smallest([2,2,1,2,1])"
   ]
  },
  {
   "cell_type": "code",
   "execution_count": null,
   "metadata": {
    "collapsed": false
   },
   "outputs": [],
   "source": [
    "sample = [2,2,1,2,1]\n",
    "#remove min value\n",
    "sample.remove(min(sample))\n",
    "sample"
   ]
  },
  {
   "cell_type": "markdown",
   "metadata": {},
   "source": [
    "### Task:\n",
    "\n",
    "Your task is to write a function which returns the sum of following series upto nth term(parameter).\n",
    "\n",
    "Series: 1 + 1/4 + 1/7 + 1/10 + 1/13 + 1/16 +...\n",
    "\n",
    "Rules:\n",
    "\n",
    "    You need to round the answer to 2 decimal places and return it as String.\n",
    "\n",
    "    If the given value is 0 then it should return 0.00\n",
    "\n",
    "    You will only be given Natural Numbers as arguments.\n",
    "\n",
    "Examples:\n",
    "\n",
    "SeriesSum(1) => 1 = \"1.00\"\n",
    "SeriesSum(2) => 1 + 1/4 = \"1.25\"\n",
    "SeriesSum(5) => 1 + 1/4 + 1/7 + 1/10 + 1/13 = \"1.57\"\n"
   ]
  },
  {
   "cell_type": "code",
   "execution_count": null,
   "metadata": {
    "collapsed": false
   },
   "outputs": [],
   "source": [
    "def series_sum(n):\n",
    "        #generate series \n",
    "        num = 0\n",
    "        for i in range(n):\n",
    "            num += 1/( i*3 + 1 )\n",
    "        #round to two decimal places return string \n",
    "        return \"%.2f\" % num"
   ]
  },
  {
   "cell_type": "code",
   "execution_count": null,
   "metadata": {
    "collapsed": false
   },
   "outputs": [],
   "source": [
    "series_sum(5)"
   ]
  },
  {
   "cell_type": "code",
   "execution_count": null,
   "metadata": {
    "collapsed": true
   },
   "outputs": [],
   "source": [
    "def series_sum(n):\n",
    "    return '{:.2f}'.format(sum(1.0/(3 * i + 1) for i in range(n)))"
   ]
  },
  {
   "cell_type": "code",
   "execution_count": null,
   "metadata": {
    "collapsed": false
   },
   "outputs": [],
   "source": [
    "series_sum(5)"
   ]
  },
  {
   "cell_type": "markdown",
   "metadata": {},
   "source": [
    "## A square of squares\n",
    "\n",
    "You like building blocks. You especially like building blocks that are squares. And what you even like more, is to arrange them into a square of square building blocks!\n",
    "\n",
    "However, sometimes, you can't arrange them into a square. Instead, you end up with an ordinary rectangle! Those blasted things! If you just had a way to know, whether you're currently working in vain… Wait! That's it! You just have to check if your number of building blocks is a perfect square.\n",
    "Task\n",
    "\n",
    "Given an integral number, determine if it's a square number:\n",
    "\n",
    "    In mathematics, a square number or perfect square is an integer that is the square of an integer; in other words, it is the product of some integer with itself.\n",
    "\n",
    "The tests will always use some integral number, so don't worry about that in dynamic typed languages.\n",
    "Examples\n",
    "\n",
    "is_square (-1) # => false\n",
    "is_square   3 # => false\n",
    "is_square   4 # => true\n",
    "is_square  25 # => true\n",
    "is_square  26 # => false\n"
   ]
  },
  {
   "cell_type": "code",
   "execution_count": null,
   "metadata": {
    "collapsed": false
   },
   "outputs": [],
   "source": [
    "def is_square(n):\n",
    "    if n < 0:\n",
    "        return False\n",
    "    else: \n",
    "        #check for square root with no remainder \n",
    "        return n % n**(.5) == 0"
   ]
  },
  {
   "cell_type": "code",
   "execution_count": null,
   "metadata": {
    "collapsed": false
   },
   "outputs": [],
   "source": [
    "is_square(4)  "
   ]
  },
  {
   "cell_type": "code",
   "execution_count": null,
   "metadata": {
    "collapsed": false
   },
   "outputs": [],
   "source": [
    "10 % 10**(.5) == 0"
   ]
  },
  {
   "cell_type": "code",
   "execution_count": null,
   "metadata": {
    "collapsed": true
   },
   "outputs": [],
   "source": [
    "def is_square(n):\n",
    "    return n > 0 and ( n**(.5) ).is_integer()"
   ]
  },
  {
   "cell_type": "code",
   "execution_count": null,
   "metadata": {
    "collapsed": false
   },
   "outputs": [],
   "source": [
    "is_square(-1)  "
   ]
  },
  {
   "cell_type": "markdown",
   "metadata": {},
   "source": [
    "## Task\n",
    "Make a program that filters a list of strings and returns a list with only your friends name in it.\n",
    "\n",
    "If a name has exactly 4 letters in it, you can be sure that it has to be a friend of yours!\n",
    "\n",
    "Ex: Input = [\"Ryan\", \"Kieran\", \"Jason\", \"Yous\"], Output = [\"Ryan\", \"Yous\"]\n"
   ]
  },
  {
   "cell_type": "code",
   "execution_count": null,
   "metadata": {
    "collapsed": true
   },
   "outputs": [],
   "source": [
    "def friend(x):\n",
    "    names = []\n",
    "    for item in x: \n",
    "        if len(item) == 4:\n",
    "            names.append(item)\n",
    "    return names"
   ]
  },
  {
   "cell_type": "code",
   "execution_count": null,
   "metadata": {
    "collapsed": false
   },
   "outputs": [],
   "source": [
    "friend(  [\"Ryan\", \"Kieran\", \"Jason\", \"Yous\"] )"
   ]
  },
  {
   "cell_type": "code",
   "execution_count": null,
   "metadata": {
    "collapsed": false
   },
   "outputs": [],
   "source": [
    "x = [\"Ryan\", \"Kieran\", \"Jason\", \"Yous\"]\n",
    "[item for item in x if len(item) == 4]"
   ]
  },
  {
   "cell_type": "code",
   "execution_count": null,
   "metadata": {
    "collapsed": true
   },
   "outputs": [],
   "source": [
    "def friend(x):\n",
    "    return [item for item in x if len(item) == 4]"
   ]
  },
  {
   "cell_type": "code",
   "execution_count": null,
   "metadata": {
    "collapsed": false
   },
   "outputs": [],
   "source": [
    "friend(  [\"Ryan\", \"Kieran\", \"Jason\", \"Yous\"] )"
   ]
  },
  {
   "cell_type": "markdown",
   "metadata": {},
   "source": [
    "The Western Suburbs Croquet Club has two categories of membership, Senior and Open. They would like your help with an application form that will tell prospective members which category they will be placed.\n",
    "\n",
    "To be a senior, a member must be at least 55 years old and have a handicap greater than 7. In this croquet club, handicaps range from -2 to +26; the better the player the lower the handicap.\n",
    "Input\n",
    "\n",
    "Input will consist of a list of lists containing two items each. Each list contains information for a single potential member. Information consists of an integer for the person's age and an integer for the person's handicap.\n",
    "Example Input\n",
    "\n",
    "[[18, 20],[45, 2],[61, 12],[37, 6],[21, 21],[78, 9]]\n",
    "\n",
    "Output\n",
    "\n",
    "Output will consist of a list of string values (in Haskell: Open or Senior) stating whether the respective member is to be placed in the senior or open category.\n",
    "Example Output\n",
    "\n",
    "[\"Open\", \"Open\", \"Senior\", \"Open\", \"Open\", \"Senior\"]\n"
   ]
  },
  {
   "cell_type": "code",
   "execution_count": null,
   "metadata": {
    "collapsed": true
   },
   "outputs": [],
   "source": [
    "def openOrSenior(data):\n",
    "    output = []\n",
    "    for item in data: \n",
    "        if (item[0] >= 55) and (item[1] > 7): \n",
    "            output.append('Senior')\n",
    "        else: \n",
    "            output.append('Open')\n",
    "    return output\n",
    "    "
   ]
  },
  {
   "cell_type": "code",
   "execution_count": null,
   "metadata": {
    "collapsed": true
   },
   "outputs": [],
   "source": [
    "data = [[18, 20],[45, 2],[61, 12],[37, 6],[21, 21],[78, 9]]"
   ]
  },
  {
   "cell_type": "code",
   "execution_count": null,
   "metadata": {
    "collapsed": false
   },
   "outputs": [],
   "source": [
    "item1 = data[0]\n",
    "item1[1]"
   ]
  },
  {
   "cell_type": "code",
   "execution_count": null,
   "metadata": {
    "collapsed": false
   },
   "outputs": [],
   "source": [
    "openOrSenior( data  )"
   ]
  },
  {
   "cell_type": "code",
   "execution_count": null,
   "metadata": {
    "collapsed": true
   },
   "outputs": [],
   "source": [
    "def openOrSenior(data):\n",
    "      return [\"Senior\" if age >= 55 and handicap >= 8 else \"Open\" for (age, handicap) in data]"
   ]
  },
  {
   "cell_type": "code",
   "execution_count": null,
   "metadata": {
    "collapsed": false
   },
   "outputs": [],
   "source": [
    "openOrSenior( data  )"
   ]
  },
  {
   "cell_type": "markdown",
   "metadata": {},
   "source": [
    "## Sum of Pairs\n",
    "\n",
    "Given a list of integers and a single sum value, return the first two values (parse from the left please) in order of appearance that add up to form the sum.\n",
    "\n",
    "sum_pairs([11, 3, 7, 5],         10)\n",
    "#              ^--^      3 + 7 = 10\n",
    "== [3, 7]\n",
    "\n",
    "sum_pairs([4, 3, 2, 3, 4],         6)\n",
    "\n",
    "          ^-----^         4 + 2 = 6, indices: 0, 2 *\n",
    "             ^-----^      3 + 3 = 6, indices: 1, 3\n",
    "                ^-----^   2 + 4 = 6, indices: 2, 4\n",
    "  * entire pair is earlier, and therefore is the correct answer\n",
    "== [4, 2]\n",
    "\n",
    "sum_pairs([0, 0, -2, 3], 2)\n",
    "  there are no pairs of values that can be added to produce 2.\n",
    "== None/nil/undefined (Based on the language)\n",
    "\n",
    "sum_pairs([10, 5, 2, 3, 7, 5],         10)\n",
    "\n",
    "                         ^-----------^   5 + 5 = 10, indices: 1, 5\n",
    "                    ^--^      3 + 7 = 10, indices: 3, 4 *\n",
    "  * entire pair is earlier, and therefore is the correct answer\n",
    "== [3, 7]\n",
    "\n",
    "Negative numbers and duplicate numbers can and will appear.\n",
    "\n",
    "NOTE: There will also be lists tested of lengths upwards of 10,000,000 elements. Be sure your code doesn't time out."
   ]
  },
  {
   "cell_type": "code",
   "execution_count": null,
   "metadata": {
    "collapsed": false
   },
   "outputs": [],
   "source": [
    "def sum_pairs(ints, s):\n",
    "    out = []\n",
    "    for i in range(len(ints)):\n",
    "        for j in range(len(ints)):\n",
    "            if  ( (ints[i] + ints[j]) == s) and (i != j ) and ([ints[i], ints[j]] not in out ):\n",
    "                out.append( [ ints[i] , ints[j]] )\n",
    "                return out\n",
    "    \n"
   ]
  },
  {
   "cell_type": "code",
   "execution_count": null,
   "metadata": {
    "collapsed": false
   },
   "outputs": [],
   "source": [
    "sum_pairs([1,4,2,1,3,4], 5)"
   ]
  },
  {
   "cell_type": "code",
   "execution_count": null,
   "metadata": {
    "collapsed": false
   },
   "outputs": [],
   "source": [
    "out = []\n",
    "ints = [1,4, 2,1,3,4]\n",
    "s = 5\n",
    "for i in range(len(ints)):\n",
    "    for j in range(len(ints)):\n",
    "        if  ( (ints[i] + ints[j]) == s) and (i != j ) and ([ints[i], ints[j]] not in out ):\n",
    "            out.append( [ ints[i] , ints[j]] )\n",
    "out            \n",
    " #need to pick out pair with smallest index \n",
    "ints[1]\n",
    "            \n",
    "       \n",
    "    \n",
    "           \n",
    "       "
   ]
  },
  {
   "cell_type": "code",
   "execution_count": null,
   "metadata": {
    "collapsed": false
   },
   "outputs": [],
   "source": [
    "sum_pairs([4, 3, 2, 3, 4], 6)"
   ]
  },
  {
   "cell_type": "code",
   "execution_count": null,
   "metadata": {
    "collapsed": false
   },
   "outputs": [],
   "source": [
    "sum_pairs([10, 5, 2, 3, 7, 5], 10)\n",
    "    "
   ]
  },
  {
   "cell_type": "markdown",
   "metadata": {
    "collapsed": false
   },
   "source": [
    "### Task\n",
    "You get an array of arrays.\n",
    "If you sort the arrays by their length, you will see, that their length-values are consecutive.\n",
    "But one array is missing!\n",
    "\n",
    "\n",
    "You have to write a method, that return the length of the missing array.\n",
    "\n",
    "Example:\n",
    "[[1, 2], [4, 5, 1, 1], [1], [5, 6, 7, 8, 9]] --> 3\n",
    "\n",
    "\n",
    "If the array of arrays is null/nil or empty, the method should return 0.\n",
    "\n",
    "When an array in the array is null or empty, the method should return 0 too!\n",
    "There will always be a missing element and its length will be always between the given arrays.\n",
    "\n",
    "Have fun coding it and please don't forget to vote and rank this kata! :-)\n",
    "\n",
    "I have created other katas. Have a look if you like coding and challenges.\n",
    "\n",
    "    "
   ]
  },
  {
   "cell_type": "code",
   "execution_count": null,
   "metadata": {
    "collapsed": false
   },
   "outputs": [],
   "source": [
    "def get_length_of_missing_array(sample = None):\n",
    "    if sample is None or  not sample or sample is [] or  [] in sample or [0] in sample or '' in sample or None in sample:\n",
    "        return 0\n",
    "    else: \n",
    "            range_max = max( (len(x) for x in sample) , default = 0 ) #picks out the biggest array number \n",
    "\n",
    "            n_list = []   #generates list for  length of sample \n",
    "            for j in range(range_max): \n",
    "                n_list.append(j+1) \n",
    "            n_list.reverse() #used to find the largest missing number first \n",
    "\n",
    "            s_list = []   #generates list of lengths from sample\n",
    "            for item in sample: \n",
    "                s_list.append( len(item) )\n",
    "\n",
    "            for i in n_list:\n",
    "                if i not in s_list:\n",
    "                        return i\n",
    "   \n",
    "    pass"
   ]
  },
  {
   "cell_type": "code",
   "execution_count": null,
   "metadata": {
    "collapsed": true
   },
   "outputs": [],
   "source": [
    "sample = [[1, 2], [4, 5, 1, 1], [1], [5, 6, 7, 8, 9]]"
   ]
  },
  {
   "cell_type": "code",
   "execution_count": null,
   "metadata": {
    "collapsed": false
   },
   "outputs": [],
   "source": [
    "s_list = []   #generates list of lengths from sample\n",
    "for item in sample: \n",
    "    s_list.append( len(item) )\n",
    "s_list"
   ]
  },
  {
   "cell_type": "code",
   "execution_count": null,
   "metadata": {
    "collapsed": false
   },
   "outputs": [],
   "source": [
    "n_list = []   #generates list for  length of sample \n",
    "for j in range(range_max): \n",
    "    n_list.append(j+1)\n",
    "n_list.reverse()\n",
    "n_list"
   ]
  },
  {
   "cell_type": "code",
   "execution_count": null,
   "metadata": {
    "collapsed": false
   },
   "outputs": [],
   "source": [
    "range_max = max( len(x) for x in sample )\n",
    "for i in n_list:\n",
    "    if i not in s_list:\n",
    "        print(i)"
   ]
  },
  {
   "cell_type": "code",
   "execution_count": null,
   "metadata": {
    "collapsed": false
   },
   "outputs": [],
   "source": [
    "range_max = max( len(x) for x in sample ) #picks out the biggest array number \n",
    "range_max\n"
   ]
  },
  {
   "cell_type": "code",
   "execution_count": null,
   "metadata": {
    "collapsed": false
   },
   "outputs": [],
   "source": [
    "get_length_of_missing_array([[None], [None, None, None]])"
   ]
  },
  {
   "cell_type": "code",
   "execution_count": null,
   "metadata": {
    "collapsed": false
   },
   "outputs": [],
   "source": [
    "get_length_of_missing_array( ['', [4, 5, 1, 1], [1,2,3,4,5,6], [5, 6, 7, 8, 9]])"
   ]
  },
  {
   "cell_type": "code",
   "execution_count": null,
   "metadata": {
    "collapsed": false
   },
   "outputs": [],
   "source": [
    "get_length_of_missing_array()"
   ]
  },
  {
   "cell_type": "code",
   "execution_count": null,
   "metadata": {
    "collapsed": false
   },
   "outputs": [],
   "source": [
    "max_length = max([(len(x)) for x in ('a','b','aa')])\n",
    "max_length"
   ]
  },
  {
   "cell_type": "code",
   "execution_count": null,
   "metadata": {
    "collapsed": true
   },
   "outputs": [],
   "source": [
    "def get_length_of_missing_array(a):\n",
    "    lns = a and all(a) and list(map(len, a))\n",
    "    return bool(lns) and sum(range(min(lns), max(lns) + 1)) - sum(lns)"
   ]
  },
  {
   "cell_type": "code",
   "execution_count": null,
   "metadata": {
    "collapsed": false
   },
   "outputs": [],
   "source": [
    "a = [[1,2], [4, 5, 1, 1], [1,2,3,4,5,6], [5, 6, 7, 8, 9]]\n",
    "a and all(a) and list(map(len, a))"
   ]
  },
  {
   "cell_type": "markdown",
   "metadata": {},
   "source": [
    "Complete the solution so that it reverses all of the words within the string passed in.\n",
    "\n",
    "Example:\n",
    "reverseWords(\"The greatest victory is that which requires no battle\")\n",
    "\n",
    "should return \"battle no requires which that is victory greatest The\""
   ]
  },
  {
   "cell_type": "code",
   "execution_count": null,
   "metadata": {
    "collapsed": true
   },
   "outputs": [],
   "source": [
    "def reverseWords(str):\n",
    "    return ' '.join( [x for x in str.split()][::-1] )"
   ]
  },
  {
   "cell_type": "code",
   "execution_count": null,
   "metadata": {
    "collapsed": false
   },
   "outputs": [],
   "source": [
    "string = 'The greatest victory is that which requires no battle'\n",
    "r_list = [x for x in string.split()][::-1]\n",
    "' '.join(r_list)"
   ]
  },
  {
   "cell_type": "code",
   "execution_count": null,
   "metadata": {
    "collapsed": false
   },
   "outputs": [],
   "source": [
    "reverseWords('The greatest victory')"
   ]
  },
  {
   "cell_type": "markdown",
   "metadata": {},
   "source": [
    "There is an array with some numbers. All numbers are equal except for one. Try to find it!\n",
    "\n",
    "findUniq([ 1, 1, 1, 2, 1, 1 ]) === 2\n",
    "findUniq([ 0, 0, 0.55, 0, 0 ]) === 0.55\n"
   ]
  },
  {
   "cell_type": "code",
   "execution_count": null,
   "metadata": {
    "collapsed": false
   },
   "outputs": [],
   "source": [
    "from collections import Counter\n",
    "c = Counter([ 0, 0, 0.55, 0, 0 ])"
   ]
  },
  {
   "cell_type": "code",
   "execution_count": null,
   "metadata": {
    "collapsed": false
   },
   "outputs": [],
   "source": [
    "c.most_common()[:-2:-1][0][0] "
   ]
  },
  {
   "cell_type": "code",
   "execution_count": null,
   "metadata": {
    "collapsed": true
   },
   "outputs": [],
   "source": [
    "from collections import Counter\n",
    "def findUniq(num):\n",
    "    return Counter(num).most_common()[:-2:-1][0][0] "
   ]
  },
  {
   "cell_type": "code",
   "execution_count": null,
   "metadata": {
    "collapsed": false
   },
   "outputs": [],
   "source": [
    "findUniq([ 1, 1, 1, 2, 1, 1 ])"
   ]
  },
  {
   "cell_type": "markdown",
   "metadata": {},
   "source": [
    "Write Number in Expanded Form\n",
    "\n",
    "You will be given a number and you will need to return it as a string in Expanded Form. For example:\n",
    "\n",
    "expanded_form(12) # Should return '10 + 2'\n",
    "expanded_form(42) # Should return '40 + 2'\n",
    "expanded_form(70304) # Should return '70000 + 300 + 4'\n",
    "\n",
    "NOTE: All numbers will be whole numbers greater than 0."
   ]
  },
  {
   "cell_type": "code",
   "execution_count": null,
   "metadata": {
    "collapsed": false
   },
   "outputs": [],
   "source": [
    "num = 70304\n",
    "n_str = str(num)\n",
    "[x for x in n_str][::-1]"
   ]
  },
  {
   "cell_type": "code",
   "execution_count": null,
   "metadata": {
    "collapsed": false
   },
   "outputs": [],
   "source": [
    "out = \"\"\n",
    "for item in [x for x in n_str][::-1]:\n",
    "    out += item +' '\n",
    "out"
   ]
  },
  {
   "cell_type": "code",
   "execution_count": null,
   "metadata": {
    "collapsed": false
   },
   "outputs": [],
   "source": [
    "num = 70304\n",
    "n_str = str(num)\n",
    "out = ''\n",
    "for i in range( len(n_str) -1 , -1, -1 ):              #runs loop backwards \n",
    "    if num // 10**i != 0:                                     #finds floor division of iterable magnitue, skips any zero values \n",
    "        out += str( (num // 10**i) *10**i ) + ' + '  #builds string with correct magnitude \n",
    "        num += -(num // 10**i) *10**i                #subtracts floor division times magnitude \n",
    "print(out[:-3])                                                  #prints output and subtracts last + sign and left over space "
   ]
  },
  {
   "cell_type": "code",
   "execution_count": null,
   "metadata": {
    "collapsed": true
   },
   "outputs": [],
   "source": [
    "def expanded_form(num):\n",
    "    n_str = str(num)\n",
    "    out = ''\n",
    "    for i in range( len(n_str) -1 , -1, -1 ):              #runs loop backwards \n",
    "        if num // 10**i != 0:                                     #finds floor division of iterable magnitue, skips any zero values \n",
    "            out += str( (num // 10**i) *10**i ) + ' + '  #builds string with correct magnitude \n",
    "            num += -(num // 10**i) *10**i                #subtracts floor division times magnitude \n",
    "    return (out[:-3]) \n"
   ]
  },
  {
   "cell_type": "code",
   "execution_count": null,
   "metadata": {
    "collapsed": false
   },
   "outputs": [],
   "source": [
    "expanded_form(42)"
   ]
  },
  {
   "cell_type": "markdown",
   "metadata": {},
   "source": [
    "## Task \n",
    "A Narcissistic Number is a number which is the sum of its own digits, each raised to the power of the number of digits.\n",
    "\n",
    "For example, take 153 (3 digits):\n",
    "\n",
    "    1^3 + 5^3 + 3^3 = 1 + 125 + 27 = 153\n",
    "\n",
    "and 1634 (4 digits):\n",
    "\n",
    "    1^4 + 6^4 + 3^4 + 4^4 = 1 + 1296 + 81 + 256 = 1634\n",
    "\n",
    "The Challenge:\n",
    "\n",
    "Your code must return true or false depending upon whether the given number is a Narcissistic number.\n",
    "\n",
    "Error checking for text strings or other invalid inputs is not required, only valid integers will be passed into the function.\n"
   ]
  },
  {
   "cell_type": "code",
   "execution_count": null,
   "metadata": {
    "collapsed": true
   },
   "outputs": [],
   "source": [
    "#need to break out number into list \n",
    "# check sum with original number "
   ]
  },
  {
   "cell_type": "code",
   "execution_count": null,
   "metadata": {
    "collapsed": false
   },
   "outputs": [],
   "source": [
    "num = 153\n",
    "n_str = str(num)\n",
    "[x for x in n_str]"
   ]
  },
  {
   "cell_type": "code",
   "execution_count": null,
   "metadata": {
    "collapsed": false
   },
   "outputs": [],
   "source": [
    "#for loop to iterate through numbers and raise to the power of length \n",
    "total = 0\n",
    "for item in n_str: \n",
    "     total += int(item)**len(n_str)\n",
    "num == total "
   ]
  },
  {
   "cell_type": "code",
   "execution_count": null,
   "metadata": {
    "collapsed": false
   },
   "outputs": [],
   "source": [
    "sum( [int(item)**len(n_str) for item in n_str] )"
   ]
  },
  {
   "cell_type": "code",
   "execution_count": null,
   "metadata": {
    "collapsed": false
   },
   "outputs": [],
   "source": [
    "def narcissistic( num ):\n",
    "    n_str = str(num)\n",
    "    return num == sum( [int(item)**len(n_str) for item in n_str] )"
   ]
  },
  {
   "cell_type": "code",
   "execution_count": null,
   "metadata": {
    "collapsed": false
   },
   "outputs": [],
   "source": [
    "narcissistic( 15)"
   ]
  },
  {
   "cell_type": "markdown",
   "metadata": {},
   "source": [
    "## Task\n",
    "Define a function isPrime/is_prime() that takes one integer argument and returns true/True or false/False depending on if the integer is a prime.\n",
    "\n",
    "Per Wikipedia, a prime number (or a prime) is a natural number greater than 1 that has no positive divisors other than 1 and itself.\n",
    "Example\n",
    "\n",
    "isPrime(5)\n",
    "=> true\n",
    "\n",
    "Assumptions\n",
    "\n",
    "    You can assume you will be given an integer input.\n",
    "    You can not assume that the integer will be only positive. You may be given negative numbers as well (or 0).\n"
   ]
  },
  {
   "cell_type": "code",
   "execution_count": null,
   "metadata": {
    "collapsed": true
   },
   "outputs": [],
   "source": [
    "#divide by range of number determined by number size, if remainder zero then not prime "
   ]
  },
  {
   "cell_type": "code",
   "execution_count": null,
   "metadata": {
    "collapsed": false
   },
   "outputs": [],
   "source": [
    "4 % 3"
   ]
  },
  {
   "cell_type": "code",
   "execution_count": null,
   "metadata": {
    "collapsed": false
   },
   "outputs": [],
   "source": [
    "num = 7\n",
    "p_index = 0\n",
    "\n",
    "for i in range(2,num):\n",
    "    if num % i == 0: \n",
    "        p_index += 1\n",
    "p_index == 0"
   ]
  },
  {
   "cell_type": "code",
   "execution_count": null,
   "metadata": {
    "collapsed": false
   },
   "outputs": [],
   "source": [
    "num = 11\n",
    "sum ( [num for i in range(2,num) if num % i ==0] ) == 0 "
   ]
  },
  {
   "cell_type": "code",
   "execution_count": null,
   "metadata": {
    "collapsed": false
   },
   "outputs": [],
   "source": [
    "def is_prime(num): \n",
    "    num = abs(num)\n",
    "    if num == 0 or num ==1:\n",
    "        return False\n",
    "    else: \n",
    "        return sum ( [num for i in range(2,num) if num % i ==0] ) == 0 "
   ]
  },
  {
   "cell_type": "code",
   "execution_count": null,
   "metadata": {
    "collapsed": false
   },
   "outputs": [],
   "source": [
    "is_prime(-1)"
   ]
  },
  {
   "cell_type": "markdown",
   "metadata": {},
   "source": [
    "## Task\n",
    "\n",
    "Build Tower\n",
    "\n",
    "Build Tower by the following given argument:\n",
    "number of floors (integer and always greater than 0).\n",
    "\n",
    "Tower block is represented as *\n",
    "\n",
    "    Python: return a list;\n",
    "\n",
    "Have fun!\n",
    "\n",
    "for example, a tower of 3 floors looks like below\n",
    "\n",
    "[\n",
    "  '  *  ', \n",
    "  ' *** ', \n",
    "  '*****'\n",
    "]\n"
   ]
  },
  {
   "cell_type": "code",
   "execution_count": null,
   "metadata": {
    "collapsed": false
   },
   "outputs": [],
   "source": [
    "print('*'*3)"
   ]
  },
  {
   "cell_type": "code",
   "execution_count": null,
   "metadata": {
    "collapsed": true
   },
   "outputs": [],
   "source": [
    "#Build list that outputs asterisk times the iterable in the range of input number\n",
    "#each floor is 1, 3, 5 i.e. odd numbers "
   ]
  },
  {
   "cell_type": "code",
   "execution_count": null,
   "metadata": {
    "collapsed": false
   },
   "outputs": [],
   "source": [
    "num = 3\n",
    "['*'*i for i in range(1,num +1)]"
   ]
  },
  {
   "cell_type": "code",
   "execution_count": null,
   "metadata": {
    "collapsed": true
   },
   "outputs": [],
   "source": [
    "def tower_builder(n_floors):\n",
    "    floors = ['*'*(2*i+1) for i in range(n_floors)]  # generates floors \n",
    "    for i in range(n_floors -1):                              #adds padding to each floor, save for the last \n",
    "        floors[i] = \" \"*(n_floors - i-1) + floors[i] + \" \"*(n_floors - i-1)\n",
    "    return floors"
   ]
  },
  {
   "cell_type": "code",
   "execution_count": null,
   "metadata": {
    "collapsed": false
   },
   "outputs": [],
   "source": [
    "tower_builder(3)"
   ]
  },
  {
   "cell_type": "code",
   "execution_count": null,
   "metadata": {
    "collapsed": false
   },
   "outputs": [],
   "source": [
    "n_floors = 3\n",
    "floors = ['*'*(2*i+1) for i in range(n_floors)]  # generates floors \n",
    "for i in range(n_floors -1):                              #adds padding to each floor, save for the last \n",
    "    floors[i] = \" \"*(n_floors - i-1) + floors[i] + \" \"*(n_floors - i-1)\n",
    "floors"
   ]
  },
  {
   "cell_type": "code",
   "execution_count": null,
   "metadata": {
    "collapsed": false
   },
   "outputs": [],
   "source": [
    "\" \"*7 + '*' + \" \"*7 "
   ]
  },
  {
   "cell_type": "code",
   "execution_count": null,
   "metadata": {
    "collapsed": false
   },
   "outputs": [],
   "source": [
    " for i in range(3  , -1, -1 ):\n",
    "        print(i)"
   ]
  },
  {
   "cell_type": "markdown",
   "metadata": {
    "collapsed": true
   },
   "source": [
    "## Task \n",
    "The new \"Avengers\" movie has just been released! There are a lot of people at the cinema box office standing in a huge line. Each of them has a single 100, 50 or 25 dollars bill. A \"Avengers\" ticket costs 25 dollars.\n",
    "\n",
    "Vasya is currently working as a clerk. He wants to sell a ticket to every single person in this line.\n",
    "\n",
    "Can Vasya sell a ticket to each person and give the change if he initially has no money and sells the tickets strictly in the order people follow in the line?\n",
    "\n",
    "Return YES, if Vasya can sell a ticket to each person and give the change. Otherwise return NO.\n",
    "\n",
    "###Examples:\n",
    "tickets([25, 25, 50]) # => YES \n",
    "\n",
    "tickets([25, 100]) # => NO. Vasya will not have enough money to give change to 100 dollar"
   ]
  },
  {
   "cell_type": "code",
   "execution_count": 9,
   "metadata": {
    "collapsed": true
   },
   "outputs": [],
   "source": [
    "#order matters need a till \n",
    "#Create a real time tally of each bill "
   ]
  },
  {
   "cell_type": "code",
   "execution_count": 83,
   "metadata": {
    "collapsed": false
   },
   "outputs": [],
   "source": [
    "def tickets(peeps):\n",
    "    till = []\n",
    "    t_25 = t_50 = t_100 = 0\n",
    "    \n",
    "    for item in peeps: \n",
    "        if item == 25:\n",
    "            t_25 +=1\n",
    "        elif  item ==50:\n",
    "            t_50 += 1\n",
    "            t_25 -= 1\n",
    "        elif item == 100: \n",
    "            if t_50>0:\n",
    "                t_50 -= 1\n",
    "                t_25 -= 1\n",
    "            else:\n",
    "                t_25 -= 3\n",
    "    if t_25 >=0 and t_50>=0:\n",
    "        default = 'YES'\n",
    "    else:\n",
    "        default = 'NO'\n",
    "            \n",
    "    return default "
   ]
  },
  {
   "cell_type": "code",
   "execution_count": 88,
   "metadata": {
    "collapsed": false
   },
   "outputs": [
    {
     "data": {
      "text/plain": [
       "'NO'"
      ]
     },
     "execution_count": 88,
     "metadata": {},
     "output_type": "execute_result"
    }
   ],
   "source": [
    "tickets([25, 100])"
   ]
  },
  {
   "cell_type": "code",
   "execution_count": 85,
   "metadata": {
    "collapsed": false
   },
   "outputs": [
    {
     "data": {
      "text/plain": [
       "'YES'"
      ]
     },
     "execution_count": 85,
     "metadata": {},
     "output_type": "execute_result"
    }
   ],
   "source": [
    "tickets([25, 25, 50])"
   ]
  },
  {
   "cell_type": "code",
   "execution_count": 86,
   "metadata": {
    "collapsed": false
   },
   "outputs": [
    {
     "data": {
      "text/plain": [
       "'YES'"
      ]
     },
     "execution_count": 86,
     "metadata": {},
     "output_type": "execute_result"
    }
   ],
   "source": [
    "tickets([25, 50, 50,25,25,100])"
   ]
  },
  {
   "cell_type": "markdown",
   "metadata": {},
   "source": [
    "## Task \n",
    "John and Mary want to travel between a few towns A, B, C ... Mary has on a sheet of paper a list of distances between these towns. ls = [50, 55, 57, 58, 60]. John is tired of driving and he says to Mary that he doesn't want to drive more than t = 174 miles and he will visit only 3 towns.\n",
    "\n",
    "Which distances, hence which towns, they will choose so that the sum of the distances is the biggest possible\n",
    "\n",
    "    to please Mary - but less than t - to please John- ?\n",
    "\n",
    "Example:\n",
    "\n",
    "With list ls and 3 towns to visit they can make a choice between: [50,55,57],[50,55,58],[50,55,60],[50,57,58],[50,57,60],[50,58,60],[55,57,58],[55,57,60],[55,58,60],[57,58,60].\n",
    "\n",
    "The sums of distances are then: 162, 163, 165, 165, 167, 168, 170, 172, 173, 175.\n",
    "\n",
    "The biggest possible sum taking a limit of 174 into account is then 173 and the distances of the 3 corresponding towns is [55, 58, 60].\n",
    "\n",
    "The function chooseBestSum (or choose_best_sum or ... depending on the language) will take as parameters t (maximum sum of distances, integer >= 0), k (number of towns to visit, k >= 1) and ls (list of distances, all distances are positive or null integers and this list has at least one element). The function returns the \"best\" sum ie the biggest possible sum of k distances less than or equal to the given limit t, if that sum exists, or otherwise nil, null, None, Nothing, depending on the language. With C++, C, Rust, Swift, Go return -1.\n",
    "\n",
    "Examples:\n",
    "\n",
    "ts = [50, 55, 56, 57, 58] choose_best_sum(163, 3, ts) -> 163\n",
    "\n",
    "xs = [50] choose_best_sum(163, 3, xs) -> nil (or null or ... or -1 (C++, C, Rust, Swift, Go)\n",
    "\n",
    "ys = [91, 74, 73, 85, 73, 81, 87] choose_best_sum(230, 3, ys) -> 228\n"
   ]
  },
  {
   "cell_type": "code",
   "execution_count": 99,
   "metadata": {
    "collapsed": false
   },
   "outputs": [],
   "source": [
    "#come up with permutations of list"
   ]
  },
  {
   "cell_type": "code",
   "execution_count": 179,
   "metadata": {
    "collapsed": false
   },
   "outputs": [],
   "source": [
    "import itertools\n",
    "def choose_best_sum(dist, n, cities):\n",
    "    combos = list(itertools.combinations(cities, n))  #list of combos \n",
    "    distances = [dist - sum(x) for x in combos if (dist - sum(x)) >=0]  #finds the difference of combos with distance for diff > 0 \n",
    "    if distances == []:     #reject empty list; otherwise min function will error \n",
    "        return print('None')\n",
    "    else:  \n",
    "        min_dist = min(item for item in distances if item >= 0)\n",
    "        return dist - min_dist \n",
    "    pass"
   ]
  },
  {
   "cell_type": "code",
   "execution_count": 181,
   "metadata": {
    "collapsed": false
   },
   "outputs": [
    {
     "data": {
      "text/plain": [
       "173"
      ]
     },
     "execution_count": 181,
     "metadata": {},
     "output_type": "execute_result"
    }
   ],
   "source": [
    "ls = [50, 55, 57, 58, 60]\n",
    "choose_best_sum(174, 3, ls)"
   ]
  },
  {
   "cell_type": "code",
   "execution_count": 125,
   "metadata": {
    "collapsed": false
   },
   "outputs": [
    {
     "data": {
      "text/plain": [
       "[162, 163, 165, 165, 167, 168, 170, 172, 173, 175]"
      ]
     },
     "execution_count": 125,
     "metadata": {},
     "output_type": "execute_result"
    }
   ],
   "source": [
    "combos = list(itertools.combinations(ls, 3)) #creates a list of unique combos\n",
    "combos_sum = [sum(x) for x in combos] #sum individual combinations \n",
    "combos_sum\n",
    "\n",
    "#make a new list with differences from distance\n",
    "#diff = [distance-item for item in combos_sum]\n",
    "#m_dist = min(num for num in diff if num > 0)"
   ]
  },
  {
   "cell_type": "markdown",
   "metadata": {},
   "source": [
    "## Task: A chain adding function \n",
    "We want to create a function that will add numbers together when called in succession.\n",
    "\n",
    "add(1)(2);\n",
    "// returns 3\n",
    "\n",
    "We also want to be able to continue to add numbers to our chain.\n",
    "\n",
    "add(1)(2)(3); // 6\n",
    "add(1)(2)(3)(4); // 10\n",
    "add(1)(2)(3)(4)(5); // 15\n"
   ]
  },
  {
   "cell_type": "code",
   "execution_count": 227,
   "metadata": {
    "collapsed": false
   },
   "outputs": [],
   "source": [
    "def add( *vartuple ):\n",
    "    return str(vartuple)\n",
    "    pass"
   ]
  },
  {
   "cell_type": "code",
   "execution_count": 230,
   "metadata": {
    "collapsed": false
   },
   "outputs": [],
   "source": [
    "class CustomInt(int):\n",
    "    def __call__(self, v):\n",
    "        return CustomInt(self + v)\n",
    "    \n",
    "def add(v):\n",
    "    return CustomInt(v)"
   ]
  },
  {
   "cell_type": "code",
   "execution_count": 231,
   "metadata": {
    "collapsed": false
   },
   "outputs": [
    {
     "data": {
      "text/plain": [
       "6"
      ]
     },
     "execution_count": 231,
     "metadata": {},
     "output_type": "execute_result"
    }
   ],
   "source": [
    "add(1)(2)(3)"
   ]
  },
  {
   "cell_type": "code",
   "execution_count": 232,
   "metadata": {
    "collapsed": false
   },
   "outputs": [
    {
     "data": {
      "text/plain": [
       "15"
      ]
     },
     "execution_count": 232,
     "metadata": {},
     "output_type": "execute_result"
    }
   ],
   "source": [
    " add(1)(2)(3)(4)(5)"
   ]
  },
  {
   "cell_type": "code",
   "execution_count": 234,
   "metadata": {
    "collapsed": false
   },
   "outputs": [
    {
     "data": {
      "text/plain": [
       "10"
      ]
     },
     "execution_count": 234,
     "metadata": {},
     "output_type": "execute_result"
    }
   ],
   "source": [
    "class add(int):\n",
    "    def __call__(self,n):\n",
    "        return add(self+n)\n",
    "    \n",
    "add(1)(2)(3)(4)"
   ]
  },
  {
   "cell_type": "markdown",
   "metadata": {},
   "source": [
    "## Task \n",
    "Move the first letter of each word to the end of it, then add 'ay' to the end of the word.\n",
    "\n",
    "pig_it('Pig latin is cool') # igPay atinlay siay oolcay\n"
   ]
  },
  {
   "cell_type": "code",
   "execution_count": 238,
   "metadata": {
    "collapsed": false
   },
   "outputs": [
    {
     "data": {
      "text/plain": [
       "'ig latin is coolPay'"
      ]
     },
     "execution_count": 238,
     "metadata": {},
     "output_type": "execute_result"
    }
   ],
   "source": [
    "word = 'Pig latin is cool'\n",
    "word[1:] #removes first letter \n",
    "word[:1] #first letter \n",
    "word[1:] + word[:1] + 'ay'\n",
    "#create for loop to do this for every item in string "
   ]
  },
  {
   "cell_type": "code",
   "execution_count": 260,
   "metadata": {
    "collapsed": false
   },
   "outputs": [
    {
     "name": "stdout",
     "output_type": "stream",
     "text": [
      "igPay\n",
      "atinlay\n",
      "siay\n",
      "oolcay\n"
     ]
    }
   ],
   "source": [
    "word = 'Pig latin is cool'\n",
    "word.split()\n",
    "out = ''\n",
    "for item in word.split(): \n",
    "    print(item[1:] + item[:1] + 'ay')"
   ]
  },
  {
   "cell_type": "code",
   "execution_count": 272,
   "metadata": {
    "collapsed": false
   },
   "outputs": [
    {
     "data": {
      "text/plain": [
       "'igPay atinlay siay oolcay'"
      ]
     },
     "execution_count": 272,
     "metadata": {},
     "output_type": "execute_result"
    }
   ],
   "source": [
    "' '.join( [(item[1:] + item[:1] + 'ay') for item in word.split()])"
   ]
  },
  {
   "cell_type": "code",
   "execution_count": 273,
   "metadata": {
    "collapsed": true
   },
   "outputs": [],
   "source": [
    "def pig_it(word): \n",
    "    return ' '.join( [(item[1:] + item[:1] + 'ay') for item in word.split()])"
   ]
  },
  {
   "cell_type": "code",
   "execution_count": 274,
   "metadata": {
    "collapsed": false
   },
   "outputs": [
    {
     "data": {
      "text/plain": [
       "'igPay atinlay siay oolcay'"
      ]
     },
     "execution_count": 274,
     "metadata": {},
     "output_type": "execute_result"
    }
   ],
   "source": [
    "pig_it('Pig latin is cool') "
   ]
  },
  {
   "cell_type": "code",
   "execution_count": 1,
   "metadata": {
    "collapsed": false
   },
   "outputs": [],
   "source": [
    "#Needs to ignore special charectors \n",
    "def pig_it(word): \n",
    "    return ' '.join( [item[1:] + item[:1] + 'ay'  if item.isalpha() else item for item in word.split()] )"
   ]
  },
  {
   "cell_type": "code",
   "execution_count": 2,
   "metadata": {
    "collapsed": false
   },
   "outputs": [
    {
     "data": {
      "text/plain": [
       "'igPay atinlay siay oolcay !'"
      ]
     },
     "execution_count": 2,
     "metadata": {},
     "output_type": "execute_result"
    }
   ],
   "source": [
    "pig_it('Pig latin is cool !') "
   ]
  },
  {
   "cell_type": "markdown",
   "metadata": {},
   "source": [
    "## Task: Steps in primes \n",
    "The prime numbers are not regularly spaced. For example from 2 to 3 the step is 1. From 3 to 5 the step is 2. From 7 to 11 it is 4. Between 2 and 50 we have the following pairs of 2-steps primes:\n",
    "\n",
    "3, 5 - 5, 7, - 11, 13, - 17, 19, - 29, 31, - 41, 43\n",
    "\n",
    "We will write a function step with parameters:\n",
    "\n",
    "    g (integer >= 2) which indicates the step we are looking for,\n",
    "\n",
    "    m (integer >= 2) which gives the start of the search (m inclusive),\n",
    "\n",
    "    n (integer >= m) which gives the end of the search (n inclusive)\n",
    "\n",
    "In the example above step(2, 2, 50) will return [3, 5] which is the first pair between 2 and 50 with a 2-steps.\n",
    "\n",
    "So this function should return the first pair of the two prime numbers spaced with a step of g between the limits m, n if these g-steps prime numbers exist otherwise nil or null or None or Nothing or [] or \"0, 0\" or {0, 0} (depending on the language).\n",
    "\n",
    "#Examples:\n",
    "\n",
    "step(2, 5, 7) --> [5, 7] or (5, 7) or {5, 7} or \"5 7\""
   ]
  },
  {
   "cell_type": "code",
   "execution_count": null,
   "metadata": {
    "collapsed": true
   },
   "outputs": [],
   "source": [
    "#Find prime, then add step clause. Use while loop or for loop to cycle through range "
   ]
  },
  {
   "cell_type": "code",
   "execution_count": 4,
   "metadata": {
    "collapsed": true
   },
   "outputs": [],
   "source": [
    "def is_prime(num): \n",
    "    num = abs(num)\n",
    "    if num == 0 or num ==1:\n",
    "        return False\n",
    "    else: \n",
    "        return sum ( [num for i in range(2,num) if num % i ==0] ) == 0 "
   ]
  },
  {
   "cell_type": "code",
   "execution_count": 5,
   "metadata": {
    "collapsed": false
   },
   "outputs": [
    {
     "data": {
      "text/plain": [
       "True"
      ]
     },
     "execution_count": 5,
     "metadata": {},
     "output_type": "execute_result"
    }
   ],
   "source": [
    "is_prime(31)"
   ]
  },
  {
   "cell_type": "code",
   "execution_count": 8,
   "metadata": {
    "collapsed": false
   },
   "outputs": [
    {
     "name": "stdout",
     "output_type": "stream",
     "text": [
      "True\n"
     ]
    }
   ],
   "source": [
    "num = 31\n",
    "if num == 0 or num ==1:\n",
    "    print(False)\n",
    "else: \n",
    "    print(sum ( [num for i in range(2,num) if num % i ==0] ) == 0 ) #No factors means prime "
   ]
  },
  {
   "cell_type": "code",
   "execution_count": 26,
   "metadata": {
    "collapsed": false
   },
   "outputs": [
    {
     "name": "stdout",
     "output_type": "stream",
     "text": [
      "[3, 5]\n",
      "[5, 7]\n"
     ]
    }
   ],
   "source": [
    "#Check for prime number, in this case 2 is the step, 7-1 the range \n",
    "for num in range(2,7-1):\n",
    "    if sum ( [num for i in range(2,num) if num % i ==0] ) == 0 and sum ( [num for i in range(2,num+2) if (num+2) % i ==0] ) == 0:\n",
    "        print([num, num+2])\n",
    "        \n",
    "    \n"
   ]
  },
  {
   "cell_type": "code",
   "execution_count": 142,
   "metadata": {
    "collapsed": false
   },
   "outputs": [],
   "source": [
    "def step(step, start, end):\n",
    "    for num in range(start,end-1):\n",
    "        if sum ( [num for i in range(2,int(num**.5)+1) if num % i ==0] ) == 0 and sum ( [num for i in range(2,int(num**.5)+1+step) if (num+step) % i ==0] ) == 0:\n",
    "             primes = [num, num+step]\n",
    "             break \n",
    "        else: \n",
    "            primes = None\n",
    "    return primes"
   ]
  },
  {
   "cell_type": "code",
   "execution_count": 143,
   "metadata": {
    "collapsed": false
   },
   "outputs": [
    {
     "data": {
      "text/plain": [
       "[5, 7]"
      ]
     },
     "execution_count": 143,
     "metadata": {},
     "output_type": "execute_result"
    }
   ],
   "source": [
    "step(2, 5, 7)"
   ]
  },
  {
   "cell_type": "code",
   "execution_count": 144,
   "metadata": {
    "collapsed": false
   },
   "outputs": [
    {
     "data": {
      "text/plain": [
       "[3, 5]"
      ]
     },
     "execution_count": 144,
     "metadata": {},
     "output_type": "execute_result"
    }
   ],
   "source": [
    "step(2, 2, 50)"
   ]
  },
  {
   "cell_type": "code",
   "execution_count": 79,
   "metadata": {
    "collapsed": false
   },
   "outputs": [
    {
     "data": {
      "text/plain": [
       "[101, 103]"
      ]
     },
     "execution_count": 79,
     "metadata": {},
     "output_type": "execute_result"
    }
   ],
   "source": [
    "step(2,100,110)"
   ]
  },
  {
   "cell_type": "code",
   "execution_count": 84,
   "metadata": {
    "collapsed": false
   },
   "outputs": [
    {
     "data": {
      "text/plain": [
       "[307, 317]"
      ]
     },
     "execution_count": 84,
     "metadata": {},
     "output_type": "execute_result"
    }
   ],
   "source": [
    "step(10,300,400)"
   ]
  },
  {
   "cell_type": "code",
   "execution_count": 132,
   "metadata": {
    "collapsed": false
   },
   "outputs": [
    {
     "data": {
      "text/plain": [
       "[359, 367]"
      ]
     },
     "execution_count": 132,
     "metadata": {},
     "output_type": "execute_result"
    }
   ],
   "source": [
    "step(8,300,400)"
   ]
  },
  {
   "cell_type": "code",
   "execution_count": 129,
   "metadata": {
    "collapsed": false
   },
   "outputs": [],
   "source": [
    "def is_prime(num): \n",
    "        num = abs(num)\n",
    "        if num == 0 or num ==1:\n",
    "            return False\n",
    "        else: \n",
    "            return sum ( [num for i in range(2,int(num**.5)+1) if num % i ==0] ) == 0 \n",
    "    "
   ]
  },
  {
   "cell_type": "code",
   "execution_count": 128,
   "metadata": {
    "collapsed": false
   },
   "outputs": [
    {
     "name": "stdout",
     "output_type": "stream",
     "text": [
      "10000 loops, best of 3: 114 µs per loop\n"
     ]
    }
   ],
   "source": [
    "%timeit is_prime(1000)"
   ]
  },
  {
   "cell_type": "code",
   "execution_count": 130,
   "metadata": {
    "collapsed": false
   },
   "outputs": [
    {
     "name": "stdout",
     "output_type": "stream",
     "text": [
      "100000 loops, best of 3: 5.56 µs per loop\n"
     ]
    }
   ],
   "source": [
    "%timeit is_prime(1000)"
   ]
  },
  {
   "cell_type": "code",
   "execution_count": 133,
   "metadata": {
    "collapsed": false
   },
   "outputs": [
    {
     "name": "stdout",
     "output_type": "stream",
     "text": [
      "100 loops, best of 3: 2.51 ms per loop\n"
     ]
    }
   ],
   "source": [
    "%timeit step(8,300,400)"
   ]
  },
  {
   "cell_type": "code",
   "execution_count": 136,
   "metadata": {
    "collapsed": false
   },
   "outputs": [
    {
     "name": "stdout",
     "output_type": "stream",
     "text": [
      "1000 loops, best of 3: 286 µs per loop\n"
     ]
    }
   ],
   "source": [
    "%timeit step(8,300,400)"
   ]
  },
  {
   "cell_type": "markdown",
   "metadata": {},
   "source": [
    "## Task: First Variation on Caesar Cipher\n",
    "The action of a Caesar cipher is to replace each plaintext letter with a different one a fixed number of places up or down the alphabet.\n",
    "\n",
    "This program performs a variation of the Caesar shift. The shift increases by 1 for each character (on each iteration).\n",
    "\n",
    "If the shift is initially 1, the first character of the message to be encoded will be shifted by 1, the second character will be shifted by 2, etc...\n",
    "Coding: Parameters and return of function \"movingShift\"\n",
    "\n",
    "param s: a string to be coded\n",
    "\n",
    "param shift: an integer giving the initial shift\n",
    "\n",
    "The function \"movingShift\" first codes the entire string and then returns an array of strings containing the coded string in 5 parts (five parts because, to avoid more risks, the coded message will be given to five runners, one piece for each runner).\n",
    "\n",
    "If possible the message will be evenly split between the five runners; if not possible, parts 1, 2, 3, 4 will be longer and part 5 shorter. The fifth part can have length equal to the other ones or shorter. If there are many options of how to split, choose the option where the fifth part has the longest length, provided that the previous conditions are fulfilled. If the last part is the empty string this empty string must be shown in the resulting array.\n",
    "\n",
    "For example, if the coded message has a length of 17 the five parts will have lengths of 4, 4, 4, 4, 1. The parts 1, 2, 3, 4 are evenly split and the last part of length 1 is shorter. If the length is 16 the parts will be of lengths 4, 4, 4, 4, 0. Parts 1, 2, 3, 4 are evenly split and the fifth runner will stay at home since his part is the empty string.\n",
    "\n",
    "You will also implement a \"demovingShift\" function with two parameters\n",
    "Decoding: parameters and return of function \"demovingShift\"\n",
    "\n",
    "1) an array of strings: s (possibly resulting from \"movingShift\", with 5 strings)\n",
    "\n",
    "2) an int shift\n",
    "\n",
    "\"demovingShift\" returns a string.\n",
    "Example:\n",
    "\n",
    "u = \"I should have known that you would have a perfect answer for me!!!\"\n",
    "\n",
    "movingShift(u, 1) returns :\n",
    "\n",
    "v = [\"J vltasl rlhr \", \"zdfog odxr ypw\", \" atasl rlhr p \", \"gwkzzyq zntyhv\", \" lvz wp!!!\"]\n",
    "\n",
    "(quotes added in order to see the strings and the spaces, your program won't write these quotes, see Example Test Cases)\n",
    "\n",
    "and demovingShift(v, 1) returns u.\n",
    "\n",
    "#Ref:\n",
    "\n",
    "Caesar Cipher : http://en.wikipedia.org/wiki/Caesar_cipher\n"
   ]
  },
  {
   "cell_type": "code",
   "execution_count": 147,
   "metadata": {
    "collapsed": false
   },
   "outputs": [
    {
     "data": {
      "text/plain": [
       "'a'"
      ]
     },
     "execution_count": 147,
     "metadata": {},
     "output_type": "execute_result"
    }
   ],
   "source": [
    "#take the simple alphabet and shift by charector place in string with loop \n",
    "Alpha = 'ABCDEFGHIJKLMNOPQRSTUVWXYZ'\n",
    "alpha = Alpha.lower()\n",
    "alpha[0]"
   ]
  },
  {
   "cell_type": "code",
   "execution_count": 179,
   "metadata": {
    "collapsed": true
   },
   "outputs": [],
   "source": [
    "strs = 'abcdefghijklmnopqrstuvwxyz'      #use a string like this, instead of ord() \n",
    "def shifttext(shift, inp):\n",
    "    data = []\n",
    "    for i in inp:                     #iterate over the text not some list\n",
    "        if i and i in strs:                 # if the char is not a space \"\"  \n",
    "            data.append(strs[(strs.index(i) + shift) % 26])    \n",
    "        else:\n",
    "            data.append(i)           #if space the simply append it to data\n",
    "    output = ''.join(data)\n",
    "    return output"
   ]
  },
  {
   "cell_type": "code",
   "execution_count": 180,
   "metadata": {
    "collapsed": false
   },
   "outputs": [
    {
     "data": {
      "text/plain": [
       "'khoor dqg wrgdb'"
      ]
     },
     "execution_count": 180,
     "metadata": {},
     "output_type": "execute_result"
    }
   ],
   "source": [
    "shifttext(3, 'hello and today')"
   ]
  },
  {
   "cell_type": "code",
   "execution_count": 191,
   "metadata": {
    "collapsed": false
   },
   "outputs": [
    {
     "data": {
      "text/plain": [
       "'b'"
      ]
     },
     "execution_count": 191,
     "metadata": {},
     "output_type": "execute_result"
    }
   ],
   "source": [
    "strs[(strs.index('a') + 27) % 26]  #allows over flow "
   ]
  },
  {
   "cell_type": "code",
   "execution_count": null,
   "metadata": {
    "collapsed": true
   },
   "outputs": [],
   "source": []
  }
 ],
 "metadata": {
  "kernelspec": {
   "display_name": "Python 3",
   "language": "python",
   "name": "python3"
  },
  "language_info": {
   "codemirror_mode": {
    "name": "ipython",
    "version": 3
   },
   "file_extension": ".py",
   "mimetype": "text/x-python",
   "name": "python",
   "nbconvert_exporter": "python",
   "pygments_lexer": "ipython3",
   "version": "3.6.0"
  }
 },
 "nbformat": 4,
 "nbformat_minor": 2
}

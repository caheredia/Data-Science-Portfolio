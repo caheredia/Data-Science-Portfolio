{
 "cells": [
  {
   "cell_type": "markdown",
   "metadata": {
    "toc": true
   },
   "source": [
    "<h1>Table of Contents<span class=\"tocSkip\"></span></h1>\n",
    "<div class=\"toc\" style=\"margin-top: 1em;\"><ul class=\"toc-item\"><li><span><a href=\"#Take-a-Ten-Minute-Walk\" data-toc-modified-id=\"Take-a-Ten-Minute-Walk-1\"><span class=\"toc-item-num\">1&nbsp;&nbsp;</span>Take a Ten Minute Walk</a></span></li><li><span><a href=\"#Consecutive-strings\" data-toc-modified-id=\"Consecutive-strings-2\"><span class=\"toc-item-num\">2&nbsp;&nbsp;</span>Consecutive strings</a></span></li><li><span><a href=\"#Count-vowels-in-string\" data-toc-modified-id=\"Count-vowels-in-string-3\"><span class=\"toc-item-num\">3&nbsp;&nbsp;</span>Count vowels in string</a></span></li><li><span><a href=\"#Multiplicative-Persistence\" data-toc-modified-id=\"Multiplicative-Persistence-4\"><span class=\"toc-item-num\">4&nbsp;&nbsp;</span>Multiplicative Persistence</a></span></li><li><span><a href=\"#Remove-smallest-num-in-list\" data-toc-modified-id=\"Remove-smallest-num-in-list-5\"><span class=\"toc-item-num\">5&nbsp;&nbsp;</span>Remove smallest num in list</a></span></li><li><span><a href=\"#Sums-a-series\" data-toc-modified-id=\"Sums-a-series-6\"><span class=\"toc-item-num\">6&nbsp;&nbsp;</span>Sums a series</a></span></li><li><span><a href=\"#Check-if-square-if-root-exists\" data-toc-modified-id=\"Check-if-square-if-root-exists-7\"><span class=\"toc-item-num\">7&nbsp;&nbsp;</span>Check if square if root exists</a></span></li><li><span><a href=\"#Filter-a-list-of-strings-by-length\" data-toc-modified-id=\"Filter-a-list-of-strings-by-length-8\"><span class=\"toc-item-num\">8&nbsp;&nbsp;</span>Filter a list of strings by length</a></span></li><li><span><a href=\"#Filter-into-category\" data-toc-modified-id=\"Filter-into-category-9\"><span class=\"toc-item-num\">9&nbsp;&nbsp;</span>Filter into category</a></span></li><li><span><a href=\"#Idices-for-sum-of-Pairs\" data-toc-modified-id=\"Idices-for-sum-of-Pairs-10\"><span class=\"toc-item-num\">10&nbsp;&nbsp;</span>Idices for sum of Pairs</a></span></li><li><span><a href=\"#Find-missing-array-length\" data-toc-modified-id=\"Find-missing-array-length-11\"><span class=\"toc-item-num\">11&nbsp;&nbsp;</span>Find missing array length</a></span></li><li><span><a href=\"#Reverse-word-order-in-string\" data-toc-modified-id=\"Reverse-word-order-in-string-12\"><span class=\"toc-item-num\">12&nbsp;&nbsp;</span>Reverse word order in string</a></span></li><li><span><a href=\"#find-unique-num-in-array\" data-toc-modified-id=\"find-unique-num-in-array-13\"><span class=\"toc-item-num\">13&nbsp;&nbsp;</span>find unique num in array</a></span></li><li><span><a href=\"#Write-Number-in-Expanded-Form\" data-toc-modified-id=\"Write-Number-in-Expanded-Form-14\"><span class=\"toc-item-num\">14&nbsp;&nbsp;</span>Write Number in Expanded Form</a></span></li><li><span><a href=\"#Narcissistic-Number\" data-toc-modified-id=\"Narcissistic-Number-15\"><span class=\"toc-item-num\">15&nbsp;&nbsp;</span>Narcissistic Number</a></span></li><li><span><a href=\"#is_prime\" data-toc-modified-id=\"is_prime-16\"><span class=\"toc-item-num\">16&nbsp;&nbsp;</span>is_prime</a></span></li><li><span><a href=\"#Build-Tower-(spacing)\" data-toc-modified-id=\"Build-Tower-(spacing)-17\"><span class=\"toc-item-num\">17&nbsp;&nbsp;</span>Build Tower (spacing)</a></span></li><li><span><a href=\"#Uppercase-Wave\" data-toc-modified-id=\"Uppercase-Wave-18\"><span class=\"toc-item-num\">18&nbsp;&nbsp;</span>Uppercase Wave</a></span></li><li><span><a href=\"#Fibonacci-numbers\" data-toc-modified-id=\"Fibonacci-numbers-19\"><span class=\"toc-item-num\">19&nbsp;&nbsp;</span>Fibonacci numbers</a></span></li><li><span><a href=\"#Timing-to-find-missing-element-in-array\" data-toc-modified-id=\"Timing-to-find-missing-element-in-array-20\"><span class=\"toc-item-num\">20&nbsp;&nbsp;</span>Timing to find missing element in array</a></span></li><li><span><a href=\"#Prefill-an-array\" data-toc-modified-id=\"Prefill-an-array-21\"><span class=\"toc-item-num\">21&nbsp;&nbsp;</span>Prefill an array</a></span></li></ul></div>"
   ]
  },
  {
   "cell_type": "markdown",
   "metadata": {},
   "source": [
    "# Take a Ten Minute Walk\n",
    "You live in the city of Cartesia where all roads are laid out in a perfect grid. You arrived ten minutes too early to an appointment, so you decided to take the opportunity to go for a short walk. The city provides its citizens with a Walk Generating App on their phones -- everytime you press the button it sends you an array of one-letter strings representing directions to walk (eg. ['n', 's', 'w', 'e']). You know it takes you one minute to traverse one city block, so create a function that will return true if the walk the app gives you will take you exactly ten minutes (you don't want to be early or late!) and will, of course, return you to your starting point. Return false otherwise.\n"
   ]
  },
  {
   "cell_type": "code",
   "execution_count": 1,
   "metadata": {
    "collapsed": true
   },
   "outputs": [],
   "source": [
    "def isValidWalk(walk):\n",
    "    #determine if walk is valid\n",
    "    #assign numerical values to directions that should sum to zero, otherwise different than starting point \n",
    "    sum_x = 0\n",
    "    sum_y = 0\n",
    "    for item in walk: \n",
    "        if item == 'n':\n",
    "            sum_y += 1\n",
    "        if item == 's':\n",
    "            sum_y += -1\n",
    "        if item == 'w':\n",
    "            sum_x += -1\n",
    "        if item == 'e':\n",
    "            sum_x += 1\n",
    "    if (sum_y == 0) and (sum_x == 0) and ( len(walk) == 10 ):\n",
    "        return True\n",
    "    else:\n",
    "        return False\n",
    "    \n",
    "            \n",
    "pass"
   ]
  },
  {
   "cell_type": "code",
   "execution_count": 2,
   "metadata": {},
   "outputs": [
    {
     "data": {
      "text/plain": [
       "False"
      ]
     },
     "execution_count": 2,
     "metadata": {},
     "output_type": "execute_result"
    }
   ],
   "source": [
    "sample = ['n', 's', 'w', 'e']\n",
    "isValidWalk(sample)"
   ]
  },
  {
   "cell_type": "code",
   "execution_count": 3,
   "metadata": {},
   "outputs": [
    {
     "data": {
      "text/plain": [
       "True"
      ]
     },
     "execution_count": 3,
     "metadata": {},
     "output_type": "execute_result"
    }
   ],
   "source": [
    "isValidWalk(['n', 's', 'w', 'e','n', 's', 'w', 'e', 'n','s'])"
   ]
  },
  {
   "cell_type": "markdown",
   "metadata": {},
   "source": [
    "# Consecutive strings\n",
    "\n",
    "You are given an array strarr of strings and an integer k. Your task is to return the first longest string consisting of k consecutive strings taken in the array.\n",
    "\n",
    "#Example: longest_consec([\"zone\", \"abigail\", \"theta\", \"form\", \"libe\", \"zas\", \"theta\", \"abigail\"], 2) --> \"abigailtheta\"\n",
    "\n",
    "n being the length of the string array, if n = 0 or k > n or k <= 0 return \"\""
   ]
  },
  {
   "cell_type": "code",
   "execution_count": null,
   "metadata": {
    "collapsed": true
   },
   "outputs": [],
   "source": [
    "def longest_consec(strarr, k):\n",
    "    # your code\n",
    "    if ( len(strarr) == 0 ) or ( k >  len(strarr) ) or ( k <= 0):\n",
    "        return \"\"\n",
    "    else: \n",
    "        long = max(strarr, key=len) #find longest string\n",
    "        strarr.index(long)  #index of longest string \n",
    "        return  long + strarr[  strarr.index(long) + 1 ] #add strings \n",
    "    pass\n"
   ]
  },
  {
   "cell_type": "code",
   "execution_count": null,
   "metadata": {
    "collapsed": true
   },
   "outputs": [],
   "source": [
    "sample = [\"zone\", \"theta\", \"form\", \"libe\", \"zas\", \"theta\", \"abigail\"]\n",
    "longest_consec(sample, 2)"
   ]
  },
  {
   "cell_type": "markdown",
   "metadata": {},
   "source": [
    "# Count vowels in string\n",
    "Return the number (count) of vowels in the given string.\n",
    "\n",
    "We will consider a, e, i, o, and u as vowels for this Kata.\n"
   ]
  },
  {
   "cell_type": "code",
   "execution_count": null,
   "metadata": {
    "collapsed": true
   },
   "outputs": [],
   "source": [
    "def getCount(inputStr):\n",
    "    num_vowels = 0\n",
    "    for item in inputStr: \n",
    "        if item in 'aeiou':\n",
    "            num_vowels += 1\n",
    "    # your code here\n",
    "    \n",
    "    return num_vowels"
   ]
  },
  {
   "cell_type": "code",
   "execution_count": null,
   "metadata": {
    "collapsed": true
   },
   "outputs": [],
   "source": [
    "getCount(\"abracadabra\")"
   ]
  },
  {
   "cell_type": "markdown",
   "metadata": {},
   "source": [
    "# Multiplicative Persistence\n",
    "Write a function, persistence, that takes in a positive parameter num and returns its multiplicative persistence, which is the number of times you must multiply the digits in num until you reach a single digit.\n",
    "\n",
    "For example: persistence(39) => 3  # Because 3*9 = 27, 2*7 = 14, 1*4=4\n",
    "                       # and 4 has only one digi"
   ]
  },
  {
   "cell_type": "code",
   "execution_count": 3,
   "metadata": {
    "collapsed": true
   },
   "outputs": [],
   "source": [
    "def persistence(n):\n",
    "    num = str(n)\n",
    "    if len(num) == 1:\n",
    "        return 0\n",
    "    else: \n",
    "        pers = 0\n",
    "        while len(num) > 1:\n",
    "            result = 1\n",
    "            for x in num:\n",
    "                result = result*int(x)\n",
    "            pers += 1\n",
    "            num = str(result)\n",
    "        \n",
    "        else: \n",
    "            return pers\n",
    "    pass\n"
   ]
  },
  {
   "cell_type": "code",
   "execution_count": 4,
   "metadata": {},
   "outputs": [
    {
     "data": {
      "text/plain": [
       "3"
      ]
     },
     "execution_count": 4,
     "metadata": {},
     "output_type": "execute_result"
    }
   ],
   "source": [
    "persistence(39)"
   ]
  },
  {
   "cell_type": "code",
   "execution_count": 5,
   "metadata": {},
   "outputs": [
    {
     "data": {
      "text/plain": [
       "0"
      ]
     },
     "execution_count": 5,
     "metadata": {},
     "output_type": "execute_result"
    }
   ],
   "source": [
    "persistence(0)"
   ]
  },
  {
   "cell_type": "code",
   "execution_count": 6,
   "metadata": {},
   "outputs": [
    {
     "data": {
      "text/plain": [
       "2"
      ]
     },
     "execution_count": 6,
     "metadata": {},
     "output_type": "execute_result"
    }
   ],
   "source": [
    "persistence(25)"
   ]
  },
  {
   "cell_type": "code",
   "execution_count": 7,
   "metadata": {},
   "outputs": [
    {
     "data": {
      "text/plain": [
       "4"
      ]
     },
     "execution_count": 7,
     "metadata": {},
     "output_type": "execute_result"
    }
   ],
   "source": [
    "persistence(999)"
   ]
  },
  {
   "cell_type": "markdown",
   "metadata": {
    "collapsed": true
   },
   "source": [
    "# Remove smallest num in list\n",
    "\n",
    "The museum of incredible dull things wants to get rid of some exhibitions. Miriam, the interior architect, comes up with a plan to remove the most boring exhibitions. She gives them a rating, and then removes the one with the lowest rating.\n",
    "\n",
    "However, just as she finished rating all exhibitions, she's off to an important fair, so she asks you to write a program that tells her the ratings of the items after one removed the lowest one. Fair enough.\n",
    "Task\n",
    "\n",
    "Given an array of integers, remove the smallest value. Do not mutate the original array/list. If there are multiple elements with the same value, remove the one with a lower index. If you get an empty array/list, return an empty array/list.\n",
    "\n",
    "Don't change the order of the elements that are left.\n",
    "\n",
    "remove_smallest([2,2,1,2,1]) = [2,2,2,1]"
   ]
  },
  {
   "cell_type": "code",
   "execution_count": 8,
   "metadata": {
    "collapsed": true
   },
   "outputs": [],
   "source": [
    "def remove_smallest(numbers):\n",
    "    if numbers == []: \n",
    "        return []\n",
    "    else: \n",
    "        #remove min value\n",
    "        numbers.remove(min(numbers)) \n",
    "        return numbers  \n"
   ]
  },
  {
   "cell_type": "code",
   "execution_count": 9,
   "metadata": {},
   "outputs": [
    {
     "data": {
      "text/plain": [
       "[2, 2, 2, 1]"
      ]
     },
     "execution_count": 9,
     "metadata": {},
     "output_type": "execute_result"
    }
   ],
   "source": [
    "remove_smallest([2,2,1,2,1])"
   ]
  },
  {
   "cell_type": "markdown",
   "metadata": {},
   "source": [
    "# Sums a series \n",
    "\n",
    "Your task is to write a function which returns the sum of following series upto nth term(parameter).\n",
    "\n",
    "Series: 1 + 1/4 + 1/7 + 1/10 + 1/13 + 1/16 +...\n",
    "\n",
    "Rules:\n",
    "\n",
    "    You need to round the answer to 2 decimal places and return it as String.\n",
    "\n",
    "    If the given value is 0 then it should return 0.00\n",
    "\n",
    "    You will only be given Natural Numbers as arguments.\n",
    "\n",
    "Examples:\n",
    "\n",
    "SeriesSum(1) => 1 = \"1.00\"\n",
    "SeriesSum(2) => 1 + 1/4 = \"1.25\"\n",
    "SeriesSum(5) => 1 + 1/4 + 1/7 + 1/10 + 1/13 = \"1.57\"\n"
   ]
  },
  {
   "cell_type": "code",
   "execution_count": 10,
   "metadata": {
    "collapsed": true
   },
   "outputs": [],
   "source": [
    "def series_sum(n):\n",
    "        #generate series \n",
    "        num = 0\n",
    "        for i in range(n):\n",
    "            num += 1/( i*3 + 1 )\n",
    "        #round to two decimal places return string \n",
    "        return \"%.2f\" % num"
   ]
  },
  {
   "cell_type": "code",
   "execution_count": 11,
   "metadata": {},
   "outputs": [
    {
     "data": {
      "text/plain": [
       "'1.57'"
      ]
     },
     "execution_count": 11,
     "metadata": {},
     "output_type": "execute_result"
    }
   ],
   "source": [
    "series_sum(5)"
   ]
  },
  {
   "cell_type": "code",
   "execution_count": 14,
   "metadata": {
    "collapsed": true
   },
   "outputs": [],
   "source": [
    "def series_sum(n):\n",
    "    return '{:.2f}'.format(sum(1.0/(3 * i + 1) for i in range(n)))"
   ]
  },
  {
   "cell_type": "code",
   "execution_count": 15,
   "metadata": {},
   "outputs": [
    {
     "data": {
      "text/plain": [
       "'1.57'"
      ]
     },
     "execution_count": 15,
     "metadata": {},
     "output_type": "execute_result"
    }
   ],
   "source": [
    "series_sum(5)"
   ]
  },
  {
   "cell_type": "markdown",
   "metadata": {},
   "source": [
    "# Check if square if root exists\n",
    "\n",
    "You like building blocks. You especially like building blocks that are squares. And what you even like more, is to arrange them into a square of square building blocks!\n",
    "\n",
    "However, sometimes, you can't arrange them into a square. Instead, you end up with an ordinary rectangle! Those blasted things! If you just had a way to know, whether you're currently working in vain… Wait! That's it! You just have to check if your number of building blocks is a perfect square.\n",
    "Task\n",
    "\n",
    "Given an integral number, determine if it's a square number:\n",
    "\n",
    "    In mathematics, a square number or perfect square is an integer that is the square of an integer; in other words, it is the product of some integer with itself.\n",
    "\n",
    "The tests will always use some integral number, so don't worry about that in dynamic typed languages.\n",
    "Examples\n",
    "\n",
    "is_square (-1) # => false\n",
    "is_square   3 # => false\n",
    "is_square   4 # => true\n",
    "is_square  25 # => true\n",
    "is_square  26 # => false\n"
   ]
  },
  {
   "cell_type": "code",
   "execution_count": 16,
   "metadata": {
    "collapsed": true
   },
   "outputs": [],
   "source": [
    "def is_square(n):\n",
    "    if n < 0:\n",
    "        return False\n",
    "    else: \n",
    "        #check for square root with no remainder \n",
    "        return n % n**(.5) == 0"
   ]
  },
  {
   "cell_type": "code",
   "execution_count": 17,
   "metadata": {
    "collapsed": true
   },
   "outputs": [],
   "source": [
    "def is_square(n):\n",
    "    return n > 0 and ( n**(.5) ).is_integer()"
   ]
  },
  {
   "cell_type": "code",
   "execution_count": 18,
   "metadata": {},
   "outputs": [
    {
     "data": {
      "text/plain": [
       "True"
      ]
     },
     "execution_count": 18,
     "metadata": {},
     "output_type": "execute_result"
    }
   ],
   "source": [
    "is_square(9)"
   ]
  },
  {
   "cell_type": "markdown",
   "metadata": {},
   "source": [
    "# Filter a list of strings by length\n",
    "Make a program that filters a list of strings and returns a list with only your friends name in it.\n",
    "\n",
    "If a name has exactly 4 letters in it, you can be sure that it has to be a friend of yours!\n",
    "\n",
    "Ex: Input = [\"Ryan\", \"Kieran\", \"Jason\", \"Yous\"], Output = [\"Ryan\", \"Yous\"]\n"
   ]
  },
  {
   "cell_type": "code",
   "execution_count": 20,
   "metadata": {
    "collapsed": true
   },
   "outputs": [],
   "source": [
    "def friend(x):\n",
    "    names = []\n",
    "    for item in x: \n",
    "        if len(item) == 4:\n",
    "            names.append(item)\n",
    "    return names"
   ]
  },
  {
   "cell_type": "code",
   "execution_count": 21,
   "metadata": {},
   "outputs": [
    {
     "data": {
      "text/plain": [
       "['Ryan', 'Yous']"
      ]
     },
     "execution_count": 21,
     "metadata": {},
     "output_type": "execute_result"
    }
   ],
   "source": [
    "friend(  [\"Ryan\", \"Kieran\", \"Jason\", \"Yous\"] )"
   ]
  },
  {
   "cell_type": "code",
   "execution_count": 22,
   "metadata": {
    "collapsed": true
   },
   "outputs": [],
   "source": [
    "def friend(x):\n",
    "    return [item for item in x if len(item) == 4]"
   ]
  },
  {
   "cell_type": "code",
   "execution_count": 23,
   "metadata": {},
   "outputs": [
    {
     "data": {
      "text/plain": [
       "['Ryan', 'Yous']"
      ]
     },
     "execution_count": 23,
     "metadata": {},
     "output_type": "execute_result"
    }
   ],
   "source": [
    "friend(  [\"Ryan\", \"Kieran\", \"Jason\", \"Yous\"] )"
   ]
  },
  {
   "cell_type": "markdown",
   "metadata": {},
   "source": [
    "# Filter into category\n",
    "The Western Suburbs Croquet Club has two categories of membership, Senior and Open. They would like your help with an application form that will tell prospective members which category they will be placed.\n",
    "\n",
    "To be a senior, a member must be at least 55 years old and have a handicap greater than 7. In this croquet club, handicaps range from -2 to +26; the better the player the lower the handicap.\n",
    "Input\n",
    "\n",
    "Input will consist of a list of lists containing two items each. Each list contains information for a single potential member. Information consists of an integer for the person's age and an integer for the person's handicap.\n",
    "Example Input\n",
    "\n",
    "[[18, 20],[45, 2],[61, 12],[37, 6],[21, 21],[78, 9]]\n",
    "\n",
    "Output\n",
    "\n",
    "Output will consist of a list of string values (in Haskell: Open or Senior) stating whether the respective member is to be placed in the senior or open category.\n",
    "Example Output\n",
    "\n",
    "[\"Open\", \"Open\", \"Senior\", \"Open\", \"Open\", \"Senior\"]\n"
   ]
  },
  {
   "cell_type": "code",
   "execution_count": 24,
   "metadata": {
    "collapsed": true
   },
   "outputs": [],
   "source": [
    "def openOrSenior(data):\n",
    "    output = []\n",
    "    for item in data: \n",
    "        if (item[0] >= 55) and (item[1] > 7): \n",
    "            output.append('Senior')\n",
    "        else: \n",
    "            output.append('Open')\n",
    "    return output\n",
    "    "
   ]
  },
  {
   "cell_type": "code",
   "execution_count": 25,
   "metadata": {
    "collapsed": true
   },
   "outputs": [],
   "source": [
    "data = [[18, 20],[45, 2],[61, 12],[37, 6],[21, 21],[78, 9]]"
   ]
  },
  {
   "cell_type": "code",
   "execution_count": 26,
   "metadata": {},
   "outputs": [
    {
     "data": {
      "text/plain": [
       "20"
      ]
     },
     "execution_count": 26,
     "metadata": {},
     "output_type": "execute_result"
    }
   ],
   "source": [
    "item1 = data[0]\n",
    "item1[1]"
   ]
  },
  {
   "cell_type": "code",
   "execution_count": 27,
   "metadata": {},
   "outputs": [
    {
     "data": {
      "text/plain": [
       "['Open', 'Open', 'Senior', 'Open', 'Open', 'Senior']"
      ]
     },
     "execution_count": 27,
     "metadata": {},
     "output_type": "execute_result"
    }
   ],
   "source": [
    "openOrSenior( data  )"
   ]
  },
  {
   "cell_type": "code",
   "execution_count": 28,
   "metadata": {
    "collapsed": true
   },
   "outputs": [],
   "source": [
    "def openOrSenior(data):\n",
    "      return [\"Senior\" if age >= 55 and handicap >= 8 else \"Open\" for (age, handicap) in data]"
   ]
  },
  {
   "cell_type": "code",
   "execution_count": 29,
   "metadata": {},
   "outputs": [
    {
     "data": {
      "text/plain": [
       "['Open', 'Open', 'Senior', 'Open', 'Open', 'Senior']"
      ]
     },
     "execution_count": 29,
     "metadata": {},
     "output_type": "execute_result"
    }
   ],
   "source": [
    "openOrSenior( data  )"
   ]
  },
  {
   "cell_type": "markdown",
   "metadata": {},
   "source": [
    "# Idices for sum of Pairs\n",
    "\n",
    "Given a list of integers and a single sum value, return the first two values (parse from the left please) in order of appearance that add up to form the sum.\n",
    "\n",
    "sum_pairs([11, 3, 7, 5],         10)\n",
    "              ^--^      3 + 7 = 10\n",
    "== [3, 7]\n",
    "\n",
    "sum_pairs([4, 3, 2, 3, 4],         6)\n",
    "\n",
    "          ^-----^         4 + 2 = 6, indices: 0, 2 *\n",
    "             ^-----^      3 + 3 = 6, indices: 1, 3\n",
    "                ^-----^   2 + 4 = 6, indices: 2, 4\n",
    "  * entire pair is earlier, and therefore is the correct answer\n",
    "== [4, 2]\n",
    "\n",
    "sum_pairs([0, 0, -2, 3], 2)\n",
    "  there are no pairs of values that can be added to produce 2.\n",
    "== None/nil/undefined (Based on the language)\n",
    "\n",
    "sum_pairs([10, 5, 2, 3, 7, 5],         10)\n",
    "\n",
    "                         ^-----------^   5 + 5 = 10, indices: 1, 5\n",
    "                    ^--^      3 + 7 = 10, indices: 3, 4 *\n",
    "  * entire pair is earlier, and therefore is the correct answer\n",
    "== [3, 7]\n",
    "\n",
    "Negative numbers and duplicate numbers can and will appear.\n",
    "\n",
    "NOTE: There will also be lists tested of lengths upwards of 10,000,000 elements. Be sure your code doesn't time out."
   ]
  },
  {
   "cell_type": "code",
   "execution_count": 33,
   "metadata": {
    "collapsed": true
   },
   "outputs": [],
   "source": [
    "def sum_pairs(ints, s):\n",
    "    out = []\n",
    "    for i in range(len(ints)):\n",
    "        for j in range(len(ints)):\n",
    "            if  ( (ints[i] + ints[j]) == s) and (i != j ) and ([ints[i], ints[j]] not in out ):\n",
    "                out.append( [ ints[i] , ints[j]] )\n",
    "                return out"
   ]
  },
  {
   "cell_type": "code",
   "execution_count": 34,
   "metadata": {},
   "outputs": [
    {
     "data": {
      "text/plain": [
       "[[1, 4]]"
      ]
     },
     "execution_count": 34,
     "metadata": {},
     "output_type": "execute_result"
    }
   ],
   "source": [
    "sum_pairs([1,4,2,1,3,4], 5)"
   ]
  },
  {
   "cell_type": "code",
   "execution_count": 35,
   "metadata": {},
   "outputs": [
    {
     "data": {
      "text/plain": [
       "[[4, 2]]"
      ]
     },
     "execution_count": 35,
     "metadata": {},
     "output_type": "execute_result"
    }
   ],
   "source": [
    "sum_pairs([4, 3, 2, 3, 4], 6)"
   ]
  },
  {
   "cell_type": "code",
   "execution_count": 36,
   "metadata": {},
   "outputs": [
    {
     "data": {
      "text/plain": [
       "[[5, 5]]"
      ]
     },
     "execution_count": 36,
     "metadata": {},
     "output_type": "execute_result"
    }
   ],
   "source": [
    "sum_pairs([10, 5, 2, 3, 7, 5], 10)"
   ]
  },
  {
   "cell_type": "markdown",
   "metadata": {},
   "source": [
    "# Find missing array length \n",
    "You get an array of arrays.\n",
    "If you sort the arrays by their length, you will see, that their length-values are consecutive.\n",
    "But one array is missing!\n",
    "\n",
    "\n",
    "You have to write a method, that return the length of the missing array.\n",
    "\n",
    "Example:\n",
    "[[1, 2], [4, 5, 1, 1], [1], [5, 6, 7, 8, 9]] --> 3\n",
    "\n",
    "\n",
    "If the array of arrays is null/nil or empty, the method should return 0.\n",
    "\n",
    "When an array in the array is null or empty, the method should return 0 too!\n",
    "There will always be a missing element and its length will be always between the given arrays.\n",
    "\n",
    "Have fun coding it and please don't forget to vote and rank this kata! :-)\n",
    "\n",
    "I have created other katas. Have a look if you like coding and challenges.\n",
    "\n",
    "    "
   ]
  },
  {
   "cell_type": "code",
   "execution_count": 37,
   "metadata": {
    "collapsed": true
   },
   "outputs": [],
   "source": [
    "def get_length_of_missing_array(sample = None):\n",
    "    if sample is None or  not sample or sample is [] or  [] in sample or [0] in sample or '' in sample or None in sample:\n",
    "        return 0\n",
    "    else: \n",
    "            range_max = max( (len(x) for x in sample) , default = 0 ) #picks out the biggest array number \n",
    "\n",
    "            n_list = []   #generates list for  length of sample \n",
    "            for j in range(range_max): \n",
    "                n_list.append(j+1) \n",
    "            n_list.reverse() #used to find the largest missing number first \n",
    "\n",
    "            s_list = []   #generates list of lengths from sample\n",
    "            for item in sample: \n",
    "                s_list.append( len(item) )\n",
    "\n",
    "            for i in n_list:\n",
    "                if i not in s_list:\n",
    "                        return i\n",
    "   \n",
    "    pass"
   ]
  },
  {
   "cell_type": "code",
   "execution_count": 38,
   "metadata": {},
   "outputs": [
    {
     "data": {
      "text/plain": [
       "2"
      ]
     },
     "execution_count": 38,
     "metadata": {},
     "output_type": "execute_result"
    }
   ],
   "source": [
    "get_length_of_missing_array([[None], [None, None, None]])"
   ]
  },
  {
   "cell_type": "code",
   "execution_count": 39,
   "metadata": {},
   "outputs": [
    {
     "data": {
      "text/plain": [
       "0"
      ]
     },
     "execution_count": 39,
     "metadata": {},
     "output_type": "execute_result"
    }
   ],
   "source": [
    "get_length_of_missing_array( ['', [4, 5, 1, 1], [1,2,3,4,5,6], [5, 6, 7, 8, 9]])"
   ]
  },
  {
   "cell_type": "code",
   "execution_count": 40,
   "metadata": {},
   "outputs": [
    {
     "data": {
      "text/plain": [
       "0"
      ]
     },
     "execution_count": 40,
     "metadata": {},
     "output_type": "execute_result"
    }
   ],
   "source": [
    "get_length_of_missing_array()"
   ]
  },
  {
   "cell_type": "markdown",
   "metadata": {},
   "source": [
    "# Reverse word order in string \n",
    "Complete the solution so that it reverses all of the words within the string passed in.\n",
    "\n",
    "Example:\n",
    "reverseWords(\"The greatest victory is that which requires no battle\")\n",
    "\n",
    "should return \"battle no requires which that is victory greatest The\""
   ]
  },
  {
   "cell_type": "code",
   "execution_count": 42,
   "metadata": {
    "collapsed": true
   },
   "outputs": [],
   "source": [
    "def reverseWords(str):\n",
    "    return ' '.join( [x for x in str.split()][::-1] )"
   ]
  },
  {
   "cell_type": "code",
   "execution_count": 43,
   "metadata": {},
   "outputs": [
    {
     "data": {
      "text/plain": [
       "'victory greatest The'"
      ]
     },
     "execution_count": 43,
     "metadata": {},
     "output_type": "execute_result"
    }
   ],
   "source": [
    "reverseWords('The greatest victory')"
   ]
  },
  {
   "cell_type": "markdown",
   "metadata": {},
   "source": [
    "# find unique num in array\n",
    "There is an array with some numbers. All numbers are equal except for one. Try to find it!\n",
    "\n",
    "findUniq([ 1, 1, 1, 2, 1, 1 ]) === 2\n",
    "findUniq([ 0, 0, 0.55, 0, 0 ]) === 0.55\n"
   ]
  },
  {
   "cell_type": "code",
   "execution_count": 44,
   "metadata": {
    "collapsed": true
   },
   "outputs": [],
   "source": [
    "from collections import Counter\n",
    "def findUniq(num):\n",
    "    return Counter(num).most_common()[:-2:-1][0][0] "
   ]
  },
  {
   "cell_type": "code",
   "execution_count": 45,
   "metadata": {},
   "outputs": [
    {
     "data": {
      "text/plain": [
       "2"
      ]
     },
     "execution_count": 45,
     "metadata": {},
     "output_type": "execute_result"
    }
   ],
   "source": [
    "findUniq([ 1, 1, 1, 2, 1, 1 ])"
   ]
  },
  {
   "cell_type": "markdown",
   "metadata": {},
   "source": [
    "# Write Number in Expanded Form\n",
    "\n",
    "You will be given a number and you will need to return it as a string in Expanded Form. For example:\n",
    "\n",
    "expanded_form(12) # Should return '10 + 2'\n",
    "expanded_form(42) # Should return '40 + 2'\n",
    "expanded_form(70304) # Should return '70000 + 300 + 4'\n",
    "\n",
    "NOTE: All numbers will be whole numbers greater than 0."
   ]
  },
  {
   "cell_type": "code",
   "execution_count": 46,
   "metadata": {
    "collapsed": true
   },
   "outputs": [],
   "source": [
    "def expanded_form(num):\n",
    "    n_str = str(num)\n",
    "    out = ''\n",
    "    for i in range( len(n_str) -1 , -1, -1 ):              #runs loop backwards \n",
    "        if num // 10**i != 0:                                     #finds floor division of iterable magnitue, skips any zero values \n",
    "            out += str( (num // 10**i) *10**i ) + ' + '  #builds string with correct magnitude \n",
    "            num += -(num // 10**i) *10**i                #subtracts floor division times magnitude \n",
    "    return (out[:-3]) \n"
   ]
  },
  {
   "cell_type": "code",
   "execution_count": 49,
   "metadata": {},
   "outputs": [
    {
     "data": {
      "text/plain": [
       "'70000 + 300 + 4'"
      ]
     },
     "execution_count": 49,
     "metadata": {},
     "output_type": "execute_result"
    }
   ],
   "source": [
    "expanded_form(70304)"
   ]
  },
  {
   "cell_type": "markdown",
   "metadata": {},
   "source": [
    "# Narcissistic Number\n",
    "A Narcissistic Number is a number which is the sum of its own digits, each raised to the power of the number of digits.\n",
    "\n",
    "For example, take 153 (3 digits):\n",
    "\n",
    "    1^3 + 5^3 + 3^3 = 1 + 125 + 27 = 153\n",
    "\n",
    "and 1634 (4 digits):\n",
    "\n",
    "    1^4 + 6^4 + 3^4 + 4^4 = 1 + 1296 + 81 + 256 = 1634\n",
    "\n",
    "The Challenge:\n",
    "\n",
    "Your code must return true or false depending upon whether the given number is a Narcissistic number.\n",
    "\n",
    "Error checking for text strings or other invalid inputs is not required, only valid integers will be passed into the function.\n"
   ]
  },
  {
   "cell_type": "code",
   "execution_count": 51,
   "metadata": {
    "collapsed": true
   },
   "outputs": [],
   "source": [
    "def narcissistic(num):\n",
    "    # need to break out number into list\n",
    "    n_str = str(num)\n",
    "    # check sum with original number\n",
    "    return num == sum([int(item)**len(n_str) for item in n_str])"
   ]
  },
  {
   "cell_type": "code",
   "execution_count": 52,
   "metadata": {},
   "outputs": [
    {
     "data": {
      "text/plain": [
       "True"
      ]
     },
     "execution_count": 52,
     "metadata": {},
     "output_type": "execute_result"
    }
   ],
   "source": [
    "narcissistic( 153)"
   ]
  },
  {
   "cell_type": "markdown",
   "metadata": {},
   "source": [
    "# is_prime\n",
    "Define a function isPrime/is_prime() that takes one integer argument and returns true/True or false/False depending on if the integer is a prime.\n",
    "\n",
    "Per Wikipedia, a prime number (or a prime) is a natural number greater than 1 that has no positive divisors other than 1 and itself.\n",
    "Example\n",
    "\n",
    "isPrime(5)\n",
    "=> true\n",
    "\n",
    "Assumptions\n",
    "\n",
    "    You can assume you will be given an integer input.\n",
    "    You can not assume that the integer will be only positive. You may be given negative numbers as well (or 0).\n"
   ]
  },
  {
   "cell_type": "code",
   "execution_count": 53,
   "metadata": {
    "collapsed": true
   },
   "outputs": [],
   "source": [
    "def is_prime(num):\n",
    "    num = abs(num)\n",
    "    if num == 0 or num == 1:\n",
    "        return False\n",
    "    else:\n",
    "        # divide by range of number determined by number size, if remainder zero then not prime\n",
    "        return sum([num for i in range(2, num) if num % i == 0]) == 0"
   ]
  },
  {
   "cell_type": "code",
   "execution_count": 54,
   "metadata": {},
   "outputs": [
    {
     "data": {
      "text/plain": [
       "True"
      ]
     },
     "execution_count": 54,
     "metadata": {},
     "output_type": "execute_result"
    }
   ],
   "source": [
    "is_prime(31)"
   ]
  },
  {
   "cell_type": "markdown",
   "metadata": {},
   "source": [
    "# Build Tower (spacing)\n",
    "Build Tower by the following given argument:\n",
    "number of floors (integer and always greater than 0).\n",
    "\n",
    "Tower block is represented as *\n",
    "\n",
    "    Python: return a list;\n",
    "\n",
    "Have fun!\n",
    "\n",
    "for example, a tower of 3 floors looks like below\n",
    "\n",
    "[\n",
    "  '  *  ', \n",
    "  ' *** ', \n",
    "  '*****'\n",
    "]\n"
   ]
  },
  {
   "cell_type": "code",
   "execution_count": 55,
   "metadata": {
    "collapsed": true
   },
   "outputs": [],
   "source": [
    "#Build list that outputs asterisk times the iterable in the range of input number\n",
    "#each floor is 1, 3, 5 i.e. odd numbers "
   ]
  },
  {
   "cell_type": "code",
   "execution_count": 56,
   "metadata": {
    "collapsed": true
   },
   "outputs": [],
   "source": [
    "def tower_builder(n_floors):\n",
    "    floors = ['*'*(2*i+1) for i in range(n_floors)]  # generates floors \n",
    "    for i in range(n_floors -1):                              #adds padding to each floor, save for the last \n",
    "        floors[i] = \" \"*(n_floors - i-1) + floors[i] + \" \"*(n_floors - i-1)\n",
    "    return floors"
   ]
  },
  {
   "cell_type": "code",
   "execution_count": 57,
   "metadata": {},
   "outputs": [
    {
     "data": {
      "text/plain": [
       "['  *  ', ' *** ', '*****']"
      ]
     },
     "execution_count": 57,
     "metadata": {},
     "output_type": "execute_result"
    }
   ],
   "source": [
    "tower_builder(3)"
   ]
  },
  {
   "cell_type": "markdown",
   "metadata": {},
   "source": [
    "\n",
    "# Uppercase Wave \n",
    "- Task\n",
    "  \tIn this simple Kata your task is to create a function that turns a string into a Mexican Wave. You will be passed a string and you must return that string in an array where an uppercase letter is a person standing up.\n",
    "- Rules\n",
    "    1.  The input string will always be lower case but maybe empty.\n",
    "    2.  If the character in the string is whitespace then pass over it as if it was an empty seat.\n",
    "- Example\n",
    "wave(\"hello\") => [\"Hello\", \"hEllo\", \"heLlo\", \"helLo\", \"hellO\"]\n"
   ]
  },
  {
   "cell_type": "code",
   "execution_count": 58,
   "metadata": {},
   "outputs": [
    {
     "data": {
      "text/plain": [
       "['Hello', 'hEllo', 'heLlo', 'helLo', 'hellO']"
      ]
     },
     "execution_count": 58,
     "metadata": {},
     "output_type": "execute_result"
    }
   ],
   "source": [
    "def wave(str):\n",
    "    # .capitalize() only changes the nth letter returns everything else lower \n",
    "    return [str[:n].lower() + str[n:].capitalize() for n in range(len(str)) if str[n]!=' ']\n",
    "wave('hello')"
   ]
  },
  {
   "cell_type": "markdown",
   "metadata": {
    "collapsed": true
   },
   "source": [
    "# Fibonacci numbers \n",
    "- Task\n",
    "    Write a functional way to generate fibonnaci sequence. \n",
    "- Rules\n",
    "    1. The input will be an int\n",
    "    2. The output will be a list of fibonacci numbers \n",
    "- Example\n",
    "fib(5) => [0,1,1,2,3]"
   ]
  },
  {
   "cell_type": "code",
   "execution_count": 59,
   "metadata": {
    "collapsed": true
   },
   "outputs": [],
   "source": [
    "def fib(n):\n",
    "    # start with first two fib numbers\n",
    "    fib_list = [0, 1]\n",
    "    i = 0\n",
    "    # Create loop to iterate through n numbers, assuming first two given\n",
    "    while i < n - 2:\n",
    "        i += 1\n",
    "        # append sum of last two numbers in list to list\n",
    "        fib_list.append(fib_list[-2] + fib_list[-1])\n",
    "    return fib_list"
   ]
  },
  {
   "cell_type": "code",
   "execution_count": 60,
   "metadata": {
    "scrolled": true
   },
   "outputs": [
    {
     "name": "stdout",
     "output_type": "stream",
     "text": [
      "CPU times: user 6 µs, sys: 0 ns, total: 6 µs\n",
      "Wall time: 21 µs\n"
     ]
    },
    {
     "data": {
      "text/plain": [
       "[0, 1, 1, 2, 3]"
      ]
     },
     "execution_count": 60,
     "metadata": {},
     "output_type": "execute_result"
    }
   ],
   "source": [
    "%time fib(5)"
   ]
  },
  {
   "cell_type": "markdown",
   "metadata": {
    "collapsed": true
   },
   "source": [
    "# Timing to find missing element in array\n",
    "\n",
    "The following piece of code will assess to methods find a missing element in an erray and will return the time it takes to find the missing element. \n",
    "\n",
    "1. Using a loop to sort through a list. \n",
    "2. Convert the arrays to sets and find difference in elements."
   ]
  },
  {
   "cell_type": "code",
   "execution_count": 61,
   "metadata": {},
   "outputs": [
    {
     "data": {
      "text/plain": [
       "True"
      ]
     },
     "execution_count": 61,
     "metadata": {},
     "output_type": "execute_result"
    }
   ],
   "source": [
    "import numpy as np\n",
    "# generate an random array with numbers 0-10,000 and make a copy\n",
    "a = list(np.random.randint(10000, size = 1000));\n",
    "b = list(np.copy(a));\n",
    "# Equality test \n",
    "a == b"
   ]
  },
  {
   "cell_type": "code",
   "execution_count": 62,
   "metadata": {},
   "outputs": [
    {
     "data": {
      "text/plain": [
       "False"
      ]
     },
     "execution_count": 62,
     "metadata": {},
     "output_type": "execute_result"
    }
   ],
   "source": [
    "# Remove rand element from copy, rand int generated up to 5 serving as index of element to remove \n",
    "b.remove(b[np.random.randint(5)])\n",
    "#  Equality test\n",
    "a == b"
   ]
  },
  {
   "cell_type": "code",
   "execution_count": 63,
   "metadata": {},
   "outputs": [
    {
     "name": "stdout",
     "output_type": "stream",
     "text": [
      "CPU times: user 17.7 ms, sys: 1.51 ms, total: 19.2 ms\n",
      "Wall time: 18.4 ms\n"
     ]
    },
    {
     "data": {
      "text/plain": [
       "[642]"
      ]
     },
     "execution_count": 63,
     "metadata": {},
     "output_type": "execute_result"
    }
   ],
   "source": [
    "# Find missing element \n",
    "%time [x for x in a if x not in b]"
   ]
  },
  {
   "cell_type": "code",
   "execution_count": 65,
   "metadata": {},
   "outputs": [
    {
     "name": "stdout",
     "output_type": "stream",
     "text": [
      "CPU times: user 244 µs, sys: 178 µs, total: 422 µs\n",
      "Wall time: 427 µs\n"
     ]
    },
    {
     "data": {
      "text/plain": [
       "{642}"
      ]
     },
     "execution_count": 65,
     "metadata": {},
     "output_type": "execute_result"
    }
   ],
   "source": [
    "# Calculate symmetric difference in sets\n",
    "%time set(a) ^ set(b)"
   ]
  },
  {
   "cell_type": "markdown",
   "metadata": {},
   "source": [
    "# Prefill an array \n",
    "Create the function prefill that returns an array of n elements that all have the same value v. See if you can do this without using a loop.\n",
    "\n",
    "You have to validate input:\n",
    "\n",
    "    v can be anything (primitive or otherwise)\n",
    "    if v is ommited, fill the array with undefined\n",
    "    if n is 0, return an empty array\n",
    "    if n is anything other than an integer or integer-formatted string (e.g. '123') that is >=0, throw a TypeError\n",
    "\n",
    "When throwing a TypeError, the message should be n is invalid, where you replace n for the actual value passed to the function.\n",
    "\n",
    "Code Examples\n",
    "\n",
    "    prefill(3,1) --> [1,1,1]\n",
    "\n",
    "    prefill(2,\"abc\") --> ['abc','abc']\n",
    "\n",
    "    prefill(\"1\", 1) --> [1]\n",
    "\n",
    "    prefill(3, prefill(2,'2d'))\n",
    "      --> [['2d','2d'],['2d','2d'],['2d','2d']]\n",
    "\n",
    "    prefill(\"xyz\", 1)\n",
    "      --> throws TypeError with message \"xyz is invalid\"\n"
   ]
  },
  {
   "cell_type": "code",
   "execution_count": 222,
   "metadata": {},
   "outputs": [],
   "source": [
    "def prefill(n,v=None):\n",
    "    if v == None:\n",
    "        return [None]*int(n)\n",
    "    elif n==0:\n",
    "        return []\n",
    "    elif n == None:\n",
    "        raise TypeError(\"None is invalid\")\n",
    "    else: \n",
    "        try: \n",
    "            return [v]*int(n)\n",
    "        except ValueError:\n",
    "            error_msg = '{} is invalid'.format( str(n) )\n",
    "            raise TypeError(error_msg)"
   ]
  },
  {
   "cell_type": "code",
   "execution_count": 223,
   "metadata": {},
   "outputs": [
    {
     "data": {
      "text/plain": [
       "[['2d', '2d'], ['2d', '2d'], ['2d', '2d']]"
      ]
     },
     "execution_count": 223,
     "metadata": {},
     "output_type": "execute_result"
    }
   ],
   "source": [
    "prefill(3, prefill(2,'2d'))"
   ]
  },
  {
   "cell_type": "code",
   "execution_count": 224,
   "metadata": {},
   "outputs": [
    {
     "data": {
      "text/plain": [
       "[1]"
      ]
     },
     "execution_count": 224,
     "metadata": {},
     "output_type": "execute_result"
    }
   ],
   "source": [
    "prefill(\"1\", 1)"
   ]
  },
  {
   "cell_type": "code",
   "execution_count": null,
   "metadata": {},
   "outputs": [],
   "source": [
    "prefill(None, 1)"
   ]
  },
  {
   "cell_type": "code",
   "execution_count": 226,
   "metadata": {},
   "outputs": [],
   "source": [
    "def prefill(n=0,v=None):\n",
    "    try:\n",
    "        return [v] * int(n)\n",
    "    except:\n",
    "        raise TypeError(str(n) + ' is invalid')"
   ]
  },
  {
   "cell_type": "code",
   "execution_count": null,
   "metadata": {},
   "outputs": [],
   "source": [
    "prefill(None, 1)"
   ]
  },
  {
   "cell_type": "code",
   "execution_count": null,
   "metadata": {
    "collapsed": true
   },
   "outputs": [],
   "source": []
  }
 ],
 "metadata": {
  "kernelspec": {
   "display_name": "Python 3",
   "language": "python",
   "name": "python3"
  },
  "language_info": {
   "codemirror_mode": {
    "name": "ipython",
    "version": 3
   },
   "file_extension": ".py",
   "mimetype": "text/x-python",
   "name": "python",
   "nbconvert_exporter": "python",
   "pygments_lexer": "ipython3",
   "version": "3.6.3"
  },
  "toc": {
   "nav_menu": {},
   "number_sections": true,
   "sideBar": true,
   "skip_h1_title": false,
   "toc_cell": true,
   "toc_position": {
    "height": "683px",
    "left": "0px",
    "right": "1151px",
    "top": "55px",
    "width": "129px"
   },
   "toc_section_display": "none",
   "toc_window_display": false
  }
 },
 "nbformat": 4,
 "nbformat_minor": 2
}

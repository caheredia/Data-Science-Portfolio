{
 "cells": [
  {
   "cell_type": "markdown",
   "metadata": {},
   "source": [
    "# 1. Take a Ten Minute Walk\n",
    "You live in the city of Cartesia where all roads are laid out in a perfect grid. You arrived ten minutes too early to an appointment, so you decided to take the opportunity to go for a short walk. The city provides its citizens with a Walk Generating App on their phones -- everytime you press the button it sends you an array of one-letter strings representing directions to walk (eg. ['n', 's', 'w', 'e']). You know it takes you one minute to traverse one city block, so create a function that will return true if the walk the app gives you will take you exactly ten minutes (you don't want to be early or late!) and will, of course, return you to your starting point. Return false otherwise.\n"
   ]
  },
  {
   "cell_type": "code",
   "execution_count": null,
   "metadata": {
    "collapsed": false
   },
   "outputs": [],
   "source": [
    "def isValidWalk(walk):\n",
    "    #determine if walk is valid\n",
    "    #assign numerical values to directions that should sum to zero, otherwise different than starting point \n",
    "    sum_x = 0\n",
    "    sum_y = 0\n",
    "    for item in walk: \n",
    "        if item == 'n':\n",
    "            sum_y += 1\n",
    "        if item == 's':\n",
    "            sum_y += -1\n",
    "        if item == 'w':\n",
    "            sum_x += -1\n",
    "        if item == 'e':\n",
    "            sum_x += 1\n",
    "    if (sum_y == 0) and (sum_x == 0) and ( len(walk) == 10 ):\n",
    "        return True\n",
    "    else:\n",
    "        return False\n",
    "    \n",
    "            \n",
    "pass"
   ]
  },
  {
   "cell_type": "code",
   "execution_count": null,
   "metadata": {
    "collapsed": false
   },
   "outputs": [],
   "source": [
    "sample = ['n', 's', 'w', 'e']\n",
    "isValidWalk(sample)"
   ]
  },
  {
   "cell_type": "code",
   "execution_count": null,
   "metadata": {
    "collapsed": false
   },
   "outputs": [],
   "source": [
    "isValidWalk(['n', 's', 'w', 'e','n', 's', 'w', 'e', 'n','s'])"
   ]
  },
  {
   "cell_type": "markdown",
   "metadata": {},
   "source": [
    "# 2. Consecutive strings\n",
    "\n",
    "You are given an array strarr of strings and an integer k. Your task is to return the first longest string consisting of k consecutive strings taken in the array.\n",
    "\n",
    "#Example: longest_consec([\"zone\", \"abigail\", \"theta\", \"form\", \"libe\", \"zas\", \"theta\", \"abigail\"], 2) --> \"abigailtheta\"\n",
    "\n",
    "n being the length of the string array, if n = 0 or k > n or k <= 0 return \"\""
   ]
  },
  {
   "cell_type": "code",
   "execution_count": null,
   "metadata": {
    "collapsed": false
   },
   "outputs": [],
   "source": [
    "def longest_consec(strarr, k):\n",
    "    # your code\n",
    "    if ( len(strarr) == 0 ) or ( k >  len(strarr) ) or ( k <= 0):\n",
    "        return \"\"\n",
    "    else: \n",
    "        long = max(strarr, key=len) #find longest string\n",
    "        strarr.index(long)  #index of longest string \n",
    "        return  long + strarr[  strarr.index(long) + 1 ] #add strings \n",
    "    pass\n"
   ]
  },
  {
   "cell_type": "code",
   "execution_count": null,
   "metadata": {
    "collapsed": false
   },
   "outputs": [],
   "source": [
    "sample = [\"zone\", \"theta\", \"form\", \"libe\", \"zas\", \"theta\", \"abigail\"]\n",
    "longest_consec(sample, 2)"
   ]
  },
  {
   "cell_type": "markdown",
   "metadata": {},
   "source": [
    "# 3. \n",
    "Return the number (count) of vowels in the given string.\n",
    "\n",
    "We will consider a, e, i, o, and u as vowels for this Kata.\n"
   ]
  },
  {
   "cell_type": "code",
   "execution_count": null,
   "metadata": {
    "collapsed": true
   },
   "outputs": [],
   "source": [
    "def getCount(inputStr):\n",
    "    num_vowels = 0\n",
    "    for item in inputStr: \n",
    "        if item in 'aeiou':\n",
    "            num_vowels += 1\n",
    "    # your code here\n",
    "    \n",
    "    return num_vowels"
   ]
  },
  {
   "cell_type": "code",
   "execution_count": null,
   "metadata": {
    "collapsed": false
   },
   "outputs": [],
   "source": [
    "getCount(\"abracadabra\")"
   ]
  },
  {
   "cell_type": "markdown",
   "metadata": {},
   "source": [
    "# 4. Persistence\n",
    "Write a function, persistence, that takes in a positive parameter num and returns its multiplicative persistence, which is the number of times you must multiply the digits in num until you reach a single digit.\n",
    "\n",
    "For example: persistence(39) => 3  # Because 3*9 = 27, 2*7 = 14, 1*4=4\n",
    "                       # and 4 has only one digi"
   ]
  },
  {
   "cell_type": "code",
   "execution_count": null,
   "metadata": {
    "collapsed": false
   },
   "outputs": [],
   "source": [
    "def persistence(n):\n",
    "    num = str(n)\n",
    "    if len(num) == 1:\n",
    "        return 0\n",
    "    else: \n",
    "        pers = 0\n",
    "        while len(num) > 1:\n",
    "            result = 1\n",
    "            for x in num:\n",
    "                result = result*int(x)\n",
    "            pers += 1\n",
    "            num = str(result)\n",
    "        \n",
    "        else: \n",
    "            return pers\n",
    "    pass\n"
   ]
  },
  {
   "cell_type": "code",
   "execution_count": null,
   "metadata": {
    "collapsed": false
   },
   "outputs": [],
   "source": [
    "persistence(39)"
   ]
  },
  {
   "cell_type": "code",
   "execution_count": null,
   "metadata": {
    "collapsed": false
   },
   "outputs": [],
   "source": [
    "persistence(0)"
   ]
  },
  {
   "cell_type": "code",
   "execution_count": null,
   "metadata": {
    "collapsed": false
   },
   "outputs": [],
   "source": [
    "persistence(25)"
   ]
  },
  {
   "cell_type": "code",
   "execution_count": null,
   "metadata": {
    "collapsed": false
   },
   "outputs": [],
   "source": [
    "persistence(999)"
   ]
  },
  {
   "cell_type": "markdown",
   "metadata": {
    "collapsed": true
   },
   "source": [
    "# 5. The museum of incredible dull things\n",
    "\n",
    "The museum of incredible dull things wants to get rid of some exhibitions. Miriam, the interior architect, comes up with a plan to remove the most boring exhibitions. She gives them a rating, and then removes the one with the lowest rating.\n",
    "\n",
    "However, just as she finished rating all exhibitions, she's off to an important fair, so she asks you to write a program that tells her the ratings of the items after one removed the lowest one. Fair enough.\n",
    "Task\n",
    "\n",
    "Given an array of integers, remove the smallest value. Do not mutate the original array/list. If there are multiple elements with the same value, remove the one with a lower index. If you get an empty array/list, return an empty array/list.\n",
    "\n",
    "Don't change the order of the elements that are left.\n",
    "\n",
    "remove_smallest([2,2,1,2,1]) = [2,2,2,1]"
   ]
  },
  {
   "cell_type": "code",
   "execution_count": null,
   "metadata": {
    "collapsed": true
   },
   "outputs": [],
   "source": [
    "def remove_smallest(numbers):\n",
    "    if numbers == []: \n",
    "        return []\n",
    "    else: \n",
    "        #remove min value\n",
    "        numbers.remove(min(numbers)) \n",
    "        return numbers  \n"
   ]
  },
  {
   "cell_type": "code",
   "execution_count": null,
   "metadata": {
    "collapsed": false
   },
   "outputs": [],
   "source": [
    "remove_smallest([2,2,1,2,1])"
   ]
  },
  {
   "cell_type": "markdown",
   "metadata": {},
   "source": [
    "# 6. \n",
    "\n",
    "Your task is to write a function which returns the sum of following series upto nth term(parameter).\n",
    "\n",
    "Series: 1 + 1/4 + 1/7 + 1/10 + 1/13 + 1/16 +...\n",
    "\n",
    "Rules:\n",
    "\n",
    "    You need to round the answer to 2 decimal places and return it as String.\n",
    "\n",
    "    If the given value is 0 then it should return 0.00\n",
    "\n",
    "    You will only be given Natural Numbers as arguments.\n",
    "\n",
    "Examples:\n",
    "\n",
    "SeriesSum(1) => 1 = \"1.00\"\n",
    "SeriesSum(2) => 1 + 1/4 = \"1.25\"\n",
    "SeriesSum(5) => 1 + 1/4 + 1/7 + 1/10 + 1/13 = \"1.57\"\n"
   ]
  },
  {
   "cell_type": "code",
   "execution_count": null,
   "metadata": {
    "collapsed": false
   },
   "outputs": [],
   "source": [
    "def series_sum(n):\n",
    "        #generate series \n",
    "        num = 0\n",
    "        for i in range(n):\n",
    "            num += 1/( i*3 + 1 )\n",
    "        #round to two decimal places return string \n",
    "        return \"%.2f\" % num"
   ]
  },
  {
   "cell_type": "code",
   "execution_count": null,
   "metadata": {
    "collapsed": false
   },
   "outputs": [],
   "source": [
    "series_sum(5)"
   ]
  },
  {
   "cell_type": "code",
   "execution_count": null,
   "metadata": {
    "collapsed": true
   },
   "outputs": [],
   "source": [
    "def series_sum(n):\n",
    "    return '{:.2f}'.format(sum(1.0/(3 * i + 1) for i in range(n)))"
   ]
  },
  {
   "cell_type": "code",
   "execution_count": null,
   "metadata": {
    "collapsed": false
   },
   "outputs": [],
   "source": [
    "series_sum(5)"
   ]
  },
  {
   "cell_type": "markdown",
   "metadata": {},
   "source": [
    "# 7. A square of squares\n",
    "\n",
    "You like building blocks. You especially like building blocks that are squares. And what you even like more, is to arrange them into a square of square building blocks!\n",
    "\n",
    "However, sometimes, you can't arrange them into a square. Instead, you end up with an ordinary rectangle! Those blasted things! If you just had a way to know, whether you're currently working in vain… Wait! That's it! You just have to check if your number of building blocks is a perfect square.\n",
    "Task\n",
    "\n",
    "Given an integral number, determine if it's a square number:\n",
    "\n",
    "    In mathematics, a square number or perfect square is an integer that is the square of an integer; in other words, it is the product of some integer with itself.\n",
    "\n",
    "The tests will always use some integral number, so don't worry about that in dynamic typed languages.\n",
    "Examples\n",
    "\n",
    "is_square (-1) # => false\n",
    "is_square   3 # => false\n",
    "is_square   4 # => true\n",
    "is_square  25 # => true\n",
    "is_square  26 # => false\n"
   ]
  },
  {
   "cell_type": "code",
   "execution_count": null,
   "metadata": {
    "collapsed": false
   },
   "outputs": [],
   "source": [
    "def is_square(n):\n",
    "    if n < 0:\n",
    "        return False\n",
    "    else: \n",
    "        #check for square root with no remainder \n",
    "        return n % n**(.5) == 0"
   ]
  },
  {
   "cell_type": "code",
   "execution_count": null,
   "metadata": {
    "collapsed": true
   },
   "outputs": [],
   "source": [
    "def is_square(n):\n",
    "    return n > 0 and ( n**(.5) ).is_integer()"
   ]
  },
  {
   "cell_type": "markdown",
   "metadata": {},
   "source": [
    "# 8.\n",
    "Make a program that filters a list of strings and returns a list with only your friends name in it.\n",
    "\n",
    "If a name has exactly 4 letters in it, you can be sure that it has to be a friend of yours!\n",
    "\n",
    "Ex: Input = [\"Ryan\", \"Kieran\", \"Jason\", \"Yous\"], Output = [\"Ryan\", \"Yous\"]\n"
   ]
  },
  {
   "cell_type": "code",
   "execution_count": null,
   "metadata": {
    "collapsed": true
   },
   "outputs": [],
   "source": [
    "def friend(x):\n",
    "    names = []\n",
    "    for item in x: \n",
    "        if len(item) == 4:\n",
    "            names.append(item)\n",
    "    return names"
   ]
  },
  {
   "cell_type": "code",
   "execution_count": null,
   "metadata": {
    "collapsed": false
   },
   "outputs": [],
   "source": [
    "friend(  [\"Ryan\", \"Kieran\", \"Jason\", \"Yous\"] )"
   ]
  },
  {
   "cell_type": "code",
   "execution_count": null,
   "metadata": {
    "collapsed": true
   },
   "outputs": [],
   "source": [
    "def friend(x):\n",
    "    return [item for item in x if len(item) == 4]"
   ]
  },
  {
   "cell_type": "code",
   "execution_count": null,
   "metadata": {
    "collapsed": false
   },
   "outputs": [],
   "source": [
    "friend(  [\"Ryan\", \"Kieran\", \"Jason\", \"Yous\"] )"
   ]
  },
  {
   "cell_type": "markdown",
   "metadata": {},
   "source": [
    "# 9.\n",
    "The Western Suburbs Croquet Club has two categories of membership, Senior and Open. They would like your help with an application form that will tell prospective members which category they will be placed.\n",
    "\n",
    "To be a senior, a member must be at least 55 years old and have a handicap greater than 7. In this croquet club, handicaps range from -2 to +26; the better the player the lower the handicap.\n",
    "Input\n",
    "\n",
    "Input will consist of a list of lists containing two items each. Each list contains information for a single potential member. Information consists of an integer for the person's age and an integer for the person's handicap.\n",
    "Example Input\n",
    "\n",
    "[[18, 20],[45, 2],[61, 12],[37, 6],[21, 21],[78, 9]]\n",
    "\n",
    "Output\n",
    "\n",
    "Output will consist of a list of string values (in Haskell: Open or Senior) stating whether the respective member is to be placed in the senior or open category.\n",
    "Example Output\n",
    "\n",
    "[\"Open\", \"Open\", \"Senior\", \"Open\", \"Open\", \"Senior\"]\n"
   ]
  },
  {
   "cell_type": "code",
   "execution_count": null,
   "metadata": {
    "collapsed": true
   },
   "outputs": [],
   "source": [
    "def openOrSenior(data):\n",
    "    output = []\n",
    "    for item in data: \n",
    "        if (item[0] >= 55) and (item[1] > 7): \n",
    "            output.append('Senior')\n",
    "        else: \n",
    "            output.append('Open')\n",
    "    return output\n",
    "    "
   ]
  },
  {
   "cell_type": "code",
   "execution_count": null,
   "metadata": {
    "collapsed": true
   },
   "outputs": [],
   "source": [
    "data = [[18, 20],[45, 2],[61, 12],[37, 6],[21, 21],[78, 9]]"
   ]
  },
  {
   "cell_type": "code",
   "execution_count": null,
   "metadata": {
    "collapsed": false
   },
   "outputs": [],
   "source": [
    "item1 = data[0]\n",
    "item1[1]"
   ]
  },
  {
   "cell_type": "code",
   "execution_count": null,
   "metadata": {
    "collapsed": false
   },
   "outputs": [],
   "source": [
    "openOrSenior( data  )"
   ]
  },
  {
   "cell_type": "code",
   "execution_count": null,
   "metadata": {
    "collapsed": true
   },
   "outputs": [],
   "source": [
    "def openOrSenior(data):\n",
    "      return [\"Senior\" if age >= 55 and handicap >= 8 else \"Open\" for (age, handicap) in data]"
   ]
  },
  {
   "cell_type": "code",
   "execution_count": null,
   "metadata": {
    "collapsed": false
   },
   "outputs": [],
   "source": [
    "openOrSenior( data  )"
   ]
  },
  {
   "cell_type": "markdown",
   "metadata": {},
   "source": [
    "# 10. Sum of Pairs\n",
    "\n",
    "Given a list of integers and a single sum value, return the first two values (parse from the left please) in order of appearance that add up to form the sum.\n",
    "\n",
    "sum_pairs([11, 3, 7, 5],         10)\n",
    "#              ^--^      3 + 7 = 10\n",
    "== [3, 7]\n",
    "\n",
    "sum_pairs([4, 3, 2, 3, 4],         6)\n",
    "\n",
    "          ^-----^         4 + 2 = 6, indices: 0, 2 *\n",
    "             ^-----^      3 + 3 = 6, indices: 1, 3\n",
    "                ^-----^   2 + 4 = 6, indices: 2, 4\n",
    "  * entire pair is earlier, and therefore is the correct answer\n",
    "== [4, 2]\n",
    "\n",
    "sum_pairs([0, 0, -2, 3], 2)\n",
    "  there are no pairs of values that can be added to produce 2.\n",
    "== None/nil/undefined (Based on the language)\n",
    "\n",
    "sum_pairs([10, 5, 2, 3, 7, 5],         10)\n",
    "\n",
    "                         ^-----------^   5 + 5 = 10, indices: 1, 5\n",
    "                    ^--^      3 + 7 = 10, indices: 3, 4 *\n",
    "  * entire pair is earlier, and therefore is the correct answer\n",
    "== [3, 7]\n",
    "\n",
    "Negative numbers and duplicate numbers can and will appear.\n",
    "\n",
    "NOTE: There will also be lists tested of lengths upwards of 10,000,000 elements. Be sure your code doesn't time out."
   ]
  },
  {
   "cell_type": "code",
   "execution_count": 1,
   "metadata": {
    "collapsed": false
   },
   "outputs": [],
   "source": [
    "def sum_pairs(ints, s):\n",
    "    out = []\n",
    "    for i in range(len(ints)):\n",
    "        for j in range(len(ints)):\n",
    "            if  ( (ints[i] + ints[j]) == s) and (i != j ) and ([ints[i], ints[j]] not in out ):\n",
    "                out.append( [ ints[i] , ints[j]] )\n",
    "                return out"
   ]
  },
  {
   "cell_type": "code",
   "execution_count": 2,
   "metadata": {
    "collapsed": false
   },
   "outputs": [
    {
     "data": {
      "text/plain": [
       "[[1, 4]]"
      ]
     },
     "execution_count": 2,
     "metadata": {},
     "output_type": "execute_result"
    }
   ],
   "source": [
    "sum_pairs([1,4,2,1,3,4], 5)"
   ]
  },
  {
   "cell_type": "code",
   "execution_count": 3,
   "metadata": {
    "collapsed": false
   },
   "outputs": [
    {
     "data": {
      "text/plain": [
       "[[4, 2]]"
      ]
     },
     "execution_count": 3,
     "metadata": {},
     "output_type": "execute_result"
    }
   ],
   "source": [
    "sum_pairs([4, 3, 2, 3, 4], 6)"
   ]
  },
  {
   "cell_type": "code",
   "execution_count": 4,
   "metadata": {
    "collapsed": false
   },
   "outputs": [
    {
     "data": {
      "text/plain": [
       "[[5, 5]]"
      ]
     },
     "execution_count": 4,
     "metadata": {},
     "output_type": "execute_result"
    }
   ],
   "source": [
    "sum_pairs([10, 5, 2, 3, 7, 5], 10)"
   ]
  },
  {
   "cell_type": "markdown",
   "metadata": {
    "collapsed": false
   },
   "source": [
    "# 11.\n",
    "You get an array of arrays.\n",
    "If you sort the arrays by their length, you will see, that their length-values are consecutive.\n",
    "But one array is missing!\n",
    "\n",
    "\n",
    "You have to write a method, that return the length of the missing array.\n",
    "\n",
    "Example:\n",
    "[[1, 2], [4, 5, 1, 1], [1], [5, 6, 7, 8, 9]] --> 3\n",
    "\n",
    "\n",
    "If the array of arrays is null/nil or empty, the method should return 0.\n",
    "\n",
    "When an array in the array is null or empty, the method should return 0 too!\n",
    "There will always be a missing element and its length will be always between the given arrays.\n",
    "\n",
    "Have fun coding it and please don't forget to vote and rank this kata! :-)\n",
    "\n",
    "I have created other katas. Have a look if you like coding and challenges.\n",
    "\n",
    "    "
   ]
  },
  {
   "cell_type": "code",
   "execution_count": 5,
   "metadata": {
    "collapsed": false
   },
   "outputs": [],
   "source": [
    "def get_length_of_missing_array(sample = None):\n",
    "    if sample is None or  not sample or sample is [] or  [] in sample or [0] in sample or '' in sample or None in sample:\n",
    "        return 0\n",
    "    else: \n",
    "            range_max = max( (len(x) for x in sample) , default = 0 ) #picks out the biggest array number \n",
    "\n",
    "            n_list = []   #generates list for  length of sample \n",
    "            for j in range(range_max): \n",
    "                n_list.append(j+1) \n",
    "            n_list.reverse() #used to find the largest missing number first \n",
    "\n",
    "            s_list = []   #generates list of lengths from sample\n",
    "            for item in sample: \n",
    "                s_list.append( len(item) )\n",
    "\n",
    "            for i in n_list:\n",
    "                if i not in s_list:\n",
    "                        return i\n",
    "   \n",
    "    pass"
   ]
  },
  {
   "cell_type": "code",
   "execution_count": 7,
   "metadata": {
    "collapsed": false
   },
   "outputs": [
    {
     "data": {
      "text/plain": [
       "2"
      ]
     },
     "execution_count": 7,
     "metadata": {},
     "output_type": "execute_result"
    }
   ],
   "source": [
    "get_length_of_missing_array([[None], [None, None, None]])"
   ]
  },
  {
   "cell_type": "code",
   "execution_count": 8,
   "metadata": {
    "collapsed": false
   },
   "outputs": [
    {
     "data": {
      "text/plain": [
       "0"
      ]
     },
     "execution_count": 8,
     "metadata": {},
     "output_type": "execute_result"
    }
   ],
   "source": [
    "get_length_of_missing_array( ['', [4, 5, 1, 1], [1,2,3,4,5,6], [5, 6, 7, 8, 9]])"
   ]
  },
  {
   "cell_type": "code",
   "execution_count": 9,
   "metadata": {
    "collapsed": false
   },
   "outputs": [
    {
     "data": {
      "text/plain": [
       "0"
      ]
     },
     "execution_count": 9,
     "metadata": {},
     "output_type": "execute_result"
    }
   ],
   "source": [
    "get_length_of_missing_array()"
   ]
  },
  {
   "cell_type": "markdown",
   "metadata": {},
   "source": [
    "# 12. \n",
    "Complete the solution so that it reverses all of the words within the string passed in.\n",
    "\n",
    "Example:\n",
    "reverseWords(\"The greatest victory is that which requires no battle\")\n",
    "\n",
    "should return \"battle no requires which that is victory greatest The\""
   ]
  },
  {
   "cell_type": "code",
   "execution_count": 10,
   "metadata": {
    "collapsed": true
   },
   "outputs": [],
   "source": [
    "def reverseWords(str):\n",
    "    return ' '.join( [x for x in str.split()][::-1] )"
   ]
  },
  {
   "cell_type": "code",
   "execution_count": 11,
   "metadata": {
    "collapsed": false
   },
   "outputs": [
    {
     "data": {
      "text/plain": [
       "'victory greatest The'"
      ]
     },
     "execution_count": 11,
     "metadata": {},
     "output_type": "execute_result"
    }
   ],
   "source": [
    "reverseWords('The greatest victory')"
   ]
  },
  {
   "cell_type": "markdown",
   "metadata": {},
   "source": [
    "# 13.  findUniq\n",
    "There is an array with some numbers. All numbers are equal except for one. Try to find it!\n",
    "\n",
    "findUniq([ 1, 1, 1, 2, 1, 1 ]) === 2\n",
    "findUniq([ 0, 0, 0.55, 0, 0 ]) === 0.55\n"
   ]
  },
  {
   "cell_type": "code",
   "execution_count": 12,
   "metadata": {
    "collapsed": true
   },
   "outputs": [],
   "source": [
    "from collections import Counter\n",
    "def findUniq(num):\n",
    "    return Counter(num).most_common()[:-2:-1][0][0] "
   ]
  },
  {
   "cell_type": "code",
   "execution_count": 13,
   "metadata": {
    "collapsed": false
   },
   "outputs": [
    {
     "data": {
      "text/plain": [
       "2"
      ]
     },
     "execution_count": 13,
     "metadata": {},
     "output_type": "execute_result"
    }
   ],
   "source": [
    "findUniq([ 1, 1, 1, 2, 1, 1 ])"
   ]
  },
  {
   "cell_type": "markdown",
   "metadata": {},
   "source": [
    "# 14. Write Number in Expanded Form\n",
    "\n",
    "You will be given a number and you will need to return it as a string in Expanded Form. For example:\n",
    "\n",
    "expanded_form(12) # Should return '10 + 2'\n",
    "expanded_form(42) # Should return '40 + 2'\n",
    "expanded_form(70304) # Should return '70000 + 300 + 4'\n",
    "\n",
    "NOTE: All numbers will be whole numbers greater than 0."
   ]
  },
  {
   "cell_type": "code",
   "execution_count": 14,
   "metadata": {
    "collapsed": true
   },
   "outputs": [],
   "source": [
    "def expanded_form(num):\n",
    "    n_str = str(num)\n",
    "    out = ''\n",
    "    for i in range( len(n_str) -1 , -1, -1 ):              #runs loop backwards \n",
    "        if num // 10**i != 0:                                     #finds floor division of iterable magnitue, skips any zero values \n",
    "            out += str( (num // 10**i) *10**i ) + ' + '  #builds string with correct magnitude \n",
    "            num += -(num // 10**i) *10**i                #subtracts floor division times magnitude \n",
    "    return (out[:-3]) \n"
   ]
  },
  {
   "cell_type": "code",
   "execution_count": 16,
   "metadata": {
    "collapsed": false
   },
   "outputs": [
    {
     "data": {
      "text/plain": [
       "'70000 + 300 + 4'"
      ]
     },
     "execution_count": 16,
     "metadata": {},
     "output_type": "execute_result"
    }
   ],
   "source": [
    "expanded_form(70304)"
   ]
  },
  {
   "cell_type": "markdown",
   "metadata": {},
   "source": [
    "# 15.  Narcissistic Number\n",
    "A Narcissistic Number is a number which is the sum of its own digits, each raised to the power of the number of digits.\n",
    "\n",
    "For example, take 153 (3 digits):\n",
    "\n",
    "    1^3 + 5^3 + 3^3 = 1 + 125 + 27 = 153\n",
    "\n",
    "and 1634 (4 digits):\n",
    "\n",
    "    1^4 + 6^4 + 3^4 + 4^4 = 1 + 1296 + 81 + 256 = 1634\n",
    "\n",
    "The Challenge:\n",
    "\n",
    "Your code must return true or false depending upon whether the given number is a Narcissistic number.\n",
    "\n",
    "Error checking for text strings or other invalid inputs is not required, only valid integers will be passed into the function.\n"
   ]
  },
  {
   "cell_type": "code",
   "execution_count": null,
   "metadata": {
    "collapsed": true
   },
   "outputs": [],
   "source": [
    "#need to break out number into list \n",
    "# check sum with original number "
   ]
  },
  {
   "cell_type": "code",
   "execution_count": 17,
   "metadata": {
    "collapsed": false
   },
   "outputs": [],
   "source": [
    "def narcissistic( num ):\n",
    "    n_str = str(num)\n",
    "    return num == sum( [int(item)**len(n_str) for item in n_str] )"
   ]
  },
  {
   "cell_type": "code",
   "execution_count": 19,
   "metadata": {
    "collapsed": false
   },
   "outputs": [
    {
     "data": {
      "text/plain": [
       "True"
      ]
     },
     "execution_count": 19,
     "metadata": {},
     "output_type": "execute_result"
    }
   ],
   "source": [
    "narcissistic( 153)"
   ]
  },
  {
   "cell_type": "markdown",
   "metadata": {},
   "source": [
    "# 16. is_prime\n",
    "Define a function isPrime/is_prime() that takes one integer argument and returns true/True or false/False depending on if the integer is a prime.\n",
    "\n",
    "Per Wikipedia, a prime number (or a prime) is a natural number greater than 1 that has no positive divisors other than 1 and itself.\n",
    "Example\n",
    "\n",
    "isPrime(5)\n",
    "=> true\n",
    "\n",
    "Assumptions\n",
    "\n",
    "    You can assume you will be given an integer input.\n",
    "    You can not assume that the integer will be only positive. You may be given negative numbers as well (or 0).\n"
   ]
  },
  {
   "cell_type": "code",
   "execution_count": null,
   "metadata": {
    "collapsed": true
   },
   "outputs": [],
   "source": [
    "#divide by range of number determined by number size, if remainder zero then not prime "
   ]
  },
  {
   "cell_type": "code",
   "execution_count": 20,
   "metadata": {
    "collapsed": false
   },
   "outputs": [],
   "source": [
    "def is_prime(num): \n",
    "    num = abs(num)\n",
    "    if num == 0 or num ==1:\n",
    "        return False\n",
    "    else: \n",
    "        return sum ( [num for i in range(2,num) if num % i ==0] ) == 0 "
   ]
  },
  {
   "cell_type": "code",
   "execution_count": 22,
   "metadata": {
    "collapsed": false
   },
   "outputs": [
    {
     "data": {
      "text/plain": [
       "True"
      ]
     },
     "execution_count": 22,
     "metadata": {},
     "output_type": "execute_result"
    }
   ],
   "source": [
    "is_prime(31)"
   ]
  },
  {
   "cell_type": "markdown",
   "metadata": {},
   "source": [
    "# 17. Build Tower \n",
    "Build Tower by the following given argument:\n",
    "number of floors (integer and always greater than 0).\n",
    "\n",
    "Tower block is represented as *\n",
    "\n",
    "    Python: return a list;\n",
    "\n",
    "Have fun!\n",
    "\n",
    "for example, a tower of 3 floors looks like below\n",
    "\n",
    "[\n",
    "  '  *  ', \n",
    "  ' *** ', \n",
    "  '*****'\n",
    "]\n"
   ]
  },
  {
   "cell_type": "code",
   "execution_count": 70,
   "metadata": {
    "collapsed": true
   },
   "outputs": [],
   "source": [
    "#Build list that outputs asterisk times the iterable in the range of input number\n",
    "#each floor is 1, 3, 5 i.e. odd numbers "
   ]
  },
  {
   "cell_type": "code",
   "execution_count": 23,
   "metadata": {
    "collapsed": true
   },
   "outputs": [],
   "source": [
    "def tower_builder(n_floors):\n",
    "    floors = ['*'*(2*i+1) for i in range(n_floors)]  # generates floors \n",
    "    for i in range(n_floors -1):                              #adds padding to each floor, save for the last \n",
    "        floors[i] = \" \"*(n_floors - i-1) + floors[i] + \" \"*(n_floors - i-1)\n",
    "    return floors"
   ]
  },
  {
   "cell_type": "code",
   "execution_count": 24,
   "metadata": {
    "collapsed": false
   },
   "outputs": [
    {
     "data": {
      "text/plain": [
       "['  *  ', ' *** ', '*****']"
      ]
     },
     "execution_count": 24,
     "metadata": {},
     "output_type": "execute_result"
    }
   ],
   "source": [
    "tower_builder(3)"
   ]
  }
 ],
 "metadata": {
  "kernelspec": {
   "display_name": "Python 3",
   "language": "python",
   "name": "python3"
  },
  "language_info": {
   "codemirror_mode": {
    "name": "ipython",
    "version": 3
   },
   "file_extension": ".py",
   "mimetype": "text/x-python",
   "name": "python",
   "nbconvert_exporter": "python",
   "pygments_lexer": "ipython3",
   "version": "3.6.0"
  }
 },
 "nbformat": 4,
 "nbformat_minor": 2
}

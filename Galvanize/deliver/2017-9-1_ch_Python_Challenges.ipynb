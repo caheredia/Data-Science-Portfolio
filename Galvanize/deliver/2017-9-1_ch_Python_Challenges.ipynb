{
 "cells": [
  {
   "cell_type": "code",
   "execution_count": 1,
   "metadata": {
    "collapsed": true
   },
   "outputs": [],
   "source": [
    "import pandas as pd\n",
    "import numpy as np\n",
    "from collections import Counter"
   ]
  },
  {
   "cell_type": "markdown",
   "metadata": {},
   "source": [
    "# A collection of simple Python functions "
   ]
  },
  {
   "cell_type": "markdown",
   "metadata": {},
   "source": [
    "### 1. Write a function that looks at the number of times given letters appear in a document. The output should be in a dictionary."
   ]
  },
  {
   "cell_type": "markdown",
   "metadata": {
    "collapsed": true
   },
   "source": [
    "Returns the number of times specified letters appear in a file\n",
    "#### Parameters\n",
    "- path_to_file: str, Relative or absolute path to file of interest\n",
    "- letters_to_count: str, String containing the letters to count in the text\n",
    "    \n",
    "#### Returns\n",
    "letter_dict: dict\n",
    "- key: letter\n",
    "- value: the count of that letter in the file. The counting is case insensitive\n",
    "    \n",
    "#### Example\n",
    "- file.txt: This is the file of interest. Count my vowels!\n",
    "- letter_counter('file.txt', 'aeiou') {'i': 4, 'e':4, 'o':2, 'u':1}\n"
   ]
  },
  {
   "cell_type": "markdown",
   "metadata": {},
   "source": [
    "#### To do \n",
    "1. Load text file  \n",
    "2. Convert to lower case \n",
    "3. Method to count desired letters \n",
    "4. Output dictionary with counts "
   ]
  },
  {
   "cell_type": "code",
   "execution_count": 3,
   "metadata": {
    "collapsed": false
   },
   "outputs": [],
   "source": [
    "def letter_counter(path_to_file, letters_to_count):\n",
    "    # Load the data. \n",
    "    file = open(path_to_file, 'r')\n",
    "    string = file.read().lower() #convert to lowercase string \n",
    "    \n",
    "    #Load string into Counter \n",
    "    string = Counter(string) \n",
    "    \n",
    "    #List comprehension to generate list of letters and count \n",
    "    letter_dic = { let : string[let] for let in letters_to_count }  \n",
    "    return letter_dic"
   ]
  },
  {
   "cell_type": "code",
   "execution_count": 5,
   "metadata": {
    "collapsed": false
   },
   "outputs": [
    {
     "data": {
      "text/plain": [
       "{'a': 0, 'e': 5, 'i': 4, 'o': 3, 'u': 1}"
      ]
     },
     "execution_count": 5,
     "metadata": {},
     "output_type": "execute_result"
    }
   ],
   "source": [
    "letter_counter('../data/file.txt', 'aeiou')"
   ]
  },
  {
   "cell_type": "code",
   "execution_count": null,
   "metadata": {
    "collapsed": true
   },
   "outputs": [],
   "source": []
  }
 ],
 "metadata": {
  "kernelspec": {
   "display_name": "Python 3",
   "language": "python",
   "name": "python3"
  },
  "language_info": {
   "codemirror_mode": {
    "name": "ipython",
    "version": 3
   },
   "file_extension": ".py",
   "mimetype": "text/x-python",
   "name": "python",
   "nbconvert_exporter": "python",
   "pygments_lexer": "ipython3",
   "version": "3.6.0"
  }
 },
 "nbformat": 4,
 "nbformat_minor": 2
}

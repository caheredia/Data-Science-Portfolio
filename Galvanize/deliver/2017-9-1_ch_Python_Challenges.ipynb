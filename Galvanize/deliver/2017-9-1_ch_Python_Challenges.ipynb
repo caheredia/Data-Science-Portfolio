{
 "cells": [
  {
   "cell_type": "code",
   "execution_count": 1,
   "metadata": {
    "collapsed": true
   },
   "outputs": [],
   "source": [
    "import pandas as pd\n",
    "import numpy as np\n",
    "from collections import Counter"
   ]
  },
  {
   "cell_type": "markdown",
   "metadata": {},
   "source": [
    "# A collection of simple Python functions "
   ]
  },
  {
   "cell_type": "markdown",
   "metadata": {},
   "source": [
    "### 1. Write a function that looks at the number of times given letters appear in a document. The output should be in a dictionary."
   ]
  },
  {
   "cell_type": "markdown",
   "metadata": {
    "collapsed": true
   },
   "source": [
    "Returns the number of times specified letters appear in a file\n",
    "#### Parameters\n",
    "- path_to_file: str, Relative or absolute path to file of interest\n",
    "- letters_to_count: str, String containing the letters to count in the text\n",
    "    \n",
    "#### Returns\n",
    "letter_dict: dict\n",
    "- key: letter\n",
    "- value: the count of that letter in the file. The counting is case insensitive\n",
    "    \n",
    "#### Example\n",
    "- file.txt: This is the file of interest. Count my vowels!\n",
    "- letter_counter('file.txt', 'aeiou') {'i': 4, 'e':4, 'o':2, 'u':1}\n"
   ]
  },
  {
   "cell_type": "code",
   "execution_count": null,
   "metadata": {
    "collapsed": false
   },
   "outputs": [],
   "source": [
    "def letter_counter(path_to_file, letters_to_count):\n",
    "    # Load the data. \n",
    "    file = open(path_to_file, 'r')\n",
    "    string = file.read().lower() #convert to lowercase string \n",
    "    \n",
    "    #Load string into Counter \n",
    "    string = Counter(string) \n",
    "    \n",
    "    #List comprehension to generate list of letters and count \n",
    "    letter_dic = { let : string[let] for let in letters_to_count }  \n",
    "    return letter_dic"
   ]
  },
  {
   "cell_type": "code",
   "execution_count": null,
   "metadata": {
    "collapsed": false
   },
   "outputs": [],
   "source": [
    "letter_counter('../data/file.txt', 'aeiou')"
   ]
  },
  {
   "cell_type": "markdown",
   "metadata": {
    "collapsed": true
   },
   "source": [
    "### 2. Write a function that removes one occurrence of a given item from a list. Do not use methods .pop() or .remove()! If the item is not present in the list, output should be ‘The item is not in the list’."
   ]
  },
  {
   "cell_type": "markdown",
   "metadata": {},
   "source": [
    "Remove first occurrence of item from list\n",
    "#### Parameters\n",
    "- list_items: list\n",
    "- item_to_remove: object. The object to be removed form list_items\n",
    "\n",
    "#### Returns\n",
    "- if the item is in the list: list, list with first occurrence of item removed\n",
    "- if the item is not in the list: str, 'The item is not in the list'\n",
    "\n",
    "#### Example\n",
    "> list_items = [1,3,7,8,0]  >>> remove_item(list_items, 7) [1,3,8,0]\n"
   ]
  },
  {
   "cell_type": "code",
   "execution_count": null,
   "metadata": {
    "collapsed": true
   },
   "outputs": [],
   "source": [
    "def remove_item(list_items, item_to_remove):\n",
    "    if item_to_remove in list_items:   #If statement to reference items in list, otherwise kickout false statement\n",
    "        \n",
    "        new_list = []               #write a for loop to rebuild list, not using item_to_remove\n",
    "        for item in list_items:\n",
    "             if item != item_to_remove:\n",
    "                new_list.append(item)\n",
    "        return new_list\n",
    "    \n",
    "    \n",
    "    else: \n",
    "        print('The item is not in the list')\n",
    "\n",
    "    pass"
   ]
  },
  {
   "cell_type": "code",
   "execution_count": null,
   "metadata": {
    "collapsed": false
   },
   "outputs": [],
   "source": [
    "list_items = [1,3,7,8,0]\n",
    "remove_item(list_items, 7)"
   ]
  },
  {
   "cell_type": "code",
   "execution_count": null,
   "metadata": {
    "collapsed": false
   },
   "outputs": [],
   "source": [
    "remove_item(list_items, 4)"
   ]
  },
  {
   "cell_type": "markdown",
   "metadata": {},
   "source": [
    "# 3. \n",
    "The simple substitution cipher basically consists of substituting every plaintext character for a different ciphertext character. The following is an example of one possible cipher from http://practicalcryptography.com/ciphers/simple-substitution-cipher/:\n",
    "- Plain alphabet : abcdefghijklmnopqrstuvwxyz \n",
    "- cipher alphabet: phqgiumeaylnofdxjkrcvstzwb"
   ]
  },
  {
   "cell_type": "markdown",
   "metadata": {},
   "source": [
    "Run text through a particular cipher alphabet\n",
    "#### Parameters\n",
    " - text: str, Either the plain text to encipher, or the cipher text to decrypt\n",
    " - cipher_alphabet: dict, Dictionary specifying {'original_letter': 'cipher_letter'}\n",
    " - option: str (default 'encipher'), 'encipher' (accept plain text and output cipher text), 'decipher' (accept cipher text and output plain text)\n",
    " \n",
    "#### Returns\n",
    "- cipher text by default,\n",
    "- plain text if option is set to decipher\n",
    "\n",
    "d = dict(zip('abcdefghijklmnopqrstuvwxyz',\n",
    "                     'phqgiumeaylnofdxjkrcvstzwb'))\n",
    "> cipher('defend the east wall of the castle', d) \n",
    "\n",
    "    'giuifg cei iprc tpnn du cei qprcni'\n",
    "> cipher('giuifg cei iprc tpnn du cei qprcni',d, option='decipher')\n",
    "\n",
    "    'defend the east wall of the castle'\n"
   ]
  },
  {
   "cell_type": "code",
   "execution_count": null,
   "metadata": {
    "collapsed": true
   },
   "outputs": [],
   "source": [
    "def cipher(text, cipher_alphabet, option = None): \n",
    "    if option == 'encipher':\n",
    "        option = None  #default to encipher \n",
    "    \n",
    "    if option is None:  \n",
    "        ciphered = ''\n",
    "        for letter in text:\n",
    "            if letter == ' ':       #this handles spaces in text \n",
    "                ciphered  += ' '\n",
    "            else: \n",
    "                ciphered  += d[letter]   #encryption happens here     \n",
    "        return ciphered  \n",
    "\n",
    "    if option == 'decipher':\n",
    "        deciphered = ''\n",
    "        for letter in text:\n",
    "            if letter == ' ':       #this handles spaces in text \n",
    "                deciphered += ' '\n",
    "            else: \n",
    "                deciphered += list(d.keys())[list(d.values()).index( letter )]  #decryption happens here      \n",
    "        return deciphered \n",
    "        \n",
    "     \n",
    "    pass"
   ]
  },
  {
   "cell_type": "code",
   "execution_count": null,
   "metadata": {
    "collapsed": true
   },
   "outputs": [],
   "source": [
    "d = dict(zip('abcdefghijklmnopqrstuvwxyz',     #zip retuns a list of tuples, dict converts to dictionary \n",
    "                     'phqgiumeaylnofdxjkrcvstzwb'))"
   ]
  },
  {
   "cell_type": "code",
   "execution_count": null,
   "metadata": {
    "collapsed": false
   },
   "outputs": [],
   "source": [
    "cipher('defend the east wall of the castle', d) "
   ]
  },
  {
   "cell_type": "code",
   "execution_count": null,
   "metadata": {
    "collapsed": false
   },
   "outputs": [],
   "source": [
    "cipher('giuifg cei iprc tpnn du cei qprcni',d, option='decipher')"
   ]
  },
  {
   "cell_type": "markdown",
   "metadata": {
    "collapsed": true
   },
   "source": [
    "# 4.\n",
    "Implement a function that counts the number of isograms in a list of strings.\n",
    "• An isogram is a word that has no repeating letters, consecutive or non-consecutive.\n",
    "• Assume the empty string is an isogram and that the function should be case insensitive.\n",
    "\n",
    "'Count the number of strings without repeating characters in a list\n",
    "#### Parameters\n",
    "- list_of_words: list of strings\n",
    "\n",
    "#### Returns\n",
    "- count of isograms (as integer)\n",
    ">count_isograms(['conduct', letter', 'contract', 'hours', 'interview']) 1"
   ]
  },
  {
   "cell_type": "code",
   "execution_count": null,
   "metadata": {
    "collapsed": true
   },
   "outputs": [],
   "source": [
    "from collections import Counter\n",
    "\n",
    "def count_isograms(list_of_words): \n",
    "    count_iso = 0\n",
    "    for word in list_of_words:  #iterates through words \n",
    "        if max(Counter(word).values()) < 2:  #checks if individual letters counts are less than 2\n",
    "                count_iso += 1    #adds to total count \n",
    "    return count_iso\n",
    "\n",
    "    pass"
   ]
  },
  {
   "cell_type": "code",
   "execution_count": null,
   "metadata": {
    "collapsed": false
   },
   "outputs": [],
   "source": [
    "count_isograms(['conduct', 'letter', 'contract', 'hours', 'interview']) "
   ]
  },
  {
   "cell_type": "markdown",
   "metadata": {},
   "source": [
    "# 5.  \n",
    "Write a function that returns a list of matching items. Items are defined by a tuple with a letter and a number and we consider item 1 to match item 2 if:\n",
    "- Both their letters are vowels (aeiou), or both are consonnants and, \n",
    "- The sum of their numbers is a multiple of 3\n",
    "\n",
    "(1,2) contains the same information as (2,1), the output list should only contain one of them.\n",
    "\n",
    "#### Parameters\n",
    "- data_list: as list of tuples (letter, number)\n",
    "\n",
    "#### Returns\n",
    "A list of the matching pair referenced by their index (index_A, index_B).\n",
    "Each pair should appear only once. (A,B) is the same as (B,A)\n",
    "\n",
    "> data = [('a', 4), ('b', 5), ('c', 1), ('d', 3), ('e', 2), ('f',6)]\n",
    "\n",
    "> matching_pairs(data)\n",
    "\n",
    "> [(0,4), (1,2), (3,5)]"
   ]
  },
  {
   "cell_type": "code",
   "execution_count": null,
   "metadata": {
    "collapsed": true
   },
   "outputs": [],
   "source": [
    "data = [('a', 4), ('b', 5), ('c', 1), ('d', 3), ('e', 2), ('f',6)]"
   ]
  },
  {
   "cell_type": "code",
   "execution_count": null,
   "metadata": {
    "collapsed": true
   },
   "outputs": [],
   "source": [
    "def matching_pairs(data): \n",
    "    permutations =  [(i,j) for i in range(len(data)) for j in range(len(data))   #double index, below applies cond. statements. \n",
    "                                 if (( data[i][0] in 'aeiou' and data[j][0] in 'aeiou' ) or ( data[i][0] not in 'aeiou' and data[j][0] not in 'aeiou' ) ) \n",
    "                                 and (i != j) and (( data[i][1] + data[j][1] ) % 3 == 0) ]\n",
    "    \n",
    "    return list(set(tuple(sorted(l)) for l in permutations)) #sort tuples remove permutations "
   ]
  },
  {
   "cell_type": "code",
   "execution_count": null,
   "metadata": {
    "collapsed": false
   },
   "outputs": [],
   "source": [
    "matching_pairs(data)"
   ]
  },
  {
   "cell_type": "markdown",
   "metadata": {
    "collapsed": true
   },
   "source": [
    "# 6. \n",
    "\n",
    "Find anagrams in a list of words \n",
    "words = ['bat', 'bat', 'rats', 'god', 'dog', 'cat', 'arts', 'star', 'rats']"
   ]
  },
  {
   "cell_type": "code",
   "execution_count": 2,
   "metadata": {
    "collapsed": true
   },
   "outputs": [],
   "source": [
    "words = ['bat', 'bat', 'rats', 'god', 'dog', 'cat', 'arts', 'star', 'rats']"
   ]
  },
  {
   "cell_type": "code",
   "execution_count": 25,
   "metadata": {
    "collapsed": false
   },
   "outputs": [
    {
     "data": {
      "text/plain": [
       "['arts', 'star', 'dog', 'god', 'rats']"
      ]
     },
     "execution_count": 25,
     "metadata": {},
     "output_type": "execute_result"
    }
   ],
   "source": [
    "new_list = []\n",
    "for string in words:    \n",
    "    for item in words: \n",
    "        if (string != item) and Counter(string) == Counter(item) and (item not in new_list):\n",
    "            new_list.append(item)\n",
    "new_list"
   ]
  },
  {
   "cell_type": "code",
   "execution_count": null,
   "metadata": {
    "collapsed": false
   },
   "outputs": [],
   "source": []
  },
  {
   "cell_type": "code",
   "execution_count": null,
   "metadata": {
    "collapsed": true
   },
   "outputs": [],
   "source": []
  }
 ],
 "metadata": {
  "kernelspec": {
   "display_name": "Python 3",
   "language": "python",
   "name": "python3"
  },
  "language_info": {
   "codemirror_mode": {
    "name": "ipython",
    "version": 3
   },
   "file_extension": ".py",
   "mimetype": "text/x-python",
   "name": "python",
   "nbconvert_exporter": "python",
   "pygments_lexer": "ipython3",
   "version": "3.6.0"
  }
 },
 "nbformat": 4,
 "nbformat_minor": 2
}

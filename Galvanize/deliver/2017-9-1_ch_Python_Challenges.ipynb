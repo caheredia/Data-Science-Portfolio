{
 "cells": [
  {
   "cell_type": "code",
   "execution_count": 1,
   "metadata": {
    "collapsed": true
   },
   "outputs": [],
   "source": [
    "import pandas as pd\n",
    "import numpy as np\n",
    "from collections import Counter"
   ]
  },
  {
   "cell_type": "markdown",
   "metadata": {},
   "source": [
    "# A collection of simple Python functions "
   ]
  },
  {
   "cell_type": "markdown",
   "metadata": {},
   "source": [
    "### 1. Write a function that looks at the number of times given letters appear in a document. The output should be in a dictionary."
   ]
  },
  {
   "cell_type": "markdown",
   "metadata": {
    "collapsed": true
   },
   "source": [
    "Returns the number of times specified letters appear in a file\n",
    "#### Parameters\n",
    "- path_to_file: str, Relative or absolute path to file of interest\n",
    "- letters_to_count: str, String containing the letters to count in the text\n",
    "    \n",
    "#### Returns\n",
    "letter_dict: dict\n",
    "- key: letter\n",
    "- value: the count of that letter in the file. The counting is case insensitive\n",
    "    \n",
    "#### Example\n",
    "- file.txt: This is the file of interest. Count my vowels!\n",
    "- letter_counter('file.txt', 'aeiou') {'i': 4, 'e':4, 'o':2, 'u':1}\n"
   ]
  },
  {
   "cell_type": "markdown",
   "metadata": {},
   "source": [
    "#### To do \n",
    "1. Load text file  \n",
    "2. Convert to lower case \n",
    "3. Method to count desired letters \n",
    "4. Output dictionary with counts "
   ]
  },
  {
   "cell_type": "code",
   "execution_count": 3,
   "metadata": {
    "collapsed": false
   },
   "outputs": [],
   "source": [
    "def letter_counter(path_to_file, letters_to_count):\n",
    "    # Load the data. \n",
    "    file = open(path_to_file, 'r')\n",
    "    string = file.read().lower() #convert to lowercase string \n",
    "    \n",
    "    #Load string into Counter \n",
    "    string = Counter(string) \n",
    "    \n",
    "    #List comprehension to generate list of letters and count \n",
    "    letter_dic = { let : string[let] for let in letters_to_count }  \n",
    "    return letter_dic"
   ]
  },
  {
   "cell_type": "code",
   "execution_count": 5,
   "metadata": {
    "collapsed": false
   },
   "outputs": [
    {
     "data": {
      "text/plain": [
       "{'a': 0, 'e': 5, 'i': 4, 'o': 3, 'u': 1}"
      ]
     },
     "execution_count": 5,
     "metadata": {},
     "output_type": "execute_result"
    }
   ],
   "source": [
    "letter_counter('../data/file.txt', 'aeiou')"
   ]
  },
  {
   "cell_type": "markdown",
   "metadata": {
    "collapsed": true
   },
   "source": [
    "### 2. Write a function that removes one occurrence of a given item from a list. Do not use methods .pop() or .remove()! If the item is not present in the list, output should be ‘The item is not in the list’."
   ]
  },
  {
   "cell_type": "markdown",
   "metadata": {},
   "source": [
    "Remove first occurrence of item from list\n",
    "#### Parameters\n",
    "- list_items: list\n",
    "- item_to_remove: object. The object to be removed form list_items\n",
    "\n",
    "#### Returns\n",
    "- if the item is in the list: list, list with first occurrence of item removed\n",
    "- if the item is not in the list: str, 'The item is not in the list'\n",
    "\n",
    "#### Example\n",
    "> list_items = [1,3,7,8,0]  >>> remove_item(list_items, 7) [1,3,8,0]\n"
   ]
  },
  {
   "cell_type": "code",
   "execution_count": 1,
   "metadata": {
    "collapsed": true
   },
   "outputs": [],
   "source": [
    "def remove_item(list_items, item_to_remove):\n",
    "    if item_to_remove in list_items:   #If statement to reference items in list, otherwise kickout false statement\n",
    "        \n",
    "        new_list = []               #write a for loop to rebuild list, not using item_to_remove\n",
    "        for item in list_items:\n",
    "             if item != item_to_remove:\n",
    "                new_list.append(item)\n",
    "        return new_list\n",
    "    \n",
    "    \n",
    "    else: \n",
    "        print('The item is not in the list')\n",
    "\n",
    "    pass"
   ]
  },
  {
   "cell_type": "code",
   "execution_count": 2,
   "metadata": {
    "collapsed": false
   },
   "outputs": [
    {
     "data": {
      "text/plain": [
       "[1, 3, 8, 0]"
      ]
     },
     "execution_count": 2,
     "metadata": {},
     "output_type": "execute_result"
    }
   ],
   "source": [
    "list_items = [1,3,7,8,0]\n",
    "remove_item(list_items, 7)"
   ]
  },
  {
   "cell_type": "code",
   "execution_count": 3,
   "metadata": {
    "collapsed": false
   },
   "outputs": [
    {
     "name": "stdout",
     "output_type": "stream",
     "text": [
      "The item is not in the list\n"
     ]
    }
   ],
   "source": [
    "remove_item(list_items, 4)"
   ]
  },
  {
   "cell_type": "markdown",
   "metadata": {},
   "source": [
    "# 3. \n",
    "The simple substitution cipher basically consists of substituting every plaintext character for a different ciphertext character. The following is an example of one possible cipher from http://practicalcryptography.com/ciphers/simple-substitution-cipher/:\n",
    "- Plain alphabet : abcdefghijklmnopqrstuvwxyz \n",
    "- cipher alphabet: phqgiumeaylnofdxjkrcvstzwb"
   ]
  },
  {
   "cell_type": "markdown",
   "metadata": {},
   "source": [
    "Run text through a particular cipher alphabet\n",
    "#### Parameters\n",
    " - text: str, Either the plain text to encipher, or the cipher text to decrypt\n",
    " - cipher_alphabet: dict, Dictionary specifying {'original_letter': 'cipher_letter'}\n",
    " - option: str (default 'encipher'), 'encipher' (accept plain text and output cipher text), 'decipher' (accept cipher text and output plain text)\n",
    " \n",
    "#### Returns\n",
    "- cipher text by default,\n",
    "- plain text if option is set to decipher\n",
    "\n",
    "d = dict(zip('abcdefghijklmnopqrstuvwxyz',\n",
    "                     'phqgiumeaylnofdxjkrcvstzwb'))\n",
    "> cipher('defend the east wall of the castle', d) \n",
    "\n",
    "    'giuifg cei iprc tpnn du cei qprcni'\n",
    "> cipher('giuifg cei iprc tpnn du cei qprcni',d, option='decipher')\n",
    "\n",
    "    'defend the east wall of the castle'\n"
   ]
  },
  {
   "cell_type": "code",
   "execution_count": 2,
   "metadata": {
    "collapsed": true
   },
   "outputs": [],
   "source": [
    "def cipher(text, cipher_alphabet, option = None): \n",
    "    if option == 'encipher':\n",
    "        option = None  #default to encipher \n",
    "    \n",
    "    if option is None:  \n",
    "        ciphered = ''\n",
    "        for letter in text:\n",
    "            if letter == ' ':       #this handles spaces in text \n",
    "                ciphered  += ' '\n",
    "            else: \n",
    "                ciphered  += d[letter]   #encryption happens here     \n",
    "        return ciphered  \n",
    "\n",
    "    if option == 'decipher':\n",
    "        deciphered = ''\n",
    "        for letter in text:\n",
    "            if letter == ' ':       #this handles spaces in text \n",
    "                deciphered += ' '\n",
    "            else: \n",
    "                deciphered += list(d.keys())[list(d.values()).index( letter )]  #decryption happens here      \n",
    "        return deciphered \n",
    "        \n",
    "     \n",
    "pass"
   ]
  },
  {
   "cell_type": "code",
   "execution_count": 3,
   "metadata": {
    "collapsed": true
   },
   "outputs": [],
   "source": [
    "d = dict(zip('abcdefghijklmnopqrstuvwxyz',     #zip retuns a list of tuples, dict converts to dictionary \n",
    "                     'phqgiumeaylnofdxjkrcvstzwb'))"
   ]
  },
  {
   "cell_type": "code",
   "execution_count": 4,
   "metadata": {
    "collapsed": false
   },
   "outputs": [
    {
     "data": {
      "text/plain": [
       "'giuifg cei iprc tpnn du cei qprcni'"
      ]
     },
     "execution_count": 4,
     "metadata": {},
     "output_type": "execute_result"
    }
   ],
   "source": [
    "cipher('defend the east wall of the castle', d) "
   ]
  },
  {
   "cell_type": "code",
   "execution_count": 5,
   "metadata": {
    "collapsed": false
   },
   "outputs": [
    {
     "data": {
      "text/plain": [
       "'defend the east wall of the castle'"
      ]
     },
     "execution_count": 5,
     "metadata": {},
     "output_type": "execute_result"
    }
   ],
   "source": [
    "cipher('giuifg cei iprc tpnn du cei qprcni',d, option='decipher')"
   ]
  },
  {
   "cell_type": "code",
   "execution_count": null,
   "metadata": {
    "collapsed": true
   },
   "outputs": [],
   "source": []
  }
 ],
 "metadata": {
  "kernelspec": {
   "display_name": "Python 3",
   "language": "python",
   "name": "python3"
  },
  "language_info": {
   "codemirror_mode": {
    "name": "ipython",
    "version": 3
   },
   "file_extension": ".py",
   "mimetype": "text/x-python",
   "name": "python",
   "nbconvert_exporter": "python",
   "pygments_lexer": "ipython3",
   "version": "3.6.0"
  }
 },
 "nbformat": 4,
 "nbformat_minor": 2
}
